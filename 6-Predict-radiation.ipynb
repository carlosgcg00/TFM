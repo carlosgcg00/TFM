{
 "cells": [
  {
   "cell_type": "markdown",
   "id": "f6a14c00-f051-4b73-aeaa-c774ac4651bc",
   "metadata": {},
   "source": [
    "# **Libraries Installation**"
   ]
  },
  {
   "cell_type": "code",
   "execution_count": null,
   "id": "aeca71d4-8de8-4190-b035-6b9f90c397d5",
   "metadata": {},
   "outputs": [],
   "source": [
    "!pip install torchsummary\n",
    "!pip install pytorch-lightning pycocotools\n",
    "!pip install torchmetrics\n",
    "!pip install torchvision\n",
    "!pip install albumentations\n",
    "!pip install opencv-python"
   ]
  },
  {
   "cell_type": "markdown",
   "id": "1b75c29b-1353-4abc-8325-75167eaca95b",
   "metadata": {},
   "source": [
    "# **Predictions with radiation**"
   ]
  },
  {
   "cell_type": "markdown",
   "id": "f946a90c-9496-42a2-80b0-61b664ab6ee0",
   "metadata": {},
   "source": [
    "After analysis of the noise metrics, predictions can be made for the model where the model is affected by noise. Different noise levels have been introduced for the different cases, during the predictions, these predictions are stored in the sub-folder corresponding to the model in ***test_noise***."
   ]
  },
  {
   "cell_type": "code",
   "execution_count": 1,
   "id": "9ea5afc2-185a-4209-b64b-1ea8bc23f44f",
   "metadata": {
    "scrolled": true
   },
   "outputs": [
    {
     "name": "stdout",
     "output_type": "stream",
     "text": [
      "=> Loading checkpoint\n",
      "Model loaded: tinyissimoYOLO/NAdam_None_Airbus_256_BATCH_32_LR_0.0005/model_opt/5_sims_max_steps_100_slices_3_interval_4_10_degredation_5/sim_1/YOLO_opt.pth.tar\n",
      "[1/3] - Processing: test_video4_Barajas.mp4\n",
      "Output video path: /home/jovyan/Carlos_Gonzalez/newYOLO/tinyissimoYOLO/NAdam_None_Airbus_256_BATCH_32_LR_0.0005/model_opt/5_sims_max_steps_100_slices_3_interval_4_10_degredation_5/sim_1/test_noise/test_video4_Barajas_predicted.mp4\n"
     ]
    },
    {
     "ename": "KeyboardInterrupt",
     "evalue": "",
     "output_type": "error",
     "traceback": [
      "\u001b[0;31m---------------------------------------------------------------------------\u001b[0m",
      "\u001b[0;31mKeyboardInterrupt\u001b[0m                         Traceback (most recent call last)",
      "Cell \u001b[0;32mIn[1], line 25\u001b[0m\n\u001b[1;32m     21\u001b[0m percentage_tensors_2 \u001b[38;5;241m=\u001b[39m \u001b[38;5;241m0.002\u001b[39m\n\u001b[1;32m     24\u001b[0m folder_model \u001b[38;5;241m=\u001b[39m \u001b[38;5;124m'\u001b[39m\u001b[38;5;124m5_sims_max_steps_100_slices_3_interval_4_10_degredation_5/sim_1\u001b[39m\u001b[38;5;124m'\u001b[39m\n\u001b[0;32m---> 25\u001b[0m \u001b[43mprocess_media\u001b[49m\u001b[43m(\u001b[49m\u001b[43mfolder_test\u001b[49m\u001b[43m,\u001b[49m\u001b[43m \u001b[49m\u001b[43mfiles_to_test\u001b[49m\u001b[43m,\u001b[49m\u001b[43m \u001b[49m\u001b[43mcase1\u001b[49m\u001b[38;5;241;43m=\u001b[39;49m\u001b[43mcase1\u001b[49m\u001b[43m,\u001b[49m\u001b[43m \u001b[49m\u001b[43mpercentage_layers_case_1\u001b[49m\u001b[38;5;241;43m=\u001b[39;49m\u001b[43mpercentage_layers_case_1\u001b[49m\u001b[43m,\u001b[49m\u001b[43m \u001b[49m\u001b[43mslices_case1\u001b[49m\u001b[43m \u001b[49m\u001b[38;5;241;43m=\u001b[39;49m\u001b[43m \u001b[49m\u001b[43mslices_case1\u001b[49m\u001b[43m,\u001b[49m\u001b[43m \u001b[49m\u001b[43minterval_1\u001b[49m\u001b[43m \u001b[49m\u001b[38;5;241;43m=\u001b[39;49m\u001b[43m \u001b[49m\u001b[43minterval_1\u001b[49m\u001b[43m,\u001b[49m\u001b[43m \u001b[49m\u001b[43mpercentage_tensors_1\u001b[49m\u001b[38;5;241;43m=\u001b[39;49m\u001b[43m \u001b[49m\u001b[43mpercentage_tensors_1\u001b[49m\u001b[43m,\u001b[49m\n\u001b[1;32m     26\u001b[0m \u001b[43m           \u001b[49m\u001b[43mcase2\u001b[49m\u001b[38;5;241;43m=\u001b[39;49m\u001b[43mcase2\u001b[49m\u001b[43m,\u001b[49m\u001b[43m \u001b[49m\u001b[43mpercentage_layers_case_2\u001b[49m\u001b[38;5;241;43m=\u001b[39;49m\u001b[43mpercentage_layers_case_2\u001b[49m\u001b[43m,\u001b[49m\u001b[43m \u001b[49m\u001b[43mslices_case2\u001b[49m\u001b[43m \u001b[49m\u001b[38;5;241;43m=\u001b[39;49m\u001b[43m \u001b[49m\u001b[43mslices_case2\u001b[49m\u001b[43m,\u001b[49m\u001b[43m \u001b[49m\u001b[43minterval_2\u001b[49m\u001b[43m \u001b[49m\u001b[38;5;241;43m=\u001b[39;49m\u001b[43m \u001b[49m\u001b[43minterval_2\u001b[49m\u001b[43m,\u001b[49m\u001b[43m \u001b[49m\u001b[43mpercentage_tensors_2\u001b[49m\u001b[38;5;241;43m=\u001b[39;49m\u001b[43m \u001b[49m\u001b[43mpercentage_tensors_2\u001b[49m\u001b[43m,\u001b[49m\n\u001b[1;32m     27\u001b[0m \u001b[43m                \u001b[49m\u001b[43mfolder_model\u001b[49m\u001b[38;5;241;43m=\u001b[39;49m\u001b[43mfolder_model\u001b[49m\u001b[43m)\u001b[49m\n",
      "File \u001b[0;32m~/Carlos_Gonzalez/newYOLO/radiation/predict_noise.py:254\u001b[0m, in \u001b[0;36mprocess_media\u001b[0;34m(folder_test, files_to_test, case1, percentage_layers_case_1, slices_case1, interval_1, percentage_tensors_1, case2, percentage_layers_case_2, slices_case2, interval_2, percentage_tensors_2, folder_model)\u001b[0m\n\u001b[1;32m    252\u001b[0m     height \u001b[38;5;241m=\u001b[39m \u001b[38;5;28mint\u001b[39m(cap\u001b[38;5;241m.\u001b[39mget(cv2\u001b[38;5;241m.\u001b[39mCAP_PROP_FRAME_HEIGHT))\n\u001b[1;32m    253\u001b[0m     cap\u001b[38;5;241m.\u001b[39mrelease()\n\u001b[0;32m--> 254\u001b[0m     \u001b[43mdo_prediction_video\u001b[49m\u001b[43m(\u001b[49m\u001b[43mmodel\u001b[49m\u001b[43m,\u001b[49m\u001b[43m \u001b[49m\u001b[43mfile_path\u001b[49m\u001b[43m,\u001b[49m\u001b[43m \u001b[49m\u001b[43mfile_name\u001b[49m\u001b[43m,\u001b[49m\u001b[43m \u001b[49m\u001b[43mhigh_res\u001b[49m\u001b[38;5;241;43m=\u001b[39;49m\u001b[43m(\u001b[49m\u001b[43mwidth\u001b[49m\u001b[43m \u001b[49m\u001b[38;5;241;43m>\u001b[39;49m\u001b[43m \u001b[49m\u001b[38;5;241;43m256\u001b[39;49m\u001b[43m \u001b[49m\u001b[38;5;129;43;01mor\u001b[39;49;00m\u001b[43m \u001b[49m\u001b[43mheight\u001b[49m\u001b[43m \u001b[49m\u001b[38;5;241;43m>\u001b[39;49m\u001b[43m \u001b[49m\u001b[38;5;241;43m256\u001b[39;49m\u001b[43m)\u001b[49m\u001b[43m,\u001b[49m\u001b[43m \u001b[49m\u001b[43mfolder_model\u001b[49m\u001b[38;5;241;43m=\u001b[39;49m\u001b[43mfolder_model\u001b[49m\u001b[43m)\u001b[49m\n\u001b[1;32m    255\u001b[0m \u001b[38;5;28;01melse\u001b[39;00m:\n\u001b[1;32m    256\u001b[0m     \u001b[38;5;28mprint\u001b[39m(\u001b[38;5;124mf\u001b[39m\u001b[38;5;124m\"\u001b[39m\u001b[38;5;124mUnsupported file format: \u001b[39m\u001b[38;5;132;01m{\u001b[39;00mext\u001b[38;5;132;01m}\u001b[39;00m\u001b[38;5;124m\"\u001b[39m)\n",
      "File \u001b[0;32m~/Carlos_Gonzalez/newYOLO/radiation/predict_noise.py:176\u001b[0m, in \u001b[0;36mdo_prediction_video\u001b[0;34m(model, video_path, file_name, high_res, folder_model)\u001b[0m\n\u001b[1;32m    174\u001b[0m start_time \u001b[38;5;241m=\u001b[39m time\u001b[38;5;241m.\u001b[39mtime()\n\u001b[1;32m    175\u001b[0m \u001b[38;5;28;01mif\u001b[39;00m high_res \u001b[38;5;129;01mand\u001b[39;00m (width \u001b[38;5;241m>\u001b[39m \u001b[38;5;241m256\u001b[39m \u001b[38;5;129;01mor\u001b[39;00m height \u001b[38;5;241m>\u001b[39m \u001b[38;5;241m256\u001b[39m):\n\u001b[0;32m--> 176\u001b[0m     bboxes \u001b[38;5;241m=\u001b[39m \u001b[43mprocess_large_frame\u001b[49m\u001b[43m(\u001b[49m\u001b[43mmodel\u001b[49m\u001b[43m,\u001b[49m\u001b[43m \u001b[49m\u001b[43mframe\u001b[49m\u001b[43m,\u001b[49m\u001b[43m \u001b[49m\u001b[43mfolder_model\u001b[49m\u001b[38;5;241;43m=\u001b[39;49m\u001b[43mfolder_model\u001b[49m\u001b[43m)\u001b[49m\n\u001b[1;32m    177\u001b[0m     frame_with_bboxes \u001b[38;5;241m=\u001b[39m draw_bboxes_on_frame(frame, bboxes)\n\u001b[1;32m    178\u001b[0m \u001b[38;5;28;01melse\u001b[39;00m:\n",
      "File \u001b[0;32m~/Carlos_Gonzalez/newYOLO/radiation/predict_noise.py:121\u001b[0m, in \u001b[0;36mprocess_large_frame\u001b[0;34m(model, frame, tile_size, overlap, folder_model)\u001b[0m\n\u001b[1;32m    119\u001b[0m right \u001b[38;5;241m=\u001b[39m \u001b[38;5;28mmin\u001b[39m(x \u001b[38;5;241m+\u001b[39m tile_size, width)\n\u001b[1;32m    120\u001b[0m bottom \u001b[38;5;241m=\u001b[39m \u001b[38;5;28mmin\u001b[39m(y \u001b[38;5;241m+\u001b[39m tile_size, height)\n\u001b[0;32m--> 121\u001b[0m tile \u001b[38;5;241m=\u001b[39m \u001b[43mimage\u001b[49m\u001b[38;5;241;43m.\u001b[39;49m\u001b[43mcrop\u001b[49m\u001b[43m(\u001b[49m\u001b[43m(\u001b[49m\u001b[43mx\u001b[49m\u001b[43m,\u001b[49m\u001b[43m \u001b[49m\u001b[43my\u001b[49m\u001b[43m,\u001b[49m\u001b[43m \u001b[49m\u001b[43mright\u001b[49m\u001b[43m,\u001b[49m\u001b[43m \u001b[49m\u001b[43mbottom\u001b[49m\u001b[43m)\u001b[49m\u001b[43m)\u001b[49m\n\u001b[1;32m    123\u001b[0m \u001b[38;5;28;01mif\u001b[39;00m tile\u001b[38;5;241m.\u001b[39msize \u001b[38;5;241m!=\u001b[39m (tile_size, tile_size):\n\u001b[1;32m    124\u001b[0m     tile \u001b[38;5;241m=\u001b[39m Image\u001b[38;5;241m.\u001b[39mnew(\u001b[38;5;124m'\u001b[39m\u001b[38;5;124mRGB\u001b[39m\u001b[38;5;124m'\u001b[39m, (tile_size, tile_size), (\u001b[38;5;241m0\u001b[39m, \u001b[38;5;241m0\u001b[39m, \u001b[38;5;241m0\u001b[39m))\n",
      "File \u001b[0;32m/opt/conda/lib/python3.11/site-packages/PIL/Image.py:1207\u001b[0m, in \u001b[0;36mImage.crop\u001b[0;34m(self, box)\u001b[0m\n\u001b[1;32m   1204\u001b[0m     \u001b[38;5;28;01mraise\u001b[39;00m \u001b[38;5;167;01mValueError\u001b[39;00m(msg)\n\u001b[1;32m   1206\u001b[0m \u001b[38;5;28mself\u001b[39m\u001b[38;5;241m.\u001b[39mload()\n\u001b[0;32m-> 1207\u001b[0m \u001b[38;5;28;01mreturn\u001b[39;00m \u001b[38;5;28mself\u001b[39m\u001b[38;5;241m.\u001b[39m_new(\u001b[38;5;28;43mself\u001b[39;49m\u001b[38;5;241;43m.\u001b[39;49m\u001b[43m_crop\u001b[49m\u001b[43m(\u001b[49m\u001b[38;5;28;43mself\u001b[39;49m\u001b[38;5;241;43m.\u001b[39;49m\u001b[43mim\u001b[49m\u001b[43m,\u001b[49m\u001b[43m \u001b[49m\u001b[43mbox\u001b[49m\u001b[43m)\u001b[49m)\n",
      "File \u001b[0;32m/opt/conda/lib/python3.11/site-packages/PIL/Image.py:1227\u001b[0m, in \u001b[0;36mImage._crop\u001b[0;34m(self, im, box)\u001b[0m\n\u001b[1;32m   1223\u001b[0m absolute_values \u001b[38;5;241m=\u001b[39m (\u001b[38;5;28mabs\u001b[39m(x1 \u001b[38;5;241m-\u001b[39m x0), \u001b[38;5;28mabs\u001b[39m(y1 \u001b[38;5;241m-\u001b[39m y0))\n\u001b[1;32m   1225\u001b[0m _decompression_bomb_check(absolute_values)\n\u001b[0;32m-> 1227\u001b[0m \u001b[38;5;28;01mreturn\u001b[39;00m \u001b[43mim\u001b[49m\u001b[38;5;241;43m.\u001b[39;49m\u001b[43mcrop\u001b[49m\u001b[43m(\u001b[49m\u001b[43m(\u001b[49m\u001b[43mx0\u001b[49m\u001b[43m,\u001b[49m\u001b[43m \u001b[49m\u001b[43my0\u001b[49m\u001b[43m,\u001b[49m\u001b[43m \u001b[49m\u001b[43mx1\u001b[49m\u001b[43m,\u001b[49m\u001b[43m \u001b[49m\u001b[43my1\u001b[49m\u001b[43m)\u001b[49m\u001b[43m)\u001b[49m\n",
      "\u001b[0;31mKeyboardInterrupt\u001b[0m: "
     ]
    }
   ],
   "source": [
    "from radiation.predict_radiation import process_media\n",
    "import os\n",
    "folder_test = os.path.join(os.getcwd(), 'Datasets/test')\n",
    "files_to_test = os.listdir(folder_test)\n",
    "case1 = False\n",
    "case2 = False\n",
    "\n",
    "percentage_layers_case_1  = 0.5 if case1 else 0\n",
    "percentage_layers_case_2 = 0.5 if case2 else 0\n",
    "# Con este parámetro seleccionamos la zona en la que queremos afectar a las activacionies o pesos\n",
    "# es decir, slices = [slice_i, n_slices], con esto dividimos todas las capas en n_slices y afectamos a las capas que esten en slice_i\n",
    "'''\n",
    "|slice 0 | slice 1 | slice 2 | slice 3 | slice 4 | \n",
    "'''\n",
    "interval_1 = (-8, 2)\n",
    "interval_2 = (-8, 2)\n",
    "slices_case1 = [0,1] \n",
    "slices_case2 = [0,1]\n",
    "percentage_tensors_1 = 0.05\n",
    "percentage_tensors_2 = 0.002\n",
    "\n",
    "\n",
    "folder_model = '5_sims_max_steps_100_slices_3_interval_4_10_degredation_5/sim_1'\n",
    "process_media(folder_test, files_to_test, case1=case1, percentage_layers_case_1=percentage_layers_case_1, slices_case1 = slices_case1, interval_1 = interval_1, percentage_tensors_1= percentage_tensors_1,\n",
    "           case2=case2, percentage_layers_case_2=percentage_layers_case_2, slices_case2 = slices_case2, interval_2 = interval_2, percentage_tensors_2= percentage_tensors_2,\n",
    "                folder_model=folder_model)\n"
   ]
  }
 ],
 "metadata": {
  "kernelspec": {
   "display_name": "Python 3 (ipykernel)",
   "language": "python",
   "name": "python3"
  },
  "language_info": {
   "codemirror_mode": {
    "name": "ipython",
    "version": 3
   },
   "file_extension": ".py",
   "mimetype": "text/x-python",
   "name": "python",
   "nbconvert_exporter": "python",
   "pygments_lexer": "ipython3",
   "version": "3.11.4"
  }
 },
 "nbformat": 4,
 "nbformat_minor": 5
}
