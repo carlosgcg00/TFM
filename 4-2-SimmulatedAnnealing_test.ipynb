{
 "cells": [
  {
   "cell_type": "markdown",
   "id": "1d507530-92d3-4782-8762-50112595a02a",
   "metadata": {},
   "source": [
    "# Analizando el tiempo de inferencia del mejor modelo optimizado"
   ]
  },
  {
   "cell_type": "markdown",
   "id": "d05064ca-3f5c-4d82-a2fb-94e6dd4e4e8e",
   "metadata": {},
   "source": [
    "Para el caso de Tinyissimo YOLO se ha obtenido la mejor performance de mAP durante el entrenamiento. Y para el caso de 5 slices, 0% degradación y el intervalo (4,10) se observa la mejor convergencia del algoritmo de recocido simulado. Por tanto aquí pretendemos analizar el mAP@50 sobre los datos de test"
   ]
  },
  {
   "cell_type": "markdown",
   "id": "6de66d23-b70b-4cb8-9a4b-505527f98a91",
   "metadata": {},
   "source": [
    "Tiene que tener coherencia el modelo seleccionado en el path con el fichero de configuración"
   ]
  },
  {
   "cell_type": "code",
   "execution_count": 1,
   "id": "39b30cd9-ac78-466c-bc4c-d9282164fa54",
   "metadata": {},
   "outputs": [
    {
     "name": "stdout",
     "output_type": "stream",
     "text": [
      "=> Loading checkpoint\n",
      "Load: /home/jovyan/Carlos_Gonzalez/YOLO/tinyissimoYOLO/NAdam_None_Airbus_256_2_BATCH_32_LR_0.0005/model_opt/5_sims_max_steps_100_slices_5_interval_4_10_degredation_0/sim_4/YOLO_opt.pth.tar\n"
     ]
    },
    {
     "name": "stderr",
     "output_type": "stream",
     "text": [
      "100%|██████████| 10/10 [00:11<00:00,  1.17s/it]\n"
     ]
    },
    {
     "name": "stdout",
     "output_type": "stream",
     "text": [
      "Inference large image, Time: 0.710 seconds, FPS: 0.01408408536472753\n",
      "Average inference time per tile: 0.002219 seconds, Time Tiles * n_tiles: 0.320\n",
      "Tile size: 256, Overlap: 0.1\n",
      "mAP50: 0.649014949798584, mAP75: 0.06826037913560867, mAP90: 0.00011018929217243567\n"
     ]
    }
   ],
   "source": [
    "from test_best_model import test_prediction\n",
    "path_opt_model = '5_sims_max_steps_100_slices_5_interval_4_10_degredation_0/sim_4'\n",
    "boolean_optim = True\n",
    "test_prediction(tile_size = 256, overlap = 0.1, threshold=0.4, iou_threshold=0.4, path_opt_model=path_opt_model, boolean_optim=boolean_optim)\n"
   ]
  },
  {
   "cell_type": "code",
   "execution_count": 7,
   "id": "032e7a7c-e9ed-430b-a60f-c032eb9e84b7",
   "metadata": {},
   "outputs": [
    {
     "name": "stdout",
     "output_type": "stream",
     "text": [
      "=> Loading checkpoint\n",
      "Load: /home/jovyan/Carlos_Gonzalez/YOLO/tinyissimoYOLO/NAdam_None_Airbus_256_2_BATCH_32_LR_0.0005/model_opt/5-TIC_5_sims_max_steps_100_slices_5_interval_4_10_degredation_10/sim_4/YOLO_opt.pth.tar\n"
     ]
    },
    {
     "name": "stderr",
     "output_type": "stream",
     "text": [
      "100%|██████████| 10/10 [00:10<00:00,  1.03s/it]\n"
     ]
    },
    {
     "name": "stdout",
     "output_type": "stream",
     "text": [
      "Inference large image, Time: 0.593 seconds, FPS: 0.0168710480453347\n",
      "Average inference time per tile: 0.001887 seconds, Time Tiles * n_tiles: 0.272\n",
      "Tile size: 256, Overlap: 0.1\n",
      "mAP50: 0.6429165601730347, mAP75: 0.058425743132829666, mAP90: 0.00025218352675437927\n"
     ]
    }
   ],
   "source": [
    "path_opt_model = '5-TIC_5_sims_max_steps_100_slices_5_interval_4_10_degredation_10/sim_4'\n",
    "\n",
    "boolean_optim = True\n",
    "test_prediction(tile_size = 256, overlap = 0.1, threshold=0.4, iou_threshold=0.4, path_opt_model=path_opt_model, boolean_optim=boolean_optim)\n"
   ]
  }
 ],
 "metadata": {
  "kernelspec": {
   "display_name": "Python 3 (ipykernel)",
   "language": "python",
   "name": "python3"
  },
  "language_info": {
   "codemirror_mode": {
    "name": "ipython",
    "version": 3
   },
   "file_extension": ".py",
   "mimetype": "text/x-python",
   "name": "python",
   "nbconvert_exporter": "python",
   "pygments_lexer": "ipython3",
   "version": "3.11.4"
  }
 },
 "nbformat": 4,
 "nbformat_minor": 5
}
