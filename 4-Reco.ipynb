{
 "cells": [
  {
   "cell_type": "code",
   "execution_count": null,
   "id": "762610d9-3509-4cfb-9ba9-95fc2aec99a4",
   "metadata": {},
   "outputs": [
    {
     "name": "stdout",
     "output_type": "stream",
     "text": [
      "/opt/conda/lib/python3.10/site-packages/transformers/utils/generic.py:441: UserWarning: torch.utils._pytree._register_pytree_node is deprecated. Please use torch.utils._pytree.register_pytree_node instead.\n",
      "  _torch_pytree._register_pytree_node(\n",
      "##############################################################\n",
      "              Simulation 1 of 5         \n",
      "##############################################################\n",
      "=> Loading checkpoint\n",
      "=> Loading checkpoint\n",
      "Eval: Annealing: :  52%|████████████▌           | 48/92 [00:01<00:01, 34.97it/s]"
     ]
    }
   ],
   "source": [
    "!python simulated_annealing_Slices.py"
   ]
  }
 ],
 "metadata": {
  "kernelspec": {
   "display_name": "Python 3 (ipykernel)",
   "language": "python",
   "name": "python3"
  },
  "language_info": {
   "codemirror_mode": {
    "name": "ipython",
    "version": 3
   },
   "file_extension": ".py",
   "mimetype": "text/x-python",
   "name": "python",
   "nbconvert_exporter": "python",
   "pygments_lexer": "ipython3",
   "version": "3.11.4"
  }
 },
 "nbformat": 4,
 "nbformat_minor": 5
}
