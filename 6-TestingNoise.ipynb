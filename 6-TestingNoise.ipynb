{
 "cells": [
  {
   "cell_type": "markdown",
   "id": "9faeac2a-7873-4028-82cb-a4f525882b10",
   "metadata": {},
   "source": [
    "# **Instalción de librerias**"
   ]
  },
  {
   "cell_type": "code",
   "execution_count": 1,
   "id": "c71899e7-9549-46f1-84f5-2db40dccc0c6",
   "metadata": {
    "scrolled": true
   },
   "outputs": [
    {
     "name": "stdout",
     "output_type": "stream",
     "text": [
      "=> Loading checkpoint\n",
      "Model loaded: tinyissimoYOLO/NAdam_None_Airbus_256_BATCH_32_LR_0.0005/model_opt/6-TIC_5_sims_max_steps_100_slices_5_interval_4_10_degredation_0/sim_4/YOLO_opt.pth.tar\n",
      "[1/22] - Processing: test_video2_large_images.mp4\n",
      "Output video path: /home/jovyan/Carlos_Gonzalez/YOLO/tinyissimoYOLO/NAdam_None_Airbus_256_BATCH_32_LR_0.0005/model_opt/6-TIC_5_sims_max_steps_100_slices_5_interval_4_10_degredation_0/sim_4/test_noise/test_video2_large_images_predicted.mp4\n",
      "Average inference time per frame: 0.625237 seconds\n",
      "[2/22] - Processing: babb0ef2-ef2d-4cab-b3e2-230ae2418cdc_1024.jpg\n",
      "Inference large image, Time: 0.11321258544921875 seconds, FPS: 8.832940225082552\n",
      "Average inference time per tile: 0.001902 seconds\n",
      "Image saved in: /home/jovyan/Carlos_Gonzalez/YOLO/tinyissimoYOLO/NAdam_None_Airbus_256_BATCH_32_LR_0.0005/model_opt/6-TIC_5_sims_max_steps_100_slices_5_interval_4_10_degredation_0/sim_4/test_noise/babb0ef2-ef2d-4cab-b3e2-230ae2418cdc_1024_predicted.jpg\n",
      "[3/22] - Processing: 7ab2461e-fad4-4d90-a260-8317bbc4e958.jpg\n",
      "Inference large image, Time: 0.6163721084594727 seconds, FPS: 1.622396578747449\n",
      "Average inference time per tile: 0.001904 seconds\n",
      "Image saved in: /home/jovyan/Carlos_Gonzalez/YOLO/tinyissimoYOLO/NAdam_None_Airbus_256_BATCH_32_LR_0.0005/model_opt/6-TIC_5_sims_max_steps_100_slices_5_interval_4_10_degredation_0/sim_4/test_noise/7ab2461e-fad4-4d90-a260-8317bbc4e958_predicted.jpg\n",
      "[4/22] - Processing: ed921ec7-b950-460c-a912-12247d867fea.jpg\n",
      "Inference large image, Time: 0.5988032817840576 seconds, FPS: 1.6699975274361025\n",
      "Average inference time per tile: 0.001894 seconds\n",
      "Image saved in: /home/jovyan/Carlos_Gonzalez/YOLO/tinyissimoYOLO/NAdam_None_Airbus_256_BATCH_32_LR_0.0005/model_opt/6-TIC_5_sims_max_steps_100_slices_5_interval_4_10_degredation_0/sim_4/test_noise/ed921ec7-b950-460c-a912-12247d867fea_predicted.jpg\n",
      "[5/22] - Processing: ac77b86a-4198-4d40-900e-a95e520b2ac7.jpg\n",
      "Inference large image, Time: 0.5729305744171143 seconds, FPS: 1.7454121749696738\n",
      "Average inference time per tile: 0.001934 seconds\n",
      "Image saved in: /home/jovyan/Carlos_Gonzalez/YOLO/tinyissimoYOLO/NAdam_None_Airbus_256_BATCH_32_LR_0.0005/model_opt/6-TIC_5_sims_max_steps_100_slices_5_interval_4_10_degredation_0/sim_4/test_noise/ac77b86a-4198-4d40-900e-a95e520b2ac7_predicted.jpg\n",
      "[6/22] - Processing: img1.jpg\n",
      "Inference large image, Time: 0.018097400665283203 seconds, FPS: 55.25655415909151\n",
      "Average inference time per tile: 0.002099 seconds\n",
      "Image saved in: /home/jovyan/Carlos_Gonzalez/YOLO/tinyissimoYOLO/NAdam_None_Airbus_256_BATCH_32_LR_0.0005/model_opt/6-TIC_5_sims_max_steps_100_slices_5_interval_4_10_degredation_0/sim_4/test_noise/img1_predicted.jpg\n",
      "[7/22] - Processing: 996ba764-cd2a-49c0-9c9f-b166207de0ab.jpg\n",
      "Inference large image, Time: 0.9811887741088867 seconds, FPS: 1.0191718723119285\n",
      "Average inference time per tile: 0.001985 seconds\n",
      "Image saved in: /home/jovyan/Carlos_Gonzalez/YOLO/tinyissimoYOLO/NAdam_None_Airbus_256_BATCH_32_LR_0.0005/model_opt/6-TIC_5_sims_max_steps_100_slices_5_interval_4_10_degredation_0/sim_4/test_noise/996ba764-cd2a-49c0-9c9f-b166207de0ab_predicted.jpg\n",
      "[8/22] - Processing: babb0ef2-ef2d-4cab-b3e2-230ae2418cdc.jpg\n",
      "Inference large image, Time: 0.6584053039550781 seconds, FPS: 1.5188213004861035\n",
      "Average inference time per tile: 0.001894 seconds\n",
      "Image saved in: /home/jovyan/Carlos_Gonzalez/YOLO/tinyissimoYOLO/NAdam_None_Airbus_256_BATCH_32_LR_0.0005/model_opt/6-TIC_5_sims_max_steps_100_slices_5_interval_4_10_degredation_0/sim_4/test_noise/babb0ef2-ef2d-4cab-b3e2-230ae2418cdc_predicted.jpg\n",
      "[9/22] - Processing: 3e321b8a-9504-45aa-82b4-16158e28e290.jpg\n",
      "Inference large image, Time: 0.9984261989593506 seconds, FPS: 1.0015762817945781\n",
      "Average inference time per tile: 0.001958 seconds\n",
      "Image saved in: /home/jovyan/Carlos_Gonzalez/YOLO/tinyissimoYOLO/NAdam_None_Airbus_256_BATCH_32_LR_0.0005/model_opt/6-TIC_5_sims_max_steps_100_slices_5_interval_4_10_degredation_0/sim_4/test_noise/3e321b8a-9504-45aa-82b4-16158e28e290_predicted.jpg\n",
      "[10/22] - Processing: 6627e7c7-2fdd-4f3c-965e-b4d73d0a4cc2.jpg\n",
      "Inference large image, Time: 0.8463263511657715 seconds, FPS: 1.1815772941756462\n",
      "Average inference time per tile: 0.001947 seconds\n",
      "Image saved in: /home/jovyan/Carlos_Gonzalez/YOLO/tinyissimoYOLO/NAdam_None_Airbus_256_BATCH_32_LR_0.0005/model_opt/6-TIC_5_sims_max_steps_100_slices_5_interval_4_10_degredation_0/sim_4/test_noise/6627e7c7-2fdd-4f3c-965e-b4d73d0a4cc2_predicted.jpg\n",
      "[11/22] - Processing: Untitled.ipynb\n",
      "Unsupported file format: .ipynb\n",
      "[12/22] - Processing: .ipynb_checkpoints\n",
      "Unsupported file format: \n",
      "[13/22] - Processing: img2.jpg\n",
      "Inference large image, Time: 0.07564997673034668 seconds, FPS: 13.218774720374158\n",
      "Average inference time per tile: 0.001900 seconds\n",
      "Image saved in: /home/jovyan/Carlos_Gonzalez/YOLO/tinyissimoYOLO/NAdam_None_Airbus_256_BATCH_32_LR_0.0005/model_opt/6-TIC_5_sims_max_steps_100_slices_5_interval_4_10_degredation_0/sim_4/test_noise/img2_predicted.jpg\n",
      "[14/22] - Processing: test_video1_tiktok.mp4\n",
      "Output video path: /home/jovyan/Carlos_Gonzalez/YOLO/tinyissimoYOLO/NAdam_None_Airbus_256_BATCH_32_LR_0.0005/model_opt/6-TIC_5_sims_max_steps_100_slices_5_interval_4_10_degredation_0/sim_4/test_noise/test_video1_tiktok_predicted.mp4\n",
      "Average inference time per frame: 0.127307 seconds\n",
      "[15/22] - Processing: 56765c5f-0922-43b3-8d58-bf2bf5a1e727.jpg\n",
      "Inference large image, Time: 0.5217695236206055 seconds, FPS: 1.9165550204253219\n",
      "Average inference time per tile: 0.001891 seconds\n",
      "Image saved in: /home/jovyan/Carlos_Gonzalez/YOLO/tinyissimoYOLO/NAdam_None_Airbus_256_BATCH_32_LR_0.0005/model_opt/6-TIC_5_sims_max_steps_100_slices_5_interval_4_10_degredation_0/sim_4/test_noise/56765c5f-0922-43b3-8d58-bf2bf5a1e727_predicted.jpg\n",
      "[16/22] - Processing: test_video6_Despegue.mp4\n",
      "Output video path: /home/jovyan/Carlos_Gonzalez/YOLO/tinyissimoYOLO/NAdam_None_Airbus_256_BATCH_32_LR_0.0005/model_opt/6-TIC_5_sims_max_steps_100_slices_5_interval_4_10_degredation_0/sim_4/test_noise/test_video6_Despegue_predicted.mp4\n",
      "Average inference time per frame: 0.124677 seconds\n",
      "[17/22] - Processing: test_video5-El Prat.mp4\n",
      "Output video path: /home/jovyan/Carlos_Gonzalez/YOLO/tinyissimoYOLO/NAdam_None_Airbus_256_BATCH_32_LR_0.0005/model_opt/6-TIC_5_sims_max_steps_100_slices_5_interval_4_10_degredation_0/sim_4/test_noise/test_video5-El Prat_predicted.mp4\n",
      "Average inference time per frame: 0.147409 seconds\n",
      "[18/22] - Processing: 90c365f8-18b6-4230-be74-cd856a1ba98f.jpg\n",
      "Inference large image, Time: 0.6059384346008301 seconds, FPS: 1.6503326788616126\n",
      "Average inference time per tile: 0.001946 seconds\n",
      "Image saved in: /home/jovyan/Carlos_Gonzalez/YOLO/tinyissimoYOLO/NAdam_None_Airbus_256_BATCH_32_LR_0.0005/model_opt/6-TIC_5_sims_max_steps_100_slices_5_interval_4_10_degredation_0/sim_4/test_noise/90c365f8-18b6-4230-be74-cd856a1ba98f_predicted.jpg\n",
      "[19/22] - Processing: test_video3_2_zoom_in_out.mp4\n",
      "Output video path: /home/jovyan/Carlos_Gonzalez/YOLO/tinyissimoYOLO/NAdam_None_Airbus_256_BATCH_32_LR_0.0005/model_opt/6-TIC_5_sims_max_steps_100_slices_5_interval_4_10_degredation_0/sim_4/test_noise/test_video3_2_zoom_in_out_predicted.mp4\n",
      "Average inference time per frame: 0.777190 seconds\n",
      "[20/22] - Processing: test_video4_Barajas.mp4\n",
      "Output video path: /home/jovyan/Carlos_Gonzalez/YOLO/tinyissimoYOLO/NAdam_None_Airbus_256_BATCH_32_LR_0.0005/model_opt/6-TIC_5_sims_max_steps_100_slices_5_interval_4_10_degredation_0/sim_4/test_noise/test_video4_Barajas_predicted.mp4\n",
      "Average inference time per frame: 0.184257 seconds\n",
      "[21/22] - Processing: 696b9320-7dbe-4c28-bd07-7a73e7a28e64.jpg\n",
      "Inference large image, Time: 1.4127507209777832 seconds, FPS: 0.707838959238249\n",
      "Average inference time per tile: 0.002628 seconds\n",
      "Image saved in: /home/jovyan/Carlos_Gonzalez/YOLO/tinyissimoYOLO/NAdam_None_Airbus_256_BATCH_32_LR_0.0005/model_opt/6-TIC_5_sims_max_steps_100_slices_5_interval_4_10_degredation_0/sim_4/test_noise/696b9320-7dbe-4c28-bd07-7a73e7a28e64_predicted.jpg\n",
      "[22/22] - Processing: img3_Barajas.jpg\n",
      "Inference large image, Time: 0.13637971878051758 seconds, FPS: 7.33246855868172\n",
      "Average inference time per tile: 0.002619 seconds\n",
      "Image saved in: /home/jovyan/Carlos_Gonzalez/YOLO/tinyissimoYOLO/NAdam_None_Airbus_256_BATCH_32_LR_0.0005/model_opt/6-TIC_5_sims_max_steps_100_slices_5_interval_4_10_degredation_0/sim_4/test_noise/img3_Barajas_predicted.jpg\n"
     ]
    }
   ],
   "source": [
    "from predict_noise import process_media\n",
    "import os\n",
    "folder_test = 'test'\n",
    "files_to_test = os.listdir(folder_test)\n",
    "case1 = False\n",
    "case2 = False\n",
    "\n",
    "percentage_layers_case_1  = 0.5 if case1 else 0\n",
    "percentage_layers_case_2 = 0.5 if case2 else 0\n",
    "# Con este parámetro seleccionamos la zona en la que queremos afectar a las activacionies o pesos\n",
    "# es decir, slices = [slice_i, n_slices], con esto dividimos todas las capas en n_slices y afectamos a las capas que esten en slice_i\n",
    "'''\n",
    "|slice 0 | slice 1 | slice 2 | slice 3 | slice 4 | \n",
    "'''\n",
    "interval_1 = (-8, 2)\n",
    "interval_2 = (-8, 2)\n",
    "slices_case1 = [0,1] \n",
    "slices_case2 = [0,1]\n",
    "percentage_tensors_1 = 0.05\n",
    "percentage_tensors_2 = 0.002\n",
    "\n",
    "\n",
    "folder_model = '6-TIC_5_sims_max_steps_100_slices_5_interval_4_10_degredation_0/sim_4'\n",
    "model_name = 'YOLO_opt.pth.tar'\n",
    "process_media(folder_test, files_to_test, case1=case1, percentage_layers_case_1=percentage_layers_case_1, slices_case1 = slices_case1, interval_1 = interval_1, percentage_tensors_1= percentage_tensors_1,\n",
    "           case2=case2, percentage_layers_case_2=percentage_layers_case_2, slices_case2 = slices_case2, interval_2 = interval_2, percentage_tensors_2= percentage_tensors_2,\n",
    "                folder_model=folder_model, model_name=model_name)\n"
   ]
  },
  {
   "cell_type": "code",
   "execution_count": 1,
   "id": "46cde9c7-2668-41ff-ae2f-b4f1aa0ced51",
   "metadata": {
    "scrolled": true
   },
   "outputs": [
    {
     "name": "stdout",
     "output_type": "stream",
     "text": [
      "\u001b[33mWARNING: The directory '/home/jovyan/.cache/pip' or its parent directory is not owned or is not writable by the current user. The cache has been disabled. Check the permissions and owner of that directory. If executing pip with sudo, you should use sudo's -H flag.\u001b[0m\u001b[33m\n",
      "\u001b[0mCollecting torchsummary\n",
      "  Downloading torchsummary-1.5.1-py3-none-any.whl (2.8 kB)\n",
      "Installing collected packages: torchsummary\n",
      "Successfully installed torchsummary-1.5.1\n",
      "\u001b[33mWARNING: Running pip as the 'root' user can result in broken permissions and conflicting behaviour with the system package manager. It is recommended to use a virtual environment instead: https://pip.pypa.io/warnings/venv\u001b[0m\u001b[33m\n",
      "\u001b[0m\u001b[33mWARNING: The directory '/home/jovyan/.cache/pip' or its parent directory is not owned or is not writable by the current user. The cache has been disabled. Check the permissions and owner of that directory. If executing pip with sudo, you should use sudo's -H flag.\u001b[0m\u001b[33m\n",
      "\u001b[0mCollecting torchmetrics\n",
      "  Downloading torchmetrics-1.4.0.post0-py3-none-any.whl (868 kB)\n",
      "\u001b[2K     \u001b[90m━━━━━━━━━━━━━━━━━━━━━━━━━━━━━━━━━━━━━━\u001b[0m \u001b[32m868.8/868.8 kB\u001b[0m \u001b[31m28.8 MB/s\u001b[0m eta \u001b[36m0:00:00\u001b[0m\n",
      "\u001b[?25hRequirement already satisfied: numpy>1.20.0 in /opt/conda/lib/python3.11/site-packages (from torchmetrics) (1.23.5)\n",
      "Requirement already satisfied: packaging>17.1 in /opt/conda/lib/python3.11/site-packages (from torchmetrics) (23.1)\n",
      "Requirement already satisfied: torch>=1.10.0 in /opt/conda/lib/python3.11/site-packages (from torchmetrics) (2.1.2)\n",
      "Collecting lightning-utilities>=0.8.0 (from torchmetrics)\n",
      "  Downloading lightning_utilities-0.11.2-py3-none-any.whl (26 kB)\n",
      "Requirement already satisfied: setuptools in /opt/conda/lib/python3.11/site-packages (from lightning-utilities>=0.8.0->torchmetrics) (68.0.0)\n",
      "Requirement already satisfied: typing-extensions in /opt/conda/lib/python3.11/site-packages (from lightning-utilities>=0.8.0->torchmetrics) (4.7.1)\n",
      "Requirement already satisfied: filelock in /opt/conda/lib/python3.11/site-packages (from torch>=1.10.0->torchmetrics) (3.13.1)\n",
      "Requirement already satisfied: sympy in /opt/conda/lib/python3.11/site-packages (from torch>=1.10.0->torchmetrics) (1.12)\n",
      "Requirement already satisfied: networkx in /opt/conda/lib/python3.11/site-packages (from torch>=1.10.0->torchmetrics) (3.1)\n",
      "Requirement already satisfied: jinja2 in /opt/conda/lib/python3.11/site-packages (from torch>=1.10.0->torchmetrics) (3.1.2)\n",
      "Requirement already satisfied: fsspec in /opt/conda/lib/python3.11/site-packages (from torch>=1.10.0->torchmetrics) (2023.6.0)\n",
      "Requirement already satisfied: nvidia-cuda-nvrtc-cu12==12.1.105 in /opt/conda/lib/python3.11/site-packages (from torch>=1.10.0->torchmetrics) (12.1.105)\n",
      "Requirement already satisfied: nvidia-cuda-runtime-cu12==12.1.105 in /opt/conda/lib/python3.11/site-packages (from torch>=1.10.0->torchmetrics) (12.1.105)\n",
      "Requirement already satisfied: nvidia-cuda-cupti-cu12==12.1.105 in /opt/conda/lib/python3.11/site-packages (from torch>=1.10.0->torchmetrics) (12.1.105)\n",
      "Requirement already satisfied: nvidia-cudnn-cu12==8.9.2.26 in /opt/conda/lib/python3.11/site-packages (from torch>=1.10.0->torchmetrics) (8.9.2.26)\n",
      "Requirement already satisfied: nvidia-cublas-cu12==12.1.3.1 in /opt/conda/lib/python3.11/site-packages (from torch>=1.10.0->torchmetrics) (12.1.3.1)\n",
      "Requirement already satisfied: nvidia-cufft-cu12==11.0.2.54 in /opt/conda/lib/python3.11/site-packages (from torch>=1.10.0->torchmetrics) (11.0.2.54)\n",
      "Requirement already satisfied: nvidia-curand-cu12==10.3.2.106 in /opt/conda/lib/python3.11/site-packages (from torch>=1.10.0->torchmetrics) (10.3.2.106)\n",
      "Requirement already satisfied: nvidia-cusolver-cu12==11.4.5.107 in /opt/conda/lib/python3.11/site-packages (from torch>=1.10.0->torchmetrics) (11.4.5.107)\n",
      "Requirement already satisfied: nvidia-cusparse-cu12==12.1.0.106 in /opt/conda/lib/python3.11/site-packages (from torch>=1.10.0->torchmetrics) (12.1.0.106)\n",
      "Requirement already satisfied: nvidia-nccl-cu12==2.18.1 in /opt/conda/lib/python3.11/site-packages (from torch>=1.10.0->torchmetrics) (2.18.1)\n",
      "Requirement already satisfied: nvidia-nvtx-cu12==12.1.105 in /opt/conda/lib/python3.11/site-packages (from torch>=1.10.0->torchmetrics) (12.1.105)\n",
      "Requirement already satisfied: triton==2.1.0 in /opt/conda/lib/python3.11/site-packages (from torch>=1.10.0->torchmetrics) (2.1.0)\n",
      "Requirement already satisfied: nvidia-nvjitlink-cu12 in /opt/conda/lib/python3.11/site-packages (from nvidia-cusolver-cu12==11.4.5.107->torch>=1.10.0->torchmetrics) (12.3.101)\n",
      "Requirement already satisfied: MarkupSafe>=2.0 in /opt/conda/lib/python3.11/site-packages (from jinja2->torch>=1.10.0->torchmetrics) (2.1.3)\n",
      "Requirement already satisfied: mpmath>=0.19 in /opt/conda/lib/python3.11/site-packages (from sympy->torch>=1.10.0->torchmetrics) (1.3.0)\n",
      "Installing collected packages: lightning-utilities, torchmetrics\n",
      "Successfully installed lightning-utilities-0.11.2 torchmetrics-1.4.0.post0\n",
      "\u001b[33mWARNING: Running pip as the 'root' user can result in broken permissions and conflicting behaviour with the system package manager. It is recommended to use a virtual environment instead: https://pip.pypa.io/warnings/venv\u001b[0m\u001b[33m\n",
      "\u001b[0m\u001b[33mWARNING: The directory '/home/jovyan/.cache/pip' or its parent directory is not owned or is not writable by the current user. The cache has been disabled. Check the permissions and owner of that directory. If executing pip with sudo, you should use sudo's -H flag.\u001b[0m\u001b[33m\n",
      "\u001b[0mCollecting torchvision\n",
      "  Downloading torchvision-0.18.1-cp311-cp311-manylinux1_x86_64.whl (7.0 MB)\n",
      "\u001b[2K     \u001b[90m━━━━━━━━━━━━━━━━━━━━━━━━━━━━━━━━━━━━━━━━\u001b[0m \u001b[32m7.0/7.0 MB\u001b[0m \u001b[31m13.9 MB/s\u001b[0m eta \u001b[36m0:00:00\u001b[0ma \u001b[36m0:00:01\u001b[0m\n",
      "\u001b[?25hRequirement already satisfied: numpy in /opt/conda/lib/python3.11/site-packages (from torchvision) (1.23.5)\n",
      "Collecting torch==2.3.1 (from torchvision)\n",
      "  Downloading torch-2.3.1-cp311-cp311-manylinux1_x86_64.whl (779.2 MB)\n",
      "\u001b[2K     \u001b[90m━━━━━━━━━━━━━━━━━━━━━━━━━━━━━━━━━━━━━━\u001b[0m \u001b[32m779.2/779.2 MB\u001b[0m \u001b[31m25.7 MB/s\u001b[0m eta \u001b[36m0:00:00\u001b[0m00:01\u001b[0m00:02\u001b[0m\n",
      "\u001b[?25hRequirement already satisfied: pillow!=8.3.*,>=5.3.0 in /opt/conda/lib/python3.11/site-packages (from torchvision) (10.0.0)\n",
      "Requirement already satisfied: filelock in /opt/conda/lib/python3.11/site-packages (from torch==2.3.1->torchvision) (3.13.1)\n",
      "Collecting typing-extensions>=4.8.0 (from torch==2.3.1->torchvision)\n",
      "  Downloading typing_extensions-4.12.2-py3-none-any.whl (37 kB)\n",
      "Requirement already satisfied: sympy in /opt/conda/lib/python3.11/site-packages (from torch==2.3.1->torchvision) (1.12)\n",
      "Requirement already satisfied: networkx in /opt/conda/lib/python3.11/site-packages (from torch==2.3.1->torchvision) (3.1)\n",
      "Requirement already satisfied: jinja2 in /opt/conda/lib/python3.11/site-packages (from torch==2.3.1->torchvision) (3.1.2)\n",
      "Requirement already satisfied: fsspec in /opt/conda/lib/python3.11/site-packages (from torch==2.3.1->torchvision) (2023.6.0)\n",
      "Requirement already satisfied: nvidia-cuda-nvrtc-cu12==12.1.105 in /opt/conda/lib/python3.11/site-packages (from torch==2.3.1->torchvision) (12.1.105)\n",
      "Requirement already satisfied: nvidia-cuda-runtime-cu12==12.1.105 in /opt/conda/lib/python3.11/site-packages (from torch==2.3.1->torchvision) (12.1.105)\n",
      "Requirement already satisfied: nvidia-cuda-cupti-cu12==12.1.105 in /opt/conda/lib/python3.11/site-packages (from torch==2.3.1->torchvision) (12.1.105)\n",
      "Requirement already satisfied: nvidia-cudnn-cu12==8.9.2.26 in /opt/conda/lib/python3.11/site-packages (from torch==2.3.1->torchvision) (8.9.2.26)\n",
      "Requirement already satisfied: nvidia-cublas-cu12==12.1.3.1 in /opt/conda/lib/python3.11/site-packages (from torch==2.3.1->torchvision) (12.1.3.1)\n",
      "Requirement already satisfied: nvidia-cufft-cu12==11.0.2.54 in /opt/conda/lib/python3.11/site-packages (from torch==2.3.1->torchvision) (11.0.2.54)\n",
      "Requirement already satisfied: nvidia-curand-cu12==10.3.2.106 in /opt/conda/lib/python3.11/site-packages (from torch==2.3.1->torchvision) (10.3.2.106)\n",
      "Requirement already satisfied: nvidia-cusolver-cu12==11.4.5.107 in /opt/conda/lib/python3.11/site-packages (from torch==2.3.1->torchvision) (11.4.5.107)\n",
      "Requirement already satisfied: nvidia-cusparse-cu12==12.1.0.106 in /opt/conda/lib/python3.11/site-packages (from torch==2.3.1->torchvision) (12.1.0.106)\n",
      "Collecting nvidia-nccl-cu12==2.20.5 (from torch==2.3.1->torchvision)\n",
      "  Downloading nvidia_nccl_cu12-2.20.5-py3-none-manylinux2014_x86_64.whl (176.2 MB)\n",
      "\u001b[2K     \u001b[90m━━━━━━━━━━━━━━━━━━━━━━━━━━━━━━━━━━━━━━\u001b[0m \u001b[32m176.2/176.2 MB\u001b[0m \u001b[31m13.6 MB/s\u001b[0m eta \u001b[36m0:00:00\u001b[0m00:01\u001b[0m00:01\u001b[0m\n",
      "\u001b[?25hRequirement already satisfied: nvidia-nvtx-cu12==12.1.105 in /opt/conda/lib/python3.11/site-packages (from torch==2.3.1->torchvision) (12.1.105)\n",
      "Collecting triton==2.3.1 (from torch==2.3.1->torchvision)\n",
      "  Downloading triton-2.3.1-cp311-cp311-manylinux_2_17_x86_64.manylinux2014_x86_64.whl (168.1 MB)\n",
      "\u001b[2K     \u001b[90m━━━━━━━━━━━━━━━━━━━━━━━━━━━━━━━━━━━━━━\u001b[0m \u001b[32m168.1/168.1 MB\u001b[0m \u001b[31m13.7 MB/s\u001b[0m eta \u001b[36m0:00:00\u001b[0m00:01\u001b[0m00:01\u001b[0m\n",
      "\u001b[?25hRequirement already satisfied: nvidia-nvjitlink-cu12 in /opt/conda/lib/python3.11/site-packages (from nvidia-cusolver-cu12==11.4.5.107->torch==2.3.1->torchvision) (12.3.101)\n",
      "Requirement already satisfied: MarkupSafe>=2.0 in /opt/conda/lib/python3.11/site-packages (from jinja2->torch==2.3.1->torchvision) (2.1.3)\n",
      "Requirement already satisfied: mpmath>=0.19 in /opt/conda/lib/python3.11/site-packages (from sympy->torch==2.3.1->torchvision) (1.3.0)\n",
      "Installing collected packages: typing-extensions, triton, nvidia-nccl-cu12, torch, torchvision\n",
      "  Attempting uninstall: typing-extensions\n",
      "    Found existing installation: typing_extensions 4.7.1\n",
      "    Uninstalling typing_extensions-4.7.1:\n",
      "      Successfully uninstalled typing_extensions-4.7.1\n",
      "  Attempting uninstall: triton\n",
      "    Found existing installation: triton 2.1.0\n",
      "    Uninstalling triton-2.1.0:\n",
      "      Successfully uninstalled triton-2.1.0\n",
      "  Attempting uninstall: nvidia-nccl-cu12\n",
      "    Found existing installation: nvidia-nccl-cu12 2.18.1\n",
      "    Uninstalling nvidia-nccl-cu12-2.18.1:\n",
      "      Successfully uninstalled nvidia-nccl-cu12-2.18.1\n",
      "  Attempting uninstall: torch\n",
      "    Found existing installation: torch 2.1.2\n",
      "    Uninstalling torch-2.1.2:\n",
      "      Successfully uninstalled torch-2.1.2\n",
      "Successfully installed nvidia-nccl-cu12-2.20.5 torch-2.3.1 torchvision-0.18.1 triton-2.3.1 typing-extensions-4.12.2\n",
      "\u001b[33mWARNING: Running pip as the 'root' user can result in broken permissions and conflicting behaviour with the system package manager. It is recommended to use a virtual environment instead: https://pip.pypa.io/warnings/venv\u001b[0m\u001b[33m\n",
      "\u001b[0m\u001b[33mWARNING: The directory '/home/jovyan/.cache/pip' or its parent directory is not owned or is not writable by the current user. The cache has been disabled. Check the permissions and owner of that directory. If executing pip with sudo, you should use sudo's -H flag.\u001b[0m\u001b[33m\n",
      "\u001b[0mCollecting opencv-python\n",
      "  Downloading opencv_python-4.10.0.84-cp37-abi3-manylinux_2_17_x86_64.manylinux2014_x86_64.whl (62.5 MB)\n",
      "\u001b[2K     \u001b[90m━━━━━━━━━━━━━━━━━━━━━━━━━━━━━━━━━━━━━━━━\u001b[0m \u001b[32m62.5/62.5 MB\u001b[0m \u001b[31m17.7 MB/s\u001b[0m eta \u001b[36m0:00:00\u001b[0m00:01\u001b[0m00:01\u001b[0m\n",
      "\u001b[?25hRequirement already satisfied: numpy>=1.21.2 in /opt/conda/lib/python3.11/site-packages (from opencv-python) (1.23.5)\n",
      "Installing collected packages: opencv-python\n",
      "Successfully installed opencv-python-4.10.0.84\n",
      "\u001b[33mWARNING: Running pip as the 'root' user can result in broken permissions and conflicting behaviour with the system package manager. It is recommended to use a virtual environment instead: https://pip.pypa.io/warnings/venv\u001b[0m\u001b[33m\n",
      "\u001b[0m"
     ]
    }
   ],
   "source": [
    "!pip install torchsummary\n",
    "!pip install torchmetrics\n",
    "!pip install torchvision\n",
    "!pip install opencv-python"
   ]
  },
  {
   "cell_type": "markdown",
   "id": "fcf1687a-97c1-44a3-9e02-1a2d83bfc5af",
   "metadata": {},
   "source": [
    "# **Testing Noise**"
   ]
  },
  {
   "cell_type": "markdown",
   "id": "d9e60e97-2d9f-4879-9051-350228034849",
   "metadata": {},
   "source": [
    "Uno de los objetivos de este proyecto es la posterior implementación de estos modelos en una FPGA,  con el fin de que sea capaz de resolver problemas de detección desde un satélite.\n",
    "\n",
    "Se sabe que los modelos en una FPGA están expuestos a ruido, este ruido puede afectar en cualquier parte del modelo, se han considerado los siguientes casos:\n",
    "* **Caso 1**: se pretende simular el ruido que puede ocurrir dentro del modelo, es decir, entre las conexiones de capas. Fenómeno conocido como SEU.\n",
    "* **Caso 2**: se simula el ruido que puede afectar a los pesos del modelo debido a las fluctuaciones que pueden surgir en el almacenamiento de estos. Fenómeno conocido como SEL.\n",
    "\n",
    "Para el caso 1 y 2 de análisis de ruido se ha considerado el caso, de que en caso de que exista ruido este se produce un  bit-flip, en algún punto aleatorio de los pesos o activaciones.\n",
    "\n",
    "En este ***Notebook*** se pretende analizar diferentes casos, de como afecta los diferentes ruidos de manera aislada. Los resutlados obtenidos son guardados en la carpeta correspondiente del modelo que está siendo ejecutado, en la subcarpeta de ***results_noise***, en el que son analizadas las métricas de loss y mAP50.\n",
    "\n",
    "Como en los ***Notebooks*** anteriores, la ejecución de estos códigos hay que tener en cuenta que dependen directamente del fichero de configuración ***config.py***, para la selección del modelo. En este cuaderno a diferencia de los otros no ejecutamos el código con un !python eval_noise.py, si no que hacemos un import, por comodidad de este código y poder evaluar los diferentes casos. Siendo así el código, si quieres probar diferentes modelos con el fichero ***config.py*** hay que reiniciar el kernel despues de modificar el fichero.\n",
    "\n",
    "Si se quiere realizar las pruebas de **noise.py** sobre los modelos optimizados se tiene que especificar la ruta del modelo optimizado aunque tiene que tener coherencia con **config.py**"
   ]
  },
  {
   "cell_type": "code",
   "execution_count": null,
   "id": "70508cff-70ff-49c6-9966-b15e44262284",
   "metadata": {
    "scrolled": true
   },
   "outputs": [],
   "source": [
    "!python eval_noise.py"
   ]
  },
  {
   "cell_type": "markdown",
   "id": "bb6c95d4-4278-44cc-8490-970d8c2151e9",
   "metadata": {},
   "source": [
    "# Análisis para el modelo con precisión máxima"
   ]
  },
  {
   "cell_type": "markdown",
   "id": "44b614bc-4304-4086-8e39-0550473aadfc",
   "metadata": {},
   "source": [
    "Para cada uno de los casos hay que introducir diferentes niveles de ruido, desde niveles bajos hasta ir subiendolos progresivamente. Hay que tener en cuenta que en cada caso, el modelo se ve influenciado de una manera u otra, entonces estos niveles de ruido tienen diferente nivel en cada uno de ellos.\n",
    "\n",
    "Hay que tener en cuenta que dependiendo del número de slices alto, menos capas tenemos en cada slice, y por tanto, para asegurarnos que realmente se afecta las capas habrá que seleccionar un porcentaje más alto\n",
    "\n",
    "\n",
    "Se puede seleccionar el slice  que que quermos que se modifique\n",
    "Con este parámetro seleccionamos la zona en la que queremos afectar a las activacionies o pesos\n",
    "ees decir, slices = [slice_i, n_slices], con esto dividimos todas las capas en n_slices y afectamos a las capas que esten en slice_i\n",
    "\n",
    "\n",
    "\n",
    "\n",
    "  |slice 0 | slice 1 | slice 2 | slice 3 | slice4\n",
    "\n",
    "si se selecciona slice_i = n_slices se recorre desde slice_0,, hasta slice_n-1.\n",
    "\n",
    "Luego existe el parámetro **percentage_layers_case1** que es un array de porcentajes. Para cada activación (LeakyRelu o Relu) (caso1) o peso (caso2) de cada slice, se calcula un número aleatorio y si es menor que el porcentaje correspondiente del array, esa capa sufrirá el efecto del bit flip. Por otro lado, como los pesos y activaciones son un conjunto de tensores, con el parámetro **percentage_tensor** se determina el porcentaje de tensores que se ven afectados de dicha capa."
   ]
  },
  {
   "cell_type": "markdown",
   "id": "2d1dbed4-dfcd-42dd-acc5-bca458dfc1d4",
   "metadata": {},
   "source": [
    "## **Test case1**"
   ]
  },
  {
   "cell_type": "markdown",
   "id": "5ee4180f-40dc-490c-bb72-fdd9a21d0378",
   "metadata": {},
   "source": [
    "Como dividimos las salidas de las funciones de activación en 3 bloques, se selecciona un porcentaje de tensores/parametros afectados para cada caso \n",
    "* Bloque 1: las funciones de activación tienen de orden $10^6$ parámetros, por tanto, una selección del 0.05\\% de parámetros afectados es razonable.\n",
    "*  Bloque 2: las funciones de activación tienen de orden $10^5$ y $10^4$, aquí se ha seleccionado un porcentaje de parámetros afectados más elevado, 0.5\\%.\n",
    "*  Bloque 3: las funciones de activación tienen de orden $10^4$ y $10^3$, en esta situación se selecciona un 5\\% de parámetros afectados. "
   ]
  },
  {
   "cell_type": "code",
   "execution_count": 3,
   "id": "2b1d1d3d-5f2d-4503-ba84-edd6d0b4023b",
   "metadata": {
    "scrolled": true
   },
   "outputs": [],
   "source": [
    "from eval_noise import test_noise\n",
    "case1=True\n",
    "case2=False\n",
    "percentage_layers_case_1  = [0, 0.3, 0.5, 0.7, 1] if case1 else [0]\n",
    "\n",
    "#prueba 1\n",
    "slices_case1 = [1,1]\n",
    "interval_1 = (-32,2)\n",
    "percentage_tensors_1 = 0.05\n",
    "\n",
    "test_noise( case1=case1, percentage_layers_case_1=percentage_layers_case_1, slices_case1 = slices_case1, interval_1 = interval_1, percentage_tensors_1=percentage_tensors_1,\n",
    "            case2=case2, percentage_layers_case_2=[0], slices_case2 = [0,0])"
   ]
  },
  {
   "cell_type": "code",
   "execution_count": null,
   "id": "ac7c9b09-32d4-4e4e-b533-35f688263f7b",
   "metadata": {},
   "outputs": [],
   "source": [
    "from eval_noise import test_noise\n",
    "case1=True\n",
    "case2=False\n",
    "percentage_layers_case_1  = [0, 0.3, 0.5, 0.7, 1] if case1 else [0]\n",
    "\n",
    "#prueba 1\n",
    "slices_case1 = [1,1]\n",
    "interval_1 = (-2,2)\n",
    "percentage_tensors_1 = 0.05\n",
    "\n",
    "test_noise( case1=case1, percentage_layers_case_1=percentage_layers_case_1, slices_case1 = slices_case1, interval_1 = interval_1, percentage_tensors_1=percentage_tensors_1,\n",
    "            case2=case2, percentage_layers_case_2=[0], slices_case2 = [0,0])"
   ]
  },
  {
   "cell_type": "code",
   "execution_count": null,
   "id": "4ccb74ed-e8cc-49b6-be06-94b0997143e6",
   "metadata": {},
   "outputs": [],
   "source": [
    "from eval_noise import test_noise\n",
    "case1=True\n",
    "case2=False\n",
    "percentage_layers_case_1  = [0, 0.5, 1] if case1 else [0]\n",
    "\n",
    "#prueba 1\n",
    "slices_case1 = [3,3]\n",
    "interval_1 = (-32,2)\n",
    "percentage_tensors_1 = 0.05\n",
    "\n",
    "test_noise( case1=case1, percentage_layers_case_1=percentage_layers_case_1, slices_case1 = slices_case1, interval_1 = interval_1, percentage_tensors_1=percentage_tensors_1,\n",
    "            case2=case2, percentage_layers_case_2=[0], slices_case2 = [0,0])"
   ]
  },
  {
   "cell_type": "code",
   "execution_count": null,
   "id": "969ebcec-11a9-47f2-8f19-f97c4709c4bf",
   "metadata": {
    "scrolled": true
   },
   "outputs": [
    {
     "name": "stdout",
     "output_type": "stream",
     "text": [
      "Test with case1: True, case2: False\n",
      "File case1_results_noise_slices_3_interval1_-2_2_p_0.05.txt exists. Deleting...\n",
      "Results will be saved in: case1_results_noise_slices_3_interval1_-2_2_p_0.05.txt\n",
      "=> Loading checkpoint\n",
      "Model loaded: tinyissimoYOLO/NAdam_None_Airbus_256_BATCH_32_LR_0.0005/model/35_YOLO_best.pth.tar\n",
      "############################################\n",
      "Noise level 1: Slice: [1, 3], Percentage: 0\n",
      "############################################\n"
     ]
    },
    {
     "name": "stderr",
     "output_type": "stream",
     "text": [
      "Eval: Valid: : 100%|██████████| 2/2 [00:01<00:00,  1.53it/s]\n"
     ]
    },
    {
     "name": "stdout",
     "output_type": "stream",
     "text": [
      "---------------------------------------------------\n",
      "-------------Loss Summary eval Valid--------------\n",
      "Total Loss  |Loss Coord  |Conf Loss   |No Obj Loss |Class Loss  |\n",
      "14.051      |7.427       |4.128       |2.466       |0.030       |\n",
      "---------------------------------------------------\n",
      "Valid: \t mAP@50: 0.756015, mAP@75: 0.301328, mAP@90: 0.001536, Mean Loss: 14.050553\n",
      "Valid: \t mAP@50: 0.756015, mAP@75: 0.301328, mAP@90: 0.001536, Mean Loss: 14.050553\n",
      "=> Loading checkpoint\n",
      "Model loaded: tinyissimoYOLO/NAdam_None_Airbus_256_BATCH_32_LR_0.0005/model/35_YOLO_best.pth.tar\n",
      "############################################\n",
      "Noise level 1: Slice: [2, 3], Percentage: 0\n",
      "############################################\n"
     ]
    },
    {
     "name": "stderr",
     "output_type": "stream",
     "text": [
      "Eval: Valid: : 100%|██████████| 2/2 [00:00<00:00,  8.02it/s]\n"
     ]
    },
    {
     "name": "stdout",
     "output_type": "stream",
     "text": [
      "---------------------------------------------------\n",
      "-------------Loss Summary eval Valid--------------\n",
      "Total Loss  |Loss Coord  |Conf Loss   |No Obj Loss |Class Loss  |\n",
      "14.051      |7.427       |4.128       |2.466       |0.030       |\n",
      "---------------------------------------------------\n",
      "Valid: \t mAP@50: 0.756015, mAP@75: 0.301328, mAP@90: 0.001536, Mean Loss: 14.050551\n",
      "Valid: \t mAP@50: 0.756015, mAP@75: 0.301328, mAP@90: 0.001536, Mean Loss: 14.050551\n",
      "=> Loading checkpoint\n",
      "Model loaded: tinyissimoYOLO/NAdam_None_Airbus_256_BATCH_32_LR_0.0005/model/35_YOLO_best.pth.tar\n",
      "############################################\n",
      "Noise level 1: Slice: [3, 3], Percentage: 0\n",
      "############################################\n"
     ]
    },
    {
     "name": "stderr",
     "output_type": "stream",
     "text": [
      "Eval: Valid: : 100%|██████████| 2/2 [00:00<00:00,  8.83it/s]\n"
     ]
    },
    {
     "name": "stdout",
     "output_type": "stream",
     "text": [
      "---------------------------------------------------\n",
      "-------------Loss Summary eval Valid--------------\n",
      "Total Loss  |Loss Coord  |Conf Loss   |No Obj Loss |Class Loss  |\n",
      "14.051      |7.427       |4.128       |2.466       |0.030       |\n",
      "---------------------------------------------------\n",
      "Valid: \t mAP@50: 0.756015, mAP@75: 0.301328, mAP@90: 0.001536, Mean Loss: 14.050552\n",
      "Valid: \t mAP@50: 0.756015, mAP@75: 0.301328, mAP@90: 0.001536, Mean Loss: 14.050552\n",
      "=> Loading checkpoint\n",
      "Model loaded: tinyissimoYOLO/NAdam_None_Airbus_256_BATCH_32_LR_0.0005/model/35_YOLO_best.pth.tar\n",
      "############################################\n",
      "Noise level 1: Slice: [1, 3], Percentage: 0.5\n",
      "############################################\n"
     ]
    },
    {
     "name": "stderr",
     "output_type": "stream",
     "text": [
      "Eval: Valid: :   0%|          | 0/2 [00:00<?, ?it/s]"
     ]
    },
    {
     "name": "stdout",
     "output_type": "stream",
     "text": [
      "random_index_array: 198247\n",
      "x_flatten: 3964928, Percentage: 0.05, Range: 198246\n",
      "random_index_array: 49562\n",
      "x_flatten: 991232, Percentage: 0.05, Range: 49561\n"
     ]
    },
    {
     "name": "stderr",
     "output_type": "stream",
     "text": [
      "Eval: Valid: :  50%|█████     | 1/2 [1:03:54<1:03:54, 3834.10s/it]"
     ]
    },
    {
     "name": "stdout",
     "output_type": "stream",
     "text": [
      "random_index_array: 198247\n",
      "x_flatten: 3964928, Percentage: 0.05, Range: 198246\n",
      "random_index_array: 49562\n",
      "x_flatten: 991232, Percentage: 0.05, Range: 49561\n"
     ]
    },
    {
     "name": "stderr",
     "output_type": "stream",
     "text": [
      "Eval: Valid: : 100%|██████████| 2/2 [2:10:31<00:00, 3915.67s/it]  \n"
     ]
    },
    {
     "name": "stdout",
     "output_type": "stream",
     "text": [
      "---------------------------------------------------\n",
      "-------------Loss Summary eval Valid--------------\n",
      "Total Loss  |Loss Coord  |Conf Loss   |No Obj Loss |Class Loss  |\n",
      "16.629      |9.056       |4.971       |2.554       |0.049       |\n",
      "---------------------------------------------------\n",
      "Valid: \t mAP@50: 0.719059, mAP@75: 0.267984, mAP@90: 0.001652, Mean Loss: 16.629442\n",
      "Valid: \t mAP@50: 0.719059, mAP@75: 0.267984, mAP@90: 0.001652, Mean Loss: 16.629442\n",
      "=> Loading checkpoint\n",
      "Model loaded: tinyissimoYOLO/NAdam_None_Airbus_256_BATCH_32_LR_0.0005/model/35_YOLO_best.pth.tar\n",
      "############################################\n",
      "Noise level 1: Slice: [2, 3], Percentage: 0.5\n",
      "############################################\n"
     ]
    },
    {
     "name": "stderr",
     "output_type": "stream",
     "text": [
      "Eval: Valid: :   0%|          | 0/2 [00:00<?, ?it/s]"
     ]
    },
    {
     "name": "stdout",
     "output_type": "stream",
     "text": [
      "random_index_array: 99124\n",
      "x_flatten: 1982464, Percentage: 0.05, Range: 99123\n",
      "random_index_array: 24781\n",
      "x_flatten: 495616, Percentage: 0.05, Range: 24780\n"
     ]
    },
    {
     "name": "stderr",
     "output_type": "stream",
     "text": [
      "Eval: Valid: :  50%|█████     | 1/2 [34:44<34:44, 2084.33s/it]"
     ]
    },
    {
     "name": "stdout",
     "output_type": "stream",
     "text": [
      "random_index_array: 99124\n",
      "x_flatten: 1982464, Percentage: 0.05, Range: 99123\n",
      "random_index_array: 24781\n",
      "x_flatten: 495616, Percentage: 0.05, Range: 24780\n"
     ]
    },
    {
     "name": "stderr",
     "output_type": "stream",
     "text": [
      "Eval: Valid: : 100%|██████████| 2/2 [1:09:26<00:00, 2083.12s/it]\n"
     ]
    },
    {
     "name": "stdout",
     "output_type": "stream",
     "text": [
      "---------------------------------------------------\n",
      "-------------Loss Summary eval Valid--------------\n",
      "Total Loss  |Loss Coord  |Conf Loss   |No Obj Loss |Class Loss  |\n",
      "15.875      |7.464       |4.223       |4.159       |0.030       |\n",
      "---------------------------------------------------\n",
      "Valid: \t mAP@50: 0.723418, mAP@75: 0.292314, mAP@90: 0.001572, Mean Loss: 15.875144\n",
      "Valid: \t mAP@50: 0.723418, mAP@75: 0.292314, mAP@90: 0.001572, Mean Loss: 15.875144\n",
      "=> Loading checkpoint\n",
      "Model loaded: tinyissimoYOLO/NAdam_None_Airbus_256_BATCH_32_LR_0.0005/model/35_YOLO_best.pth.tar\n",
      "############################################\n",
      "Noise level 1: Slice: [3, 3], Percentage: 0.5\n",
      "############################################\n"
     ]
    },
    {
     "name": "stderr",
     "output_type": "stream",
     "text": [
      "Eval: Valid: :   0%|          | 0/2 [00:00<?, ?it/s]"
     ]
    },
    {
     "name": "stdout",
     "output_type": "stream",
     "text": [
      "random_index_array: 12391\n",
      "x_flatten: 247808, Percentage: 0.05, Range: 12390\n",
      "random_index_array: 12391\n",
      "x_flatten: 247808, Percentage: 0.05, Range: 12390\n"
     ]
    },
    {
     "name": "stderr",
     "output_type": "stream",
     "text": [
      "Eval: Valid: :  50%|█████     | 1/2 [07:22<07:22, 442.68s/it]"
     ]
    },
    {
     "name": "stdout",
     "output_type": "stream",
     "text": [
      "random_index_array: 12391\n",
      "x_flatten: 247808, Percentage: 0.05, Range: 12390\n",
      "random_index_array: 12391\n",
      "x_flatten: 247808, Percentage: 0.05, Range: 12390\n"
     ]
    },
    {
     "name": "stderr",
     "output_type": "stream",
     "text": [
      "Eval: Valid: : 100%|██████████| 2/2 [14:44<00:00, 442.37s/it]\n"
     ]
    },
    {
     "name": "stdout",
     "output_type": "stream",
     "text": [
      "---------------------------------------------------\n",
      "-------------Loss Summary eval Valid--------------\n",
      "Total Loss  |Loss Coord  |Conf Loss   |No Obj Loss |Class Loss  |\n",
      "15.690      |8.436       |4.233       |2.986       |0.035       |\n",
      "---------------------------------------------------\n",
      "Valid: \t mAP@50: 0.612910, mAP@75: 0.193978, mAP@90: 0.001536, Mean Loss: 15.690464\n",
      "Valid: \t mAP@50: 0.612910, mAP@75: 0.193978, mAP@90: 0.001536, Mean Loss: 15.690464\n",
      "=> Loading checkpoint\n",
      "Model loaded: tinyissimoYOLO/NAdam_None_Airbus_256_BATCH_32_LR_0.0005/model/35_YOLO_best.pth.tar\n",
      "############################################\n",
      "Noise level 1: Slice: [1, 3], Percentage: 1\n",
      "############################################\n"
     ]
    },
    {
     "name": "stderr",
     "output_type": "stream",
     "text": [
      "Eval: Valid: :   0%|          | 0/2 [00:00<?, ?it/s]"
     ]
    },
    {
     "name": "stdout",
     "output_type": "stream",
     "text": [
      "random_index_array: 198247\n",
      "x_flatten: 3964928, Percentage: 0.05, Range: 198246\n"
     ]
    }
   ],
   "source": [
    "from eval_noise import test_noise\n",
    "case1=True\n",
    "case2=False\n",
    "percentage_layers_case_1  = [0, 0.5, 1] if case1 else [0]\n",
    "\n",
    "#prueba 1\n",
    "slices_case1 = [3,3]\n",
    "interval_1 = (-2,2)\n",
    "percentage_tensors_1 = 0.05\n",
    "\n",
    "test_noise( case1=case1, percentage_layers_case_1=percentage_layers_case_1, slices_case1 = slices_case1, interval_1 = interval_1, percentage_tensors_1=percentage_tensors_1,\n",
    "            case2=case2, percentage_layers_case_2=[0], slices_case2 = [0,0])"
   ]
  },
  {
   "cell_type": "markdown",
   "id": "be62cda3-d741-4ae4-88ba-3ebdfeae3848",
   "metadata": {},
   "source": [
    "## **Test case 2**"
   ]
  },
  {
   "cell_type": "code",
   "execution_count": 1,
   "id": "85a57736-b45d-4248-bc17-8c9a65deb732",
   "metadata": {
    "scrolled": true
   },
   "outputs": [
    {
     "name": "stdout",
     "output_type": "stream",
     "text": [
      "Test with case1: False, case2: True\n",
      "Results will be saved in: case2_results_noise_slices_1_interval2_-32_2_p_0.0001.txt\n",
      "=> Loading checkpoint\n",
      "Model loaded: tinyissimoYOLO/NAdam_None_Airbus_256_BATCH_32_LR_0.0005/model/35_YOLO_best.pth.tar\n",
      "############################################\n",
      "Noise level 2: Slice: [1, 1], Percentage: 1\n",
      "############################################\n",
      "=> Loading checkpoint\n",
      "Model loaded: tinyissimoYOLO/NAdam_None_Airbus_256_BATCH_32_LR_0.0005/model/35_YOLO_best.pth.tar\n",
      "Number of layers affected: 34\n",
      "Name: darknet.0.conv.weight, Shape: torch.Size([16, 3, 3, 3]), Flattened: torch.Size([432])\n",
      "Random index: 1\n",
      "Random index: 322 Exponential:  -15 \n",
      "\tParam: 0.029807521030306816, Bits: 00.00000111101000010111011100111\n",
      "\tParam: 0.029838038608431816, Bits: 00.00000111101000110111011100111\n",
      "Number of weights affected: 1\n",
      "Name: darknet.0.batchnorm.weight, Shape: torch.Size([16]), Flattened: torch.Size([16])\n",
      "Random index: 1\n",
      "Random index: 13 Exponential:  -23 \n",
      "\tParam: 0.29573148488998413, Bits: 00.010010111011010100001111\n",
      "\tParam: 0.2957313656806946, Bits: 00.010010111011010100001101\n",
      "Number of weights affected: 2\n",
      "Name: darknet.0.batchnorm.bias, Shape: torch.Size([16]), Flattened: torch.Size([16])\n",
      "Random index: 1\n",
      "Random index: 0 Exponential:  -5 \n",
      "\tParam: 0.1608373522758484, Bits: 00.001010010010110010100011\n",
      "\tParam: 0.1295873522758484, Bits: 00.001000010010110010100011\n",
      "Number of weights affected: 3\n",
      "Name: darknet.1.conv.weight, Shape: torch.Size([16, 16, 3, 3]), Flattened: torch.Size([2304])\n",
      "Random index: 1\n",
      "Random index: 1191 Exponential:  -23 \n",
      "\tParam: 0.0019423008197918534, Bits: 00.00000000011111110100101001100110\n",
      "\tParam: 0.0019421814940869808, Bits: 00.00000000011111110100100001100110\n",
      "Number of weights affected: 4\n",
      "Name: darknet.1.batchnorm.weight, Shape: torch.Size([16]), Flattened: torch.Size([16])\n",
      "Random index: 1\n",
      "Random index: 6 Exponential:  -3 \n",
      "\tParam: 0.4273773431777954, Bits: 00.01101101011010001001101\n",
      "\tParam: 0.3023773431777954, Bits: 00.01001101011010001001101\n",
      "Number of weights affected: 5\n",
      "Name: darknet.1.batchnorm.bias, Shape: torch.Size([16]), Flattened: torch.Size([16])\n",
      "Random index: 1\n",
      "Random index: 9 Exponential:  -15 \n",
      "\tParam: 0.054576288908720016, Bits: 00.0000110111111000101101100011\n",
      "\tParam: 0.054606806486845016, Bits: 00.0000110111111010101101100011\n",
      "Number of weights affected: 6\n",
      "Name: darknet.3.conv.weight, Shape: torch.Size([16, 16, 3, 3]), Flattened: torch.Size([2304])\n",
      "Random index: 1\n",
      "Random index: 1375 Exponential:  -16 \n",
      "\tParam: -0.06287680566310883, Bits: 10.00010000000110001011000111\n",
      "\tParam: -0.06289206445217133, Bits: 10.00010000000110011011000111\n",
      "Number of weights affected: 7\n",
      "Name: darknet.3.batchnorm.weight, Shape: torch.Size([16]), Flattened: torch.Size([16])\n",
      "Random index: 1\n",
      "Random index: 3 Exponential:  -30 \n",
      "\tParam: 0.48337316513061523, Bits: 00.011110111011111001011\n",
      "\tParam: 0.48337221145629883, Bits: 00.011110111011111001001\n",
      "Number of weights affected: 8\n",
      "Name: darknet.3.batchnorm.bias, Shape: torch.Size([16]), Flattened: torch.Size([16])\n",
      "Random index: 1\n",
      "Random index: 11 Exponential:  -29 \n",
      "\tParam: -0.0883355662226677, Bits: 10.000101101001110100101000111\n",
      "\tParam: -0.0883355513215065, Bits: 10.000101101001110100101000101\n",
      "Number of weights affected: 9\n",
      "Name: darknet.4.conv.weight, Shape: torch.Size([32, 16, 3, 3]), Flattened: torch.Size([4608])\n",
      "Random index: 1\n",
      "Random index: 3965 Exponential:  -8 \n",
      "\tParam: 0.024035856127738953, Bits: 00.00000110001001110011011011\n",
      "\tParam: 0.027942106127738953, Bits: 00.00000111001001110011011011\n",
      "Number of weights affected: 10\n",
      "Name: darknet.4.batchnorm.weight, Shape: torch.Size([32]), Flattened: torch.Size([32])\n",
      "Random index: 1\n",
      "Random index: 15 Exponential:  -2 \n",
      "\tParam: 0.37078234553337097, Bits: 00.0101111011101011100101111\n",
      "\tParam: 0.12078234553337097, Bits: 00.0001111011101011100101111\n",
      "Number of weights affected: 11\n",
      "Name: darknet.4.batchnorm.bias, Shape: torch.Size([32]), Flattened: torch.Size([32])\n",
      "Random index: 1\n",
      "Random index: 20 Exponential:  -30 \n",
      "\tParam: -0.013128730468451977, Bits: 10.000000110101110001100111100011\n",
      "\tParam: -0.013128728605806828, Bits: 10.000000110101110001100111100001\n",
      "Number of weights affected: 12\n",
      "Name: darknet.6.conv.weight, Shape: torch.Size([32, 32, 3, 3]), Flattened: torch.Size([9216])\n",
      "Random index: 1\n",
      "Random index: 4458 Exponential:  -22 \n",
      "\tParam: -0.02675163745880127, Bits: 10.00000110110110010011001\n",
      "\tParam: -0.02675187587738037, Bits: 10.00000110110110010011011\n",
      "Number of weights affected: 13\n",
      "Name: darknet.6.batchnorm.weight, Shape: torch.Size([32]), Flattened: torch.Size([32])\n",
      "Random index: 1\n",
      "Random index: 18 Exponential:  -7 \n",
      "\tParam: 0.34987497329711914, Bits: 00.010110011001000101101\n",
      "\tParam: 0.35768747329711914, Bits: 00.010110111001000101101\n",
      "Number of weights affected: 14\n",
      "Name: darknet.6.batchnorm.bias, Shape: torch.Size([32]), Flattened: torch.Size([32])\n",
      "Random index: 1\n",
      "Random index: 22 Exponential:  -12 \n",
      "\tParam: -0.022679200395941734, Bits: 10.00000101110011100100110111011\n",
      "\tParam: -0.022923341020941734, Bits: 10.00000101110111100100110111011\n",
      "Number of weights affected: 15\n",
      "Name: darknet.7.conv.weight, Shape: torch.Size([64, 32, 3, 3]), Flattened: torch.Size([18432])\n",
      "Random index: 2\n",
      "Random index: 2703 Exponential:  -10 \n",
      "\tParam: 0.015366953797638416, Bits: 00.000000111110111100010110101101\n",
      "\tParam: 0.014390391297638416, Bits: 00.000000111010111100010110101101\n",
      "Number of weights affected: 16\n",
      "Random index: 14944 Exponential:  10 \n",
      "\tParam: -3.539533054208732e-06, Bits: 10.00000000000000000011101101100010\n",
      "\tParam: -1.0000035762786865, Bits: 11.00000000000000000011101101100010\n",
      "Number of weights affected: 16\n",
      "Name: darknet.7.batchnorm.weight, Shape: torch.Size([64]), Flattened: torch.Size([64])\n",
      "Random index: 1\n",
      "Random index: 8 Exponential:  -7 \n",
      "\tParam: 0.05115710571408272, Bits: 00.0000110100011000101000011101\n",
      "\tParam: 0.05896960571408272, Bits: 00.0000111100011000101000011101\n",
      "Number of weights affected: 17\n",
      "Name: darknet.7.batchnorm.bias, Shape: torch.Size([64]), Flattened: torch.Size([64])\n",
      "Random index: 1\n",
      "Random index: 40 Exponential:  -4 \n",
      "\tParam: -7.621788881806424e-06, Bits: 10.00000000000000000111111111011111\n",
      "\tParam: -0.06250762194395065, Bits: 10.00010000000000000111111111011111\n",
      "Number of weights affected: 18\n",
      "Name: darknet.9.conv.weight, Shape: torch.Size([64, 64, 3, 3]), Flattened: torch.Size([36864])\n",
      "Random index: 4\n",
      "Random index: 5941 Exponential:  0 \n",
      "\tParam: 0.0017686430364847183, Bits: 00.00000000011100111110100011101\n",
      "\tParam: 1.0017685890197754, Bits: 01.00000000011100111110100011101\n",
      "Number of weights affected: 19\n",
      "Random index: 19535 Exponential:  0 \n",
      "\tParam: 0.0009483062312938273, Bits: 00.00000000001111100010010111110000\n",
      "\tParam: 1.0009483098983765, Bits: 01.00000000001111100010010111110000\n",
      "Number of weights affected: 19\n",
      "Random index: 26478 Exponential:  0 \n",
      "\tParam: -0.009425492957234383, Bits: 10.00000010011010011011010110001\n",
      "\tParam: -1.0094255208969116, Bits: 11.00000010011010011011010110001\n",
      "Number of weights affected: 19\n",
      "Random index: 709 Exponential:  0 \n",
      "\tParam: -3.578991163522005e-05, Bits: 10.00000000000000100101100001110100\n",
      "\tParam: -1.0000357627868652, Bits: 11.00000000000000100101100001110100\n",
      "Number of weights affected: 19\n",
      "Name: darknet.9.batchnorm.weight, Shape: torch.Size([64]), Flattened: torch.Size([64])\n",
      "Random index: 1\n",
      "Random index: 18 Exponential:  -22 \n",
      "\tParam: 1.02089143183548e-05, Bits: 00.00000000000000001010101101000110\n",
      "\tParam: 1.044711098074913e-05, Bits: 00.00000000000000001010111101000110\n",
      "Number of weights affected: 20\n",
      "Name: darknet.9.batchnorm.bias, Shape: torch.Size([64]), Flattened: torch.Size([64])\n",
      "Random index: 1\n",
      "Random index: 47 Exponential:  -4 \n",
      "\tParam: 2.5153997285087826e-06, Bits: 00.00000000000000000010101000110011\n",
      "\tParam: 0.06250251829624176, Bits: 00.00010000000000000010101000110011\n",
      "Number of weights affected: 21\n",
      "Name: darknet.10.conv.weight, Shape: torch.Size([64, 64, 3, 3]), Flattened: torch.Size([36864])\n",
      "Random index: 4\n",
      "Random index: 3109 Exponential:  -14 \n",
      "\tParam: 0.02203054167330265, Bits: 00.00000101101000111100101100101\n",
      "\tParam: 0.02209157682955265, Bits: 00.00000101101001111100101100101\n",
      "Number of weights affected: 22\n",
      "Random index: 11250 Exponential:  14 \n",
      "\tParam: 4.348913194007764e-07, Bits: 00.00000000000000000000011101001011\n",
      "\tParam: 1.0000004768371582, Bits: 01.00000000000000000000011101001011\n",
      "Number of weights affected: 22\n",
      "Random index: 27182 Exponential:  0 \n",
      "\tParam: 1.8814858776750043e-05, Bits: 00.00000000000000010011101110101001\n",
      "\tParam: 1.000018835067749, Bits: 01.00000000000000010011101110101001\n",
      "Number of weights affected: 22\n",
      "Random index: 25893 Exponential:  0 \n",
      "\tParam: -7.69265679991804e-05, Bits: 10.00000000000001010000101010011101\n",
      "\tParam: -1.0000768899917603, Bits: 11.00000000000001010000101010011101\n",
      "Number of weights affected: 22\n",
      "Name: darknet.10.batchnorm.weight, Shape: torch.Size([64]), Flattened: torch.Size([64])\n",
      "Random index: 1\n",
      "Random index: 21 Exponential:  -8 \n",
      "\tParam: 3.5308205497130984e-06, Bits: 00.00000000000000000011101100111100\n",
      "\tParam: 0.003909780643880367, Bits: 00.00000001000000000011101100111100\n",
      "Number of weights affected: 23\n",
      "Name: darknet.10.batchnorm.bias, Shape: torch.Size([64]), Flattened: torch.Size([64])\n",
      "Random index: 1\n",
      "Random index: 47 Exponential:  -3 \n",
      "\tParam: 6.657865014858544e-05, Bits: 00.00000000000001000101110100000001\n",
      "\tParam: 0.1250665783882141, Bits: 00.00100000000001000101110100000001\n",
      "Number of weights affected: 24\n",
      "Name: darknet.12.conv.weight, Shape: torch.Size([128, 64, 3, 3]), Flattened: torch.Size([73728])\n",
      "Random index: 8\n",
      "Random index: 71181 Exponential:  -13 \n",
      "\tParam: 4.992160029360093e-06, Bits: 00.00000000000000000101001111000001\n",
      "\tParam: 0.00012706243433058262, Bits: 00.00000000000010000101001111000001\n",
      "Number of weights affected: 25\n",
      "Random index: 35911 Exponential:  13 \n",
      "\tParam: -1.6358837456209585e-05, Bits: 10.00000000000000010001001001110100\n",
      "\tParam: -1.0000163316726685, Bits: 11.00000000000000010001001001110100\n",
      "Number of weights affected: 25\n",
      "Random index: 6955 Exponential:  0 \n",
      "\tParam: -4.8079557018354535e-05, Bits: 10.00000000000000110010011010100100\n",
      "\tParam: -1.000048041343689, Bits: 11.00000000000000110010011010100100\n",
      "Number of weights affected: 25\n",
      "Random index: 32351 Exponential:  0 \n",
      "\tParam: 4.757477654493414e-05, Bits: 00.00000000000000110001111000101100\n",
      "\tParam: 1.0000475645065308, Bits: 01.00000000000000110001111000101100\n",
      "Number of weights affected: 25\n",
      "Random index: 43100 Exponential:  0 \n",
      "\tParam: -4.9228287224423184e-08, Bits: 10.00000000000000000000000011010011\n",
      "\tParam: -1.0, Bits: 11.00000000000000000000000011010011\n",
      "Number of weights affected: 25\n",
      "Random index: 72310 Exponential:  0 \n",
      "\tParam: 0.003770289244130254, Bits: 00.00000000111101110001011011110101\n",
      "\tParam: 1.0037702322006226, Bits: 01.00000000111101110001011011110101\n",
      "Number of weights affected: 25\n",
      "Random index: 47657 Exponential:  0 \n",
      "\tParam: 2.670308504093555e-06, Bits: 00.00000000000000000010110011001100\n",
      "\tParam: 1.0000026226043701, Bits: 01.00000000000000000010110011001100\n",
      "Number of weights affected: 25\n",
      "Random index: 7210 Exponential:  0 \n",
      "\tParam: -3.6371013720781775e-06, Bits: 10.00000000000000000011110100000101\n",
      "\tParam: -1.000003695487976, Bits: 11.00000000000000000011110100000101\n",
      "Number of weights affected: 25\n",
      "Name: darknet.12.batchnorm.weight, Shape: torch.Size([128]), Flattened: torch.Size([128])\n",
      "Random index: 1\n",
      "Random index: 1 Exponential:  -2 \n",
      "\tParam: -1.6296263538606581e-06, Bits: 10.00000000000000000001101101010111\n",
      "\tParam: -0.2500016391277313, Bits: 10.01000000000000000001101101010111\n",
      "Number of weights affected: 26\n",
      "Name: darknet.12.batchnorm.bias, Shape: torch.Size([128]), Flattened: torch.Size([128])\n",
      "Random index: 1\n",
      "Random index: 87 Exponential:  0 \n",
      "\tParam: 0.002528576646000147, Bits: 00.0000000010100101101101100111101\n",
      "\tParam: 1.0025285482406616, Bits: 01.0000000010100101101101100111101\n",
      "Number of weights affected: 27\n",
      "Name: darknet.13.conv.weight, Shape: torch.Size([128, 128, 3, 3]), Flattened: torch.Size([147456])\n",
      "Random index: 15\n",
      "Random index: 12713 Exponential:  -1 \n",
      "\tParam: -1.9334571334184147e-05, Bits: 10.00000000000000010100010001100001\n",
      "\tParam: -0.5000193119049072, Bits: 10.10000000000000010100010001100001\n",
      "Number of weights affected: 28\n",
      "Random index: 12097 Exponential:  1 \n",
      "\tParam: 8.861690730554983e-05, Bits: 00.00000000000001011100111010111110\n",
      "\tParam: -8.861690730554983e-05, Bits: 10.00000000000001011100111010111110\n",
      "Random index: 114919 Exponential:  1 \n",
      "\tParam: 1.960388726729434e-05, Bits: 00.00000000000000010100100011100110\n",
      "\tParam: -1.960388726729434e-05, Bits: 10.00000000000000010100100011100110\n",
      "Random index: 109655 Exponential:  1 \n",
      "\tParam: 3.6924068353982875e-06, Bits: 00.00000000000000000011110111110010\n",
      "\tParam: -3.6924068353982875e-06, Bits: 10.00000000000000000011110111110010\n",
      "Random index: 76700 Exponential:  1 \n",
      "\tParam: -1.9018281818716787e-05, Bits: 10.00000000000000010011111100010010\n",
      "\tParam: 1.9018281818716787e-05, Bits: 00.00000000000000010011111100010010\n",
      "Random index: 102754 Exponential:  1 \n",
      "\tParam: 4.150330823904369e-06, Bits: 00.00000000000000000100010110100001\n",
      "\tParam: -4.150330823904369e-06, Bits: 10.00000000000000000100010110100001\n",
      "Random index: 71017 Exponential:  1 \n",
      "\tParam: -5.431051249615848e-05, Bits: 10.00000000000000111000111100101101\n",
      "\tParam: 5.431051249615848e-05, Bits: 00.00000000000000111000111100101101\n",
      "Random index: 45172 Exponential:  1 \n",
      "\tParam: -2.2627688167631277e-07, Bits: 10.00000000000000000000001111001011\n",
      "\tParam: 2.2627688167631277e-07, Bits: 00.00000000000000000000001111001011\n",
      "Random index: 23170 Exponential:  1 \n",
      "\tParam: -9.25662970985286e-05, Bits: 10.00000000000001100001000100000001\n",
      "\tParam: 9.25662970985286e-05, Bits: 00.00000000000001100001000100000001\n",
      "Random index: 93774 Exponential:  1 \n",
      "\tParam: 0.004397799726575613, Bits: 00.0000000100100000001101101101011\n",
      "\tParam: -0.004397799726575613, Bits: 10.0000000100100000001101101101011\n",
      "Random index: 107954 Exponential:  1 \n",
      "\tParam: 4.864440779783763e-05, Bits: 00.00000000000000110011000000011110\n",
      "\tParam: -4.864440779783763e-05, Bits: 10.00000000000000110011000000011110\n",
      "Random index: 19911 Exponential:  1 \n",
      "\tParam: 1.9468749087536708e-05, Bits: 00.00000000000000010100011010100001\n",
      "\tParam: -1.9468749087536708e-05, Bits: 10.00000000000000010100011010100001\n",
      "Random index: 6754 Exponential:  1 \n",
      "\tParam: 1.952096317836549e-05, Bits: 00.00000000000000010100011110000001\n",
      "\tParam: -1.952096317836549e-05, Bits: 10.00000000000000010100011110000001\n",
      "Random index: 143977 Exponential:  1 \n",
      "\tParam: -0.02153034135699272, Bits: 10.0000010110000011000000110011\n",
      "\tParam: 0.02153034135699272, Bits: 00.0000010110000011000000110011\n",
      "Random index: 33238 Exponential:  1 \n",
      "\tParam: 1.968092328752391e-05, Bits: 00.00000000000000010100101000110000\n",
      "\tParam: -1.968092328752391e-05, Bits: 10.00000000000000010100101000110000\n",
      "Name: darknet.13.batchnorm.weight, Shape: torch.Size([128]), Flattened: torch.Size([128])\n",
      "Random index: 1\n",
      "Random index: 91 Exponential:  -11 \n",
      "\tParam: 9.278540346713271e-06, Bits: 00.00000000000000001001101110101011\n",
      "\tParam: 0.0004975597839802504, Bits: 00.00000000001000001001101110101011\n",
      "Number of weights affected: 29\n",
      "Name: darknet.13.batchnorm.bias, Shape: torch.Size([128]), Flattened: torch.Size([128])\n",
      "Random index: 1\n",
      "Random index: 35 Exponential:  -26 \n",
      "\tParam: -6.720939563820139e-05, Bits: 10.00000000000001000110011110010110\n",
      "\tParam: -6.722426041960716e-05, Bits: 10.00000000000001000110011111010110\n",
      "Number of weights affected: 30\n",
      "Name: fcs.1.weight, Shape: torch.Size([256, 2048]), Flattened: torch.Size([524288])\n",
      "Random index: 53\n",
      "Random index: 446509 Exponential:  -27 \n",
      "\tParam: 6.481359741883352e-05, Bits: 00.00000000000001000011111101100100\n",
      "\tParam: 6.480608135461807e-05, Bits: 00.00000000000001000011111101000100\n",
      "Number of weights affected: 31\n",
      "Random index: 176716 Exponential:  27 \n",
      "\tParam: -1.5953945364799438e-07, Bits: 10.00000000000000000000001010101101\n",
      "\tParam: -1.0000001192092896, Bits: 11.00000000000000000000001010101101\n",
      "Number of weights affected: 31\n",
      "Random index: 512806 Exponential:  0 \n",
      "\tParam: 3.333477070555091e-05, Bits: 00.00000000000000100010111101000011\n",
      "\tParam: 1.0000333786010742, Bits: 01.00000000000000100010111101000011\n",
      "Number of weights affected: 31\n",
      "Random index: 61565 Exponential:  0 \n",
      "\tParam: -0.022847214713692665, Bits: 10.00000101110110010101000010101\n",
      "\tParam: -1.0228471755981445, Bits: 11.00000101110110010101000010101\n",
      "Number of weights affected: 31\n",
      "Random index: 260853 Exponential:  0 \n",
      "\tParam: -4.178240124019794e-05, Bits: 10.00000000000000101011110011111110\n",
      "\tParam: -1.0000417232513428, Bits: 11.00000000000000101011110011111110\n",
      "Number of weights affected: 31\n",
      "Random index: 46755 Exponential:  0 \n",
      "\tParam: 8.98184680409031e-06, Bits: 00.00000000000000001001011010110000\n",
      "\tParam: 1.0000089406967163, Bits: 01.00000000000000001001011010110000\n",
      "Number of weights affected: 31\n",
      "Random index: 408936 Exponential:  0 \n",
      "\tParam: -2.1872465367778204e-06, Bits: 10.00000000000000000010010010110010\n",
      "\tParam: -1.000002145767212, Bits: 11.00000000000000000010010010110010\n",
      "Number of weights affected: 31\n",
      "Random index: 190093 Exponential:  0 \n",
      "\tParam: 1.6474423318868503e-06, Bits: 00.00000000000000000001101110100011\n",
      "\tParam: 1.0000016689300537, Bits: 01.00000000000000000001101110100011\n",
      "Number of weights affected: 31\n",
      "Random index: 388171 Exponential:  0 \n",
      "\tParam: 9.652396329329349e-06, Bits: 00.00000000000000001010000111110000\n",
      "\tParam: 1.0000096559524536, Bits: 01.00000000000000001010000111110000\n",
      "Number of weights affected: 31\n",
      "Random index: 382368 Exponential:  0 \n",
      "\tParam: 1.5761072063469328e-05, Bits: 00.00000000000000010000100001101101\n",
      "\tParam: 1.0000157356262207, Bits: 01.00000000000000010000100001101101\n",
      "Number of weights affected: 31\n",
      "Random index: 113455 Exponential:  0 \n",
      "\tParam: -8.730698937142733e-06, Bits: 10.00000000000000001001001001111010\n",
      "\tParam: -1.0000087022781372, Bits: 11.00000000000000001001001001111010\n",
      "Number of weights affected: 31\n",
      "Random index: 265988 Exponential:  0 \n",
      "\tParam: 2.4591268811491318e-05, Bits: 00.00000000000000011001110010010010\n",
      "\tParam: 1.0000245571136475, Bits: 01.00000000000000011001110010010010\n",
      "Number of weights affected: 31\n",
      "Random index: 419460 Exponential:  0 \n",
      "\tParam: -1.8905635442934e-05, Bits: 10.00000000000000010011110100101111\n",
      "\tParam: -1.0000189542770386, Bits: 11.00000000000000010011110100101111\n",
      "Number of weights affected: 31\n",
      "Random index: 414921 Exponential:  0 \n",
      "\tParam: -3.992178972112015e-05, Bits: 10.00000000000000101001110111000110\n",
      "\tParam: -1.0000399351119995, Bits: 11.00000000000000101001110111000110\n",
      "Number of weights affected: 31\n",
      "Random index: 326308 Exponential:  0 \n",
      "\tParam: -2.612928074086085e-05, Bits: 10.00000000000000011011011001100000\n",
      "\tParam: -1.0000261068344116, Bits: 11.00000000000000011011011001100000\n",
      "Number of weights affected: 31\n",
      "Random index: 149679 Exponential:  0 \n",
      "\tParam: 6.537509034387767e-05, Bits: 00.00000000000001000100100011001111\n",
      "\tParam: 1.0000653266906738, Bits: 01.00000000000001000100100011001111\n",
      "Number of weights affected: 31\n",
      "Random index: 76940 Exponential:  0 \n",
      "\tParam: -1.9314782548462972e-05, Bits: 10.00000000000000010100010000001100\n",
      "\tParam: -1.0000193119049072, Bits: 11.00000000000000010100010000001100\n",
      "Number of weights affected: 31\n",
      "Random index: 113325 Exponential:  0 \n",
      "\tParam: 9.02885221876204e-05, Bits: 00.00000000000001011110101011001010\n",
      "\tParam: 1.00009024143219, Bits: 01.00000000000001011110101011001010\n",
      "Number of weights affected: 31\n",
      "Random index: 354122 Exponential:  0 \n",
      "\tParam: -3.5317229048814625e-05, Bits: 10.00000000000000100101000010000110\n",
      "\tParam: -1.000035285949707, Bits: 11.00000000000000100101000010000110\n",
      "Number of weights affected: 31\n",
      "Random index: 453199 Exponential:  0 \n",
      "\tParam: 5.810302900499664e-05, Bits: 00.00000000000000111100111011001110\n",
      "\tParam: 1.0000580549240112, Bits: 01.00000000000000111100111011001110\n",
      "Number of weights affected: 31\n",
      "Random index: 138424 Exponential:  0 \n",
      "\tParam: -4.380169411888346e-05, Bits: 10.00000000000000101101111011011110\n",
      "\tParam: -1.0000437498092651, Bits: 11.00000000000000101101111011011110\n",
      "Number of weights affected: 31\n",
      "Random index: 69548 Exponential:  0 \n",
      "\tParam: -5.653582775266841e-05, Bits: 10.00000000000000111011010010000011\n",
      "\tParam: -1.000056505203247, Bits: 11.00000000000000111011010010000011\n",
      "Number of weights affected: 31\n",
      "Random index: 421469 Exponential:  0 \n",
      "\tParam: -1.479772890888853e-05, Bits: 10.00000000000000001111100001000011\n",
      "\tParam: -1.0000147819519043, Bits: 11.00000000000000001111100001000011\n",
      "Number of weights affected: 31\n",
      "Random index: 481986 Exponential:  0 \n",
      "\tParam: -3.721137181855738e-05, Bits: 10.00000000000000100111000001001101\n",
      "\tParam: -1.0000371932983398, Bits: 11.00000000000000100111000001001101\n",
      "Number of weights affected: 31\n",
      "Random index: 150316 Exponential:  0 \n",
      "\tParam: -5.487170710694045e-05, Bits: 10.00000000000000111001100010011000\n",
      "\tParam: -1.0000548362731934, Bits: 11.00000000000000111001100010011000\n",
      "Number of weights affected: 31\n",
      "Random index: 55964 Exponential:  0 \n",
      "\tParam: 4.633498065231834e-06, Bits: 00.00000000000000000100110110111100\n",
      "\tParam: 1.0000046491622925, Bits: 01.00000000000000000100110110111100\n",
      "Number of weights affected: 31\n",
      "Random index: 294028 Exponential:  0 \n",
      "\tParam: -5.4195585107663646e-05, Bits: 10.00000000000000111000110101000000\n",
      "\tParam: -1.0000542402267456, Bits: 11.00000000000000111000110101000000\n",
      "Number of weights affected: 31\n",
      "Random index: 118158 Exponential:  0 \n",
      "\tParam: 8.046440598263871e-06, Bits: 00.00000000000000001000011011111111\n",
      "\tParam: 1.0000079870224, Bits: 01.00000000000000001000011011111111\n",
      "Number of weights affected: 31\n",
      "Random index: 373937 Exponential:  0 \n",
      "\tParam: -3.2156127417692915e-05, Bits: 10.00000000000000100001101101111101\n",
      "\tParam: -1.0000321865081787, Bits: 11.00000000000000100001101101111101\n",
      "Number of weights affected: 31\n",
      "Random index: 2755 Exponential:  0 \n",
      "\tParam: 3.113386992481537e-05, Bits: 00.00000000000000100000101001010110\n",
      "\tParam: 1.0000311136245728, Bits: 01.00000000000000100000101001010110\n",
      "Number of weights affected: 31\n",
      "Random index: 514200 Exponential:  0 \n",
      "\tParam: -7.620659016538411e-05, Bits: 10.00000000000001001111111010001000\n",
      "\tParam: -1.000076174736023, Bits: 11.00000000000001001111111010001000\n",
      "Number of weights affected: 31\n",
      "Random index: 404464 Exponential:  0 \n",
      "\tParam: -2.457010305079166e-05, Bits: 10.00000000000000011001110000110111\n",
      "\tParam: -1.0000245571136475, Bits: 11.00000000000000011001110000110111\n",
      "Number of weights affected: 31\n",
      "Random index: 193993 Exponential:  0 \n",
      "\tParam: 4.707632979261689e-05, Bits: 00.00000000000000110001010111001111\n",
      "\tParam: 1.0000470876693726, Bits: 01.00000000000000110001010111001111\n",
      "Number of weights affected: 31\n",
      "Random index: 420321 Exponential:  0 \n",
      "\tParam: 4.5802629756508395e-05, Bits: 00.00000000000000110000000001110000\n",
      "\tParam: 1.0000457763671875, Bits: 01.00000000000000110000000001110000\n",
      "Number of weights affected: 31\n",
      "Random index: 243107 Exponential:  0 \n",
      "\tParam: 4.7590456233592704e-05, Bits: 00.00000000000000110001111001101111\n",
      "\tParam: 1.0000475645065308, Bits: 01.00000000000000110001111001101111\n",
      "Number of weights affected: 31\n",
      "Random index: 387180 Exponential:  0 \n",
      "\tParam: 0.00010354760161135346, Bits: 00.00000000000001101100100100111101\n",
      "\tParam: 1.0001035928726196, Bits: 01.00000000000001101100100100111101\n",
      "Number of weights affected: 31\n",
      "Random index: 492143 Exponential:  0 \n",
      "\tParam: -5.8533711126074195e-05, Bits: 10.00000000000000111101011000001000\n",
      "\tParam: -1.0000585317611694, Bits: 11.00000000000000111101011000001000\n",
      "Number of weights affected: 31\n",
      "Random index: 379493 Exponential:  0 \n",
      "\tParam: -3.5479220969136804e-05, Bits: 10.00000000000000100101001100111110\n",
      "\tParam: -1.0000355243682861, Bits: 11.00000000000000100101001100111110\n",
      "Number of weights affected: 31\n",
      "Random index: 54741 Exponential:  0 \n",
      "\tParam: 9.065449557965621e-05, Bits: 00.00000000000001011111000011101110\n",
      "\tParam: 1.0000905990600586, Bits: 01.00000000000001011111000011101110\n",
      "Number of weights affected: 31\n",
      "Random index: 91596 Exponential:  0 \n",
      "\tParam: 0.00010410533286631107, Bits: 00.00000000000001101101001010011001\n",
      "\tParam: 1.0001040697097778, Bits: 01.00000000000001101101001010011001\n",
      "Number of weights affected: 31\n",
      "Random index: 494964 Exponential:  0 \n",
      "\tParam: 4.0947583329398185e-05, Bits: 00.00000000000000101010111011111100\n",
      "\tParam: 1.000040888786316, Bits: 01.00000000000000101010111011111100\n",
      "Number of weights affected: 31\n",
      "Random index: 123877 Exponential:  0 \n",
      "\tParam: 1.5161867850110866e-06, Bits: 00.00000000000000000001100101101111\n",
      "\tParam: 1.0000015497207642, Bits: 01.00000000000000000001100101101111\n",
      "Number of weights affected: 31\n",
      "Random index: 189461 Exponential:  0 \n",
      "\tParam: -3.308212399133481e-05, Bits: 10.00000000000000100010101100000110\n",
      "\tParam: -1.0000331401824951, Bits: 11.00000000000000100010101100000110\n",
      "Number of weights affected: 31\n",
      "Random index: 223594 Exponential:  0 \n",
      "\tParam: -3.957359149353579e-05, Bits: 10.00000000000000101001011111101111\n",
      "\tParam: -1.0000395774841309, Bits: 11.00000000000000101001011111101111\n",
      "Number of weights affected: 31\n",
      "Random index: 398730 Exponential:  0 \n",
      "\tParam: -4.143576734350063e-05, Bits: 10.00000000000000101011011100101101\n",
      "\tParam: -1.0000414848327637, Bits: 11.00000000000000101011011100101101\n",
      "Number of weights affected: 31\n",
      "Random index: 342079 Exponential:  0 \n",
      "\tParam: -0.00010000355541706085, Bits: 10.00000000000001101000110111001\n",
      "\tParam: -1.000100016593933, Bits: 11.00000000000001101000110111001\n",
      "Number of weights affected: 31\n",
      "Random index: 102759 Exponential:  0 \n",
      "\tParam: 5.740475171478465e-05, Bits: 00.00000000000000111100001100010111\n",
      "\tParam: 1.0000574588775635, Bits: 01.00000000000000111100001100010111\n",
      "Number of weights affected: 31\n",
      "Random index: 222966 Exponential:  0 \n",
      "\tParam: 2.6663815333449747e-06, Bits: 00.00000000000000000010110010111100\n",
      "\tParam: 1.0000026226043701, Bits: 01.00000000000000000010110010111100\n",
      "Number of weights affected: 31\n",
      "Random index: 111552 Exponential:  0 \n",
      "\tParam: 7.359887968050316e-05, Bits: 00.00000000000001001101001011001000\n",
      "\tParam: 1.0000735521316528, Bits: 01.00000000000001001101001011001000\n",
      "Number of weights affected: 31\n",
      "Random index: 434169 Exponential:  0 \n",
      "\tParam: -9.418941772310063e-06, Bits: 10.00000000000000001001111000000110\n",
      "\tParam: -1.0000094175338745, Bits: 11.00000000000000001001111000000110\n",
      "Number of weights affected: 31\n",
      "Random index: 200120 Exponential:  0 \n",
      "\tParam: -1.890258317871485e-06, Bits: 10.00000000000000000001111110110110\n",
      "\tParam: -1.0000019073486328, Bits: 11.00000000000000000001111110110110\n",
      "Number of weights affected: 31\n",
      "Random index: 379119 Exponential:  0 \n",
      "\tParam: 1.86779197974829e-05, Bits: 00.00000000000000010011100101011101\n",
      "\tParam: 1.0000187158584595, Bits: 01.00000000000000010011100101011101\n",
      "Number of weights affected: 31\n",
      "Random index: 430498 Exponential:  0 \n",
      "\tParam: -5.183325265534222e-05, Bits: 10.00000000000000110110010110011110\n",
      "\tParam: -1.0000518560409546, Bits: 11.00000000000000110110010110011110\n",
      "Number of weights affected: 31\n",
      "Name: fcs.1.bias, Shape: torch.Size([256]), Flattened: torch.Size([256])\n",
      "Random index: 1\n",
      "Random index: 121 Exponential:  -31 \n",
      "\tParam: -0.040219828486442566, Bits: 10.00001010010010111101100011\n",
      "\tParam: -0.04021979868412018, Bits: 10.00001010010010111101100001\n",
      "Number of weights affected: 32\n",
      "Name: fcs.4.weight, Shape: torch.Size([176, 256]), Flattened: torch.Size([45056])\n",
      "Random index: 5\n",
      "Random index: 40886 Exponential:  -20 \n",
      "\tParam: 0.02026192843914032, Bits: 00.00000101001011111110001011\n",
      "\tParam: 0.020262882113456726, Bits: 00.00000101001011111111001011\n",
      "Number of weights affected: 33\n",
      "Random index: 8487 Exponential:  20 \n",
      "\tParam: 0.00488074729219079, Bits: 00.0000000100111111110111010101101\n",
      "\tParam: 1.0048807859420776, Bits: 01.0000000100111111110111010101101\n",
      "Number of weights affected: 33\n",
      "Random index: 44008 Exponential:  0 \n",
      "\tParam: 1.1243593689869158e-05, Bits: 00.00000000000000001011110010100010\n",
      "\tParam: 1.0000112056732178, Bits: 01.00000000000000001011110010100010\n",
      "Number of weights affected: 33\n",
      "Random index: 7659 Exponential:  0 \n",
      "\tParam: -1.970838275155984e-05, Bits: 10.00000000000000010100101010100110\n",
      "\tParam: -1.0000196695327759, Bits: 11.00000000000000010100101010100110\n",
      "Number of weights affected: 33\n",
      "Random index: 40722 Exponential:  0 \n",
      "\tParam: -0.026729092001914978, Bits: 10.00000110110101111011011111\n",
      "\tParam: -1.0267291069030762, Bits: 11.00000110110101111011011111\n",
      "Number of weights affected: 33\n",
      "Name: fcs.4.bias, Shape: torch.Size([176]), Flattened: torch.Size([176])\n",
      "Random index: 1\n",
      "Random index: 95 Exponential:  -9 \n",
      "\tParam: 1.970840457943268e-05, Bits: 00.00000000000000010100101010100110\n",
      "\tParam: 0.0019728331826627254, Bits: 00.00000000100000010100101010100110\n",
      "Number of weights affected: 34\n"
     ]
    },
    {
     "name": "stderr",
     "output_type": "stream",
     "text": [
      "Eval: Valid: : 100%|██████████| 2/2 [00:00<00:00,  3.45it/s]\n"
     ]
    },
    {
     "name": "stdout",
     "output_type": "stream",
     "text": [
      "---------------------------------------------------\n",
      "-------------Loss Summary eval Valid--------------\n",
      "Total Loss  |Loss Coord  |Conf Loss   |No Obj Loss |Class Loss  |\n",
      "15.890      |8.368       |4.376       |3.062       |0.084       |\n",
      "---------------------------------------------------\n",
      "Valid: \t mAP@50: 0.756833, mAP@75: 0.241908, mAP@90: 0.003144, Mean Loss: 15.890167\n",
      "array_param_shape: 903104\n",
      "=> Loading checkpoint\n",
      "Model loaded: tinyissimoYOLO/NAdam_None_Airbus_256_BATCH_32_LR_0.0005/model/35_YOLO_best.pth.tar\n",
      "Number of layers affected: 34\n",
      "Name: darknet.0.conv.weight, Shape: torch.Size([16, 3, 3, 3]), Flattened: torch.Size([432])\n",
      "Random index: 1\n",
      "Random index: 226 Exponential:  0 \n",
      "\tParam: 0.006456312723457813, Bits: 00.000000011010011100011110111101\n",
      "\tParam: 1.0064562559127808, Bits: 01.000000011010011100011110111101\n",
      "Number of weights affected: 1\n",
      "Name: darknet.0.batchnorm.weight, Shape: torch.Size([16]), Flattened: torch.Size([16])\n",
      "Random index: 1\n",
      "Random index: 4 Exponential:  -28 \n",
      "\tParam: 0.3999289572238922, Bits: 00.0110011001100001101111101\n",
      "\tParam: 0.399929016828537, Bits: 00.0110011001100001101111111\n",
      "Number of weights affected: 2\n",
      "Name: darknet.0.batchnorm.bias, Shape: torch.Size([16]), Flattened: torch.Size([16])\n",
      "Random index: 1\n",
      "Random index: 1 Exponential:  -26 \n",
      "\tParam: 0.029631666839122772, Bits: 00.000001111001010111110000111\n",
      "\tParam: 0.02963165193796158, Bits: 00.000001111001010111110000101\n",
      "Number of weights affected: 3\n",
      "Name: darknet.1.conv.weight, Shape: torch.Size([16, 16, 3, 3]), Flattened: torch.Size([2304])\n",
      "Random index: 1\n",
      "Random index: 1308 Exponential:  0 \n",
      "\tParam: -0.031087437644600868, Bits: 10.00000111111101010101100010101\n",
      "\tParam: -1.0310873985290527, Bits: 11.00000111111101010101100010101\n",
      "Number of weights affected: 4\n",
      "Name: darknet.1.batchnorm.weight, Shape: torch.Size([16]), Flattened: torch.Size([16])\n",
      "Random index: 1\n",
      "Random index: 3 Exponential:  -18 \n",
      "\tParam: 0.329194039106369, Bits: 00.0101010001000110000011111\n",
      "\tParam: 0.32919785380363464, Bits: 00.0101010001000110010011111\n",
      "Number of weights affected: 5\n",
      "Name: darknet.1.batchnorm.bias, Shape: torch.Size([16]), Flattened: torch.Size([16])\n",
      "Random index: 1\n",
      "Random index: 6 Exponential:  -7 \n",
      "\tParam: -0.04306478053331375, Bits: 10.000010110000011001001011001\n",
      "\tParam: -0.03525228053331375, Bits: 10.000010010000011001001011001\n",
      "Number of weights affected: 6\n",
      "Name: darknet.3.conv.weight, Shape: torch.Size([16, 16, 3, 3]), Flattened: torch.Size([2304])\n",
      "Random index: 1\n",
      "Random index: 89 Exponential:  -6 \n",
      "\tParam: -0.019024403765797615, Bits: 10.00000100110111101100100010001\n",
      "\tParam: -0.003399403765797615, Bits: 10.00000000110111101100100010001\n",
      "Number of weights affected: 7\n",
      "Name: darknet.3.batchnorm.weight, Shape: torch.Size([16]), Flattened: torch.Size([16])\n",
      "Random index: 1\n",
      "Random index: 9 Exponential:  -5 \n",
      "\tParam: 0.3223556876182556, Bits: 00.010100101000010111100111\n",
      "\tParam: 0.3536056876182556, Bits: 00.010110101000010111100111\n",
      "Number of weights affected: 8\n",
      "Name: darknet.3.batchnorm.bias, Shape: torch.Size([16]), Flattened: torch.Size([16])\n",
      "Random index: 1\n",
      "Random index: 1 Exponential:  -4 \n",
      "\tParam: -0.01698220707476139, Bits: 10.00000100010110001111001000101\n",
      "\tParam: -0.07948220521211624, Bits: 10.00010100010110001111001000101\n",
      "Number of weights affected: 9\n",
      "Name: darknet.4.conv.weight, Shape: torch.Size([32, 16, 3, 3]), Flattened: torch.Size([4608])\n",
      "Random index: 1\n",
      "Random index: 1245 Exponential:  -23 \n",
      "\tParam: 0.00019929833069909364, Bits: 00.00000000000011010000111110101011\n",
      "\tParam: 0.0001991789322346449, Bits: 00.00000000000011010000110110101011\n",
      "Number of weights affected: 10\n",
      "Name: darknet.4.batchnorm.weight, Shape: torch.Size([32]), Flattened: torch.Size([32])\n",
      "Random index: 1\n",
      "Random index: 26 Exponential:  -31 \n",
      "\tParam: 0.1563531756401062, Bits: 00.001010000000011011000011\n",
      "\tParam: 0.15635305643081665, Bits: 00.001010000000011011000001\n",
      "Number of weights affected: 11\n",
      "Name: darknet.4.batchnorm.bias, Shape: torch.Size([32]), Flattened: torch.Size([32])\n",
      "Random index: 1\n",
      "Random index: 22 Exponential:  0 \n",
      "\tParam: -0.08639325201511383, Bits: 10.00010110000111011101111001\n",
      "\tParam: -1.0863932371139526, Bits: 11.00010110000111011101111001\n",
      "Number of weights affected: 12\n",
      "Name: darknet.6.conv.weight, Shape: torch.Size([32, 32, 3, 3]), Flattened: torch.Size([9216])\n",
      "Random index: 1\n",
      "Random index: 7862 Exponential:  -9 \n",
      "\tParam: -0.0036843542475253344, Bits: 10.00000000111100010111010100110101\n",
      "\tParam: -0.0017312292475253344, Bits: 10.00000000011100010111010100110101\n",
      "Number of weights affected: 13\n",
      "Name: darknet.6.batchnorm.weight, Shape: torch.Size([32]), Flattened: torch.Size([32])\n",
      "Random index: 1\n",
      "Random index: 22 Exponential:  -20 \n",
      "\tParam: 0.019838737323880196, Bits: 00.00000101000101000010011011001\n",
      "\tParam: 0.019839690998196602, Bits: 00.00000101000101000011011011001\n",
      "Number of weights affected: 14\n",
      "Name: darknet.6.batchnorm.bias, Shape: torch.Size([32]), Flattened: torch.Size([32])\n",
      "Random index: 1\n",
      "Random index: 10 Exponential:  1 \n",
      "\tParam: 0.014771262183785439, Bits: 00.00000011110010000000110010101\n",
      "\tParam: -0.014771262183785439, Bits: 10.00000011110010000000110010101\n",
      "Name: darknet.7.conv.weight, Shape: torch.Size([64, 32, 3, 3]), Flattened: torch.Size([18432])\n",
      "Random index: 2\n",
      "Random index: 704 Exponential:  -3 \n",
      "\tParam: -0.0011943100253120065, Bits: 10.00000000010011100100010100110010\n",
      "\tParam: -0.1261943131685257, Bits: 10.00100000010011100100010100110010\n",
      "Number of weights affected: 16\n",
      "Random index: 15527 Exponential:  3 \n",
      "\tParam: 0.05885922908782959, Bits: 00.00001111000100010110011\n",
      "\tParam: 1.0588592290878296, Bits: 01.00001111000100010110011\n",
      "Number of weights affected: 16\n",
      "Name: darknet.7.batchnorm.weight, Shape: torch.Size([64]), Flattened: torch.Size([64])\n",
      "Random index: 1\n",
      "Random index: 49 Exponential:  -13 \n",
      "\tParam: 0.25643420219421387, Bits: 00.0100000110100101101011\n",
      "\tParam: 0.25655627250671387, Bits: 00.0100000110101101101011\n",
      "Number of weights affected: 17\n",
      "Name: darknet.7.batchnorm.bias, Shape: torch.Size([64]), Flattened: torch.Size([64])\n",
      "Random index: 1\n",
      "Random index: 39 Exponential:  -3 \n",
      "\tParam: 3.0342815080075525e-05, Bits: 00.00000000000000011111110100010001\n",
      "\tParam: 0.12503033876419067, Bits: 00.00100000000000011111110100010001\n",
      "Number of weights affected: 18\n",
      "Name: darknet.9.conv.weight, Shape: torch.Size([64, 64, 3, 3]), Flattened: torch.Size([36864])\n",
      "Random index: 4\n",
      "Random index: 2471 Exponential:  -14 \n",
      "\tParam: 0.00046156864846125245, Bits: 00.00000000000111100011111111010110\n",
      "\tParam: 0.00040053343400359154, Bits: 00.00000000000110100011111111010110\n",
      "Number of weights affected: 19\n",
      "Random index: 11075 Exponential:  14 \n",
      "\tParam: -1.3339080396690406e-05, Bits: 10.00000000000000001101111111001010\n",
      "\tParam: -1.0000133514404297, Bits: 11.00000000000000001101111111001010\n",
      "Number of weights affected: 19\n",
      "Random index: 30742 Exponential:  0 \n",
      "\tParam: 1.840303411881905e-05, Bits: 00.00000000000000010011010011000000\n",
      "\tParam: 1.0000183582305908, Bits: 01.00000000000000010011010011000000\n",
      "Number of weights affected: 19\n",
      "Random index: 36132 Exponential:  0 \n",
      "\tParam: 6.903695066284854e-06, Bits: 00.00000000000000000111001111010011\n",
      "\tParam: 1.000006914138794, Bits: 01.00000000000000000111001111010011\n",
      "Number of weights affected: 19\n",
      "Name: darknet.9.batchnorm.weight, Shape: torch.Size([64]), Flattened: torch.Size([64])\n",
      "Random index: 1\n",
      "Random index: 17 Exponential:  -22 \n",
      "\tParam: 4.970787813363131e-06, Bits: 00.00000000000000000101001101100101\n",
      "\tParam: 5.209119990468025e-06, Bits: 00.00000000000000000101011101100101\n",
      "Number of weights affected: 20\n",
      "Name: darknet.9.batchnorm.bias, Shape: torch.Size([64]), Flattened: torch.Size([64])\n",
      "Random index: 1\n",
      "Random index: 40 Exponential:  -15 \n",
      "\tParam: -0.20295244455337524, Bits: 10.001100111111010010110001\n",
      "\tParam: -0.20298296213150024, Bits: 10.001100111111011010110001\n",
      "Number of weights affected: 21\n",
      "Name: darknet.10.conv.weight, Shape: torch.Size([64, 64, 3, 3]), Flattened: torch.Size([36864])\n",
      "Random index: 4\n",
      "Random index: 33018 Exponential:  -20 \n",
      "\tParam: -0.012434783391654491, Bits: 10.000000110010111011101101000011\n",
      "\tParam: -0.012435737065970898, Bits: 10.000000110010111011111101000011\n",
      "Number of weights affected: 22\n",
      "Random index: 19587 Exponential:  20 \n",
      "\tParam: -4.712788722827099e-06, Bits: 10.00000000000000000100111100010001\n",
      "\tParam: -1.000004768371582, Bits: 11.00000000000000000100111100010001\n",
      "Number of weights affected: 22\n",
      "Random index: 12692 Exponential:  0 \n",
      "\tParam: 1.7284956754792802e-07, Bits: 00.00000000000000000000001011100110\n",
      "\tParam: 1.0000001192092896, Bits: 01.00000000000000000000001011100110\n",
      "Number of weights affected: 22\n",
      "Random index: 13744 Exponential:  0 \n",
      "\tParam: 4.713444650406018e-05, Bits: 00.00000000000000110001011011001000\n",
      "\tParam: 1.0000470876693726, Bits: 01.00000000000000110001011011001000\n",
      "Number of weights affected: 22\n",
      "Name: darknet.10.batchnorm.weight, Shape: torch.Size([64]), Flattened: torch.Size([64])\n",
      "Random index: 1\n",
      "Random index: 45 Exponential:  -27 \n",
      "\tParam: 2.2068202270020265e-06, Bits: 00.00000000000000000010010100000110\n",
      "\tParam: 2.2142194211483e-06, Bits: 00.00000000000000000010010100100110\n",
      "Number of weights affected: 23\n",
      "Name: darknet.10.batchnorm.bias, Shape: torch.Size([64]), Flattened: torch.Size([64])\n",
      "Random index: 1\n",
      "Random index: 19 Exponential:  -8 \n",
      "\tParam: 1.975116174435243e-05, Bits: 00.00000000000000010100101101011110\n",
      "\tParam: 0.003926001023501158, Bits: 00.00000001000000010100101101011110\n",
      "Number of weights affected: 24\n",
      "Name: darknet.12.conv.weight, Shape: torch.Size([128, 64, 3, 3]), Flattened: torch.Size([73728])\n",
      "Random index: 8\n",
      "Random index: 28513 Exponential:  -25 \n",
      "\tParam: -1.3313722774910275e-05, Bits: 10.00000000000000001101111101011110\n",
      "\tParam: -1.3343524187803268e-05, Bits: 10.00000000000000001101111111011110\n",
      "Number of weights affected: 25\n",
      "Random index: 40997 Exponential:  25 \n",
      "\tParam: 0.0015306518180295825, Bits: 00.00000000011001000101000000010011\n",
      "\tParam: 1.001530647277832, Bits: 01.00000000011001000101000000010011\n",
      "Number of weights affected: 25\n",
      "Random index: 8391 Exponential:  0 \n",
      "\tParam: 0.05009545385837555, Bits: 00.00001100110100110000111001\n",
      "\tParam: 1.0500954389572144, Bits: 01.00001100110100110000111001\n",
      "Number of weights affected: 25\n",
      "Random index: 44055 Exponential:  0 \n",
      "\tParam: 4.040036856167717e-06, Bits: 00.00000000000000000100001111000111\n",
      "\tParam: 1.0000040531158447, Bits: 01.00000000000000000100001111000111\n",
      "Number of weights affected: 25\n",
      "Random index: 72518 Exponential:  0 \n",
      "\tParam: -0.0008917714585550129, Bits: 10.00000000001110100111000101110001\n",
      "\tParam: -1.0008918046951294, Bits: 11.00000000001110100111000101110001\n",
      "Number of weights affected: 25\n",
      "Random index: 33273 Exponential:  0 \n",
      "\tParam: -4.797624205821194e-05, Bits: 10.00000000000000110010010011101000\n",
      "\tParam: -1.0000479221343994, Bits: 11.00000000000000110010010011101000\n",
      "Number of weights affected: 25\n",
      "Random index: 34573 Exponential:  0 \n",
      "\tParam: -1.571310349390842e-05, Bits: 10.00000000000000010000011110011111\n",
      "\tParam: -1.0000157356262207, Bits: 11.00000000000000010000011110011111\n",
      "Number of weights affected: 25\n",
      "Random index: 6413 Exponential:  0 \n",
      "\tParam: -3.296096110716462e-05, Bits: 10.00000000000000100010100011111110\n",
      "\tParam: -1.000032901763916, Bits: 11.00000000000000100010100011111110\n",
      "Number of weights affected: 25\n",
      "Name: darknet.12.batchnorm.weight, Shape: torch.Size([128]), Flattened: torch.Size([128])\n",
      "Random index: 1\n",
      "Random index: 108 Exponential:  -1 \n",
      "\tParam: 0.0028211616445332766, Bits: 00.00000000101110001110001100111101\n",
      "\tParam: 0.502821147441864, Bits: 00.10000000101110001110001100111101\n",
      "Number of weights affected: 26\n",
      "Name: darknet.12.batchnorm.bias, Shape: torch.Size([128]), Flattened: torch.Size([128])\n",
      "Random index: 1\n",
      "Random index: 5 Exponential:  -28 \n",
      "\tParam: -2.9353273021115456e-06, Bits: 10.00000000000000000011000100111111\n",
      "\tParam: -2.9315706342458725e-06, Bits: 10.00000000000000000011000100101111\n",
      "Number of weights affected: 27\n",
      "Name: darknet.13.conv.weight, Shape: torch.Size([128, 128, 3, 3]), Flattened: torch.Size([147456])\n",
      "Random index: 15\n",
      "Random index: 70559 Exponential:  -16 \n",
      "\tParam: -1.946415432030335e-05, Bits: 10.00000000000000010100011010001101\n",
      "\tParam: -4.205154255032539e-06, Bits: 10.00000000000000000100011010001101\n",
      "Number of weights affected: 28\n",
      "Random index: 116504 Exponential:  16 \n",
      "\tParam: 4.8449335736222565e-05, Bits: 00.00000000000000110010110011011000\n",
      "\tParam: 1.0000483989715576, Bits: 01.00000000000000110010110011011000\n",
      "Number of weights affected: 28\n",
      "Random index: 85818 Exponential:  0 \n",
      "\tParam: 1.3088498235447332e-05, Bits: 00.00000000000000001101101110010110\n",
      "\tParam: 1.0000131130218506, Bits: 01.00000000000000001101101110010110\n",
      "Number of weights affected: 28\n",
      "Random index: 44482 Exponential:  0 \n",
      "\tParam: -8.705136679054704e-06, Bits: 10.00000000000000001001001000001100\n",
      "\tParam: -1.0000087022781372, Bits: 11.00000000000000001001001000001100\n",
      "Number of weights affected: 28\n",
      "Random index: 30963 Exponential:  0 \n",
      "\tParam: 3.515850721669267e-06, Bits: 00.00000000000000000011101011111100\n",
      "\tParam: 1.000003457069397, Bits: 01.00000000000000000011101011111100\n",
      "Number of weights affected: 28\n",
      "Random index: 131701 Exponential:  0 \n",
      "\tParam: 8.97948193596676e-05, Bits: 00.00000000000001011110001010000001\n",
      "\tParam: 1.0000897645950317, Bits: 01.00000000000001011110001010000001\n",
      "Number of weights affected: 28\n",
      "Random index: 60541 Exponential:  0 \n",
      "\tParam: 1.9571187294786796e-05, Bits: 00.00000000000000010100100001011001\n",
      "\tParam: 1.0000195503234863, Bits: 01.00000000000000010100100001011001\n",
      "Number of weights affected: 28\n",
      "Random index: 44337 Exponential:  0 \n",
      "\tParam: 4.002916830359027e-05, Bits: 00.00000000000000101001111110010011\n",
      "\tParam: 1.000040054321289, Bits: 01.00000000000000101001111110010011\n",
      "Number of weights affected: 28\n",
      "Random index: 81037 Exponential:  0 \n",
      "\tParam: -1.956292544491589e-05, Bits: 10.00000000000000010100100000110110\n",
      "\tParam: -1.0000195503234863, Bits: 11.00000000000000010100100000110110\n",
      "Number of weights affected: 28\n",
      "Random index: 15413 Exponential:  0 \n",
      "\tParam: -9.756215149536729e-06, Bits: 10.00000000000000001010001110101110\n",
      "\tParam: -1.0000097751617432, Bits: 11.00000000000000001010001110101110\n",
      "Number of weights affected: 28\n",
      "Random index: 7362 Exponential:  0 \n",
      "\tParam: 1.7363174720230745e-06, Bits: 00.00000000000000000001110100100001\n",
      "\tParam: 1.0000017881393433, Bits: 01.00000000000000000001110100100001\n",
      "Number of weights affected: 28\n",
      "Random index: 23453 Exponential:  0 \n",
      "\tParam: -1.9017279555555433e-05, Bits: 10.00000000000000010011111100001110\n",
      "\tParam: -1.0000190734863281, Bits: 11.00000000000000010011111100001110\n",
      "Number of weights affected: 28\n",
      "Random index: 19621 Exponential:  0 \n",
      "\tParam: -1.9480896298773587e-05, Bits: 10.00000000000000010100011011010101\n",
      "\tParam: -1.0000194311141968, Bits: 11.00000000000000010100011011010101\n",
      "Number of weights affected: 28\n",
      "Random index: 95950 Exponential:  0 \n",
      "\tParam: 5.889322437724331e-06, Bits: 00.00000000000000000110001011001110\n",
      "\tParam: 1.000005841255188, Bits: 01.00000000000000000110001011001110\n",
      "Number of weights affected: 28\n",
      "Random index: 30695 Exponential:  0 \n",
      "\tParam: -3.597601244109683e-05, Bits: 10.00000000000000100101101110010011\n",
      "\tParam: -1.0000360012054443, Bits: 11.00000000000000100101101110010011\n",
      "Number of weights affected: 28\n",
      "Name: darknet.13.batchnorm.weight, Shape: torch.Size([128]), Flattened: torch.Size([128])\n",
      "Random index: 1\n",
      "Random index: 77 Exponential:  -18 \n",
      "\tParam: 6.371515610226197e-06, Bits: 00.00000000000000000110101011100101\n",
      "\tParam: 2.5567132979631424e-06, Bits: 00.00000000000000000010101011100101\n",
      "Number of weights affected: 29\n",
      "Name: darknet.13.batchnorm.bias, Shape: torch.Size([128]), Flattened: torch.Size([128])\n",
      "Random index: 1\n",
      "Random index: 3 Exponential:  -9 \n",
      "\tParam: 0.0001203290157718584, Bits: 00.00000000000001111110001011001001\n",
      "\tParam: 0.0020734539721161127, Bits: 00.00000000100001111110001011001001\n",
      "Number of weights affected: 30\n",
      "Name: fcs.1.weight, Shape: torch.Size([256, 2048]), Flattened: torch.Size([524288])\n",
      "Random index: 53\n",
      "Random index: 102228 Exponential:  -8 \n",
      "\tParam: 4.179674760962371e-06, Bits: 00.00000000000000000100011000011111\n",
      "\tParam: 0.003910429775714874, Bits: 00.00000001000000000100011000011111\n",
      "Number of weights affected: 31\n",
      "Random index: 470731 Exponential:  8 \n",
      "\tParam: 0.04652298614382744, Bits: 00.0000101111101000111011100011\n",
      "\tParam: 1.0465229749679565, Bits: 01.0000101111101000111011100011\n",
      "Number of weights affected: 31\n",
      "Random index: 123528 Exponential:  0 \n",
      "\tParam: -3.903496235579951e-06, Bits: 10.00000000000000000100000101111101\n",
      "\tParam: -1.0000039339065552, Bits: 11.00000000000000000100000101111101\n",
      "Number of weights affected: 31\n",
      "Random index: 102111 Exponential:  0 \n",
      "\tParam: -0.003623652970418334, Bits: 10.00000000111011010111101011001111\n",
      "\tParam: -1.003623604774475, Bits: 11.00000000111011010111101011001111\n",
      "Number of weights affected: 31\n",
      "Random index: 170915 Exponential:  0 \n",
      "\tParam: -7.891633140388876e-05, Bits: 10.00000000000001010010101111111111\n",
      "\tParam: -1.0000789165496826, Bits: 11.00000000000001010010101111111111\n",
      "Number of weights affected: 31\n",
      "Random index: 11113 Exponential:  0 \n",
      "\tParam: -5.91082098253537e-05, Bits: 10.00000000000000111101111110101011\n",
      "\tParam: -1.0000591278076172, Bits: 11.00000000000000111101111110101011\n",
      "Number of weights affected: 31\n",
      "Random index: 242135 Exponential:  0 \n",
      "\tParam: -1.8803331840899773e-05, Bits: 10.00000000000000010011101101110111\n",
      "\tParam: -1.000018835067749, Bits: 11.00000000000000010011101101110111\n",
      "Number of weights affected: 31\n",
      "Random index: 421559 Exponential:  0 \n",
      "\tParam: -2.4108005163725466e-05, Bits: 10.00000000000000011001010001110111\n",
      "\tParam: -1.0000240802764893, Bits: 11.00000000000000011001010001110111\n",
      "Number of weights affected: 31\n",
      "Random index: 278890 Exponential:  0 \n",
      "\tParam: 2.484874494257383e-05, Bits: 00.00000000000000011010000011100100\n",
      "\tParam: 1.0000247955322266, Bits: 01.00000000000000011010000011100100\n",
      "Number of weights affected: 31\n",
      "Random index: 63037 Exponential:  0 \n",
      "\tParam: -1.1859874575748108e-05, Bits: 10.00000000000000001100011011111001\n",
      "\tParam: -1.0000118017196655, Bits: 11.00000000000000001100011011111001\n",
      "Number of weights affected: 31\n",
      "Random index: 240442 Exponential:  0 \n",
      "\tParam: -4.7743127652211115e-05, Bits: 10.00000000000000110010000011111111\n",
      "\tParam: -1.0000476837158203, Bits: 11.00000000000000110010000011111111\n",
      "Number of weights affected: 31\n",
      "Random index: 384574 Exponential:  0 \n",
      "\tParam: -2.170291554648429e-05, Bits: 10.00000000000000010110110000011101\n",
      "\tParam: -1.0000216960906982, Bits: 11.00000000000000010110110000011101\n",
      "Number of weights affected: 31\n",
      "Random index: 205596 Exponential:  0 \n",
      "\tParam: -2.7483925805427134e-05, Bits: 10.00000000000000011100110100011010\n",
      "\tParam: -1.0000275373458862, Bits: 11.00000000000000011100110100011010\n",
      "Number of weights affected: 31\n",
      "Random index: 491688 Exponential:  0 \n",
      "\tParam: 1.2877999324700795e-05, Bits: 00.00000000000000001101100000001110\n",
      "\tParam: 1.0000128746032715, Bits: 01.00000000000000001101100000001110\n",
      "Number of weights affected: 31\n",
      "Random index: 309169 Exponential:  0 \n",
      "\tParam: 1.1297410310362466e-05, Bits: 00.00000000000000001011110110001010\n",
      "\tParam: 1.0000113248825073, Bits: 01.00000000000000001011110110001010\n",
      "Number of weights affected: 31\n",
      "Random index: 96818 Exponential:  0 \n",
      "\tParam: 8.452438123640604e-06, Bits: 00.00000000000000001000110111001110\n",
      "\tParam: 1.000008463859558, Bits: 01.00000000000000001000110111001110\n",
      "Number of weights affected: 31\n",
      "Random index: 68694 Exponential:  0 \n",
      "\tParam: -2.5288384222221794e-06, Bits: 10.00000000000000000010101001101101\n",
      "\tParam: -1.0000025033950806, Bits: 11.00000000000000000010101001101101\n",
      "Number of weights affected: 31\n",
      "Random index: 152380 Exponential:  0 \n",
      "\tParam: -3.94122107536532e-05, Bits: 10.00000000000000101001010100111010\n",
      "\tParam: -1.0000394582748413, Bits: 11.00000000000000101001010100111010\n",
      "Number of weights affected: 31\n",
      "Random index: 347601 Exponential:  0 \n",
      "\tParam: -6.38873825664632e-05, Bits: 10.00000000000001000010111111011010\n",
      "\tParam: -1.0000638961791992, Bits: 11.00000000000001000010111111011010\n",
      "Number of weights affected: 31\n",
      "Random index: 324326 Exponential:  0 \n",
      "\tParam: 2.033177406701725e-05, Bits: 00.00000000000000010101010100011100\n",
      "\tParam: 1.0000203847885132, Bits: 01.00000000000000010101010100011100\n",
      "Number of weights affected: 31\n",
      "Random index: 402955 Exponential:  0 \n",
      "\tParam: -5.050826439401135e-05, Bits: 10.00000000000000110100111101100011\n",
      "\tParam: -1.0000505447387695, Bits: 11.00000000000000110100111101100011\n",
      "Number of weights affected: 31\n",
      "Random index: 291102 Exponential:  0 \n",
      "\tParam: 5.563697777688503e-05, Bits: 00.00000000000000111010010101101111\n",
      "\tParam: 1.0000556707382202, Bits: 01.00000000000000111010010101101111\n",
      "Number of weights affected: 31\n",
      "Random index: 489823 Exponential:  0 \n",
      "\tParam: -4.336216079536825e-06, Bits: 10.00000000000000000100100010111111\n",
      "\tParam: -1.0000042915344238, Bits: 11.00000000000000000100100010111111\n",
      "Number of weights affected: 31\n",
      "Random index: 70989 Exponential:  0 \n",
      "\tParam: 9.173565194942057e-05, Bits: 00.00000000000001100000001100010001\n",
      "\tParam: 1.000091791152954, Bits: 01.00000000000001100000001100010001\n",
      "Number of weights affected: 31\n",
      "Random index: 463187 Exponential:  0 \n",
      "\tParam: -5.33532329427544e-05, Bits: 10.00000000000000110111111100011110\n",
      "\tParam: -1.0000534057617188, Bits: 11.00000000000000110111111100011110\n",
      "Number of weights affected: 31\n",
      "Random index: 523230 Exponential:  0 \n",
      "\tParam: -3.335540532134473e-05, Bits: 10.00000000000000100010111110011100\n",
      "\tParam: -1.0000333786010742, Bits: 11.00000000000000100010111110011100\n",
      "Number of weights affected: 31\n",
      "Random index: 9629 Exponential:  0 \n",
      "\tParam: -2.4252474759123288e-05, Bits: 10.00000000000000011001011011100011\n",
      "\tParam: -1.0000241994857788, Bits: 11.00000000000000011001011011100011\n",
      "Number of weights affected: 31\n",
      "Random index: 224891 Exponential:  0 \n",
      "\tParam: -8.437111682724208e-05, Bits: 10.00000000000001011000011110000011\n",
      "\tParam: -1.000084400177002, Bits: 11.00000000000001011000011110000011\n",
      "Number of weights affected: 31\n",
      "Random index: 315778 Exponential:  0 \n",
      "\tParam: -0.0027136339340358973, Bits: 10.00000000101100011101011100111001\n",
      "\tParam: -1.002713680267334, Bits: 11.00000000101100011101011100111001\n",
      "Number of weights affected: 31\n",
      "Random index: 183158 Exponential:  0 \n",
      "\tParam: 2.8191379897180013e-06, Bits: 00.00000000000000000010111101001100\n",
      "\tParam: 1.0000028610229492, Bits: 01.00000000000000000010111101001100\n",
      "Number of weights affected: 31\n",
      "Random index: 277487 Exponential:  0 \n",
      "\tParam: -2.5305050712631783e-06, Bits: 10.00000000000000000010101001110100\n",
      "\tParam: -1.0000025033950806, Bits: 11.00000000000000000010101001110100\n",
      "Number of weights affected: 31\n",
      "Random index: 35006 Exponential:  0 \n",
      "\tParam: -2.792059058265295e-05, Bits: 10.00000000000000011101010001101110\n",
      "\tParam: -1.0000278949737549, Bits: 11.00000000000000011101010001101110\n",
      "Number of weights affected: 31\n",
      "Random index: 216385 Exponential:  0 \n",
      "\tParam: 6.181719072628766e-06, Bits: 00.00000000000000000110011110110110\n",
      "\tParam: 1.0000061988830566, Bits: 01.00000000000000000110011110110110\n",
      "Number of weights affected: 31\n",
      "Random index: 156268 Exponential:  0 \n",
      "\tParam: -8.263307245215401e-05, Bits: 10.00000000000001010110101001011010\n",
      "\tParam: -1.0000826120376587, Bits: 11.00000000000001010110101001011010\n",
      "Number of weights affected: 31\n",
      "Random index: 118775 Exponential:  0 \n",
      "\tParam: -4.8179728764807805e-05, Bits: 10.00000000000000110010100001010010\n",
      "\tParam: -1.0000481605529785, Bits: 11.00000000000000110010100001010010\n",
      "Number of weights affected: 31\n",
      "Random index: 448769 Exponential:  0 \n",
      "\tParam: -0.004577456042170525, Bits: 10.00000001001010111111110011111\n",
      "\tParam: -1.004577398300171, Bits: 11.00000001001010111111110011111\n",
      "Number of weights affected: 31\n",
      "Random index: 268472 Exponential:  0 \n",
      "\tParam: 5.33288148290012e-05, Bits: 00.00000000000000110111111010110101\n",
      "\tParam: 1.0000532865524292, Bits: 01.00000000000000110111111010110101\n",
      "Number of weights affected: 31\n",
      "Random index: 184137 Exponential:  0 \n",
      "\tParam: 1.876396891020704e-05, Bits: 00.00000000000000010011101011001110\n",
      "\tParam: 1.0000187158584595, Bits: 01.00000000000000010011101011001110\n",
      "Number of weights affected: 31\n",
      "Random index: 28812 Exponential:  0 \n",
      "\tParam: 0.0007975905318744481, Bits: 00.00000000001101000100010101011001\n",
      "\tParam: 1.0007976293563843, Bits: 01.00000000001101000100010101011001\n",
      "Number of weights affected: 31\n",
      "Random index: 165715 Exponential:  0 \n",
      "\tParam: -0.00010984510299749672, Bits: 10.00000000000001110011001011100101\n",
      "\tParam: -1.0001097917556763, Bits: 11.00000000000001110011001011100101\n",
      "Number of weights affected: 31\n",
      "Random index: 86095 Exponential:  0 \n",
      "\tParam: -2.95988888865395e-06, Bits: 10.00000000000000000011000110101000\n",
      "\tParam: -1.0000029802322388, Bits: 11.00000000000000000011000110101000\n",
      "Number of weights affected: 31\n",
      "Random index: 227838 Exponential:  0 \n",
      "\tParam: 2.4220760224125115e-06, Bits: 00.00000000000000000010100010100010\n",
      "\tParam: 1.000002384185791, Bits: 01.00000000000000000010100010100010\n",
      "Number of weights affected: 31\n",
      "Random index: 462018 Exponential:  0 \n",
      "\tParam: -1.2171559319540393e-05, Bits: 10.00000000000000001100110000110100\n",
      "\tParam: -1.0000121593475342, Bits: 11.00000000000000001100110000110100\n",
      "Number of weights affected: 31\n",
      "Random index: 6167 Exponential:  0 \n",
      "\tParam: 4.431935667525977e-05, Bits: 00.00000000000000101110011110001110\n",
      "\tParam: 1.000044345855713, Bits: 01.00000000000000101110011110001110\n",
      "Number of weights affected: 31\n",
      "Random index: 416954 Exponential:  0 \n",
      "\tParam: 5.020026219426654e-05, Bits: 00.00000000000000110100101000111000\n",
      "\tParam: 1.0000501871109009, Bits: 01.00000000000000110100101000111000\n",
      "Number of weights affected: 31\n",
      "Random index: 418651 Exponential:  0 \n",
      "\tParam: 3.092828774242662e-05, Bits: 00.00000000000000100000011011100011\n",
      "\tParam: 1.0000308752059937, Bits: 01.00000000000000100000011011100011\n",
      "Number of weights affected: 31\n",
      "Random index: 232202 Exponential:  0 \n",
      "\tParam: 1.43123475027096e-06, Bits: 00.00000000000000000001100000000011\n",
      "\tParam: 1.0000014305114746, Bits: 01.00000000000000000001100000000011\n",
      "Number of weights affected: 31\n",
      "Random index: 112748 Exponential:  0 \n",
      "\tParam: 7.299127173610032e-05, Bits: 00.00000000000001001100100010010111\n",
      "\tParam: 1.000072956085205, Bits: 01.00000000000001001100100010010111\n",
      "Number of weights affected: 31\n",
      "Random index: 433331 Exponential:  0 \n",
      "\tParam: -8.751740824664012e-05, Bits: 10.00000000000001011011110001001100\n",
      "\tParam: -1.0000874996185303, Bits: 11.00000000000001011011110001001100\n",
      "Number of weights affected: 31\n",
      "Random index: 226387 Exponential:  0 \n",
      "\tParam: -2.3645770852454007e-05, Bits: 10.00000000000000011000110010110101\n",
      "\tParam: -1.000023603439331, Bits: 11.00000000000000011000110010110101\n",
      "Number of weights affected: 31\n",
      "Random index: 441039 Exponential:  0 \n",
      "\tParam: 1.7412181477993727e-05, Bits: 00.00000000000000010010010000100000\n",
      "\tParam: 1.0000174045562744, Bits: 01.00000000000000010010010000100000\n",
      "Number of weights affected: 31\n",
      "Random index: 18856 Exponential:  0 \n",
      "\tParam: -1.1488818017824087e-05, Bits: 10.00000000000000001100000011000000\n",
      "\tParam: -1.0000114440917969, Bits: 11.00000000000000001100000011000000\n",
      "Number of weights affected: 31\n",
      "Random index: 188646 Exponential:  0 \n",
      "\tParam: -3.6002398701384664e-05, Bits: 10.00000000000000100101110000000101\n",
      "\tParam: -1.0000360012054443, Bits: 11.00000000000000100101110000000101\n",
      "Number of weights affected: 31\n",
      "Name: fcs.1.bias, Shape: torch.Size([256]), Flattened: torch.Size([256])\n",
      "Random index: 1\n",
      "Random index: 184 Exponential:  0 \n",
      "\tParam: -0.05589921399950981, Bits: 10.0000111001001111011010010011\n",
      "\tParam: -1.0558992624282837, Bits: 11.0000111001001111011010010011\n",
      "Number of weights affected: 32\n",
      "Name: fcs.4.weight, Shape: torch.Size([176, 256]), Flattened: torch.Size([45056])\n",
      "Random index: 5\n",
      "Random index: 13731 Exponential:  -19 \n",
      "\tParam: 1.970838275155984e-05, Bits: 00.00000000000000010100101010100110\n",
      "\tParam: 2.161553129553795e-05, Bits: 00.00000000000000010110101010100110\n",
      "Number of weights affected: 33\n",
      "Random index: 39225 Exponential:  19 \n",
      "\tParam: 1.9597597201936878e-05, Bits: 00.00000000000000010100100011001011\n",
      "\tParam: 1.0000195503234863, Bits: 01.00000000000000010100100011001011\n",
      "Number of weights affected: 33\n",
      "Random index: 31215 Exponential:  0 \n",
      "\tParam: -0.019286110997200012, Bits: 10.00000100111011111110111101\n",
      "\tParam: -1.0192861557006836, Bits: 11.00000100111011111110111101\n",
      "Number of weights affected: 33\n",
      "Random index: 18442 Exponential:  0 \n",
      "\tParam: -7.77406330598751e-06, Bits: 10.00000000000000001000001001101101\n",
      "\tParam: -1.0000077486038208, Bits: 11.00000000000000001000001001101101\n",
      "Number of weights affected: 33\n",
      "Random index: 35287 Exponential:  0 \n",
      "\tParam: 0.03380991518497467, Bits: 00.00001000101001111100010001\n",
      "\tParam: 1.0338099002838135, Bits: 01.00001000101001111100010001\n",
      "Number of weights affected: 33\n",
      "Name: fcs.4.bias, Shape: torch.Size([176]), Flattened: torch.Size([176])\n",
      "Random index: 1\n",
      "Random index: 100 Exponential:  -4 \n",
      "\tParam: 0.01783718727529049, Bits: 00.00000100100100001111101001011\n",
      "\tParam: 0.08033718913793564, Bits: 00.00010100100100001111101001011\n",
      "Number of weights affected: 34\n"
     ]
    },
    {
     "name": "stderr",
     "output_type": "stream",
     "text": [
      "Eval: Valid: : 100%|██████████| 2/2 [00:00<00:00,  9.86it/s]\n"
     ]
    },
    {
     "name": "stdout",
     "output_type": "stream",
     "text": [
      "---------------------------------------------------\n",
      "-------------Loss Summary eval Valid--------------\n",
      "Total Loss  |Loss Coord  |Conf Loss   |No Obj Loss |Class Loss  |\n",
      "65.607      |38.831      |25.988      |0.368       |0.420       |\n",
      "---------------------------------------------------\n",
      "Valid: \t mAP@50: 0.027778, mAP@75: 0.000000, mAP@90: 0.000000, Mean Loss: 65.607344\n",
      "array_param_shape: 903104\n",
      "=> Loading checkpoint\n",
      "Model loaded: tinyissimoYOLO/NAdam_None_Airbus_256_BATCH_32_LR_0.0005/model/35_YOLO_best.pth.tar\n",
      "Number of layers affected: 34\n",
      "Name: darknet.0.conv.weight, Shape: torch.Size([16, 3, 3, 3]), Flattened: torch.Size([432])\n",
      "Random index: 1\n",
      "Random index: 307 Exponential:  -13 \n",
      "\tParam: -0.08880772441625595, Bits: 10.000101101011110000011010011\n",
      "\tParam: -0.08868565410375595, Bits: 10.000101101011010000011010011\n",
      "Number of weights affected: 1\n",
      "Name: darknet.0.batchnorm.weight, Shape: torch.Size([16]), Flattened: torch.Size([16])\n",
      "Random index: 1\n",
      "Random index: 5 Exponential:  -18 \n",
      "\tParam: 0.33152782917022705, Bits: 00.01010100110111110000001\n",
      "\tParam: 0.3315316438674927, Bits: 00.01010100110111110100001\n",
      "Number of weights affected: 2\n",
      "Name: darknet.0.batchnorm.bias, Shape: torch.Size([16]), Flattened: torch.Size([16])\n",
      "Random index: 1\n",
      "Random index: 11 Exponential:  -23 \n",
      "\tParam: -0.012436792254447937, Bits: 10.00000011001011110000111011\n",
      "\tParam: -0.012436673045158386, Bits: 10.00000011001011110000110011\n",
      "Number of weights affected: 3\n",
      "Name: darknet.1.conv.weight, Shape: torch.Size([16, 16, 3, 3]), Flattened: torch.Size([2304])\n",
      "Random index: 1\n",
      "Random index: 705 Exponential:  -14 \n",
      "\tParam: -0.020670216530561447, Bits: 10.0000010101001010101001001011\n",
      "\tParam: -0.020731251686811447, Bits: 10.0000010101001110101001001011\n",
      "Number of weights affected: 4\n",
      "Name: darknet.1.batchnorm.weight, Shape: torch.Size([16]), Flattened: torch.Size([16])\n",
      "Random index: 1\n",
      "Random index: 1 Exponential:  -5 \n",
      "\tParam: 0.21346931159496307, Bits: 00.00110110101001011110110011\n",
      "\tParam: 0.24471931159496307, Bits: 00.00111110101001011110110011\n",
      "Number of weights affected: 5\n",
      "Name: darknet.1.batchnorm.bias, Shape: torch.Size([16]), Flattened: torch.Size([16])\n",
      "Random index: 1\n",
      "Random index: 14 Exponential:  -16 \n",
      "\tParam: -0.00863939430564642, Bits: 10.000000100011011000110000111111\n",
      "\tParam: -0.00865465309470892, Bits: 10.000000100011011100110000111111\n",
      "Number of weights affected: 6\n",
      "Name: darknet.3.conv.weight, Shape: torch.Size([16, 16, 3, 3]), Flattened: torch.Size([2304])\n",
      "Random index: 1\n",
      "Random index: 1007 Exponential:  -17 \n",
      "\tParam: -0.006789962761104107, Bits: 10.000000011011110011111100101011\n",
      "\tParam: -0.006782333366572857, Bits: 10.000000011011110001111100101011\n",
      "Number of weights affected: 7\n",
      "Name: darknet.3.batchnorm.weight, Shape: torch.Size([16]), Flattened: torch.Size([16])\n",
      "Random index: 1\n",
      "Random index: 10 Exponential:  -29 \n",
      "\tParam: 0.4764537215232849, Bits: 00.011110011111100011011111\n",
      "\tParam: 0.47645360231399536, Bits: 00.011110011111100011011101\n",
      "Number of weights affected: 8\n",
      "Name: darknet.3.batchnorm.bias, Shape: torch.Size([16]), Flattened: torch.Size([16])\n",
      "Random index: 1\n",
      "Random index: 8 Exponential:  -24 \n",
      "\tParam: -0.011323703452944756, Bits: 10.00000010111001100001110000111\n",
      "\tParam: -0.011323763057589531, Bits: 10.00000010111001100001110100111\n",
      "Number of weights affected: 9\n",
      "Name: darknet.4.conv.weight, Shape: torch.Size([32, 16, 3, 3]), Flattened: torch.Size([4608])\n",
      "Random index: 1\n",
      "Random index: 3778 Exponential:  1 \n",
      "\tParam: -0.05454844981431961, Bits: 10.000011011111011011100011001\n",
      "\tParam: 0.05454844981431961, Bits: 00.000011011111011011100011001\n",
      "Name: darknet.4.batchnorm.weight, Shape: torch.Size([32]), Flattened: torch.Size([32])\n",
      "Random index: 1\n",
      "Random index: 2 Exponential:  -7 \n",
      "\tParam: 0.3678000569343567, Bits: 00.010111100010100000100101\n",
      "\tParam: 0.3599875569343567, Bits: 00.010111000010100000100101\n",
      "Number of weights affected: 11\n",
      "Name: darknet.4.batchnorm.bias, Shape: torch.Size([32]), Flattened: torch.Size([32])\n",
      "Random index: 1\n",
      "Random index: 12 Exponential:  -8 \n",
      "\tParam: -0.18852007389068604, Bits: 10.00110000010000101101101\n",
      "\tParam: -0.19242632389068604, Bits: 10.00110001010000101101101\n",
      "Number of weights affected: 12\n",
      "Name: darknet.6.conv.weight, Shape: torch.Size([32, 32, 3, 3]), Flattened: torch.Size([9216])\n",
      "Random index: 1\n",
      "Random index: 5259 Exponential:  -15 \n",
      "\tParam: -0.011056787334382534, Bits: 10.000000101101010010011110000111\n",
      "\tParam: -0.011087304912507534, Bits: 10.000000101101011010011110000111\n",
      "Number of weights affected: 13\n",
      "Name: darknet.6.batchnorm.weight, Shape: torch.Size([32]), Flattened: torch.Size([32])\n",
      "Random index: 1\n",
      "Random index: 5 Exponential:  -12 \n",
      "\tParam: 0.21048332750797272, Bits: 00.00110101111000100011110001\n",
      "\tParam: 0.21072746813297272, Bits: 00.00110101111100100011110001\n",
      "Number of weights affected: 14\n",
      "Name: darknet.6.batchnorm.bias, Shape: torch.Size([32]), Flattened: torch.Size([32])\n",
      "Random index: 1\n",
      "Random index: 30 Exponential:  -30 \n",
      "\tParam: -0.016008757054805756, Bits: 10.000001000001100100100110011\n",
      "\tParam: -0.016008742153644562, Bits: 10.000001000001100100100110001\n",
      "Number of weights affected: 15\n",
      "Name: darknet.7.conv.weight, Shape: torch.Size([64, 32, 3, 3]), Flattened: torch.Size([18432])\n",
      "Random index: 2\n",
      "Random index: 4650 Exponential:  -22 \n",
      "\tParam: -0.00036534052924253047, Bits: 10.00000000000101111111000101100101\n",
      "\tParam: -0.00036557880230247974, Bits: 10.00000000000101111111010101100101\n",
      "Number of weights affected: 16\n",
      "Random index: 13 Exponential:  22 \n",
      "\tParam: 0.02208578586578369, Bits: 00.00000101101001110110101\n",
      "\tParam: 1.0220857858657837, Bits: 01.00000101101001110110101\n",
      "Number of weights affected: 16\n",
      "Name: darknet.7.batchnorm.weight, Shape: torch.Size([64]), Flattened: torch.Size([64])\n",
      "Random index: 1\n",
      "Random index: 38 Exponential:  -12 \n",
      "\tParam: 0.08977439999580383, Bits: 00.0001011011111011011101001\n",
      "\tParam: 0.08953025937080383, Bits: 00.0001011011101011011101001\n",
      "Number of weights affected: 17\n",
      "Name: darknet.7.batchnorm.bias, Shape: torch.Size([64]), Flattened: torch.Size([64])\n",
      "Random index: 1\n",
      "Random index: 16 Exponential:  1 \n",
      "\tParam: -0.033238302916288376, Bits: 10.0000100010000010010011100011\n",
      "\tParam: 0.033238302916288376, Bits: 00.0000100010000010010011100011\n",
      "Name: darknet.9.conv.weight, Shape: torch.Size([64, 64, 3, 3]), Flattened: torch.Size([36864])\n",
      "Random index: 4\n",
      "Random index: 21059 Exponential:  -25 \n",
      "\tParam: 3.1852346182859037e-06, Bits: 00.00000000000000000011010101110000\n",
      "\tParam: 3.214925527572632e-06, Bits: 00.00000000000000000011010111110000\n",
      "Number of weights affected: 19\n",
      "Random index: 8841 Exponential:  25 \n",
      "\tParam: 4.886507667833939e-05, Bits: 00.00000000000000110011001111010001\n",
      "\tParam: 1.0000488758087158, Bits: 01.00000000000000110011001111010001\n",
      "Number of weights affected: 19\n",
      "Random index: 35969 Exponential:  0 \n",
      "\tParam: 0.003911685664206743, Bits: 00.0000000100000000010110110011001\n",
      "\tParam: 1.0039117336273193, Bits: 01.0000000100000000010110110011001\n",
      "Number of weights affected: 19\n",
      "Random index: 18722 Exponential:  0 \n",
      "\tParam: -3.329275568830781e-05, Bits: 10.00000000000000100010111010001111\n",
      "\tParam: -1.0000332593917847, Bits: 11.00000000000000100010111010001111\n",
      "Number of weights affected: 19\n",
      "Name: darknet.9.batchnorm.weight, Shape: torch.Size([64]), Flattened: torch.Size([64])\n",
      "Random index: 1\n",
      "Random index: 34 Exponential:  -11 \n",
      "\tParam: 0.2716000974178314, Bits: 00.0100010110000111100101011\n",
      "\tParam: 0.2720883786678314, Bits: 00.0100010110100111100101011\n",
      "Number of weights affected: 20\n",
      "Name: darknet.9.batchnorm.bias, Shape: torch.Size([64]), Flattened: torch.Size([64])\n",
      "Random index: 1\n",
      "Random index: 4 Exponential:  -23 \n",
      "\tParam: -0.07563190162181854, Bits: 10.00010011010111001001110011\n",
      "\tParam: -0.0756320208311081, Bits: 10.00010011010111001001111011\n",
      "Number of weights affected: 21\n",
      "Name: darknet.10.conv.weight, Shape: torch.Size([64, 64, 3, 3]), Flattened: torch.Size([36864])\n",
      "Random index: 4\n",
      "Random index: 27952 Exponential:  -30 \n",
      "\tParam: -5.836156560690142e-05, Bits: 10.00000000000000111101001100100101\n",
      "\tParam: -5.8360630646348e-05, Bits: 10.00000000000000111101001100100001\n",
      "Number of weights affected: 22\n",
      "Random index: 14517 Exponential:  30 \n",
      "\tParam: 4.844527575187385e-05, Bits: 00.00000000000000110010110011000110\n",
      "\tParam: 1.0000483989715576, Bits: 01.00000000000000110010110011000110\n",
      "Number of weights affected: 22\n",
      "Random index: 1506 Exponential:  0 \n",
      "\tParam: 7.163460395531729e-05, Bits: 00.00000000000001001011000111010100\n",
      "\tParam: 1.00007164478302, Bits: 01.00000000000001001011000111010100\n",
      "Number of weights affected: 22\n",
      "Random index: 18134 Exponential:  0 \n",
      "\tParam: -2.4765713533270173e-05, Bits: 10.00000000000000011001111101111111\n",
      "\tParam: -1.0000247955322266, Bits: 11.00000000000000011001111101111111\n",
      "Number of weights affected: 22\n",
      "Name: darknet.10.batchnorm.weight, Shape: torch.Size([64]), Flattened: torch.Size([64])\n",
      "Random index: 1\n",
      "Random index: 4 Exponential:  -6 \n",
      "\tParam: -5.115141539135948e-05, Bits: 10.00000000000000110101101000101101\n",
      "\tParam: -0.01567615196108818, Bits: 10.00000100000000110101101000101101\n",
      "Number of weights affected: 23\n",
      "Name: darknet.10.batchnorm.bias, Shape: torch.Size([64]), Flattened: torch.Size([64])\n",
      "Random index: 1\n",
      "Random index: 19 Exponential:  -14 \n",
      "\tParam: 1.975116174435243e-05, Bits: 00.00000000000000010100101101011110\n",
      "\tParam: 8.078617975115776e-05, Bits: 00.00000000000001010100101101011110\n",
      "Number of weights affected: 24\n",
      "Name: darknet.12.conv.weight, Shape: torch.Size([128, 64, 3, 3]), Flattened: torch.Size([73728])\n",
      "Random index: 8\n",
      "Random index: 39218 Exponential:  -5 \n",
      "\tParam: 0.0028945317026227713, Bits: 00.00000000101111011011001000101111\n",
      "\tParam: 0.034144531935453415, Bits: 00.00001000101111011011001000101111\n",
      "Number of weights affected: 25\n",
      "Random index: 50187 Exponential:  5 \n",
      "\tParam: -0.00838905293494463, Bits: 10.000000100010010111001000111101\n",
      "\tParam: -1.0083889961242676, Bits: 11.000000100010010111001000111101\n",
      "Number of weights affected: 25\n",
      "Random index: 16672 Exponential:  0 \n",
      "\tParam: 0.03548482060432434, Bits: 00.0000100100010101100010001\n",
      "\tParam: 1.035484790802002, Bits: 01.0000100100010101100010001\n",
      "Number of weights affected: 25\n",
      "Random index: 18845 Exponential:  0 \n",
      "\tParam: -5.357934696803568e-06, Bits: 10.00000000000000000101100111100100\n",
      "\tParam: -1.0000053644180298, Bits: 11.00000000000000000101100111100100\n",
      "Number of weights affected: 25\n",
      "Random index: 6956 Exponential:  0 \n",
      "\tParam: -4.856312443735078e-05, Bits: 10.00000000000000110010111011000001\n",
      "\tParam: -1.0000485181808472, Bits: 11.00000000000000110010111011000001\n",
      "Number of weights affected: 25\n",
      "Random index: 30773 Exponential:  0 \n",
      "\tParam: -1.613456151972059e-05, Bits: 10.00000000000000010000111010110001\n",
      "\tParam: -1.0000160932540894, Bits: 11.00000000000000010000111010110001\n",
      "Number of weights affected: 25\n",
      "Random index: 63168 Exponential:  0 \n",
      "\tParam: 1.5258046914823353e-05, Bits: 00.00000000000000001111111111111100\n",
      "\tParam: 1.0000152587890625, Bits: 01.00000000000000001111111111111100\n",
      "Number of weights affected: 25\n",
      "Random index: 49526 Exponential:  0 \n",
      "\tParam: -1.593335582583677e-06, Bits: 10.00000000000000000001101010111011\n",
      "\tParam: -1.0000015497207642, Bits: 11.00000000000000000001101010111011\n",
      "Number of weights affected: 25\n",
      "Name: darknet.12.batchnorm.weight, Shape: torch.Size([128]), Flattened: torch.Size([128])\n",
      "Random index: 1\n",
      "Random index: 26 Exponential:  -18 \n",
      "\tParam: 0.043404724448919296, Bits: 00.0000101100011100100100100111\n",
      "\tParam: 0.04340853914618492, Bits: 00.0000101100011100110100100111\n",
      "Number of weights affected: 26\n",
      "Name: darknet.12.batchnorm.bias, Shape: torch.Size([128]), Flattened: torch.Size([128])\n",
      "Random index: 1\n",
      "Random index: 54 Exponential:  -14 \n",
      "\tParam: 0.019377682358026505, Bits: 00.0000010011110101111011111001\n",
      "\tParam: 0.019316647201776505, Bits: 00.0000010011110001111011111001\n",
      "Number of weights affected: 27\n",
      "Name: darknet.13.conv.weight, Shape: torch.Size([128, 128, 3, 3]), Flattened: torch.Size([147456])\n",
      "Random index: 15\n",
      "Random index: 82890 Exponential:  -31 \n",
      "\tParam: 3.262713789808913e-06, Bits: 00.00000000000000000011011010111101\n",
      "\tParam: 3.263121470808983e-06, Bits: 00.00000000000000000011011010111111\n",
      "Number of weights affected: 28\n",
      "Random index: 82721 Exponential:  31 \n",
      "\tParam: -4.993003699382825e-07, Bits: 10.00000000000000000000100001100000\n",
      "\tParam: -1.0000004768371582, Bits: 11.00000000000000000000100001100000\n",
      "Number of weights affected: 28\n",
      "Random index: 111121 Exponential:  0 \n",
      "\tParam: 1.943669849424623e-05, Bits: 00.00000000000000010100011000010111\n",
      "\tParam: 1.0000194311141968, Bits: 01.00000000000000010100011000010111\n",
      "Number of weights affected: 28\n",
      "Random index: 9699 Exponential:  0 \n",
      "\tParam: -4.829363660974195e-06, Bits: 10.00000000000000000101000100000101\n",
      "\tParam: -1.0000048875808716, Bits: 11.00000000000000000101000100000101\n",
      "Number of weights affected: 28\n",
      "Random index: 42756 Exponential:  0 \n",
      "\tParam: 3.652781060736743e-06, Bits: 00.00000000000000000011110101001000\n",
      "\tParam: 1.000003695487976, Bits: 01.00000000000000000011110101001000\n",
      "Number of weights affected: 28\n",
      "Random index: 127845 Exponential:  0 \n",
      "\tParam: -4.739075302495621e-05, Bits: 10.00000000000000110001101100010101\n",
      "\tParam: -1.0000474452972412, Bits: 11.00000000000000110001101100010101\n",
      "Number of weights affected: 28\n",
      "Random index: 122708 Exponential:  0 \n",
      "\tParam: -1.8940074369311333e-05, Bits: 10.00000000000000010011110111000011\n",
      "\tParam: -1.0000189542770386, Bits: 11.00000000000000010011110111000011\n",
      "Number of weights affected: 28\n",
      "Random index: 136870 Exponential:  0 \n",
      "\tParam: -0.0033609659876674414, Bits: 10.00000000110111000100001110100111\n",
      "\tParam: -1.0033609867095947, Bits: 11.00000000110111000100001110100111\n",
      "Number of weights affected: 28\n",
      "Random index: 51214 Exponential:  0 \n",
      "\tParam: 1.938631794473622e-05, Bits: 00.00000000000000010100010100111111\n",
      "\tParam: 1.0000194311141968, Bits: 01.00000000000000010100010100111111\n",
      "Number of weights affected: 28\n",
      "Random index: 85058 Exponential:  0 \n",
      "\tParam: 0.002988264663144946, Bits: 00.00000000110000111101011011000011\n",
      "\tParam: 1.0029882192611694, Bits: 01.00000000110000111101011011000011\n",
      "Number of weights affected: 28\n",
      "Random index: 123944 Exponential:  0 \n",
      "\tParam: 3.729017180376104e-06, Bits: 00.00000000000000000011111010010000\n",
      "\tParam: 1.000003695487976, Bits: 01.00000000000000000011111010010000\n",
      "Number of weights affected: 28\n",
      "Random index: 80582 Exponential:  0 \n",
      "\tParam: -8.890535536920652e-05, Bits: 10.00000000000001011101001110010101\n",
      "\tParam: -1.0000889301300049, Bits: 11.00000000000001011101001110010101\n",
      "Number of weights affected: 28\n",
      "Random index: 125992 Exponential:  0 \n",
      "\tParam: -0.03234533220529556, Bits: 10.000010000100011111001000101\n",
      "\tParam: -1.0323452949523926, Bits: 11.000010000100011111001000101\n",
      "Number of weights affected: 28\n",
      "Random index: 46083 Exponential:  0 \n",
      "\tParam: 1.828361928346567e-05, Bits: 00.00000000000000010011001010111111\n",
      "\tParam: 1.0000182390213013, Bits: 01.00000000000000010011001010111111\n",
      "Number of weights affected: 28\n",
      "Random index: 111029 Exponential:  0 \n",
      "\tParam: -1.9149463696521707e-05, Bits: 10.00000000000000010100000101000110\n",
      "\tParam: -1.0000191926956177, Bits: 11.00000000000000010100000101000110\n",
      "Number of weights affected: 28\n",
      "Name: darknet.13.batchnorm.weight, Shape: torch.Size([128]), Flattened: torch.Size([128])\n",
      "Random index: 1\n",
      "Random index: 1 Exponential:  -21 \n",
      "\tParam: -1.770223752828315e-05, Bits: 10.00000000000000010010100011111110\n",
      "\tParam: -1.7225276678800583e-05, Bits: 10.00000000000000010010000011111110\n",
      "Number of weights affected: 29\n",
      "Name: darknet.13.batchnorm.bias, Shape: torch.Size([128]), Flattened: torch.Size([128])\n",
      "Random index: 1\n",
      "Random index: 26 Exponential:  -25 \n",
      "\tParam: 0.0001594963250681758, Bits: 00.00000000000010100111001111100111\n",
      "\tParam: 0.00015946640633046627, Bits: 00.00000000000010100111001101100111\n",
      "Number of weights affected: 30\n",
      "Name: fcs.1.weight, Shape: torch.Size([256, 2048]), Flattened: torch.Size([524288])\n",
      "Random index: 53\n",
      "Random index: 396877 Exponential:  0 \n",
      "\tParam: -4.3462659959914163e-07, Bits: 10.00000000000000000000011101001010\n",
      "\tParam: -1.0000004768371582, Bits: 11.00000000000000000000011101001010\n",
      "Number of weights affected: 31\n",
      "Random index: 392760 Exponential:  0 \n",
      "\tParam: 4.215069566271268e-06, Bits: 00.00000000000000000100011010110111\n",
      "\tParam: 1.0000041723251343, Bits: 01.00000000000000000100011010110111\n",
      "Number of weights affected: 31\n",
      "Random index: 158223 Exponential:  0 \n",
      "\tParam: -7.005633506196318e-06, Bits: 10.00000000000000000111010110001000\n",
      "\tParam: -1.0000070333480835, Bits: 11.00000000000000000111010110001000\n",
      "Number of weights affected: 31\n",
      "Random index: 155285 Exponential:  0 \n",
      "\tParam: -0.04543829336762428, Bits: 10.0000101110100001110110000001\n",
      "\tParam: -1.045438289642334, Bits: 11.0000101110100001110110000001\n",
      "Number of weights affected: 31\n",
      "Random index: 395375 Exponential:  0 \n",
      "\tParam: -8.201822492992505e-05, Bits: 10.00000000000001010110000000001001\n",
      "\tParam: -1.000082015991211, Bits: 11.00000000000001010110000000001001\n",
      "Number of weights affected: 31\n",
      "Random index: 130937 Exponential:  0 \n",
      "\tParam: -4.6737626689719036e-05, Bits: 10.00000000000000110001000000100000\n",
      "\tParam: -1.000046730041504, Bits: 11.00000000000000110001000000100000\n",
      "Number of weights affected: 31\n",
      "Random index: 421844 Exponential:  0 \n",
      "\tParam: -5.92967880947981e-05, Bits: 10.00000000000000111110001011010101\n",
      "\tParam: -1.0000592470169067, Bits: 11.00000000000000111110001011010101\n",
      "Number of weights affected: 31\n",
      "Random index: 523132 Exponential:  0 \n",
      "\tParam: 6.84682818246074e-05, Bits: 00.00000000000001000111110010110101\n",
      "\tParam: 1.0000684261322021, Bits: 01.00000000000001000111110010110101\n",
      "Number of weights affected: 31\n",
      "Random index: 385894 Exponential:  0 \n",
      "\tParam: -1.7603939568289206e-06, Bits: 10.00000000000000000001110110001000\n",
      "\tParam: -1.0000017881393433, Bits: 11.00000000000000000001110110001000\n",
      "Number of weights affected: 31\n",
      "Random index: 486509 Exponential:  0 \n",
      "\tParam: 4.4618114770855755e-05, Bits: 00.00000000000000101110110010010001\n",
      "\tParam: 1.000044584274292, Bits: 01.00000000000000101110110010010001\n",
      "Number of weights affected: 31\n",
      "Random index: 32353 Exponential:  0 \n",
      "\tParam: 0.0011018086224794388, Bits: 00.00000000010010000011010101001\n",
      "\tParam: 1.0011018514633179, Bits: 01.00000000010010000011010101001\n",
      "Number of weights affected: 31\n",
      "Random index: 329610 Exponential:  0 \n",
      "\tParam: -5.03844566992484e-05, Bits: 10.00000000000000110100110101001111\n",
      "\tParam: -1.00005042552948, Bits: 11.00000000000000110100110101001111\n",
      "Number of weights affected: 31\n",
      "Random index: 315223 Exponential:  0 \n",
      "\tParam: 2.5772076696739532e-05, Bits: 00.00000000000000011011000001100010\n",
      "\tParam: 1.000025749206543, Bits: 01.00000000000000011011000001100010\n",
      "Number of weights affected: 31\n",
      "Random index: 318154 Exponential:  0 \n",
      "\tParam: 1.1195049410162028e-05, Bits: 00.00000000000000001011101111010010\n",
      "\tParam: 1.0000112056732178, Bits: 01.00000000000000001011101111010010\n",
      "Number of weights affected: 31\n",
      "Random index: 63993 Exponential:  0 \n",
      "\tParam: 5.3452276915777475e-05, Bits: 00.00000000000000111000000011000111\n",
      "\tParam: 1.0000534057617188, Bits: 01.00000000000000111000000011000111\n",
      "Number of weights affected: 31\n",
      "Random index: 331654 Exponential:  0 \n",
      "\tParam: -4.834243009099737e-05, Bits: 10.00000000000000110010101100001101\n",
      "\tParam: -1.0000483989715576, Bits: 11.00000000000000110010101100001101\n",
      "Number of weights affected: 31\n",
      "Random index: 152117 Exponential:  0 \n",
      "\tParam: 1.6695035810698755e-05, Bits: 00.00000000000000010001100000011000\n",
      "\tParam: 1.000016689300537, Bits: 01.00000000000000010001100000011000\n",
      "Number of weights affected: 31\n",
      "Random index: 373688 Exponential:  0 \n",
      "\tParam: 5.441869234346086e-06, Bits: 00.00000000000000000101101101001100\n",
      "\tParam: 1.0000054836273193, Bits: 01.00000000000000000101101101001100\n",
      "Number of weights affected: 31\n",
      "Random index: 467853 Exponential:  0 \n",
      "\tParam: 1.8038399502984248e-05, Bits: 00.00000000000000010010111010100010\n",
      "\tParam: 1.0000180006027222, Bits: 01.00000000000000010010111010100010\n",
      "Number of weights affected: 31\n",
      "Random index: 429261 Exponential:  0 \n",
      "\tParam: 8.54398385854438e-05, Bits: 00.00000000000001011001100101110001\n",
      "\tParam: 1.000085473060608, Bits: 01.00000000000001011001100101110001\n",
      "Number of weights affected: 31\n",
      "Random index: 507997 Exponential:  0 \n",
      "\tParam: -3.988756725448184e-05, Bits: 10.00000000000000101001110100110011\n",
      "\tParam: -1.0000399351119995, Bits: 11.00000000000000101001110100110011\n",
      "Number of weights affected: 31\n",
      "Random index: 269217 Exponential:  0 \n",
      "\tParam: -9.998644236475229e-05, Bits: 10.00000000000001101000110101111110\n",
      "\tParam: -1.000100016593933, Bits: 11.00000000000001101000110101111110\n",
      "Number of weights affected: 31\n",
      "Random index: 336044 Exponential:  0 \n",
      "\tParam: 7.26478174328804e-05, Bits: 00.000000000000010011000010110101\n",
      "\tParam: 1.0000725984573364, Bits: 01.000000000000010011000010110101\n",
      "Number of weights affected: 31\n",
      "Random index: 223536 Exponential:  0 \n",
      "\tParam: -5.124977178638801e-05, Bits: 10.00000000000000110101101111010100\n",
      "\tParam: -1.0000512599945068, Bits: 11.00000000000000110101101111010100\n",
      "Number of weights affected: 31\n",
      "Random index: 19112 Exponential:  0 \n",
      "\tParam: 2.6939365852740593e-05, Bits: 00.00000000000000011100001111110111\n",
      "\tParam: 1.0000269412994385, Bits: 01.00000000000000011100001111110111\n",
      "Number of weights affected: 31\n",
      "Random index: 63023 Exponential:  0 \n",
      "\tParam: -2.564240276115015e-05, Bits: 10.00000000000000011010111000110101\n",
      "\tParam: -1.0000256299972534, Bits: 11.00000000000000011010111000110101\n",
      "Number of weights affected: 31\n",
      "Random index: 32538 Exponential:  0 \n",
      "\tParam: 1.4307644960354082e-05, Bits: 00.00000000000000001111000000001010\n",
      "\tParam: 1.000014305114746, Bits: 01.00000000000000001111000000001010\n",
      "Number of weights affected: 31\n",
      "Random index: 133760 Exponential:  0 \n",
      "\tParam: 8.296663872897625e-05, Bits: 00.00000000000001010110111111110011\n",
      "\tParam: 1.0000829696655273, Bits: 01.00000000000001010110111111110011\n",
      "Number of weights affected: 31\n",
      "Random index: 198029 Exponential:  0 \n",
      "\tParam: -5.043657893111231e-06, Bits: 10.00000000000000000101010010011110\n",
      "\tParam: -1.0000050067901611, Bits: 11.00000000000000000101010010011110\n",
      "Number of weights affected: 31\n",
      "Random index: 488926 Exponential:  0 \n",
      "\tParam: -1.5183139794316958e-06, Bits: 10.00000000000000000001100101111001\n",
      "\tParam: -1.0000015497207642, Bits: 11.00000000000000000001100101111001\n",
      "Number of weights affected: 31\n",
      "Random index: 271733 Exponential:  0 \n",
      "\tParam: -2.695007060538046e-05, Bits: 10.00000000000000011100010000100101\n",
      "\tParam: -1.0000269412994385, Bits: 11.00000000000000011100010000100101\n",
      "Number of weights affected: 31\n",
      "Random index: 290692 Exponential:  0 \n",
      "\tParam: 1.7428117644158192e-05, Bits: 00.00000000000000010010010001100101\n",
      "\tParam: 1.0000174045562744, Bits: 01.00000000000000010010010001100101\n",
      "Number of weights affected: 31\n",
      "Random index: 242859 Exponential:  0 \n",
      "\tParam: -2.9821187581546837e-06, Bits: 10.00000000000000000011001000001000\n",
      "\tParam: -1.0000029802322388, Bits: 11.00000000000000000011001000001000\n",
      "Number of weights affected: 31\n",
      "Random index: 452609 Exponential:  0 \n",
      "\tParam: 0.00024439513799734414, Bits: 00.00000000000100000000010001000101\n",
      "\tParam: 1.000244379043579, Bits: 01.00000000000100000000010001000101\n",
      "Number of weights affected: 31\n",
      "Random index: 392848 Exponential:  0 \n",
      "\tParam: -7.068493346196192e-07, Bits: 10.00000000000000000000101111011011\n",
      "\tParam: -1.0000007152557373, Bits: 11.00000000000000000000101111011011\n",
      "Number of weights affected: 31\n",
      "Random index: 109938 Exponential:  0 \n",
      "\tParam: -2.2024909412721172e-05, Bits: 10.00000000000000010111000110000100\n",
      "\tParam: -1.000022053718567, Bits: 11.00000000000000010111000110000100\n",
      "Number of weights affected: 31\n",
      "Random index: 193698 Exponential:  0 \n",
      "\tParam: 3.828061016974971e-05, Bits: 00.00000000000000101000001000111101\n",
      "\tParam: 1.0000382661819458, Bits: 01.00000000000000101000001000111101\n",
      "Number of weights affected: 31\n",
      "Random index: 459051 Exponential:  0 \n",
      "\tParam: 2.209482954640407e-05, Bits: 00.00000000000000010111001010110000\n",
      "\tParam: 1.000022053718567, Bits: 01.00000000000000010111001010110000\n",
      "Number of weights affected: 31\n",
      "Random index: 179629 Exponential:  0 \n",
      "\tParam: -1.1647695828287397e-05, Bits: 10.00000000000000001100001101101010\n",
      "\tParam: -1.000011682510376, Bits: 11.00000000000000001100001101101010\n",
      "Number of weights affected: 31\n",
      "Random index: 18103 Exponential:  0 \n",
      "\tParam: 6.249033322092146e-05, Bits: 00.00000000000001000001100001101001\n",
      "\tParam: 1.0000624656677246, Bits: 01.00000000000001000001100001101001\n",
      "Number of weights affected: 31\n",
      "Random index: 494246 Exponential:  0 \n",
      "\tParam: -5.391246304498054e-05, Bits: 10.00000000000000111000100010000000\n",
      "\tParam: -1.000053882598877, Bits: 11.00000000000000111000100010000000\n",
      "Number of weights affected: 31\n",
      "Random index: 471850 Exponential:  0 \n",
      "\tParam: 1.357637665932998e-05, Bits: 00.00000000000000001110001111000110\n",
      "\tParam: 1.0000135898590088, Bits: 01.00000000000000001110001111000110\n",
      "Number of weights affected: 31\n",
      "Random index: 359999 Exponential:  0 \n",
      "\tParam: -2.915622098953463e-05, Bits: 10.00000000000000011110100100101001\n",
      "\tParam: -1.00002920627594, Bits: 11.00000000000000011110100100101001\n",
      "Number of weights affected: 31\n",
      "Random index: 316060 Exponential:  0 \n",
      "\tParam: -5.9107101151312236e-06, Bits: 10.00000000000000000110001100101010\n",
      "\tParam: -1.0000059604644775, Bits: 11.00000000000000000110001100101010\n",
      "Number of weights affected: 31\n",
      "Random index: 462050 Exponential:  0 \n",
      "\tParam: 5.129698183736764e-05, Bits: 00.00000000000000110101110010011110\n",
      "\tParam: 1.0000512599945068, Bits: 01.00000000000000110101110010011110\n",
      "Number of weights affected: 31\n",
      "Random index: 123952 Exponential:  0 \n",
      "\tParam: -1.78077862074133e-05, Bits: 10.00000000000000010010101011000011\n",
      "\tParam: -1.000017762184143, Bits: 11.00000000000000010010101011000011\n",
      "Number of weights affected: 31\n",
      "Random index: 499000 Exponential:  0 \n",
      "\tParam: -5.985060488455929e-05, Bits: 10.00000000000000111110110000100000\n",
      "\tParam: -1.0000598430633545, Bits: 11.00000000000000111110110000100000\n",
      "Number of weights affected: 31\n",
      "Random index: 307546 Exponential:  0 \n",
      "\tParam: 3.6303463275544345e-05, Bits: 00.00000000000000100110000100010010\n",
      "\tParam: 1.000036358833313, Bits: 01.00000000000000100110000100010010\n",
      "Number of weights affected: 31\n",
      "Random index: 205252 Exponential:  0 \n",
      "\tParam: 0.00011004987027263269, Bits: 00.00000000000001110011011001010100\n",
      "\tParam: 1.0001100301742554, Bits: 01.00000000000001110011011001010100\n",
      "Number of weights affected: 31\n",
      "Random index: 90105 Exponential:  0 \n",
      "\tParam: 2.1578742234851234e-05, Bits: 00.00000000000000010110101000000111\n",
      "\tParam: 1.0000215768814087, Bits: 01.00000000000000010110101000000111\n",
      "Number of weights affected: 31\n",
      "Random index: 216337 Exponential:  0 \n",
      "\tParam: 0.001925719785504043, Bits: 00.00000000011111100011010000110111\n",
      "\tParam: 1.0019257068634033, Bits: 01.00000000011111100011010000110111\n",
      "Number of weights affected: 31\n",
      "Random index: 272104 Exponential:  0 \n",
      "\tParam: 3.753745477297343e-05, Bits: 00.00000000000000100111010111000110\n",
      "\tParam: 1.0000375509262085, Bits: 01.00000000000000100111010111000110\n",
      "Number of weights affected: 31\n",
      "Random index: 28667 Exponential:  0 \n",
      "\tParam: -5.380723814596422e-05, Bits: 10.00000000000000111000011010111100\n",
      "\tParam: -1.0000537633895874, Bits: 11.00000000000000111000011010111100\n",
      "Number of weights affected: 31\n",
      "Name: fcs.1.bias, Shape: torch.Size([256]), Flattened: torch.Size([256])\n",
      "Random index: 1\n",
      "Random index: 196 Exponential:  -29 \n",
      "\tParam: 0.014997463673353195, Bits: 00.0000001111010110110111111011\n",
      "\tParam: 0.014997456222772598, Bits: 00.0000001111010110110111111001\n",
      "Number of weights affected: 32\n",
      "Name: fcs.4.weight, Shape: torch.Size([176, 256]), Flattened: torch.Size([45056])\n",
      "Random index: 5\n",
      "Random index: 34701 Exponential:  -19 \n",
      "\tParam: 0.013818184845149517, Bits: 00.000000111000100110010110101011\n",
      "\tParam: 0.01382009219378233, Bits: 00.000000111000100110110110101011\n",
      "Number of weights affected: 33\n",
      "Random index: 20378 Exponential:  19 \n",
      "\tParam: -0.011678285896778107, Bits: 10.000000101111110101011001001\n",
      "\tParam: -1.0116783380508423, Bits: 11.000000101111110101011001001\n",
      "Number of weights affected: 33\n",
      "Random index: 11639 Exponential:  0 \n",
      "\tParam: 0.030334949493408203, Bits: 00.000001111100010000001\n",
      "\tParam: 1.0303349494934082, Bits: 01.000001111100010000001\n",
      "Number of weights affected: 33\n",
      "Random index: 38309 Exponential:  0 \n",
      "\tParam: -4.312776945880614e-05, Bits: 10.00000000000000101101001110010000\n",
      "\tParam: -1.0000431537628174, Bits: 11.00000000000000101101001110010000\n",
      "Number of weights affected: 33\n",
      "Random index: 12870 Exponential:  0 \n",
      "\tParam: -1.760637496772688e-05, Bits: 10.00000000000000010010011101100010\n",
      "\tParam: -1.0000176429748535, Bits: 11.00000000000000010010011101100010\n",
      "Number of weights affected: 33\n",
      "Name: fcs.4.bias, Shape: torch.Size([176]), Flattened: torch.Size([176])\n",
      "Random index: 1\n",
      "Random index: 7 Exponential:  -2 \n",
      "\tParam: -1.9670193069032393e-05, Bits: 10.00000000000000010100101000000010\n",
      "\tParam: -0.2500196695327759, Bits: 10.01000000000000010100101000000010\n",
      "Number of weights affected: 34\n"
     ]
    },
    {
     "name": "stderr",
     "output_type": "stream",
     "text": [
      "Eval: Valid: : 100%|██████████| 2/2 [00:00<00:00,  9.59it/s]\n"
     ]
    },
    {
     "name": "stdout",
     "output_type": "stream",
     "text": [
      "---------------------------------------------------\n",
      "-------------Loss Summary eval Valid--------------\n",
      "Total Loss  |Loss Coord  |Conf Loss   |No Obj Loss |Class Loss  |\n",
      "16.651      |8.452       |4.745       |3.432       |0.023       |\n",
      "---------------------------------------------------\n",
      "Valid: \t mAP@50: 0.659380, mAP@75: 0.211895, mAP@90: 0.001096, Mean Loss: 16.651254\n",
      "array_param_shape: 903104\n",
      "Valid: \t mAP@50: 0.481330, mAP@75: 0.211895, mAP@90: 0.001096, Mean Loss: 32.716255\n"
     ]
    }
   ],
   "source": [
    "from eval_noise import test_noise\n",
    "case1=False\n",
    "case2=True\n",
    "percentage_layers_case_2 = [0, 0.3, 0.5, 0.7, 1] if case2 else [0]\n",
    "\n",
    "#prueba 4\n",
    "slices_case2 = [1,1]\n",
    "interval_2 = (-32,2)\n",
    "percentage_tensors_2 = 0.0001\n",
    "\n",
    "test_noise( case1=case1, percentage_layers_case_1=[0], slices_case1 = [0,0],\n",
    "           case2=case2, percentage_layers_case_2=percentage_layers_case_2, slices_case2 = slices_case2, interval_2 = interval_2, percentage_tensors_2= percentage_tensors_2)"
   ]
  },
  {
   "cell_type": "code",
   "execution_count": 1,
   "id": "e6dc2ee1-17d3-4eb1-955d-9635574dab13",
   "metadata": {
    "scrolled": true
   },
   "outputs": [
    {
     "name": "stdout",
     "output_type": "stream",
     "text": [
      "Test with case1: False, case2: True\n",
      "File case2_results_noise_slices_1_interval2_-2_2_p_0.003.txt exists. Deleting...\n",
      "Results will be saved in: case2_results_noise_slices_1_interval2_-2_2_p_0.003.txt\n",
      "=> Loading checkpoint\n",
      "Model loaded: tinyissimoYOLO/NAdam_None_Airbus_256_BATCH_32_LR_0.0005/model/35_YOLO_best.pth.tar\n",
      "############################################\n",
      "Noise level 2: Slice: [1, 1], Percentage: 0\n",
      "############################################\n",
      "=> Loading checkpoint\n",
      "Model loaded: tinyissimoYOLO/NAdam_None_Airbus_256_BATCH_32_LR_0.0005/model/35_YOLO_best.pth.tar\n"
     ]
    },
    {
     "name": "stderr",
     "output_type": "stream",
     "text": [
      "Eval: Valid: : 100%|██████████| 2/2 [00:00<00:00,  3.30it/s]\n"
     ]
    },
    {
     "name": "stdout",
     "output_type": "stream",
     "text": [
      "---------------------------------------------------\n",
      "-------------Loss Summary eval Valid--------------\n",
      "Total Loss  |Loss Coord  |Conf Loss   |No Obj Loss |Class Loss  |\n",
      "14.051      |7.427       |4.128       |2.466       |0.030       |\n",
      "---------------------------------------------------\n",
      "Valid: \t mAP@50: 0.756015, mAP@75: 0.301328, mAP@90: 0.001536, Mean Loss: 14.050553\n",
      "array_param_shape: 0\n",
      "=> Loading checkpoint\n",
      "Model loaded: tinyissimoYOLO/NAdam_None_Airbus_256_BATCH_32_LR_0.0005/model/35_YOLO_best.pth.tar\n"
     ]
    },
    {
     "name": "stderr",
     "output_type": "stream",
     "text": [
      "Eval: Valid: : 100%|██████████| 2/2 [00:00<00:00,  8.32it/s]\n"
     ]
    },
    {
     "name": "stdout",
     "output_type": "stream",
     "text": [
      "---------------------------------------------------\n",
      "-------------Loss Summary eval Valid--------------\n",
      "Total Loss  |Loss Coord  |Conf Loss   |No Obj Loss |Class Loss  |\n",
      "14.051      |7.427       |4.128       |2.466       |0.030       |\n",
      "---------------------------------------------------\n",
      "Valid: \t mAP@50: 0.756015, mAP@75: 0.301328, mAP@90: 0.001536, Mean Loss: 14.050553\n",
      "array_param_shape: 0\n",
      "=> Loading checkpoint\n",
      "Model loaded: tinyissimoYOLO/NAdam_None_Airbus_256_BATCH_32_LR_0.0005/model/35_YOLO_best.pth.tar\n"
     ]
    },
    {
     "name": "stderr",
     "output_type": "stream",
     "text": [
      "Eval: Valid: : 100%|██████████| 2/2 [00:00<00:00,  8.69it/s]\n"
     ]
    },
    {
     "name": "stdout",
     "output_type": "stream",
     "text": [
      "---------------------------------------------------\n",
      "-------------Loss Summary eval Valid--------------\n",
      "Total Loss  |Loss Coord  |Conf Loss   |No Obj Loss |Class Loss  |\n",
      "14.051      |7.427       |4.128       |2.466       |0.030       |\n",
      "---------------------------------------------------\n",
      "Valid: \t mAP@50: 0.756015, mAP@75: 0.301328, mAP@90: 0.001536, Mean Loss: 14.050553\n",
      "array_param_shape: 0\n",
      "Valid: \t mAP@50: 0.756015, mAP@75: 0.301328, mAP@90: 0.001536, Mean Loss: 14.050553\n",
      "=> Loading checkpoint\n",
      "Model loaded: tinyissimoYOLO/NAdam_None_Airbus_256_BATCH_32_LR_0.0005/model/35_YOLO_best.pth.tar\n",
      "############################################\n",
      "Noise level 2: Slice: [1, 1], Percentage: 0.3\n",
      "############################################\n",
      "=> Loading checkpoint\n",
      "Model loaded: tinyissimoYOLO/NAdam_None_Airbus_256_BATCH_32_LR_0.0005/model/35_YOLO_best.pth.tar\n"
     ]
    },
    {
     "name": "stderr",
     "output_type": "stream",
     "text": [
      "Eval: Valid: : 100%|██████████| 2/2 [00:00<00:00,  8.02it/s]\n"
     ]
    },
    {
     "name": "stdout",
     "output_type": "stream",
     "text": [
      "---------------------------------------------------\n",
      "-------------Loss Summary eval Valid--------------\n",
      "Total Loss  |Loss Coord  |Conf Loss   |No Obj Loss |Class Loss  |\n",
      "30.704      |14.564      |10.965      |5.020       |0.154       |\n",
      "---------------------------------------------------\n",
      "Valid: \t mAP@50: 0.293855, mAP@75: 0.024074, mAP@90: 0.000000, Mean Loss: 30.703880\n",
      "array_param_shape: 232368\n",
      "=> Loading checkpoint\n",
      "Model loaded: tinyissimoYOLO/NAdam_None_Airbus_256_BATCH_32_LR_0.0005/model/35_YOLO_best.pth.tar\n"
     ]
    },
    {
     "name": "stderr",
     "output_type": "stream",
     "text": [
      "Eval: Valid: : 100%|██████████| 2/2 [00:00<00:00,  8.66it/s]\n"
     ]
    },
    {
     "name": "stdout",
     "output_type": "stream",
     "text": [
      "---------------------------------------------------\n",
      "-------------Loss Summary eval Valid--------------\n",
      "Total Loss  |Loss Coord  |Conf Loss   |No Obj Loss |Class Loss  |\n",
      "35.003      |17.158      |14.824      |2.872       |0.150       |\n",
      "---------------------------------------------------\n",
      "Valid: \t mAP@50: 0.154017, mAP@75: 0.003934, mAP@90: 0.000000, Mean Loss: 35.003247\n",
      "array_param_shape: 12336\n",
      "=> Loading checkpoint\n",
      "Model loaded: tinyissimoYOLO/NAdam_None_Airbus_256_BATCH_32_LR_0.0005/model/35_YOLO_best.pth.tar\n"
     ]
    },
    {
     "name": "stderr",
     "output_type": "stream",
     "text": [
      "Eval: Valid: : 100%|██████████| 2/2 [00:00<00:00,  4.23it/s]\n"
     ]
    },
    {
     "name": "stdout",
     "output_type": "stream",
     "text": [
      "---------------------------------------------------\n",
      "-------------Loss Summary eval Valid--------------\n",
      "Total Loss  |Loss Coord  |Conf Loss   |No Obj Loss |Class Loss  |\n",
      "47.642      |25.790      |20.780      |0.825       |0.247       |\n",
      "---------------------------------------------------\n",
      "Valid: \t mAP@50: 0.138280, mAP@75: 0.011696, mAP@90: 0.000000, Mean Loss: 47.641951\n",
      "array_param_shape: 605280\n",
      "Valid: \t mAP@50: 0.195384, mAP@75: 0.011696, mAP@90: 0.000000, Mean Loss: 37.783026\n",
      "=> Loading checkpoint\n",
      "Model loaded: tinyissimoYOLO/NAdam_None_Airbus_256_BATCH_32_LR_0.0005/model/35_YOLO_best.pth.tar\n",
      "############################################\n",
      "Noise level 2: Slice: [1, 1], Percentage: 0.5\n",
      "############################################\n",
      "=> Loading checkpoint\n",
      "Model loaded: tinyissimoYOLO/NAdam_None_Airbus_256_BATCH_32_LR_0.0005/model/35_YOLO_best.pth.tar\n"
     ]
    },
    {
     "name": "stderr",
     "output_type": "stream",
     "text": [
      "Eval: Valid: : 100%|██████████| 2/2 [00:00<00:00,  7.95it/s]\n"
     ]
    },
    {
     "name": "stdout",
     "output_type": "stream",
     "text": [
      "---------------------------------------------------\n",
      "-------------Loss Summary eval Valid--------------\n",
      "Total Loss  |Loss Coord  |Conf Loss   |No Obj Loss |Class Loss  |\n",
      "61.714      |26.852      |10.352      |23.807      |0.703       |\n",
      "---------------------------------------------------\n",
      "Valid: \t mAP@50: 0.104583, mAP@75: 0.002517, mAP@90: 0.000000, Mean Loss: 61.713587\n",
      "array_param_shape: 860512\n",
      "=> Loading checkpoint\n",
      "Model loaded: tinyissimoYOLO/NAdam_None_Airbus_256_BATCH_32_LR_0.0005/model/35_YOLO_best.pth.tar\n"
     ]
    },
    {
     "name": "stderr",
     "output_type": "stream",
     "text": [
      "Eval: Valid: : 100%|██████████| 2/2 [00:00<00:00,  8.56it/s]\n"
     ]
    },
    {
     "name": "stdout",
     "output_type": "stream",
     "text": [
      "---------------------------------------------------\n",
      "-------------Loss Summary eval Valid--------------\n",
      "Total Loss  |Loss Coord  |Conf Loss   |No Obj Loss |Class Loss  |\n",
      "69.793      |49.587      |13.211      |6.803       |0.192       |\n",
      "---------------------------------------------------\n",
      "Valid: \t mAP@50: 0.074176, mAP@75: 0.000381, mAP@90: 0.000000, Mean Loss: 69.792995\n",
      "array_param_shape: 745200\n",
      "=> Loading checkpoint\n",
      "Model loaded: tinyissimoYOLO/NAdam_None_Airbus_256_BATCH_32_LR_0.0005/model/35_YOLO_best.pth.tar\n"
     ]
    },
    {
     "name": "stderr",
     "output_type": "stream",
     "text": [
      "Eval: Valid: : 100%|██████████| 2/2 [00:00<00:00,  8.19it/s]\n"
     ]
    },
    {
     "name": "stdout",
     "output_type": "stream",
     "text": [
      "---------------------------------------------------\n",
      "-------------Loss Summary eval Valid--------------\n",
      "Total Loss  |Loss Coord  |Conf Loss   |No Obj Loss |Class Loss  |\n",
      "54.909      |23.351      |7.727       |23.051      |0.779       |\n",
      "---------------------------------------------------\n",
      "Valid: \t mAP@50: 0.218494, mAP@75: 0.011700, mAP@90: 0.000000, Mean Loss: 54.908510\n",
      "array_param_shape: 669120\n",
      "Valid: \t mAP@50: 0.132418, mAP@75: 0.011700, mAP@90: 0.000000, Mean Loss: 62.138364\n",
      "=> Loading checkpoint\n",
      "Model loaded: tinyissimoYOLO/NAdam_None_Airbus_256_BATCH_32_LR_0.0005/model/35_YOLO_best.pth.tar\n",
      "############################################\n",
      "Noise level 2: Slice: [1, 1], Percentage: 0.7\n",
      "############################################\n",
      "=> Loading checkpoint\n",
      "Model loaded: tinyissimoYOLO/NAdam_None_Airbus_256_BATCH_32_LR_0.0005/model/35_YOLO_best.pth.tar\n"
     ]
    },
    {
     "name": "stderr",
     "output_type": "stream",
     "text": [
      "Eval: Valid: : 100%|██████████| 2/2 [00:00<00:00,  6.52it/s]\n"
     ]
    },
    {
     "name": "stdout",
     "output_type": "stream",
     "text": [
      "---------------------------------------------------\n",
      "-------------Loss Summary eval Valid--------------\n",
      "Total Loss  |Loss Coord  |Conf Loss   |No Obj Loss |Class Loss  |\n",
      "21271.476   |12559.835   |763.717     |7743.588    |204.337     |\n",
      "---------------------------------------------------\n",
      "Valid: \t mAP@50: 0.000000, mAP@75: 0.000000, mAP@90: 0.000000, Mean Loss: 21271.476074\n",
      "array_param_shape: 854224\n",
      "=> Loading checkpoint\n",
      "Model loaded: tinyissimoYOLO/NAdam_None_Airbus_256_BATCH_32_LR_0.0005/model/35_YOLO_best.pth.tar\n"
     ]
    },
    {
     "name": "stderr",
     "output_type": "stream",
     "text": [
      "Eval: Valid: : 100%|██████████| 2/2 [00:00<00:00,  7.94it/s]\n"
     ]
    },
    {
     "name": "stdout",
     "output_type": "stream",
     "text": [
      "---------------------------------------------------\n",
      "-------------Loss Summary eval Valid--------------\n",
      "Total Loss  |Loss Coord  |Conf Loss   |No Obj Loss |Class Loss  |\n",
      "65.593      |39.806      |9.113       |16.397      |0.277       |\n",
      "---------------------------------------------------\n",
      "Valid: \t mAP@50: 0.242393, mAP@75: 0.002411, mAP@90: 0.000000, Mean Loss: 65.592978\n",
      "array_param_shape: 706528\n",
      "=> Loading checkpoint\n",
      "Model loaded: tinyissimoYOLO/NAdam_None_Airbus_256_BATCH_32_LR_0.0005/model/35_YOLO_best.pth.tar\n"
     ]
    },
    {
     "name": "stderr",
     "output_type": "stream",
     "text": [
      "Eval: Valid: : 100%|██████████| 2/2 [00:00<00:00,  6.88it/s]\n"
     ]
    },
    {
     "name": "stdout",
     "output_type": "stream",
     "text": [
      "---------------------------------------------------\n",
      "-------------Loss Summary eval Valid--------------\n",
      "Total Loss  |Loss Coord  |Conf Loss   |No Obj Loss |Class Loss  |\n",
      "697.239     |586.187     |12.200      |61.170      |37.683      |\n",
      "---------------------------------------------------\n",
      "Valid: \t mAP@50: 0.000000, mAP@75: 0.000000, mAP@90: 0.000000, Mean Loss: 697.238861\n",
      "array_param_shape: 258576\n",
      "Valid: \t mAP@50: 0.080798, mAP@75: 0.000000, mAP@90: 0.000000, Mean Loss: 7344.769304\n",
      "=> Loading checkpoint\n",
      "Model loaded: tinyissimoYOLO/NAdam_None_Airbus_256_BATCH_32_LR_0.0005/model/35_YOLO_best.pth.tar\n",
      "############################################\n",
      "Noise level 2: Slice: [1, 1], Percentage: 1\n",
      "############################################\n",
      "=> Loading checkpoint\n",
      "Model loaded: tinyissimoYOLO/NAdam_None_Airbus_256_BATCH_32_LR_0.0005/model/35_YOLO_best.pth.tar\n"
     ]
    },
    {
     "name": "stderr",
     "output_type": "stream",
     "text": [
      "Eval: Valid: : 100%|██████████| 2/2 [00:00<00:00,  8.12it/s]\n"
     ]
    },
    {
     "name": "stdout",
     "output_type": "stream",
     "text": [
      "---------------------------------------------------\n",
      "-------------Loss Summary eval Valid--------------\n",
      "Total Loss  |Loss Coord  |Conf Loss   |No Obj Loss |Class Loss  |\n",
      "140.821     |96.290      |20.569      |23.340      |0.621       |\n",
      "---------------------------------------------------\n",
      "Valid: \t mAP@50: 0.000778, mAP@75: 0.000000, mAP@90: 0.000000, Mean Loss: 140.820610\n",
      "array_param_shape: 903104\n",
      "=> Loading checkpoint\n",
      "Model loaded: tinyissimoYOLO/NAdam_None_Airbus_256_BATCH_32_LR_0.0005/model/35_YOLO_best.pth.tar\n"
     ]
    },
    {
     "name": "stderr",
     "output_type": "stream",
     "text": [
      "Eval: Valid: : 100%|██████████| 2/2 [00:00<00:00,  8.72it/s]\n"
     ]
    },
    {
     "name": "stdout",
     "output_type": "stream",
     "text": [
      "---------------------------------------------------\n",
      "-------------Loss Summary eval Valid--------------\n",
      "Total Loss  |Loss Coord  |Conf Loss   |No Obj Loss |Class Loss  |\n",
      "84.310      |40.369      |27.806      |13.655      |2.481       |\n",
      "---------------------------------------------------\n",
      "Valid: \t mAP@50: 0.020016, mAP@75: 0.000000, mAP@90: 0.000000, Mean Loss: 84.309929\n",
      "array_param_shape: 903104\n",
      "=> Loading checkpoint\n",
      "Model loaded: tinyissimoYOLO/NAdam_None_Airbus_256_BATCH_32_LR_0.0005/model/35_YOLO_best.pth.tar\n"
     ]
    },
    {
     "name": "stderr",
     "output_type": "stream",
     "text": [
      "Eval: Valid: : 100%|██████████| 2/2 [00:00<00:00,  5.49it/s]\n"
     ]
    },
    {
     "name": "stdout",
     "output_type": "stream",
     "text": [
      "---------------------------------------------------\n",
      "-------------Loss Summary eval Valid--------------\n",
      "Total Loss  |Loss Coord  |Conf Loss   |No Obj Loss |Class Loss  |\n",
      "979.777     |425.307     |114.388     |425.094     |14.988      |\n",
      "---------------------------------------------------\n",
      "Valid: \t mAP@50: 0.001343, mAP@75: 0.000000, mAP@90: 0.000000, Mean Loss: 979.776672\n",
      "array_param_shape: 903104\n",
      "Valid: \t mAP@50: 0.007379, mAP@75: 0.000000, mAP@90: 0.000000, Mean Loss: 401.635737\n"
     ]
    }
   ],
   "source": [
    "from eval_noise import test_noise\n",
    "case1=False\n",
    "case2=True\n",
    "percentage_layers_case_2 = [0, 0.3, 0.5, 0.7, 1] if case2 else [0]\n",
    "\n",
    "#prueba 4\n",
    "slices_case2 = [1,1]\n",
    "interval_2 = (-2,2)\n",
    "percentage_tensors_2 = 0.003\n",
    "\n",
    "test_noise( case1=case1, percentage_layers_case_1=[0], slices_case1 = [0,0],\n",
    "           case2=case2, percentage_layers_case_2=percentage_layers_case_2, slices_case2 = slices_case2, interval_2 = interval_2, percentage_tensors_2= percentage_tensors_2)"
   ]
  },
  {
   "cell_type": "code",
   "execution_count": 3,
   "id": "aca5d0df-0e40-4d56-8484-eed14bfef2fc",
   "metadata": {
    "scrolled": true
   },
   "outputs": [
    {
     "name": "stdout",
     "output_type": "stream",
     "text": [
      "Test with case1: False, case2: True\n",
      "File case2_results_noise_slices_3_interval2_-32_2_p_0.001.txt exists. Deleting...\n",
      "Results will be saved in: case2_results_noise_slices_3_interval2_-32_2_p_0.001.txt\n",
      "=> Loading checkpoint\n",
      "Model loaded: tinyissimoYOLO/NAdam_None_Airbus_256_BATCH_32_LR_0.0005/model/35_YOLO_best.pth.tar\n",
      "############################################\n",
      "Noise level 2: Slice: [1, 3], Percentage: 0\n",
      "############################################\n",
      "=> Loading checkpoint\n",
      "Model loaded: tinyissimoYOLO/NAdam_None_Airbus_256_BATCH_32_LR_0.0005/model/35_YOLO_best.pth.tar\n"
     ]
    },
    {
     "name": "stderr",
     "output_type": "stream",
     "text": [
      "Eval: Valid: : 100%|██████████| 2/2 [00:00<00:00,  7.74it/s]\n"
     ]
    },
    {
     "name": "stdout",
     "output_type": "stream",
     "text": [
      "---------------------------------------------------\n",
      "-------------Loss Summary eval Valid--------------\n",
      "Total Loss  |Loss Coord  |Conf Loss   |No Obj Loss |Class Loss  |\n",
      "14.051      |7.427       |4.128       |2.466       |0.030       |\n",
      "---------------------------------------------------\n",
      "Valid: \t mAP@50: 0.756015, mAP@75: 0.301328, mAP@90: 0.001536, Mean Loss: 14.050551\n",
      "array_param_shape: 0\n",
      "=> Loading checkpoint\n",
      "Model loaded: tinyissimoYOLO/NAdam_None_Airbus_256_BATCH_32_LR_0.0005/model/35_YOLO_best.pth.tar\n"
     ]
    },
    {
     "name": "stderr",
     "output_type": "stream",
     "text": [
      "Eval: Valid: : 100%|██████████| 2/2 [00:00<00:00,  8.28it/s]\n"
     ]
    },
    {
     "name": "stdout",
     "output_type": "stream",
     "text": [
      "---------------------------------------------------\n",
      "-------------Loss Summary eval Valid--------------\n",
      "Total Loss  |Loss Coord  |Conf Loss   |No Obj Loss |Class Loss  |\n",
      "14.051      |7.427       |4.128       |2.466       |0.030       |\n",
      "---------------------------------------------------\n",
      "Valid: \t mAP@50: 0.756015, mAP@75: 0.301328, mAP@90: 0.001536, Mean Loss: 14.050553\n",
      "array_param_shape: 0\n",
      "=> Loading checkpoint\n",
      "Model loaded: tinyissimoYOLO/NAdam_None_Airbus_256_BATCH_32_LR_0.0005/model/35_YOLO_best.pth.tar\n"
     ]
    },
    {
     "name": "stderr",
     "output_type": "stream",
     "text": [
      "Eval: Valid: : 100%|██████████| 2/2 [00:00<00:00,  8.59it/s]\n"
     ]
    },
    {
     "name": "stdout",
     "output_type": "stream",
     "text": [
      "---------------------------------------------------\n",
      "-------------Loss Summary eval Valid--------------\n",
      "Total Loss  |Loss Coord  |Conf Loss   |No Obj Loss |Class Loss  |\n",
      "14.051      |7.427       |4.128       |2.466       |0.030       |\n",
      "---------------------------------------------------\n",
      "Valid: \t mAP@50: 0.756015, mAP@75: 0.301328, mAP@90: 0.001536, Mean Loss: 14.050551\n",
      "array_param_shape: 0\n",
      "Valid: \t mAP@50: 0.756015, mAP@75: 0.301328, mAP@90: 0.001536, Mean Loss: 14.050552\n",
      "=> Loading checkpoint\n",
      "Model loaded: tinyissimoYOLO/NAdam_None_Airbus_256_BATCH_32_LR_0.0005/model/35_YOLO_best.pth.tar\n",
      "############################################\n",
      "Noise level 2: Slice: [2, 3], Percentage: 0\n",
      "############################################\n",
      "=> Loading checkpoint\n",
      "Model loaded: tinyissimoYOLO/NAdam_None_Airbus_256_BATCH_32_LR_0.0005/model/35_YOLO_best.pth.tar\n"
     ]
    },
    {
     "name": "stderr",
     "output_type": "stream",
     "text": [
      "Eval: Valid: : 100%|██████████| 2/2 [00:00<00:00,  8.35it/s]\n"
     ]
    },
    {
     "name": "stdout",
     "output_type": "stream",
     "text": [
      "---------------------------------------------------\n",
      "-------------Loss Summary eval Valid--------------\n",
      "Total Loss  |Loss Coord  |Conf Loss   |No Obj Loss |Class Loss  |\n",
      "14.051      |7.427       |4.128       |2.466       |0.030       |\n",
      "---------------------------------------------------\n",
      "Valid: \t mAP@50: 0.756015, mAP@75: 0.301328, mAP@90: 0.001536, Mean Loss: 14.050553\n",
      "array_param_shape: 0\n",
      "=> Loading checkpoint\n",
      "Model loaded: tinyissimoYOLO/NAdam_None_Airbus_256_BATCH_32_LR_0.0005/model/35_YOLO_best.pth.tar\n"
     ]
    },
    {
     "name": "stderr",
     "output_type": "stream",
     "text": [
      "Eval: Valid: : 100%|██████████| 2/2 [00:00<00:00,  8.21it/s]\n"
     ]
    },
    {
     "name": "stdout",
     "output_type": "stream",
     "text": [
      "---------------------------------------------------\n",
      "-------------Loss Summary eval Valid--------------\n",
      "Total Loss  |Loss Coord  |Conf Loss   |No Obj Loss |Class Loss  |\n",
      "14.051      |7.427       |4.128       |2.466       |0.030       |\n",
      "---------------------------------------------------\n",
      "Valid: \t mAP@50: 0.756015, mAP@75: 0.301328, mAP@90: 0.001536, Mean Loss: 14.050552\n",
      "array_param_shape: 0\n",
      "=> Loading checkpoint\n",
      "Model loaded: tinyissimoYOLO/NAdam_None_Airbus_256_BATCH_32_LR_0.0005/model/35_YOLO_best.pth.tar\n"
     ]
    },
    {
     "name": "stderr",
     "output_type": "stream",
     "text": [
      "Eval: Valid: : 100%|██████████| 2/2 [00:00<00:00,  7.84it/s]\n"
     ]
    },
    {
     "name": "stdout",
     "output_type": "stream",
     "text": [
      "---------------------------------------------------\n",
      "-------------Loss Summary eval Valid--------------\n",
      "Total Loss  |Loss Coord  |Conf Loss   |No Obj Loss |Class Loss  |\n",
      "14.051      |7.427       |4.128       |2.466       |0.030       |\n",
      "---------------------------------------------------\n",
      "Valid: \t mAP@50: 0.756015, mAP@75: 0.301328, mAP@90: 0.001536, Mean Loss: 14.050553\n",
      "array_param_shape: 0\n",
      "Valid: \t mAP@50: 0.756015, mAP@75: 0.301328, mAP@90: 0.001536, Mean Loss: 14.050553\n",
      "=> Loading checkpoint\n",
      "Model loaded: tinyissimoYOLO/NAdam_None_Airbus_256_BATCH_32_LR_0.0005/model/35_YOLO_best.pth.tar\n",
      "############################################\n",
      "Noise level 2: Slice: [3, 3], Percentage: 0\n",
      "############################################\n",
      "=> Loading checkpoint\n",
      "Model loaded: tinyissimoYOLO/NAdam_None_Airbus_256_BATCH_32_LR_0.0005/model/35_YOLO_best.pth.tar\n"
     ]
    },
    {
     "name": "stderr",
     "output_type": "stream",
     "text": [
      "Eval: Valid: : 100%|██████████| 2/2 [00:00<00:00,  8.49it/s]\n"
     ]
    },
    {
     "name": "stdout",
     "output_type": "stream",
     "text": [
      "---------------------------------------------------\n",
      "-------------Loss Summary eval Valid--------------\n",
      "Total Loss  |Loss Coord  |Conf Loss   |No Obj Loss |Class Loss  |\n",
      "14.051      |7.427       |4.128       |2.466       |0.030       |\n",
      "---------------------------------------------------\n",
      "Valid: \t mAP@50: 0.756015, mAP@75: 0.301328, mAP@90: 0.001536, Mean Loss: 14.050552\n",
      "array_param_shape: 0\n",
      "=> Loading checkpoint\n",
      "Model loaded: tinyissimoYOLO/NAdam_None_Airbus_256_BATCH_32_LR_0.0005/model/35_YOLO_best.pth.tar\n"
     ]
    },
    {
     "name": "stderr",
     "output_type": "stream",
     "text": [
      "Eval: Valid: : 100%|██████████| 2/2 [00:00<00:00,  8.59it/s]\n"
     ]
    },
    {
     "name": "stdout",
     "output_type": "stream",
     "text": [
      "---------------------------------------------------\n",
      "-------------Loss Summary eval Valid--------------\n",
      "Total Loss  |Loss Coord  |Conf Loss   |No Obj Loss |Class Loss  |\n",
      "14.051      |7.427       |4.128       |2.466       |0.030       |\n",
      "---------------------------------------------------\n",
      "Valid: \t mAP@50: 0.756015, mAP@75: 0.301328, mAP@90: 0.001536, Mean Loss: 14.050552\n",
      "array_param_shape: 0\n",
      "=> Loading checkpoint\n",
      "Model loaded: tinyissimoYOLO/NAdam_None_Airbus_256_BATCH_32_LR_0.0005/model/35_YOLO_best.pth.tar\n"
     ]
    },
    {
     "name": "stderr",
     "output_type": "stream",
     "text": [
      "Eval: Valid: : 100%|██████████| 2/2 [00:00<00:00,  8.24it/s]\n"
     ]
    },
    {
     "name": "stdout",
     "output_type": "stream",
     "text": [
      "---------------------------------------------------\n",
      "-------------Loss Summary eval Valid--------------\n",
      "Total Loss  |Loss Coord  |Conf Loss   |No Obj Loss |Class Loss  |\n",
      "14.051      |7.427       |4.128       |2.466       |0.030       |\n",
      "---------------------------------------------------\n",
      "Valid: \t mAP@50: 0.756015, mAP@75: 0.301328, mAP@90: 0.001536, Mean Loss: 14.050553\n",
      "array_param_shape: 0\n",
      "Valid: \t mAP@50: 0.756015, mAP@75: 0.301328, mAP@90: 0.001536, Mean Loss: 14.050553\n",
      "=> Loading checkpoint\n",
      "Model loaded: tinyissimoYOLO/NAdam_None_Airbus_256_BATCH_32_LR_0.0005/model/35_YOLO_best.pth.tar\n",
      "############################################\n",
      "Noise level 2: Slice: [1, 3], Percentage: 0.3\n",
      "############################################\n",
      "=> Loading checkpoint\n",
      "Model loaded: tinyissimoYOLO/NAdam_None_Airbus_256_BATCH_32_LR_0.0005/model/35_YOLO_best.pth.tar\n"
     ]
    },
    {
     "name": "stderr",
     "output_type": "stream",
     "text": [
      "Eval: Valid: : 100%|██████████| 2/2 [00:00<00:00,  7.90it/s]\n"
     ]
    },
    {
     "name": "stdout",
     "output_type": "stream",
     "text": [
      "---------------------------------------------------\n",
      "-------------Loss Summary eval Valid--------------\n",
      "Total Loss  |Loss Coord  |Conf Loss   |No Obj Loss |Class Loss  |\n",
      "14.394      |7.669       |4.352       |2.339       |0.034       |\n",
      "---------------------------------------------------\n",
      "Valid: \t mAP@50: 0.764564, mAP@75: 0.250853, mAP@90: 0.000731, Mean Loss: 14.393941\n",
      "array_param_shape: 5072\n",
      "=> Loading checkpoint\n",
      "Model loaded: tinyissimoYOLO/NAdam_None_Airbus_256_BATCH_32_LR_0.0005/model/35_YOLO_best.pth.tar\n"
     ]
    },
    {
     "name": "stderr",
     "output_type": "stream",
     "text": [
      "Eval: Valid: : 100%|██████████| 2/2 [00:00<00:00,  8.65it/s]\n"
     ]
    },
    {
     "name": "stdout",
     "output_type": "stream",
     "text": [
      "---------------------------------------------------\n",
      "-------------Loss Summary eval Valid--------------\n",
      "Total Loss  |Loss Coord  |Conf Loss   |No Obj Loss |Class Loss  |\n",
      "21.630      |12.356      |6.355       |2.884       |0.034       |\n",
      "---------------------------------------------------\n",
      "Valid: \t mAP@50: 0.559113, mAP@75: 0.128431, mAP@90: 0.000462, Mean Loss: 21.630124\n",
      "array_param_shape: 4656\n",
      "=> Loading checkpoint\n",
      "Model loaded: tinyissimoYOLO/NAdam_None_Airbus_256_BATCH_32_LR_0.0005/model/35_YOLO_best.pth.tar\n"
     ]
    },
    {
     "name": "stderr",
     "output_type": "stream",
     "text": [
      "Eval: Valid: : 100%|██████████| 2/2 [00:00<00:00,  8.43it/s]\n"
     ]
    },
    {
     "name": "stdout",
     "output_type": "stream",
     "text": [
      "---------------------------------------------------\n",
      "-------------Loss Summary eval Valid--------------\n",
      "Total Loss  |Loss Coord  |Conf Loss   |No Obj Loss |Class Loss  |\n",
      "16.756      |9.097       |5.809       |1.809       |0.041       |\n",
      "---------------------------------------------------\n",
      "Valid: \t mAP@50: 0.674290, mAP@75: 0.269636, mAP@90: 0.000000, Mean Loss: 16.756298\n",
      "array_param_shape: 6960\n",
      "Valid: \t mAP@50: 0.665989, mAP@75: 0.269636, mAP@90: 0.000000, Mean Loss: 17.593455\n",
      "=> Loading checkpoint\n",
      "Model loaded: tinyissimoYOLO/NAdam_None_Airbus_256_BATCH_32_LR_0.0005/model/35_YOLO_best.pth.tar\n",
      "############################################\n",
      "Noise level 2: Slice: [2, 3], Percentage: 0.3\n",
      "############################################\n",
      "=> Loading checkpoint\n",
      "Model loaded: tinyissimoYOLO/NAdam_None_Airbus_256_BATCH_32_LR_0.0005/model/35_YOLO_best.pth.tar\n"
     ]
    },
    {
     "name": "stderr",
     "output_type": "stream",
     "text": [
      "Eval: Valid: : 100%|██████████| 2/2 [00:00<00:00,  8.04it/s]\n"
     ]
    },
    {
     "name": "stdout",
     "output_type": "stream",
     "text": [
      "---------------------------------------------------\n",
      "-------------Loss Summary eval Valid--------------\n",
      "Total Loss  |Loss Coord  |Conf Loss   |No Obj Loss |Class Loss  |\n",
      "15.401      |8.437       |4.303       |2.627       |0.034       |\n",
      "---------------------------------------------------\n",
      "Valid: \t mAP@50: 0.784100, mAP@75: 0.190800, mAP@90: 0.005193, Mean Loss: 15.400850\n",
      "array_param_shape: 37024\n",
      "=> Loading checkpoint\n",
      "Model loaded: tinyissimoYOLO/NAdam_None_Airbus_256_BATCH_32_LR_0.0005/model/35_YOLO_best.pth.tar\n"
     ]
    },
    {
     "name": "stderr",
     "output_type": "stream",
     "text": [
      "Eval: Valid: : 100%|██████████| 2/2 [00:00<00:00,  8.58it/s]\n"
     ]
    },
    {
     "name": "stdout",
     "output_type": "stream",
     "text": [
      "---------------------------------------------------\n",
      "-------------Loss Summary eval Valid--------------\n",
      "Total Loss  |Loss Coord  |Conf Loss   |No Obj Loss |Class Loss  |\n",
      "15.228      |7.968       |4.889       |2.320       |0.051       |\n",
      "---------------------------------------------------\n",
      "Valid: \t mAP@50: 0.717497, mAP@75: 0.303802, mAP@90: 0.022222, Mean Loss: 15.228267\n",
      "array_param_shape: 55392\n",
      "=> Loading checkpoint\n",
      "Model loaded: tinyissimoYOLO/NAdam_None_Airbus_256_BATCH_32_LR_0.0005/model/35_YOLO_best.pth.tar\n"
     ]
    },
    {
     "name": "stderr",
     "output_type": "stream",
     "text": [
      "Eval: Valid: : 100%|██████████| 2/2 [00:00<00:00,  8.77it/s]\n"
     ]
    },
    {
     "name": "stdout",
     "output_type": "stream",
     "text": [
      "---------------------------------------------------\n",
      "-------------Loss Summary eval Valid--------------\n",
      "Total Loss  |Loss Coord  |Conf Loss   |No Obj Loss |Class Loss  |\n",
      "19.802      |10.068      |8.111       |1.546       |0.077       |\n",
      "---------------------------------------------------\n",
      "Valid: \t mAP@50: 0.574169, mAP@75: 0.183318, mAP@90: 0.007699, Mean Loss: 19.801969\n",
      "array_param_shape: 18592\n",
      "Valid: \t mAP@50: 0.691922, mAP@75: 0.183318, mAP@90: 0.007699, Mean Loss: 16.810362\n",
      "=> Loading checkpoint\n",
      "Model loaded: tinyissimoYOLO/NAdam_None_Airbus_256_BATCH_32_LR_0.0005/model/35_YOLO_best.pth.tar\n",
      "############################################\n",
      "Noise level 2: Slice: [3, 3], Percentage: 0.3\n",
      "############################################\n",
      "=> Loading checkpoint\n",
      "Model loaded: tinyissimoYOLO/NAdam_None_Airbus_256_BATCH_32_LR_0.0005/model/35_YOLO_best.pth.tar\n"
     ]
    },
    {
     "name": "stderr",
     "output_type": "stream",
     "text": [
      "Eval: Valid: : 100%|██████████| 2/2 [00:00<00:00,  8.02it/s]\n"
     ]
    },
    {
     "name": "stdout",
     "output_type": "stream",
     "text": [
      "---------------------------------------------------\n",
      "-------------Loss Summary eval Valid--------------\n",
      "Total Loss  |Loss Coord  |Conf Loss   |No Obj Loss |Class Loss  |\n",
      "14.048      |7.424       |4.127       |2.468       |0.030       |\n",
      "---------------------------------------------------\n",
      "Valid: \t mAP@50: 0.756313, mAP@75: 0.301328, mAP@90: 0.001536, Mean Loss: 14.048406\n",
      "array_param_shape: 576\n",
      "=> Loading checkpoint\n",
      "Model loaded: tinyissimoYOLO/NAdam_None_Airbus_256_BATCH_32_LR_0.0005/model/35_YOLO_best.pth.tar\n"
     ]
    },
    {
     "name": "stderr",
     "output_type": "stream",
     "text": [
      "Eval: Valid: : 100%|██████████| 2/2 [00:00<00:00,  8.21it/s]\n"
     ]
    },
    {
     "name": "stdout",
     "output_type": "stream",
     "text": [
      "---------------------------------------------------\n",
      "-------------Loss Summary eval Valid--------------\n",
      "Total Loss  |Loss Coord  |Conf Loss   |No Obj Loss |Class Loss  |\n",
      "22.063      |11.792      |4.641       |5.433       |0.197       |\n",
      "---------------------------------------------------\n",
      "Valid: \t mAP@50: 0.439118, mAP@75: 0.060201, mAP@90: 0.001754, Mean Loss: 22.063498\n",
      "array_param_shape: 524736\n",
      "=> Loading checkpoint\n",
      "Model loaded: tinyissimoYOLO/NAdam_None_Airbus_256_BATCH_32_LR_0.0005/model/35_YOLO_best.pth.tar\n"
     ]
    },
    {
     "name": "stderr",
     "output_type": "stream",
     "text": [
      "Eval: Valid: : 100%|██████████| 2/2 [00:00<00:00,  8.24it/s]\n"
     ]
    },
    {
     "name": "stdout",
     "output_type": "stream",
     "text": [
      "---------------------------------------------------\n",
      "-------------Loss Summary eval Valid--------------\n",
      "Total Loss  |Loss Coord  |Conf Loss   |No Obj Loss |Class Loss  |\n",
      "24.397      |12.892      |4.448       |6.853       |0.204       |\n",
      "---------------------------------------------------\n",
      "Valid: \t mAP@50: 0.455983, mAP@75: 0.169991, mAP@90: 0.003398, Mean Loss: 24.397042\n",
      "array_param_shape: 45568\n",
      "Valid: \t mAP@50: 0.550472, mAP@75: 0.169991, mAP@90: 0.003398, Mean Loss: 20.169649\n",
      "=> Loading checkpoint\n",
      "Model loaded: tinyissimoYOLO/NAdam_None_Airbus_256_BATCH_32_LR_0.0005/model/35_YOLO_best.pth.tar\n",
      "############################################\n",
      "Noise level 2: Slice: [1, 3], Percentage: 0.5\n",
      "############################################\n",
      "=> Loading checkpoint\n",
      "Model loaded: tinyissimoYOLO/NAdam_None_Airbus_256_BATCH_32_LR_0.0005/model/35_YOLO_best.pth.tar\n"
     ]
    },
    {
     "name": "stderr",
     "output_type": "stream",
     "text": [
      "Eval: Valid: : 100%|██████████| 2/2 [00:00<00:00,  8.01it/s]\n"
     ]
    },
    {
     "name": "stdout",
     "output_type": "stream",
     "text": [
      "---------------------------------------------------\n",
      "-------------Loss Summary eval Valid--------------\n",
      "Total Loss  |Loss Coord  |Conf Loss   |No Obj Loss |Class Loss  |\n",
      "20.563      |9.649       |8.888       |1.935       |0.092       |\n",
      "---------------------------------------------------\n",
      "Valid: \t mAP@50: 0.540203, mAP@75: 0.198300, mAP@90: 0.005004, Mean Loss: 20.562779\n",
      "array_param_shape: 9280\n",
      "=> Loading checkpoint\n",
      "Model loaded: tinyissimoYOLO/NAdam_None_Airbus_256_BATCH_32_LR_0.0005/model/35_YOLO_best.pth.tar\n"
     ]
    },
    {
     "name": "stderr",
     "output_type": "stream",
     "text": [
      "Eval: Valid: : 100%|██████████| 2/2 [00:00<00:00,  8.34it/s]\n"
     ]
    },
    {
     "name": "stdout",
     "output_type": "stream",
     "text": [
      "---------------------------------------------------\n",
      "-------------Loss Summary eval Valid--------------\n",
      "Total Loss  |Loss Coord  |Conf Loss   |No Obj Loss |Class Loss  |\n",
      "16.046      |8.922       |4.707       |2.380       |0.036       |\n",
      "---------------------------------------------------\n",
      "Valid: \t mAP@50: 0.734605, mAP@75: 0.246774, mAP@90: 0.002833, Mean Loss: 16.046082\n",
      "array_param_shape: 4704\n",
      "=> Loading checkpoint\n",
      "Model loaded: tinyissimoYOLO/NAdam_None_Airbus_256_BATCH_32_LR_0.0005/model/35_YOLO_best.pth.tar\n"
     ]
    },
    {
     "name": "stderr",
     "output_type": "stream",
     "text": [
      "Eval: Valid: : 100%|██████████| 2/2 [00:00<00:00,  8.39it/s]\n"
     ]
    },
    {
     "name": "stdout",
     "output_type": "stream",
     "text": [
      "---------------------------------------------------\n",
      "-------------Loss Summary eval Valid--------------\n",
      "Total Loss  |Loss Coord  |Conf Loss   |No Obj Loss |Class Loss  |\n",
      "14.963      |7.982       |4.709       |2.236       |0.036       |\n",
      "---------------------------------------------------\n",
      "Valid: \t mAP@50: 0.757478, mAP@75: 0.309828, mAP@90: 0.000675, Mean Loss: 14.963072\n",
      "array_param_shape: 2816\n",
      "Valid: \t mAP@50: 0.677429, mAP@75: 0.309828, mAP@90: 0.000675, Mean Loss: 17.190645\n",
      "=> Loading checkpoint\n",
      "Model loaded: tinyissimoYOLO/NAdam_None_Airbus_256_BATCH_32_LR_0.0005/model/35_YOLO_best.pth.tar\n",
      "############################################\n",
      "Noise level 2: Slice: [2, 3], Percentage: 0.5\n",
      "############################################\n",
      "=> Loading checkpoint\n",
      "Model loaded: tinyissimoYOLO/NAdam_None_Airbus_256_BATCH_32_LR_0.0005/model/35_YOLO_best.pth.tar\n"
     ]
    },
    {
     "name": "stderr",
     "output_type": "stream",
     "text": [
      "Eval: Valid: : 100%|██████████| 2/2 [00:00<00:00,  7.85it/s]\n"
     ]
    },
    {
     "name": "stdout",
     "output_type": "stream",
     "text": [
      "---------------------------------------------------\n",
      "-------------Loss Summary eval Valid--------------\n",
      "Total Loss  |Loss Coord  |Conf Loss   |No Obj Loss |Class Loss  |\n",
      "29.203      |16.415      |9.460       |3.163       |0.164       |\n",
      "---------------------------------------------------\n",
      "Valid: \t mAP@50: 0.295128, mAP@75: 0.061171, mAP@90: 0.000000, Mean Loss: 29.203002\n",
      "array_param_shape: 101504\n",
      "=> Loading checkpoint\n",
      "Model loaded: tinyissimoYOLO/NAdam_None_Airbus_256_BATCH_32_LR_0.0005/model/35_YOLO_best.pth.tar\n"
     ]
    },
    {
     "name": "stderr",
     "output_type": "stream",
     "text": [
      "Eval: Valid: : 100%|██████████| 2/2 [00:00<00:00,  8.41it/s]\n"
     ]
    },
    {
     "name": "stdout",
     "output_type": "stream",
     "text": [
      "---------------------------------------------------\n",
      "-------------Loss Summary eval Valid--------------\n",
      "Total Loss  |Loss Coord  |Conf Loss   |No Obj Loss |Class Loss  |\n",
      "18.293      |8.738       |5.616       |3.795       |0.144       |\n",
      "---------------------------------------------------\n",
      "Valid: \t mAP@50: 0.685653, mAP@75: 0.261590, mAP@90: 0.001511, Mean Loss: 18.292872\n",
      "array_param_shape: 73920\n",
      "=> Loading checkpoint\n",
      "Model loaded: tinyissimoYOLO/NAdam_None_Airbus_256_BATCH_32_LR_0.0005/model/35_YOLO_best.pth.tar\n"
     ]
    },
    {
     "name": "stderr",
     "output_type": "stream",
     "text": [
      "Eval: Valid: : 100%|██████████| 2/2 [00:00<00:00,  8.60it/s]\n"
     ]
    },
    {
     "name": "stdout",
     "output_type": "stream",
     "text": [
      "---------------------------------------------------\n",
      "-------------Loss Summary eval Valid--------------\n",
      "Total Loss  |Loss Coord  |Conf Loss   |No Obj Loss |Class Loss  |\n",
      "23.252      |13.992      |6.113       |3.067       |0.080       |\n",
      "---------------------------------------------------\n",
      "Valid: \t mAP@50: 0.519813, mAP@75: 0.072831, mAP@90: 0.000439, Mean Loss: 23.252399\n",
      "array_param_shape: 55520\n",
      "Valid: \t mAP@50: 0.500198, mAP@75: 0.072831, mAP@90: 0.000439, Mean Loss: 23.582758\n",
      "=> Loading checkpoint\n",
      "Model loaded: tinyissimoYOLO/NAdam_None_Airbus_256_BATCH_32_LR_0.0005/model/35_YOLO_best.pth.tar\n",
      "############################################\n",
      "Noise level 2: Slice: [3, 3], Percentage: 0.5\n",
      "############################################\n",
      "=> Loading checkpoint\n",
      "Model loaded: tinyissimoYOLO/NAdam_None_Airbus_256_BATCH_32_LR_0.0005/model/35_YOLO_best.pth.tar\n"
     ]
    },
    {
     "name": "stderr",
     "output_type": "stream",
     "text": [
      "Eval: Valid: : 100%|██████████| 2/2 [00:00<00:00,  7.80it/s]\n"
     ]
    },
    {
     "name": "stdout",
     "output_type": "stream",
     "text": [
      "---------------------------------------------------\n",
      "-------------Loss Summary eval Valid--------------\n",
      "Total Loss  |Loss Coord  |Conf Loss   |No Obj Loss |Class Loss  |\n",
      "24.132      |13.269      |5.955       |4.726       |0.182       |\n",
      "---------------------------------------------------\n",
      "Valid: \t mAP@50: 0.594501, mAP@75: 0.067459, mAP@90: 0.000000, Mean Loss: 24.131939\n",
      "array_param_shape: 672320\n",
      "=> Loading checkpoint\n",
      "Model loaded: tinyissimoYOLO/NAdam_None_Airbus_256_BATCH_32_LR_0.0005/model/35_YOLO_best.pth.tar\n"
     ]
    },
    {
     "name": "stderr",
     "output_type": "stream",
     "text": [
      "Eval: Valid: : 100%|██████████| 2/2 [00:00<00:00,  7.66it/s]\n"
     ]
    },
    {
     "name": "stdout",
     "output_type": "stream",
     "text": [
      "---------------------------------------------------\n",
      "-------------Loss Summary eval Valid--------------\n",
      "Total Loss  |Loss Coord  |Conf Loss   |No Obj Loss |Class Loss  |\n",
      "18.156      |9.779       |4.084       |4.217       |0.076       |\n",
      "---------------------------------------------------\n",
      "Valid: \t mAP@50: 0.680651, mAP@75: 0.095282, mAP@90: 0.000487, Mean Loss: 18.155980\n",
      "array_param_shape: 45568\n",
      "=> Loading checkpoint\n",
      "Model loaded: tinyissimoYOLO/NAdam_None_Airbus_256_BATCH_32_LR_0.0005/model/35_YOLO_best.pth.tar\n"
     ]
    },
    {
     "name": "stderr",
     "output_type": "stream",
     "text": [
      "Eval: Valid: : 100%|██████████| 2/2 [00:00<00:00,  8.14it/s]\n"
     ]
    },
    {
     "name": "stdout",
     "output_type": "stream",
     "text": [
      "---------------------------------------------------\n",
      "-------------Loss Summary eval Valid--------------\n",
      "Total Loss  |Loss Coord  |Conf Loss   |No Obj Loss |Class Loss  |\n",
      "44.144      |22.886      |7.986       |12.659      |0.613       |\n",
      "---------------------------------------------------\n",
      "Valid: \t mAP@50: 0.459952, mAP@75: 0.046851, mAP@90: 0.000000, Mean Loss: 44.144186\n",
      "array_param_shape: 643456\n",
      "Valid: \t mAP@50: 0.578368, mAP@75: 0.046851, mAP@90: 0.000000, Mean Loss: 28.810702\n",
      "=> Loading checkpoint\n",
      "Model loaded: tinyissimoYOLO/NAdam_None_Airbus_256_BATCH_32_LR_0.0005/model/35_YOLO_best.pth.tar\n",
      "############################################\n",
      "Noise level 2: Slice: [1, 3], Percentage: 0.7\n",
      "############################################\n",
      "=> Loading checkpoint\n",
      "Model loaded: tinyissimoYOLO/NAdam_None_Airbus_256_BATCH_32_LR_0.0005/model/35_YOLO_best.pth.tar\n"
     ]
    },
    {
     "name": "stderr",
     "output_type": "stream",
     "text": [
      "Eval: Valid: : 100%|██████████| 2/2 [00:00<00:00,  7.15it/s]\n"
     ]
    },
    {
     "name": "stdout",
     "output_type": "stream",
     "text": [
      "---------------------------------------------------\n",
      "-------------Loss Summary eval Valid--------------\n",
      "Total Loss  |Loss Coord  |Conf Loss   |No Obj Loss |Class Loss  |\n",
      "33.442      |20.656      |10.028      |2.686       |0.072       |\n",
      "---------------------------------------------------\n",
      "Valid: \t mAP@50: 0.407309, mAP@75: 0.097621, mAP@90: 0.017544, Mean Loss: 33.441987\n",
      "array_param_shape: 5136\n",
      "=> Loading checkpoint\n",
      "Model loaded: tinyissimoYOLO/NAdam_None_Airbus_256_BATCH_32_LR_0.0005/model/35_YOLO_best.pth.tar\n"
     ]
    },
    {
     "name": "stderr",
     "output_type": "stream",
     "text": [
      "Eval: Valid: : 100%|██████████| 2/2 [00:00<00:00,  8.68it/s]\n"
     ]
    },
    {
     "name": "stdout",
     "output_type": "stream",
     "text": [
      "---------------------------------------------------\n",
      "-------------Loss Summary eval Valid--------------\n",
      "Total Loss  |Loss Coord  |Conf Loss   |No Obj Loss |Class Loss  |\n",
      "62.349      |38.329      |21.182      |2.766       |0.072       |\n",
      "---------------------------------------------------\n",
      "Valid: \t mAP@50: 0.038158, mAP@75: 0.000000, mAP@90: 0.000000, Mean Loss: 62.348841\n",
      "array_param_shape: 9712\n",
      "=> Loading checkpoint\n",
      "Model loaded: tinyissimoYOLO/NAdam_None_Airbus_256_BATCH_32_LR_0.0005/model/35_YOLO_best.pth.tar\n"
     ]
    },
    {
     "name": "stderr",
     "output_type": "stream",
     "text": [
      "Eval: Valid: : 100%|██████████| 2/2 [00:00<00:00,  8.40it/s]\n"
     ]
    },
    {
     "name": "stdout",
     "output_type": "stream",
     "text": [
      "---------------------------------------------------\n",
      "-------------Loss Summary eval Valid--------------\n",
      "Total Loss  |Loss Coord  |Conf Loss   |No Obj Loss |Class Loss  |\n",
      "18.169      |9.902       |6.011       |2.224       |0.032       |\n",
      "---------------------------------------------------\n",
      "Valid: \t mAP@50: 0.661530, mAP@75: 0.202925, mAP@90: 0.001096, Mean Loss: 18.168929\n",
      "array_param_shape: 5152\n",
      "Valid: \t mAP@50: 0.368999, mAP@75: 0.202925, mAP@90: 0.001096, Mean Loss: 37.986586\n",
      "=> Loading checkpoint\n",
      "Model loaded: tinyissimoYOLO/NAdam_None_Airbus_256_BATCH_32_LR_0.0005/model/35_YOLO_best.pth.tar\n",
      "############################################\n",
      "Noise level 2: Slice: [2, 3], Percentage: 0.7\n",
      "############################################\n",
      "=> Loading checkpoint\n",
      "Model loaded: tinyissimoYOLO/NAdam_None_Airbus_256_BATCH_32_LR_0.0005/model/35_YOLO_best.pth.tar\n"
     ]
    },
    {
     "name": "stderr",
     "output_type": "stream",
     "text": [
      "Eval: Valid: : 100%|██████████| 2/2 [00:00<00:00,  7.94it/s]\n"
     ]
    },
    {
     "name": "stdout",
     "output_type": "stream",
     "text": [
      "---------------------------------------------------\n",
      "-------------Loss Summary eval Valid--------------\n",
      "Total Loss  |Loss Coord  |Conf Loss   |No Obj Loss |Class Loss  |\n",
      "19.586      |12.165      |4.538       |2.792       |0.091       |\n",
      "---------------------------------------------------\n",
      "Valid: \t mAP@50: 0.627024, mAP@75: 0.039690, mAP@90: 0.000313, Mean Loss: 19.586251\n",
      "array_param_shape: 46368\n",
      "=> Loading checkpoint\n",
      "Model loaded: tinyissimoYOLO/NAdam_None_Airbus_256_BATCH_32_LR_0.0005/model/35_YOLO_best.pth.tar\n"
     ]
    },
    {
     "name": "stderr",
     "output_type": "stream",
     "text": [
      "Eval: Valid: : 100%|██████████| 2/2 [00:00<00:00,  8.11it/s]\n"
     ]
    },
    {
     "name": "stdout",
     "output_type": "stream",
     "text": [
      "---------------------------------------------------\n",
      "-------------Loss Summary eval Valid--------------\n",
      "Total Loss  |Loss Coord  |Conf Loss   |No Obj Loss |Class Loss  |\n",
      "27.042      |13.296      |7.327       |6.273       |0.145       |\n",
      "---------------------------------------------------\n",
      "Valid: \t mAP@50: 0.408172, mAP@75: 0.043914, mAP@90: 0.000000, Mean Loss: 27.041653\n",
      "array_param_shape: 46368\n",
      "=> Loading checkpoint\n",
      "Model loaded: tinyissimoYOLO/NAdam_None_Airbus_256_BATCH_32_LR_0.0005/model/35_YOLO_best.pth.tar\n"
     ]
    },
    {
     "name": "stderr",
     "output_type": "stream",
     "text": [
      "Eval: Valid: : 100%|██████████| 2/2 [00:00<00:00,  7.83it/s]\n"
     ]
    },
    {
     "name": "stdout",
     "output_type": "stream",
     "text": [
      "---------------------------------------------------\n",
      "-------------Loss Summary eval Valid--------------\n",
      "Total Loss  |Loss Coord  |Conf Loss   |No Obj Loss |Class Loss  |\n",
      "21.902      |10.257      |3.999       |7.556       |0.089       |\n",
      "---------------------------------------------------\n",
      "Valid: \t mAP@50: 0.596406, mAP@75: 0.096917, mAP@90: 0.000258, Mean Loss: 21.901782\n",
      "array_param_shape: 101536\n",
      "Valid: \t mAP@50: 0.543867, mAP@75: 0.096917, mAP@90: 0.000258, Mean Loss: 22.843229\n",
      "=> Loading checkpoint\n",
      "Model loaded: tinyissimoYOLO/NAdam_None_Airbus_256_BATCH_32_LR_0.0005/model/35_YOLO_best.pth.tar\n",
      "############################################\n",
      "Noise level 2: Slice: [3, 3], Percentage: 0.7\n",
      "############################################\n",
      "=> Loading checkpoint\n",
      "Model loaded: tinyissimoYOLO/NAdam_None_Airbus_256_BATCH_32_LR_0.0005/model/35_YOLO_best.pth.tar\n"
     ]
    },
    {
     "name": "stderr",
     "output_type": "stream",
     "text": [
      "Eval: Valid: : 100%|██████████| 2/2 [00:00<00:00,  7.62it/s]\n"
     ]
    },
    {
     "name": "stdout",
     "output_type": "stream",
     "text": [
      "---------------------------------------------------\n",
      "-------------Loss Summary eval Valid--------------\n",
      "Total Loss  |Loss Coord  |Conf Loss   |No Obj Loss |Class Loss  |\n",
      "34.290      |21.261      |7.777       |4.989       |0.263       |\n",
      "---------------------------------------------------\n",
      "Valid: \t mAP@50: 0.243652, mAP@75: 0.032322, mAP@90: 0.017544, Mean Loss: 34.290470\n",
      "array_param_shape: 266816\n",
      "=> Loading checkpoint\n",
      "Model loaded: tinyissimoYOLO/NAdam_None_Airbus_256_BATCH_32_LR_0.0005/model/35_YOLO_best.pth.tar\n"
     ]
    },
    {
     "name": "stderr",
     "output_type": "stream",
     "text": [
      "Eval: Valid: : 100%|██████████| 2/2 [00:00<00:00,  7.65it/s]\n"
     ]
    },
    {
     "name": "stdout",
     "output_type": "stream",
     "text": [
      "---------------------------------------------------\n",
      "-------------Loss Summary eval Valid--------------\n",
      "Total Loss  |Loss Coord  |Conf Loss   |No Obj Loss |Class Loss  |\n",
      "111.867     |73.459      |7.408       |10.009      |20.992      |\n",
      "---------------------------------------------------\n",
      "Valid: \t mAP@50: 0.176718, mAP@75: 0.017237, mAP@90: 0.000000, Mean Loss: 111.867397\n",
      "array_param_shape: 791040\n",
      "=> Loading checkpoint\n",
      "Model loaded: tinyissimoYOLO/NAdam_None_Airbus_256_BATCH_32_LR_0.0005/model/35_YOLO_best.pth.tar\n"
     ]
    },
    {
     "name": "stderr",
     "output_type": "stream",
     "text": [
      "Eval: Valid: : 100%|██████████| 2/2 [00:00<00:00,  8.30it/s]\n"
     ]
    },
    {
     "name": "stdout",
     "output_type": "stream",
     "text": [
      "---------------------------------------------------\n",
      "-------------Loss Summary eval Valid--------------\n",
      "Total Loss  |Loss Coord  |Conf Loss   |No Obj Loss |Class Loss  |\n",
      "17.916      |9.899       |4.867       |3.067       |0.082       |\n",
      "---------------------------------------------------\n",
      "Valid: \t mAP@50: 0.601470, mAP@75: 0.240431, mAP@90: 0.006547, Mean Loss: 17.915885\n",
      "array_param_shape: 266816\n",
      "Valid: \t mAP@50: 0.340614, mAP@75: 0.240431, mAP@90: 0.006547, Mean Loss: 54.691251\n",
      "=> Loading checkpoint\n",
      "Model loaded: tinyissimoYOLO/NAdam_None_Airbus_256_BATCH_32_LR_0.0005/model/35_YOLO_best.pth.tar\n",
      "############################################\n",
      "Noise level 2: Slice: [1, 3], Percentage: 1\n",
      "############################################\n",
      "=> Loading checkpoint\n",
      "Model loaded: tinyissimoYOLO/NAdam_None_Airbus_256_BATCH_32_LR_0.0005/model/35_YOLO_best.pth.tar\n"
     ]
    },
    {
     "name": "stderr",
     "output_type": "stream",
     "text": [
      "Eval: Valid: : 100%|██████████| 2/2 [00:00<00:00,  7.86it/s]\n"
     ]
    },
    {
     "name": "stdout",
     "output_type": "stream",
     "text": [
      "---------------------------------------------------\n",
      "-------------Loss Summary eval Valid--------------\n",
      "Total Loss  |Loss Coord  |Conf Loss   |No Obj Loss |Class Loss  |\n",
      "32.213      |17.456      |12.538      |2.083       |0.136       |\n",
      "---------------------------------------------------\n",
      "Valid: \t mAP@50: 0.439471, mAP@75: 0.245925, mAP@90: 0.000000, Mean Loss: 32.213139\n",
      "array_param_shape: 9776\n",
      "=> Loading checkpoint\n",
      "Model loaded: tinyissimoYOLO/NAdam_None_Airbus_256_BATCH_32_LR_0.0005/model/35_YOLO_best.pth.tar\n"
     ]
    },
    {
     "name": "stderr",
     "output_type": "stream",
     "text": [
      "Eval: Valid: : 100%|██████████| 2/2 [00:00<00:00,  8.33it/s]\n"
     ]
    },
    {
     "name": "stdout",
     "output_type": "stream",
     "text": [
      "---------------------------------------------------\n",
      "-------------Loss Summary eval Valid--------------\n",
      "Total Loss  |Loss Coord  |Conf Loss   |No Obj Loss |Class Loss  |\n",
      "37.128      |19.999      |13.680      |3.322       |0.127       |\n",
      "---------------------------------------------------\n",
      "Valid: \t mAP@50: 0.221096, mAP@75: 0.069491, mAP@90: 0.000675, Mean Loss: 37.128040\n",
      "array_param_shape: 9776\n",
      "=> Loading checkpoint\n",
      "Model loaded: tinyissimoYOLO/NAdam_None_Airbus_256_BATCH_32_LR_0.0005/model/35_YOLO_best.pth.tar\n"
     ]
    },
    {
     "name": "stderr",
     "output_type": "stream",
     "text": [
      "Eval: Valid: : 100%|██████████| 2/2 [00:00<00:00,  7.82it/s]\n"
     ]
    },
    {
     "name": "stdout",
     "output_type": "stream",
     "text": [
      "---------------------------------------------------\n",
      "-------------Loss Summary eval Valid--------------\n",
      "Total Loss  |Loss Coord  |Conf Loss   |No Obj Loss |Class Loss  |\n",
      "23.451      |10.884      |10.314      |2.109       |0.143       |\n",
      "---------------------------------------------------\n",
      "Valid: \t mAP@50: 0.554709, mAP@75: 0.160459, mAP@90: 0.004665, Mean Loss: 23.450562\n",
      "array_param_shape: 9776\n",
      "Valid: \t mAP@50: 0.405092, mAP@75: 0.160459, mAP@90: 0.004665, Mean Loss: 30.930580\n",
      "=> Loading checkpoint\n",
      "Model loaded: tinyissimoYOLO/NAdam_None_Airbus_256_BATCH_32_LR_0.0005/model/35_YOLO_best.pth.tar\n",
      "############################################\n",
      "Noise level 2: Slice: [2, 3], Percentage: 1\n",
      "############################################\n",
      "=> Loading checkpoint\n",
      "Model loaded: tinyissimoYOLO/NAdam_None_Airbus_256_BATCH_32_LR_0.0005/model/35_YOLO_best.pth.tar\n"
     ]
    },
    {
     "name": "stderr",
     "output_type": "stream",
     "text": [
      "Eval: Valid: : 100%|██████████| 2/2 [00:00<00:00,  7.82it/s]\n"
     ]
    },
    {
     "name": "stdout",
     "output_type": "stream",
     "text": [
      "---------------------------------------------------\n",
      "-------------Loss Summary eval Valid--------------\n",
      "Total Loss  |Loss Coord  |Conf Loss   |No Obj Loss |Class Loss  |\n",
      "25.483      |12.780      |11.411      |1.119       |0.173       |\n",
      "---------------------------------------------------\n",
      "Valid: \t mAP@50: 0.413219, mAP@75: 0.110122, mAP@90: 0.000000, Mean Loss: 25.482926\n",
      "array_param_shape: 101728\n",
      "=> Loading checkpoint\n",
      "Model loaded: tinyissimoYOLO/NAdam_None_Airbus_256_BATCH_32_LR_0.0005/model/35_YOLO_best.pth.tar\n"
     ]
    },
    {
     "name": "stderr",
     "output_type": "stream",
     "text": [
      "Eval: Valid: : 100%|██████████| 2/2 [00:00<00:00,  8.14it/s]\n"
     ]
    },
    {
     "name": "stdout",
     "output_type": "stream",
     "text": [
      "---------------------------------------------------\n",
      "-------------Loss Summary eval Valid--------------\n",
      "Total Loss  |Loss Coord  |Conf Loss   |No Obj Loss |Class Loss  |\n",
      "38.351      |21.999      |5.100       |11.129      |0.122       |\n",
      "---------------------------------------------------\n",
      "Valid: \t mAP@50: 0.309220, mAP@75: 0.008008, mAP@90: 0.000000, Mean Loss: 38.350554\n",
      "array_param_shape: 101728\n",
      "=> Loading checkpoint\n",
      "Model loaded: tinyissimoYOLO/NAdam_None_Airbus_256_BATCH_32_LR_0.0005/model/35_YOLO_best.pth.tar\n"
     ]
    },
    {
     "name": "stderr",
     "output_type": "stream",
     "text": [
      "Eval: Valid: : 100%|██████████| 2/2 [00:00<00:00,  8.40it/s]\n"
     ]
    },
    {
     "name": "stdout",
     "output_type": "stream",
     "text": [
      "---------------------------------------------------\n",
      "-------------Loss Summary eval Valid--------------\n",
      "Total Loss  |Loss Coord  |Conf Loss   |No Obj Loss |Class Loss  |\n",
      "24.064      |10.966      |10.747      |2.148       |0.203       |\n",
      "---------------------------------------------------\n",
      "Valid: \t mAP@50: 0.407452, mAP@75: 0.150818, mAP@90: 0.000000, Mean Loss: 24.064052\n",
      "array_param_shape: 101728\n",
      "Valid: \t mAP@50: 0.376630, mAP@75: 0.150818, mAP@90: 0.000000, Mean Loss: 29.299177\n",
      "=> Loading checkpoint\n",
      "Model loaded: tinyissimoYOLO/NAdam_None_Airbus_256_BATCH_32_LR_0.0005/model/35_YOLO_best.pth.tar\n",
      "############################################\n",
      "Noise level 2: Slice: [3, 3], Percentage: 1\n",
      "############################################\n",
      "=> Loading checkpoint\n",
      "Model loaded: tinyissimoYOLO/NAdam_None_Airbus_256_BATCH_32_LR_0.0005/model/35_YOLO_best.pth.tar\n"
     ]
    },
    {
     "name": "stderr",
     "output_type": "stream",
     "text": [
      "Eval: Valid: : 100%|██████████| 2/2 [00:00<00:00,  7.23it/s]\n"
     ]
    },
    {
     "name": "stdout",
     "output_type": "stream",
     "text": [
      "---------------------------------------------------\n",
      "-------------Loss Summary eval Valid--------------\n",
      "Total Loss  |Loss Coord  |Conf Loss   |No Obj Loss |Class Loss  |\n",
      "90.778      |59.233      |10.186      |20.227      |1.132       |\n",
      "---------------------------------------------------\n",
      "Valid: \t mAP@50: 0.154916, mAP@75: 0.000535, mAP@90: 0.000000, Mean Loss: 90.778236\n",
      "array_param_shape: 791424\n",
      "=> Loading checkpoint\n",
      "Model loaded: tinyissimoYOLO/NAdam_None_Airbus_256_BATCH_32_LR_0.0005/model/35_YOLO_best.pth.tar\n"
     ]
    },
    {
     "name": "stderr",
     "output_type": "stream",
     "text": [
      "Eval: Valid: : 100%|██████████| 2/2 [00:00<00:00,  7.06it/s]\n"
     ]
    },
    {
     "name": "stdout",
     "output_type": "stream",
     "text": [
      "---------------------------------------------------\n",
      "-------------Loss Summary eval Valid--------------\n",
      "Total Loss  |Loss Coord  |Conf Loss   |No Obj Loss |Class Loss  |\n",
      "126.712     |70.175      |19.569      |34.549      |2.419       |\n",
      "---------------------------------------------------\n",
      "Valid: \t mAP@50: 0.031718, mAP@75: 0.002735, mAP@90: 0.000133, Mean Loss: 126.712029\n",
      "array_param_shape: 791424\n",
      "=> Loading checkpoint\n",
      "Model loaded: tinyissimoYOLO/NAdam_None_Airbus_256_BATCH_32_LR_0.0005/model/35_YOLO_best.pth.tar\n"
     ]
    },
    {
     "name": "stderr",
     "output_type": "stream",
     "text": [
      "Eval: Valid: : 100%|██████████| 2/2 [00:00<00:00,  8.02it/s]\n"
     ]
    },
    {
     "name": "stdout",
     "output_type": "stream",
     "text": [
      "---------------------------------------------------\n",
      "-------------Loss Summary eval Valid--------------\n",
      "Total Loss  |Loss Coord  |Conf Loss   |No Obj Loss |Class Loss  |\n",
      "85.933      |44.127      |19.845      |21.515      |0.445       |\n",
      "---------------------------------------------------\n",
      "Valid: \t mAP@50: 0.274964, mAP@75: 0.002480, mAP@90: 0.000000, Mean Loss: 85.932566\n",
      "array_param_shape: 791424\n",
      "Valid: \t mAP@50: 0.153866, mAP@75: 0.002480, mAP@90: 0.000000, Mean Loss: 101.140944\n"
     ]
    }
   ],
   "source": [
    "from eval_noise import test_noise\n",
    "case1=False\n",
    "case2=True\n",
    "percentage_layers_case_2 = [0, 0.3, 0.5, 0.7, 1] if case2 else [0]\n",
    "\n",
    "#prueba 4\n",
    "slices_case2 = [3,3]\n",
    "interval_2 = (-32,2)\n",
    "percentage_tensors_2 = 0.001\n",
    "\n",
    "test_noise( case1=case1, percentage_layers_case_1=[0], slices_case1 = [0,0],\n",
    "           case2=case2, percentage_layers_case_2=percentage_layers_case_2, slices_case2 = slices_case2, interval_2 = interval_2, percentage_tensors_2= percentage_tensors_2)"
   ]
  },
  {
   "cell_type": "code",
   "execution_count": 2,
   "id": "625ff247-3de1-4df6-be1d-50c9b1a47dcb",
   "metadata": {
    "scrolled": true
   },
   "outputs": [
    {
     "name": "stdout",
     "output_type": "stream",
     "text": [
      "Test with case1: False, case2: True\n",
      "File case2_results_noise_slices_3_interval2_-2_2_p_0.003.txt exists. Deleting...\n",
      "Results will be saved in: case2_results_noise_slices_3_interval2_-2_2_p_0.003.txt\n",
      "=> Loading checkpoint\n",
      "Model loaded: tinyissimoYOLO/NAdam_None_Airbus_256_BATCH_32_LR_0.0005/model/35_YOLO_best.pth.tar\n",
      "############################################\n",
      "Noise level 2: Slice: [1, 3], Percentage: 0\n",
      "############################################\n",
      "=> Loading checkpoint\n",
      "Model loaded: tinyissimoYOLO/NAdam_None_Airbus_256_BATCH_32_LR_0.0005/model/35_YOLO_best.pth.tar\n"
     ]
    },
    {
     "name": "stderr",
     "output_type": "stream",
     "text": [
      "Eval: Valid: : 100%|██████████| 2/2 [00:00<00:00,  8.29it/s]\n"
     ]
    },
    {
     "name": "stdout",
     "output_type": "stream",
     "text": [
      "---------------------------------------------------\n",
      "-------------Loss Summary eval Valid--------------\n",
      "Total Loss  |Loss Coord  |Conf Loss   |No Obj Loss |Class Loss  |\n",
      "14.051      |7.427       |4.128       |2.466       |0.030       |\n",
      "---------------------------------------------------\n",
      "Valid: \t mAP@50: 0.756015, mAP@75: 0.301328, mAP@90: 0.001536, Mean Loss: 14.050551\n",
      "array_param_shape: 0\n",
      "=> Loading checkpoint\n",
      "Model loaded: tinyissimoYOLO/NAdam_None_Airbus_256_BATCH_32_LR_0.0005/model/35_YOLO_best.pth.tar\n"
     ]
    },
    {
     "name": "stderr",
     "output_type": "stream",
     "text": [
      "Eval: Valid: : 100%|██████████| 2/2 [00:00<00:00,  8.55it/s]\n"
     ]
    },
    {
     "name": "stdout",
     "output_type": "stream",
     "text": [
      "---------------------------------------------------\n",
      "-------------Loss Summary eval Valid--------------\n",
      "Total Loss  |Loss Coord  |Conf Loss   |No Obj Loss |Class Loss  |\n",
      "14.051      |7.427       |4.128       |2.466       |0.030       |\n",
      "---------------------------------------------------\n",
      "Valid: \t mAP@50: 0.756015, mAP@75: 0.301328, mAP@90: 0.001536, Mean Loss: 14.050553\n",
      "array_param_shape: 0\n",
      "=> Loading checkpoint\n",
      "Model loaded: tinyissimoYOLO/NAdam_None_Airbus_256_BATCH_32_LR_0.0005/model/35_YOLO_best.pth.tar\n"
     ]
    },
    {
     "name": "stderr",
     "output_type": "stream",
     "text": [
      "Eval: Valid: : 100%|██████████| 2/2 [00:00<00:00,  8.61it/s]\n"
     ]
    },
    {
     "name": "stdout",
     "output_type": "stream",
     "text": [
      "---------------------------------------------------\n",
      "-------------Loss Summary eval Valid--------------\n",
      "Total Loss  |Loss Coord  |Conf Loss   |No Obj Loss |Class Loss  |\n",
      "14.051      |7.427       |4.128       |2.466       |0.030       |\n",
      "---------------------------------------------------\n",
      "Valid: \t mAP@50: 0.756015, mAP@75: 0.301328, mAP@90: 0.001536, Mean Loss: 14.050553\n",
      "array_param_shape: 0\n",
      "Valid: \t mAP@50: 0.756015, mAP@75: 0.301328, mAP@90: 0.001536, Mean Loss: 14.050552\n",
      "=> Loading checkpoint\n",
      "Model loaded: tinyissimoYOLO/NAdam_None_Airbus_256_BATCH_32_LR_0.0005/model/35_YOLO_best.pth.tar\n",
      "############################################\n",
      "Noise level 2: Slice: [2, 3], Percentage: 0\n",
      "############################################\n",
      "=> Loading checkpoint\n",
      "Model loaded: tinyissimoYOLO/NAdam_None_Airbus_256_BATCH_32_LR_0.0005/model/35_YOLO_best.pth.tar\n"
     ]
    },
    {
     "name": "stderr",
     "output_type": "stream",
     "text": [
      "Eval: Valid: : 100%|██████████| 2/2 [00:00<00:00,  8.15it/s]\n"
     ]
    },
    {
     "name": "stdout",
     "output_type": "stream",
     "text": [
      "---------------------------------------------------\n",
      "-------------Loss Summary eval Valid--------------\n",
      "Total Loss  |Loss Coord  |Conf Loss   |No Obj Loss |Class Loss  |\n",
      "14.051      |7.427       |4.128       |2.466       |0.030       |\n",
      "---------------------------------------------------\n",
      "Valid: \t mAP@50: 0.756015, mAP@75: 0.301328, mAP@90: 0.001536, Mean Loss: 14.050552\n",
      "array_param_shape: 0\n",
      "=> Loading checkpoint\n",
      "Model loaded: tinyissimoYOLO/NAdam_None_Airbus_256_BATCH_32_LR_0.0005/model/35_YOLO_best.pth.tar\n"
     ]
    },
    {
     "name": "stderr",
     "output_type": "stream",
     "text": [
      "Eval: Valid: : 100%|██████████| 2/2 [00:00<00:00,  8.66it/s]\n"
     ]
    },
    {
     "name": "stdout",
     "output_type": "stream",
     "text": [
      "---------------------------------------------------\n",
      "-------------Loss Summary eval Valid--------------\n",
      "Total Loss  |Loss Coord  |Conf Loss   |No Obj Loss |Class Loss  |\n",
      "14.051      |7.427       |4.128       |2.466       |0.030       |\n",
      "---------------------------------------------------\n",
      "Valid: \t mAP@50: 0.756015, mAP@75: 0.301328, mAP@90: 0.001536, Mean Loss: 14.050554\n",
      "array_param_shape: 0\n",
      "=> Loading checkpoint\n",
      "Model loaded: tinyissimoYOLO/NAdam_None_Airbus_256_BATCH_32_LR_0.0005/model/35_YOLO_best.pth.tar\n"
     ]
    },
    {
     "name": "stderr",
     "output_type": "stream",
     "text": [
      "Eval: Valid: : 100%|██████████| 2/2 [00:00<00:00,  8.69it/s]\n"
     ]
    },
    {
     "name": "stdout",
     "output_type": "stream",
     "text": [
      "---------------------------------------------------\n",
      "-------------Loss Summary eval Valid--------------\n",
      "Total Loss  |Loss Coord  |Conf Loss   |No Obj Loss |Class Loss  |\n",
      "14.051      |7.427       |4.128       |2.466       |0.030       |\n",
      "---------------------------------------------------\n",
      "Valid: \t mAP@50: 0.756015, mAP@75: 0.301328, mAP@90: 0.001536, Mean Loss: 14.050552\n",
      "array_param_shape: 0\n",
      "Valid: \t mAP@50: 0.756015, mAP@75: 0.301328, mAP@90: 0.001536, Mean Loss: 14.050553\n",
      "=> Loading checkpoint\n",
      "Model loaded: tinyissimoYOLO/NAdam_None_Airbus_256_BATCH_32_LR_0.0005/model/35_YOLO_best.pth.tar\n",
      "############################################\n",
      "Noise level 2: Slice: [3, 3], Percentage: 0\n",
      "############################################\n",
      "=> Loading checkpoint\n",
      "Model loaded: tinyissimoYOLO/NAdam_None_Airbus_256_BATCH_32_LR_0.0005/model/35_YOLO_best.pth.tar\n"
     ]
    },
    {
     "name": "stderr",
     "output_type": "stream",
     "text": [
      "Eval: Valid: : 100%|██████████| 2/2 [00:00<00:00,  7.96it/s]\n"
     ]
    },
    {
     "name": "stdout",
     "output_type": "stream",
     "text": [
      "---------------------------------------------------\n",
      "-------------Loss Summary eval Valid--------------\n",
      "Total Loss  |Loss Coord  |Conf Loss   |No Obj Loss |Class Loss  |\n",
      "14.051      |7.427       |4.128       |2.466       |0.030       |\n",
      "---------------------------------------------------\n",
      "Valid: \t mAP@50: 0.756015, mAP@75: 0.301328, mAP@90: 0.001536, Mean Loss: 14.050552\n",
      "array_param_shape: 0\n",
      "=> Loading checkpoint\n",
      "Model loaded: tinyissimoYOLO/NAdam_None_Airbus_256_BATCH_32_LR_0.0005/model/35_YOLO_best.pth.tar\n"
     ]
    },
    {
     "name": "stderr",
     "output_type": "stream",
     "text": [
      "Eval: Valid: : 100%|██████████| 2/2 [00:00<00:00,  8.22it/s]\n"
     ]
    },
    {
     "name": "stdout",
     "output_type": "stream",
     "text": [
      "---------------------------------------------------\n",
      "-------------Loss Summary eval Valid--------------\n",
      "Total Loss  |Loss Coord  |Conf Loss   |No Obj Loss |Class Loss  |\n",
      "14.051      |7.427       |4.128       |2.466       |0.030       |\n",
      "---------------------------------------------------\n",
      "Valid: \t mAP@50: 0.756015, mAP@75: 0.301328, mAP@90: 0.001536, Mean Loss: 14.050552\n",
      "array_param_shape: 0\n",
      "=> Loading checkpoint\n",
      "Model loaded: tinyissimoYOLO/NAdam_None_Airbus_256_BATCH_32_LR_0.0005/model/35_YOLO_best.pth.tar\n"
     ]
    },
    {
     "name": "stderr",
     "output_type": "stream",
     "text": [
      "Eval: Valid: : 100%|██████████| 2/2 [00:00<00:00,  7.86it/s]\n"
     ]
    },
    {
     "name": "stdout",
     "output_type": "stream",
     "text": [
      "---------------------------------------------------\n",
      "-------------Loss Summary eval Valid--------------\n",
      "Total Loss  |Loss Coord  |Conf Loss   |No Obj Loss |Class Loss  |\n",
      "14.051      |7.427       |4.128       |2.466       |0.030       |\n",
      "---------------------------------------------------\n",
      "Valid: \t mAP@50: 0.756015, mAP@75: 0.301328, mAP@90: 0.001536, Mean Loss: 14.050553\n",
      "array_param_shape: 0\n",
      "Valid: \t mAP@50: 0.756015, mAP@75: 0.301328, mAP@90: 0.001536, Mean Loss: 14.050552\n",
      "=> Loading checkpoint\n",
      "Model loaded: tinyissimoYOLO/NAdam_None_Airbus_256_BATCH_32_LR_0.0005/model/35_YOLO_best.pth.tar\n",
      "############################################\n",
      "Noise level 2: Slice: [1, 3], Percentage: 0.3\n",
      "############################################\n",
      "=> Loading checkpoint\n",
      "Model loaded: tinyissimoYOLO/NAdam_None_Airbus_256_BATCH_32_LR_0.0005/model/35_YOLO_best.pth.tar\n"
     ]
    },
    {
     "name": "stderr",
     "output_type": "stream",
     "text": [
      "Eval: Valid: : 100%|██████████| 2/2 [00:00<00:00,  7.96it/s]\n"
     ]
    },
    {
     "name": "stdout",
     "output_type": "stream",
     "text": [
      "---------------------------------------------------\n",
      "-------------Loss Summary eval Valid--------------\n",
      "Total Loss  |Loss Coord  |Conf Loss   |No Obj Loss |Class Loss  |\n",
      "35.378      |19.590      |11.969      |3.685       |0.134       |\n",
      "---------------------------------------------------\n",
      "Valid: \t mAP@50: 0.223375, mAP@75: 0.026713, mAP@90: 0.000000, Mean Loss: 35.378469\n",
      "array_param_shape: 9232\n",
      "=> Loading checkpoint\n",
      "Model loaded: tinyissimoYOLO/NAdam_None_Airbus_256_BATCH_32_LR_0.0005/model/35_YOLO_best.pth.tar\n"
     ]
    },
    {
     "name": "stderr",
     "output_type": "stream",
     "text": [
      "Eval: Valid: : 100%|██████████| 2/2 [00:00<00:00,  8.77it/s]\n"
     ]
    },
    {
     "name": "stdout",
     "output_type": "stream",
     "text": [
      "---------------------------------------------------\n",
      "-------------Loss Summary eval Valid--------------\n",
      "Total Loss  |Loss Coord  |Conf Loss   |No Obj Loss |Class Loss  |\n",
      "26.044      |12.777      |11.288      |1.851       |0.128       |\n",
      "---------------------------------------------------\n",
      "Valid: \t mAP@50: 0.367921, mAP@75: 0.176402, mAP@90: 0.011696, Mean Loss: 26.044119\n",
      "array_param_shape: 480\n",
      "=> Loading checkpoint\n",
      "Model loaded: tinyissimoYOLO/NAdam_None_Airbus_256_BATCH_32_LR_0.0005/model/35_YOLO_best.pth.tar\n"
     ]
    },
    {
     "name": "stderr",
     "output_type": "stream",
     "text": [
      "Eval: Valid: : 100%|██████████| 2/2 [00:00<00:00,  8.66it/s]\n"
     ]
    },
    {
     "name": "stdout",
     "output_type": "stream",
     "text": [
      "---------------------------------------------------\n",
      "-------------Loss Summary eval Valid--------------\n",
      "Total Loss  |Loss Coord  |Conf Loss   |No Obj Loss |Class Loss  |\n",
      "46.895      |23.654      |22.675      |0.406       |0.160       |\n",
      "---------------------------------------------------\n",
      "Valid: \t mAP@50: 0.105263, mAP@75: 0.022515, mAP@90: 0.000000, Mean Loss: 46.894859\n",
      "array_param_shape: 480\n",
      "Valid: \t mAP@50: 0.232187, mAP@75: 0.022515, mAP@90: 0.000000, Mean Loss: 36.105816\n",
      "=> Loading checkpoint\n",
      "Model loaded: tinyissimoYOLO/NAdam_None_Airbus_256_BATCH_32_LR_0.0005/model/35_YOLO_best.pth.tar\n",
      "############################################\n",
      "Noise level 2: Slice: [2, 3], Percentage: 0.3\n",
      "############################################\n",
      "=> Loading checkpoint\n",
      "Model loaded: tinyissimoYOLO/NAdam_None_Airbus_256_BATCH_32_LR_0.0005/model/35_YOLO_best.pth.tar\n"
     ]
    },
    {
     "name": "stderr",
     "output_type": "stream",
     "text": [
      "Eval: Valid: : 100%|██████████| 2/2 [00:00<00:00,  8.14it/s]\n"
     ]
    },
    {
     "name": "stdout",
     "output_type": "stream",
     "text": [
      "---------------------------------------------------\n",
      "-------------Loss Summary eval Valid--------------\n",
      "Total Loss  |Loss Coord  |Conf Loss   |No Obj Loss |Class Loss  |\n",
      "18.474      |9.844       |4.350       |4.207       |0.074       |\n",
      "---------------------------------------------------\n",
      "Valid: \t mAP@50: 0.689557, mAP@75: 0.167348, mAP@90: 0.000000, Mean Loss: 18.474322\n",
      "array_param_shape: 224\n",
      "=> Loading checkpoint\n",
      "Model loaded: tinyissimoYOLO/NAdam_None_Airbus_256_BATCH_32_LR_0.0005/model/35_YOLO_best.pth.tar\n"
     ]
    },
    {
     "name": "stderr",
     "output_type": "stream",
     "text": [
      "Eval: Valid: : 100%|██████████| 2/2 [00:00<00:00,  6.65it/s]\n"
     ]
    },
    {
     "name": "stdout",
     "output_type": "stream",
     "text": [
      "---------------------------------------------------\n",
      "-------------Loss Summary eval Valid--------------\n",
      "Total Loss  |Loss Coord  |Conf Loss   |No Obj Loss |Class Loss  |\n",
      "17.681      |9.281       |4.080       |4.298       |0.022       |\n",
      "---------------------------------------------------\n",
      "Valid: \t mAP@50: 0.766798, mAP@75: 0.225414, mAP@90: 0.001462, Mean Loss: 17.680839\n",
      "array_param_shape: 55392\n",
      "=> Loading checkpoint\n",
      "Model loaded: tinyissimoYOLO/NAdam_None_Airbus_256_BATCH_32_LR_0.0005/model/35_YOLO_best.pth.tar\n"
     ]
    },
    {
     "name": "stderr",
     "output_type": "stream",
     "text": [
      "Eval: Valid: : 100%|██████████| 2/2 [00:00<00:00,  8.43it/s]\n"
     ]
    },
    {
     "name": "stdout",
     "output_type": "stream",
     "text": [
      "---------------------------------------------------\n",
      "-------------Loss Summary eval Valid--------------\n",
      "Total Loss  |Loss Coord  |Conf Loss   |No Obj Loss |Class Loss  |\n",
      "19.677      |10.429      |5.583       |3.614       |0.052       |\n",
      "---------------------------------------------------\n",
      "Valid: \t mAP@50: 0.605238, mAP@75: 0.205085, mAP@90: 0.004386, Mean Loss: 19.677084\n",
      "array_param_shape: 18592\n",
      "Valid: \t mAP@50: 0.687198, mAP@75: 0.205085, mAP@90: 0.004386, Mean Loss: 18.610748\n",
      "=> Loading checkpoint\n",
      "Model loaded: tinyissimoYOLO/NAdam_None_Airbus_256_BATCH_32_LR_0.0005/model/35_YOLO_best.pth.tar\n",
      "############################################\n",
      "Noise level 2: Slice: [3, 3], Percentage: 0.3\n",
      "############################################\n",
      "=> Loading checkpoint\n",
      "Model loaded: tinyissimoYOLO/NAdam_None_Airbus_256_BATCH_32_LR_0.0005/model/35_YOLO_best.pth.tar\n"
     ]
    },
    {
     "name": "stderr",
     "output_type": "stream",
     "text": [
      "Eval: Valid: : 100%|██████████| 2/2 [00:00<00:00,  7.45it/s]\n"
     ]
    },
    {
     "name": "stdout",
     "output_type": "stream",
     "text": [
      "---------------------------------------------------\n",
      "-------------Loss Summary eval Valid--------------\n",
      "Total Loss  |Loss Coord  |Conf Loss   |No Obj Loss |Class Loss  |\n",
      "105.861     |89.259      |5.260       |10.169      |1.173       |\n",
      "---------------------------------------------------\n",
      "Valid: \t mAP@50: 0.385544, mAP@75: 0.012648, mAP@90: 0.000399, Mean Loss: 105.861376\n",
      "array_param_shape: 524800\n",
      "=> Loading checkpoint\n",
      "Model loaded: tinyissimoYOLO/NAdam_None_Airbus_256_BATCH_32_LR_0.0005/model/35_YOLO_best.pth.tar\n"
     ]
    },
    {
     "name": "stderr",
     "output_type": "stream",
     "text": [
      "Eval: Valid: : 100%|██████████| 2/2 [00:00<00:00,  8.27it/s]\n"
     ]
    },
    {
     "name": "stdout",
     "output_type": "stream",
     "text": [
      "---------------------------------------------------\n",
      "-------------Loss Summary eval Valid--------------\n",
      "Total Loss  |Loss Coord  |Conf Loss   |No Obj Loss |Class Loss  |\n",
      "34.987      |21.945      |5.230       |7.371       |0.441       |\n",
      "---------------------------------------------------\n",
      "Valid: \t mAP@50: 0.446478, mAP@75: 0.017308, mAP@90: 0.000000, Mean Loss: 34.987218\n",
      "array_param_shape: 524608\n",
      "=> Loading checkpoint\n",
      "Model loaded: tinyissimoYOLO/NAdam_None_Airbus_256_BATCH_32_LR_0.0005/model/35_YOLO_best.pth.tar\n"
     ]
    },
    {
     "name": "stderr",
     "output_type": "stream",
     "text": [
      "Eval: Valid: : 100%|██████████| 2/2 [00:00<00:00,  7.25it/s]\n"
     ]
    },
    {
     "name": "stdout",
     "output_type": "stream",
     "text": [
      "---------------------------------------------------\n",
      "-------------Loss Summary eval Valid--------------\n",
      "Total Loss  |Loss Coord  |Conf Loss   |No Obj Loss |Class Loss  |\n",
      "32.785      |21.756      |5.500       |5.130       |0.399       |\n",
      "---------------------------------------------------\n",
      "Valid: \t mAP@50: 0.250725, mAP@75: 0.003844, mAP@90: 0.000000, Mean Loss: 32.785131\n",
      "array_param_shape: 671936\n",
      "Valid: \t mAP@50: 0.360916, mAP@75: 0.003844, mAP@90: 0.000000, Mean Loss: 57.877908\n",
      "=> Loading checkpoint\n",
      "Model loaded: tinyissimoYOLO/NAdam_None_Airbus_256_BATCH_32_LR_0.0005/model/35_YOLO_best.pth.tar\n",
      "############################################\n",
      "Noise level 2: Slice: [1, 3], Percentage: 0.5\n",
      "############################################\n",
      "=> Loading checkpoint\n",
      "Model loaded: tinyissimoYOLO/NAdam_None_Airbus_256_BATCH_32_LR_0.0005/model/35_YOLO_best.pth.tar\n"
     ]
    },
    {
     "name": "stderr",
     "output_type": "stream",
     "text": [
      "Eval: Valid: : 100%|██████████| 2/2 [00:00<00:00,  8.11it/s]\n"
     ]
    },
    {
     "name": "stdout",
     "output_type": "stream",
     "text": [
      "---------------------------------------------------\n",
      "-------------Loss Summary eval Valid--------------\n",
      "Total Loss  |Loss Coord  |Conf Loss   |No Obj Loss |Class Loss  |\n",
      "23.086      |12.508      |6.701       |3.810       |0.068       |\n",
      "---------------------------------------------------\n",
      "Valid: \t mAP@50: 0.539864, mAP@75: 0.113492, mAP@90: 0.000283, Mean Loss: 23.086376\n",
      "array_param_shape: 5104\n",
      "=> Loading checkpoint\n",
      "Model loaded: tinyissimoYOLO/NAdam_None_Airbus_256_BATCH_32_LR_0.0005/model/35_YOLO_best.pth.tar\n"
     ]
    },
    {
     "name": "stderr",
     "output_type": "stream",
     "text": [
      "Eval: Valid: : 100%|██████████| 2/2 [00:00<00:00,  8.63it/s]\n"
     ]
    },
    {
     "name": "stdout",
     "output_type": "stream",
     "text": [
      "---------------------------------------------------\n",
      "-------------Loss Summary eval Valid--------------\n",
      "Total Loss  |Loss Coord  |Conf Loss   |No Obj Loss |Class Loss  |\n",
      "40.996      |23.229      |15.741      |1.944       |0.082       |\n",
      "---------------------------------------------------\n",
      "Valid: \t mAP@50: 0.201958, mAP@75: 0.060677, mAP@90: 0.004386, Mean Loss: 40.996006\n",
      "array_param_shape: 5104\n",
      "=> Loading checkpoint\n",
      "Model loaded: tinyissimoYOLO/NAdam_None_Airbus_256_BATCH_32_LR_0.0005/model/35_YOLO_best.pth.tar\n"
     ]
    },
    {
     "name": "stderr",
     "output_type": "stream",
     "text": [
      "Eval: Valid: : 100%|██████████| 2/2 [00:00<00:00,  8.65it/s]\n"
     ]
    },
    {
     "name": "stdout",
     "output_type": "stream",
     "text": [
      "---------------------------------------------------\n",
      "-------------Loss Summary eval Valid--------------\n",
      "Total Loss  |Loss Coord  |Conf Loss   |No Obj Loss |Class Loss  |\n",
      "38.590      |18.804      |18.757      |0.794       |0.236       |\n",
      "---------------------------------------------------\n",
      "Valid: \t mAP@50: 0.262025, mAP@75: 0.149886, mAP@90: 0.004908, Mean Loss: 38.590467\n",
      "array_param_shape: 5104\n",
      "Valid: \t mAP@50: 0.334615, mAP@75: 0.149886, mAP@90: 0.004908, Mean Loss: 34.224283\n",
      "=> Loading checkpoint\n",
      "Model loaded: tinyissimoYOLO/NAdam_None_Airbus_256_BATCH_32_LR_0.0005/model/35_YOLO_best.pth.tar\n",
      "############################################\n",
      "Noise level 2: Slice: [2, 3], Percentage: 0.5\n",
      "############################################\n",
      "=> Loading checkpoint\n",
      "Model loaded: tinyissimoYOLO/NAdam_None_Airbus_256_BATCH_32_LR_0.0005/model/35_YOLO_best.pth.tar\n"
     ]
    },
    {
     "name": "stderr",
     "output_type": "stream",
     "text": [
      "Eval: Valid: : 100%|██████████| 2/2 [00:00<00:00,  8.00it/s]\n"
     ]
    },
    {
     "name": "stdout",
     "output_type": "stream",
     "text": [
      "---------------------------------------------------\n",
      "-------------Loss Summary eval Valid--------------\n",
      "Total Loss  |Loss Coord  |Conf Loss   |No Obj Loss |Class Loss  |\n",
      "17.347      |8.819       |4.618       |3.860       |0.049       |\n",
      "---------------------------------------------------\n",
      "Valid: \t mAP@50: 0.659199, mAP@75: 0.264292, mAP@90: 0.000000, Mean Loss: 17.347218\n",
      "array_param_shape: 46336\n",
      "=> Loading checkpoint\n",
      "Model loaded: tinyissimoYOLO/NAdam_None_Airbus_256_BATCH_32_LR_0.0005/model/35_YOLO_best.pth.tar\n"
     ]
    },
    {
     "name": "stderr",
     "output_type": "stream",
     "text": [
      "Eval: Valid: : 100%|██████████| 2/2 [00:00<00:00,  8.11it/s]\n"
     ]
    },
    {
     "name": "stdout",
     "output_type": "stream",
     "text": [
      "---------------------------------------------------\n",
      "-------------Loss Summary eval Valid--------------\n",
      "Total Loss  |Loss Coord  |Conf Loss   |No Obj Loss |Class Loss  |\n",
      "17.131      |9.513       |3.954       |3.634       |0.030       |\n",
      "---------------------------------------------------\n",
      "Valid: \t mAP@50: 0.628382, mAP@75: 0.087793, mAP@90: 0.000000, Mean Loss: 17.130909\n",
      "array_param_shape: 9440\n",
      "=> Loading checkpoint\n",
      "Model loaded: tinyissimoYOLO/NAdam_None_Airbus_256_BATCH_32_LR_0.0005/model/35_YOLO_best.pth.tar\n"
     ]
    },
    {
     "name": "stderr",
     "output_type": "stream",
     "text": [
      "Eval: Valid: : 100%|██████████| 2/2 [00:00<00:00,  7.86it/s]\n"
     ]
    },
    {
     "name": "stdout",
     "output_type": "stream",
     "text": [
      "---------------------------------------------------\n",
      "-------------Loss Summary eval Valid--------------\n",
      "Total Loss  |Loss Coord  |Conf Loss   |No Obj Loss |Class Loss  |\n",
      "25.662      |16.945      |6.658       |1.895       |0.165       |\n",
      "---------------------------------------------------\n",
      "Valid: \t mAP@50: 0.285141, mAP@75: 0.020418, mAP@90: 0.000000, Mean Loss: 25.662337\n",
      "array_param_shape: 73920\n",
      "Valid: \t mAP@50: 0.524241, mAP@75: 0.020418, mAP@90: 0.000000, Mean Loss: 20.046821\n",
      "=> Loading checkpoint\n",
      "Model loaded: tinyissimoYOLO/NAdam_None_Airbus_256_BATCH_32_LR_0.0005/model/35_YOLO_best.pth.tar\n",
      "############################################\n",
      "Noise level 2: Slice: [3, 3], Percentage: 0.5\n",
      "############################################\n",
      "=> Loading checkpoint\n",
      "Model loaded: tinyissimoYOLO/NAdam_None_Airbus_256_BATCH_32_LR_0.0005/model/35_YOLO_best.pth.tar\n"
     ]
    },
    {
     "name": "stderr",
     "output_type": "stream",
     "text": [
      "Eval: Valid: : 100%|██████████| 2/2 [00:00<00:00,  6.87it/s]\n"
     ]
    },
    {
     "name": "stdout",
     "output_type": "stream",
     "text": [
      "---------------------------------------------------\n",
      "-------------Loss Summary eval Valid--------------\n",
      "Total Loss  |Loss Coord  |Conf Loss   |No Obj Loss |Class Loss  |\n",
      "55.985      |40.991      |7.396       |6.432       |1.166       |\n",
      "---------------------------------------------------\n",
      "Valid: \t mAP@50: 0.070638, mAP@75: 0.000000, mAP@90: 0.000000, Mean Loss: 55.984810\n",
      "array_param_shape: 221824\n",
      "=> Loading checkpoint\n",
      "Model loaded: tinyissimoYOLO/NAdam_None_Airbus_256_BATCH_32_LR_0.0005/model/35_YOLO_best.pth.tar\n"
     ]
    },
    {
     "name": "stderr",
     "output_type": "stream",
     "text": [
      "Eval: Valid: : 100%|██████████| 2/2 [00:00<00:00,  7.93it/s]\n"
     ]
    },
    {
     "name": "stdout",
     "output_type": "stream",
     "text": [
      "---------------------------------------------------\n",
      "-------------Loss Summary eval Valid--------------\n",
      "Total Loss  |Loss Coord  |Conf Loss   |No Obj Loss |Class Loss  |\n",
      "51.653      |34.385      |9.117       |7.899       |0.252       |\n",
      "---------------------------------------------------\n",
      "Valid: \t mAP@50: 0.077926, mAP@75: 0.000831, mAP@90: 0.000000, Mean Loss: 51.652901\n",
      "array_param_shape: 524928\n",
      "=> Loading checkpoint\n",
      "Model loaded: tinyissimoYOLO/NAdam_None_Airbus_256_BATCH_32_LR_0.0005/model/35_YOLO_best.pth.tar\n"
     ]
    },
    {
     "name": "stderr",
     "output_type": "stream",
     "text": [
      "Eval: Valid: : 100%|██████████| 2/2 [00:00<00:00,  8.13it/s]\n"
     ]
    },
    {
     "name": "stdout",
     "output_type": "stream",
     "text": [
      "---------------------------------------------------\n",
      "-------------Loss Summary eval Valid--------------\n",
      "Total Loss  |Loss Coord  |Conf Loss   |No Obj Loss |Class Loss  |\n",
      "51.719      |27.312      |7.991       |15.837      |0.578       |\n",
      "---------------------------------------------------\n",
      "Valid: \t mAP@50: 0.325321, mAP@75: 0.000000, mAP@90: 0.000000, Mean Loss: 51.718813\n",
      "array_param_shape: 717248\n",
      "Valid: \t mAP@50: 0.157962, mAP@75: 0.000000, mAP@90: 0.000000, Mean Loss: 53.118841\n",
      "=> Loading checkpoint\n",
      "Model loaded: tinyissimoYOLO/NAdam_None_Airbus_256_BATCH_32_LR_0.0005/model/35_YOLO_best.pth.tar\n",
      "############################################\n",
      "Noise level 2: Slice: [1, 3], Percentage: 0.7\n",
      "############################################\n",
      "=> Loading checkpoint\n",
      "Model loaded: tinyissimoYOLO/NAdam_None_Airbus_256_BATCH_32_LR_0.0005/model/35_YOLO_best.pth.tar\n"
     ]
    },
    {
     "name": "stderr",
     "output_type": "stream",
     "text": [
      "Eval: Valid: : 100%|██████████| 2/2 [00:00<00:00,  8.05it/s]\n"
     ]
    },
    {
     "name": "stdout",
     "output_type": "stream",
     "text": [
      "---------------------------------------------------\n",
      "-------------Loss Summary eval Valid--------------\n",
      "Total Loss  |Loss Coord  |Conf Loss   |No Obj Loss |Class Loss  |\n",
      "72.383      |42.709      |29.225      |0.097       |0.353       |\n",
      "---------------------------------------------------\n",
      "Valid: \t mAP@50: 0.000000, mAP@75: 0.000000, mAP@90: 0.000000, Mean Loss: 72.383472\n",
      "array_param_shape: 9728\n",
      "=> Loading checkpoint\n",
      "Model loaded: tinyissimoYOLO/NAdam_None_Airbus_256_BATCH_32_LR_0.0005/model/35_YOLO_best.pth.tar\n"
     ]
    },
    {
     "name": "stderr",
     "output_type": "stream",
     "text": [
      "Eval: Valid: : 100%|██████████| 2/2 [00:00<00:00,  8.43it/s]\n"
     ]
    },
    {
     "name": "stdout",
     "output_type": "stream",
     "text": [
      "---------------------------------------------------\n",
      "-------------Loss Summary eval Valid--------------\n",
      "Total Loss  |Loss Coord  |Conf Loss   |No Obj Loss |Class Loss  |\n",
      "45.677      |22.704      |22.353      |0.307       |0.313       |\n",
      "---------------------------------------------------\n",
      "Valid: \t mAP@50: 0.122807, mAP@75: 0.082957, mAP@90: 0.006433, Mean Loss: 45.677147\n",
      "array_param_shape: 7440\n",
      "=> Loading checkpoint\n",
      "Model loaded: tinyissimoYOLO/NAdam_None_Airbus_256_BATCH_32_LR_0.0005/model/35_YOLO_best.pth.tar\n"
     ]
    },
    {
     "name": "stderr",
     "output_type": "stream",
     "text": [
      "Eval: Valid: : 100%|██████████| 2/2 [00:00<00:00,  7.91it/s]\n"
     ]
    },
    {
     "name": "stdout",
     "output_type": "stream",
     "text": [
      "---------------------------------------------------\n",
      "-------------Loss Summary eval Valid--------------\n",
      "Total Loss  |Loss Coord  |Conf Loss   |No Obj Loss |Class Loss  |\n",
      "34.805      |18.305      |13.820      |2.504       |0.177       |\n",
      "---------------------------------------------------\n",
      "Valid: \t mAP@50: 0.173833, mAP@75: 0.009311, mAP@90: 0.000000, Mean Loss: 34.804837\n",
      "array_param_shape: 5136\n",
      "Valid: \t mAP@50: 0.098880, mAP@75: 0.009311, mAP@90: 0.000000, Mean Loss: 50.955152\n",
      "=> Loading checkpoint\n",
      "Model loaded: tinyissimoYOLO/NAdam_None_Airbus_256_BATCH_32_LR_0.0005/model/35_YOLO_best.pth.tar\n",
      "############################################\n",
      "Noise level 2: Slice: [2, 3], Percentage: 0.7\n",
      "############################################\n",
      "=> Loading checkpoint\n",
      "Model loaded: tinyissimoYOLO/NAdam_None_Airbus_256_BATCH_32_LR_0.0005/model/35_YOLO_best.pth.tar\n"
     ]
    },
    {
     "name": "stderr",
     "output_type": "stream",
     "text": [
      "Eval: Valid: : 100%|██████████| 2/2 [00:00<00:00,  3.80it/s]\n"
     ]
    },
    {
     "name": "stdout",
     "output_type": "stream",
     "text": [
      "---------------------------------------------------\n",
      "-------------Loss Summary eval Valid--------------\n",
      "Total Loss  |Loss Coord  |Conf Loss   |No Obj Loss |Class Loss  |\n",
      "15.480      |7.989       |5.498       |1.930       |0.064       |\n",
      "---------------------------------------------------\n",
      "Valid: \t mAP@50: 0.722752, mAP@75: 0.281822, mAP@90: 0.001412, Mean Loss: 15.480051\n",
      "array_param_shape: 64768\n",
      "=> Loading checkpoint\n",
      "Model loaded: tinyissimoYOLO/NAdam_None_Airbus_256_BATCH_32_LR_0.0005/model/35_YOLO_best.pth.tar\n"
     ]
    },
    {
     "name": "stderr",
     "output_type": "stream",
     "text": [
      "Eval: Valid: : 100%|██████████| 2/2 [00:00<00:00,  8.42it/s]\n"
     ]
    },
    {
     "name": "stdout",
     "output_type": "stream",
     "text": [
      "---------------------------------------------------\n",
      "-------------Loss Summary eval Valid--------------\n",
      "Total Loss  |Loss Coord  |Conf Loss   |No Obj Loss |Class Loss  |\n",
      "50.094      |27.615      |20.614      |1.596       |0.268       |\n",
      "---------------------------------------------------\n",
      "Valid: \t mAP@50: 0.000000, mAP@75: 0.000000, mAP@90: 0.000000, Mean Loss: 50.093523\n",
      "array_param_shape: 101536\n",
      "=> Loading checkpoint\n",
      "Model loaded: tinyissimoYOLO/NAdam_None_Airbus_256_BATCH_32_LR_0.0005/model/35_YOLO_best.pth.tar\n"
     ]
    },
    {
     "name": "stderr",
     "output_type": "stream",
     "text": [
      "Eval: Valid: : 100%|██████████| 2/2 [00:00<00:00,  8.51it/s]\n"
     ]
    },
    {
     "name": "stdout",
     "output_type": "stream",
     "text": [
      "---------------------------------------------------\n",
      "-------------Loss Summary eval Valid--------------\n",
      "Total Loss  |Loss Coord  |Conf Loss   |No Obj Loss |Class Loss  |\n",
      "39.914      |22.146      |15.038      |2.380       |0.349       |\n",
      "---------------------------------------------------\n",
      "Valid: \t mAP@50: 0.229504, mAP@75: 0.048956, mAP@90: 0.000000, Mean Loss: 39.914206\n",
      "array_param_shape: 64736\n",
      "Valid: \t mAP@50: 0.317419, mAP@75: 0.048956, mAP@90: 0.000000, Mean Loss: 35.162593\n",
      "=> Loading checkpoint\n",
      "Model loaded: tinyissimoYOLO/NAdam_None_Airbus_256_BATCH_32_LR_0.0005/model/35_YOLO_best.pth.tar\n",
      "############################################\n",
      "Noise level 2: Slice: [3, 3], Percentage: 0.7\n",
      "############################################\n",
      "=> Loading checkpoint\n",
      "Model loaded: tinyissimoYOLO/NAdam_None_Airbus_256_BATCH_32_LR_0.0005/model/35_YOLO_best.pth.tar\n"
     ]
    },
    {
     "name": "stderr",
     "output_type": "stream",
     "text": [
      "Eval: Valid: : 100%|██████████| 2/2 [00:00<00:00,  8.15it/s]\n"
     ]
    },
    {
     "name": "stdout",
     "output_type": "stream",
     "text": [
      "---------------------------------------------------\n",
      "-------------Loss Summary eval Valid--------------\n",
      "Total Loss  |Loss Coord  |Conf Loss   |No Obj Loss |Class Loss  |\n",
      "16.344      |9.040       |5.005       |2.224       |0.075       |\n",
      "---------------------------------------------------\n",
      "Valid: \t mAP@50: 0.693328, mAP@75: 0.227190, mAP@90: 0.000000, Mean Loss: 16.343853\n",
      "array_param_shape: 643584\n",
      "=> Loading checkpoint\n",
      "Model loaded: tinyissimoYOLO/NAdam_None_Airbus_256_BATCH_32_LR_0.0005/model/35_YOLO_best.pth.tar\n"
     ]
    },
    {
     "name": "stderr",
     "output_type": "stream",
     "text": [
      "Eval: Valid: : 100%|██████████| 2/2 [00:00<00:00,  3.94it/s]\n"
     ]
    },
    {
     "name": "stdout",
     "output_type": "stream",
     "text": [
      "---------------------------------------------------\n",
      "-------------Loss Summary eval Valid--------------\n",
      "Total Loss  |Loss Coord  |Conf Loss   |No Obj Loss |Class Loss  |\n",
      "30.440      |16.025      |5.481       |8.778       |0.156       |\n",
      "---------------------------------------------------\n",
      "Valid: \t mAP@50: 0.408230, mAP@75: 0.025666, mAP@90: 0.000000, Mean Loss: 30.439502\n",
      "array_param_shape: 643712\n",
      "=> Loading checkpoint\n",
      "Model loaded: tinyissimoYOLO/NAdam_None_Airbus_256_BATCH_32_LR_0.0005/model/35_YOLO_best.pth.tar\n"
     ]
    },
    {
     "name": "stderr",
     "output_type": "stream",
     "text": [
      "Eval: Valid: : 100%|██████████| 2/2 [00:00<00:00,  8.17it/s]\n"
     ]
    },
    {
     "name": "stdout",
     "output_type": "stream",
     "text": [
      "---------------------------------------------------\n",
      "-------------Loss Summary eval Valid--------------\n",
      "Total Loss  |Loss Coord  |Conf Loss   |No Obj Loss |Class Loss  |\n",
      "69.625      |33.338      |9.733       |24.593      |1.962       |\n",
      "---------------------------------------------------\n",
      "Valid: \t mAP@50: 0.208668, mAP@75: 0.011667, mAP@90: 0.000000, Mean Loss: 69.624609\n",
      "array_param_shape: 643776\n",
      "Valid: \t mAP@50: 0.436742, mAP@75: 0.011667, mAP@90: 0.000000, Mean Loss: 38.802655\n",
      "=> Loading checkpoint\n",
      "Model loaded: tinyissimoYOLO/NAdam_None_Airbus_256_BATCH_32_LR_0.0005/model/35_YOLO_best.pth.tar\n",
      "############################################\n",
      "Noise level 2: Slice: [1, 3], Percentage: 1\n",
      "############################################\n",
      "=> Loading checkpoint\n",
      "Model loaded: tinyissimoYOLO/NAdam_None_Airbus_256_BATCH_32_LR_0.0005/model/35_YOLO_best.pth.tar\n"
     ]
    },
    {
     "name": "stderr",
     "output_type": "stream",
     "text": [
      "Eval: Valid: : 100%|██████████| 2/2 [00:00<00:00,  8.24it/s]\n"
     ]
    },
    {
     "name": "stdout",
     "output_type": "stream",
     "text": [
      "---------------------------------------------------\n",
      "-------------Loss Summary eval Valid--------------\n",
      "Total Loss  |Loss Coord  |Conf Loss   |No Obj Loss |Class Loss  |\n",
      "41.183      |22.622      |16.704      |1.559       |0.299       |\n",
      "---------------------------------------------------\n",
      "Valid: \t mAP@50: 0.185301, mAP@75: 0.079036, mAP@90: 0.000000, Mean Loss: 41.183350\n",
      "array_param_shape: 9776\n",
      "=> Loading checkpoint\n",
      "Model loaded: tinyissimoYOLO/NAdam_None_Airbus_256_BATCH_32_LR_0.0005/model/35_YOLO_best.pth.tar\n"
     ]
    },
    {
     "name": "stderr",
     "output_type": "stream",
     "text": [
      "Eval: Valid: : 100%|██████████| 2/2 [00:00<00:00,  9.03it/s]\n"
     ]
    },
    {
     "name": "stdout",
     "output_type": "stream",
     "text": [
      "---------------------------------------------------\n",
      "-------------Loss Summary eval Valid--------------\n",
      "Total Loss  |Loss Coord  |Conf Loss   |No Obj Loss |Class Loss  |\n",
      "27.611      |13.626      |10.139      |3.717       |0.130       |\n",
      "---------------------------------------------------\n",
      "Valid: \t mAP@50: 0.377903, mAP@75: 0.054991, mAP@90: 0.001462, Mean Loss: 27.610942\n",
      "array_param_shape: 9776\n",
      "=> Loading checkpoint\n",
      "Model loaded: tinyissimoYOLO/NAdam_None_Airbus_256_BATCH_32_LR_0.0005/model/35_YOLO_best.pth.tar\n"
     ]
    },
    {
     "name": "stderr",
     "output_type": "stream",
     "text": [
      "Eval: Valid: : 100%|██████████| 2/2 [00:00<00:00,  8.77it/s]\n"
     ]
    },
    {
     "name": "stdout",
     "output_type": "stream",
     "text": [
      "---------------------------------------------------\n",
      "-------------Loss Summary eval Valid--------------\n",
      "Total Loss  |Loss Coord  |Conf Loss   |No Obj Loss |Class Loss  |\n",
      "69.010      |44.125      |21.975      |2.831       |0.078       |\n",
      "---------------------------------------------------\n",
      "Valid: \t mAP@50: 0.004386, mAP@75: 0.000000, mAP@90: 0.000000, Mean Loss: 69.009533\n",
      "array_param_shape: 9776\n",
      "Valid: \t mAP@50: 0.189197, mAP@75: 0.000000, mAP@90: 0.000000, Mean Loss: 45.934608\n",
      "=> Loading checkpoint\n",
      "Model loaded: tinyissimoYOLO/NAdam_None_Airbus_256_BATCH_32_LR_0.0005/model/35_YOLO_best.pth.tar\n",
      "############################################\n",
      "Noise level 2: Slice: [2, 3], Percentage: 1\n",
      "############################################\n",
      "=> Loading checkpoint\n",
      "Model loaded: tinyissimoYOLO/NAdam_None_Airbus_256_BATCH_32_LR_0.0005/model/35_YOLO_best.pth.tar\n"
     ]
    },
    {
     "name": "stderr",
     "output_type": "stream",
     "text": [
      "Eval: Valid: : 100%|██████████| 2/2 [00:00<00:00,  2.91it/s]\n"
     ]
    },
    {
     "name": "stdout",
     "output_type": "stream",
     "text": [
      "---------------------------------------------------\n",
      "-------------Loss Summary eval Valid--------------\n",
      "Total Loss  |Loss Coord  |Conf Loss   |No Obj Loss |Class Loss  |\n",
      "1379502.406 |807871.688  |129837.641  |375080.297  |66712.812   |\n",
      "---------------------------------------------------\n",
      "Valid: \t mAP@50: 0.000000, mAP@75: 0.000000, mAP@90: 0.000000, Mean Loss: 1379502.406250\n",
      "array_param_shape: 101728\n",
      "=> Loading checkpoint\n",
      "Model loaded: tinyissimoYOLO/NAdam_None_Airbus_256_BATCH_32_LR_0.0005/model/35_YOLO_best.pth.tar\n"
     ]
    },
    {
     "name": "stderr",
     "output_type": "stream",
     "text": [
      "Eval: Valid: : 100%|██████████| 2/2 [00:00<00:00,  8.44it/s]\n"
     ]
    },
    {
     "name": "stdout",
     "output_type": "stream",
     "text": [
      "---------------------------------------------------\n",
      "-------------Loss Summary eval Valid--------------\n",
      "Total Loss  |Loss Coord  |Conf Loss   |No Obj Loss |Class Loss  |\n",
      "27.513      |14.134      |10.706      |2.359       |0.315       |\n",
      "---------------------------------------------------\n",
      "Valid: \t mAP@50: 0.291389, mAP@75: 0.070746, mAP@90: 0.000000, Mean Loss: 27.513489\n",
      "array_param_shape: 101728\n",
      "=> Loading checkpoint\n",
      "Model loaded: tinyissimoYOLO/NAdam_None_Airbus_256_BATCH_32_LR_0.0005/model/35_YOLO_best.pth.tar\n"
     ]
    },
    {
     "name": "stderr",
     "output_type": "stream",
     "text": [
      "Eval: Valid: : 100%|██████████| 2/2 [00:00<00:00,  8.41it/s]\n"
     ]
    },
    {
     "name": "stdout",
     "output_type": "stream",
     "text": [
      "---------------------------------------------------\n",
      "-------------Loss Summary eval Valid--------------\n",
      "Total Loss  |Loss Coord  |Conf Loss   |No Obj Loss |Class Loss  |\n",
      "22.019      |11.527      |8.285       |2.106       |0.101       |\n",
      "---------------------------------------------------\n",
      "Valid: \t mAP@50: 0.454863, mAP@75: 0.167729, mAP@90: 0.000797, Mean Loss: 22.018992\n",
      "array_param_shape: 101728\n",
      "Valid: \t mAP@50: 0.248751, mAP@75: 0.167729, mAP@90: 0.000797, Mean Loss: 459850.646244\n",
      "=> Loading checkpoint\n",
      "Model loaded: tinyissimoYOLO/NAdam_None_Airbus_256_BATCH_32_LR_0.0005/model/35_YOLO_best.pth.tar\n",
      "############################################\n",
      "Noise level 2: Slice: [3, 3], Percentage: 1\n",
      "############################################\n",
      "=> Loading checkpoint\n",
      "Model loaded: tinyissimoYOLO/NAdam_None_Airbus_256_BATCH_32_LR_0.0005/model/35_YOLO_best.pth.tar\n"
     ]
    },
    {
     "name": "stderr",
     "output_type": "stream",
     "text": [
      "Eval: Valid: : 100%|██████████| 2/2 [00:00<00:00,  7.85it/s]\n"
     ]
    },
    {
     "name": "stdout",
     "output_type": "stream",
     "text": [
      "---------------------------------------------------\n",
      "-------------Loss Summary eval Valid--------------\n",
      "Total Loss  |Loss Coord  |Conf Loss   |No Obj Loss |Class Loss  |\n",
      "61.509      |38.100      |7.500       |14.801      |1.107       |\n",
      "---------------------------------------------------\n",
      "Valid: \t mAP@50: 0.171196, mAP@75: 0.000000, mAP@90: 0.000000, Mean Loss: 61.508650\n",
      "array_param_shape: 791424\n",
      "=> Loading checkpoint\n",
      "Model loaded: tinyissimoYOLO/NAdam_None_Airbus_256_BATCH_32_LR_0.0005/model/35_YOLO_best.pth.tar\n"
     ]
    },
    {
     "name": "stderr",
     "output_type": "stream",
     "text": [
      "Eval: Valid: : 100%|██████████| 2/2 [00:00<00:00,  7.84it/s]\n"
     ]
    },
    {
     "name": "stdout",
     "output_type": "stream",
     "text": [
      "---------------------------------------------------\n",
      "-------------Loss Summary eval Valid--------------\n",
      "Total Loss  |Loss Coord  |Conf Loss   |No Obj Loss |Class Loss  |\n",
      "90.038      |54.971      |6.631       |25.730      |2.706       |\n",
      "---------------------------------------------------\n",
      "Valid: \t mAP@50: 0.052603, mAP@75: 0.000154, mAP@90: 0.000000, Mean Loss: 90.038101\n",
      "array_param_shape: 791424\n",
      "=> Loading checkpoint\n",
      "Model loaded: tinyissimoYOLO/NAdam_None_Airbus_256_BATCH_32_LR_0.0005/model/35_YOLO_best.pth.tar\n"
     ]
    },
    {
     "name": "stderr",
     "output_type": "stream",
     "text": [
      "Eval: Valid: : 100%|██████████| 2/2 [00:00<00:00,  4.38it/s]\n"
     ]
    },
    {
     "name": "stdout",
     "output_type": "stream",
     "text": [
      "---------------------------------------------------\n",
      "-------------Loss Summary eval Valid--------------\n",
      "Total Loss  |Loss Coord  |Conf Loss   |No Obj Loss |Class Loss  |\n",
      "1499.595    |612.608     |36.998      |838.231     |11.759      |\n",
      "---------------------------------------------------\n",
      "Valid: \t mAP@50: 0.002867, mAP@75: 0.000000, mAP@90: 0.000000, Mean Loss: 1499.595398\n",
      "array_param_shape: 791424\n",
      "Valid: \t mAP@50: 0.075555, mAP@75: 0.000000, mAP@90: 0.000000, Mean Loss: 550.380716\n"
     ]
    }
   ],
   "source": [
    "from eval_noise import test_noise\n",
    "case1=False\n",
    "case2=True\n",
    "percentage_layers_case_2 = [0, 0.3, 0.5, 0.7, 1] if case2 else [0]\n",
    "\n",
    "#prueba 4\n",
    "slices_case2 = [3,3]\n",
    "interval_2 = (-2,2)\n",
    "percentage_tensors_2 = 0.003\n",
    "\n",
    "test_noise( case1=case1, percentage_layers_case_1=[0], slices_case1 = [0,0],\n",
    "           case2=case2, percentage_layers_case_2=percentage_layers_case_2, slices_case2 = slices_case2, interval_2 = interval_2, percentage_tensors_2= percentage_tensors_2)"
   ]
  },
  {
   "cell_type": "markdown",
   "id": "433b390e-b805-450d-9767-75e67078dd24",
   "metadata": {},
   "source": [
    "# **Analisis para el modelo cuantizado**"
   ]
  },
  {
   "cell_type": "markdown",
   "id": "766afc6c-a8c0-4312-b22a-712505abd3fd",
   "metadata": {},
   "source": [
    "## **Test case 1**"
   ]
  },
  {
   "cell_type": "code",
   "execution_count": null,
   "id": "4ba3dfaa-200a-4d93-a7a5-a1d2f00251b0",
   "metadata": {},
   "outputs": [],
   "source": [
    "from eval_noise import test_noise\n",
    "case1=True\n",
    "case2=False\n",
    "percentage_layers_case_1  = [0, 0.3, 0.5, 0.7, 1] if case1 else [0]\n",
    "\n",
    "#prueba 1\n",
    "slices_case1 = [1,1]\n",
    "interval_1 = (-8,2)\n",
    "percentage_tensors_1 = 0.05\n",
    "\n",
    "folder_model = '6-TIC_5_sims_max_steps_100_slices_5_interval_4_10_degredation_0/sim_4'\n",
    "model_name = 'YOLO_opt.pth.tar'\n",
    "test_noise( case1=case1, percentage_layers_case_1=percentage_layers_case_1, slices_case1 = slices_case1, interval_1 = interval_1, percentage_tensors_1=percentage_tensors_1,\n",
    "            case2=case2, percentage_layers_case_2=[0], slices_case2 = [0,0],\n",
    "            folder_model = folder_model, model_name = model_name)           "
   ]
  },
  {
   "cell_type": "code",
   "execution_count": null,
   "id": "9dbcc0aa-0a87-46a1-ae9e-56ab69a83704",
   "metadata": {},
   "outputs": [],
   "source": [
    "from eval_noise import test_noise\n",
    "case1=True\n",
    "case2=False\n",
    "percentage_layers_case_1  = [0, 0.3, 0.5, 0.7, 1] if case1 else [0]\n",
    "\n",
    "#prueba 1\n",
    "slices_case1 = [1,1]\n",
    "interval_1 = (-2,2)\n",
    "percentage_tensors_1 = 0.05\n",
    "\n",
    "folder_model = '6-TIC_5_sims_max_steps_100_slices_5_interval_4_10_degredation_0/sim_4'\n",
    "model_name = 'YOLO_opt.pth.tar'\n",
    "test_noise( case1=case1, percentage_layers_case_1=percentage_layers_case_1, slices_case1 = slices_case1, interval_1 = interval_1, percentage_tensors_1=percentage_tensors_1,\n",
    "            case2=case2, percentage_layers_case_2=[0], slices_case2 = [0,0],\n",
    "            folder_model = folder_model, model_name = model_name)           "
   ]
  },
  {
   "cell_type": "code",
   "execution_count": null,
   "id": "58aff974-b397-4364-922e-6ca7c2f4d2e0",
   "metadata": {},
   "outputs": [],
   "source": [
    "from eval_noise import test_noise\n",
    "case1=True\n",
    "case2=False\n",
    "percentage_layers_case_1  = [0, 0.5, 1] if case1 else [0]\n",
    "\n",
    "#prueba 1\n",
    "slices_case1 = [3,3]\n",
    "interval_1 = (-32,2)\n",
    "percentage_tensors_1 = 0.05\n",
    "\n",
    "folder_model = '6-TIC_5_sims_max_steps_100_slices_5_interval_4_10_degredation_0/sim_4'\n",
    "model_name = 'YOLO_opt.pth.tar'\n",
    "test_noise( case1=case1, percentage_layers_case_1=percentage_layers_case_1, slices_case1 = slices_case1, interval_1 = interval_1, percentage_tensors_1=percentage_tensors_1,\n",
    "            case2=case2, percentage_layers_case_2=[0], slices_case2 = [0,0],\n",
    "            folder_model = folder_model, model_name = model_name)           "
   ]
  },
  {
   "cell_type": "code",
   "execution_count": null,
   "id": "792f6bcb-1f13-4b37-9780-1fe88c7173fa",
   "metadata": {},
   "outputs": [],
   "source": [
    "from eval_noise import test_noise\n",
    "case1=True\n",
    "case2=False\n",
    "percentage_layers_case_1  = [0, 0.5, 1] if case1 else [0]\n",
    "\n",
    "#prueba 1\n",
    "slices_case1 = [3,3]\n",
    "interval_1 = (-2,2)\n",
    "percentage_tensors_1 = 0.05\n",
    "\n",
    "folder_model = '6-TIC_5_sims_max_steps_100_slices_5_interval_4_10_degredation_0/sim_4'\n",
    "model_name = 'YOLO_opt.pth.tar'\n",
    "test_noise( case1=case1, percentage_layers_case_1=percentage_layers_case_1, slices_case1 = slices_case1, interval_1 = interval_1, percentage_tensors_1=percentage_tensors_1,\n",
    "            case2=case2, percentage_layers_case_2=[0], slices_case2 = [0,0],\n",
    "            folder_model = folder_model, model_name = model_name)           "
   ]
  },
  {
   "cell_type": "markdown",
   "id": "2c8011de-276b-4061-b044-cf323fdcec67",
   "metadata": {},
   "source": [
    "## **Test case 2**"
   ]
  },
  {
   "cell_type": "code",
   "execution_count": 5,
   "id": "7f645341-b017-469e-bfd4-d314735c368d",
   "metadata": {
    "scrolled": true
   },
   "outputs": [
    {
     "name": "stdout",
     "output_type": "stream",
     "text": [
      "Test with case1: False, case2: True\n",
      "Results will be saved in: case2_results_noise_slices_1_interval2_-8_2_p_0.001.txt\n",
      "=> Loading checkpoint\n",
      "Model loaded: tinyissimoYOLO/NAdam_None_Airbus_256_BATCH_32_LR_0.0005/model_opt/6-TIC_5_sims_max_steps_100_slices_5_interval_4_10_degredation_0/sim_4/YOLO_opt.pth.tar\n",
      "############################################\n",
      "Noise level 2: Slice: [1, 1], Percentage: 0\n",
      "############################################\n",
      "=> Loading checkpoint\n",
      "Model loaded: tinyissimoYOLO/NAdam_None_Airbus_256_BATCH_32_LR_0.0005/model_opt/6-TIC_5_sims_max_steps_100_slices_5_interval_4_10_degredation_0/sim_4/YOLO_opt.pth.tar\n"
     ]
    },
    {
     "name": "stderr",
     "output_type": "stream",
     "text": [
      "Eval: Valid: : 100%|██████████| 2/2 [00:00<00:00,  8.11it/s]\n"
     ]
    },
    {
     "name": "stdout",
     "output_type": "stream",
     "text": [
      "---------------------------------------------------\n",
      "-------------Loss Summary eval Valid--------------\n",
      "Total Loss  |Loss Coord  |Conf Loss   |No Obj Loss |Class Loss  |\n",
      "15.111      |7.942       |4.850       |2.253       |0.065       |\n",
      "---------------------------------------------------\n",
      "Valid: \t mAP@50: 0.746276, mAP@75: 0.258633, mAP@90: 0.001629, Mean Loss: 15.110722\n",
      "array_param_shape: 0\n",
      "=> Loading checkpoint\n",
      "Model loaded: tinyissimoYOLO/NAdam_None_Airbus_256_BATCH_32_LR_0.0005/model_opt/6-TIC_5_sims_max_steps_100_slices_5_interval_4_10_degredation_0/sim_4/YOLO_opt.pth.tar\n"
     ]
    },
    {
     "name": "stderr",
     "output_type": "stream",
     "text": [
      "Eval: Valid: : 100%|██████████| 2/2 [00:00<00:00,  8.17it/s]\n"
     ]
    },
    {
     "name": "stdout",
     "output_type": "stream",
     "text": [
      "---------------------------------------------------\n",
      "-------------Loss Summary eval Valid--------------\n",
      "Total Loss  |Loss Coord  |Conf Loss   |No Obj Loss |Class Loss  |\n",
      "15.111      |7.942       |4.850       |2.253       |0.065       |\n",
      "---------------------------------------------------\n",
      "Valid: \t mAP@50: 0.746276, mAP@75: 0.258633, mAP@90: 0.001629, Mean Loss: 15.110721\n",
      "array_param_shape: 0\n",
      "=> Loading checkpoint\n",
      "Model loaded: tinyissimoYOLO/NAdam_None_Airbus_256_BATCH_32_LR_0.0005/model_opt/6-TIC_5_sims_max_steps_100_slices_5_interval_4_10_degredation_0/sim_4/YOLO_opt.pth.tar\n"
     ]
    },
    {
     "name": "stderr",
     "output_type": "stream",
     "text": [
      "Eval: Valid: : 100%|██████████| 2/2 [00:00<00:00,  8.33it/s]\n"
     ]
    },
    {
     "name": "stdout",
     "output_type": "stream",
     "text": [
      "---------------------------------------------------\n",
      "-------------Loss Summary eval Valid--------------\n",
      "Total Loss  |Loss Coord  |Conf Loss   |No Obj Loss |Class Loss  |\n",
      "15.111      |7.942       |4.850       |2.253       |0.065       |\n",
      "---------------------------------------------------\n",
      "Valid: \t mAP@50: 0.746276, mAP@75: 0.258633, mAP@90: 0.001629, Mean Loss: 15.110720\n",
      "array_param_shape: 0\n",
      "Valid: \t mAP@50: 0.746276, mAP@75: 0.258633, mAP@90: 0.001629, Mean Loss: 15.110721\n",
      "=> Loading checkpoint\n",
      "Model loaded: tinyissimoYOLO/NAdam_None_Airbus_256_BATCH_32_LR_0.0005/model_opt/6-TIC_5_sims_max_steps_100_slices_5_interval_4_10_degredation_0/sim_4/YOLO_opt.pth.tar\n",
      "############################################\n",
      "Noise level 2: Slice: [1, 1], Percentage: 0.3\n",
      "############################################\n",
      "=> Loading checkpoint\n",
      "Model loaded: tinyissimoYOLO/NAdam_None_Airbus_256_BATCH_32_LR_0.0005/model_opt/6-TIC_5_sims_max_steps_100_slices_5_interval_4_10_degredation_0/sim_4/YOLO_opt.pth.tar\n"
     ]
    },
    {
     "name": "stderr",
     "output_type": "stream",
     "text": [
      "Eval: Valid: : 100%|██████████| 2/2 [00:00<00:00,  8.04it/s]\n"
     ]
    },
    {
     "name": "stdout",
     "output_type": "stream",
     "text": [
      "---------------------------------------------------\n",
      "-------------Loss Summary eval Valid--------------\n",
      "Total Loss  |Loss Coord  |Conf Loss   |No Obj Loss |Class Loss  |\n",
      "19.863      |9.647       |8.202       |1.850       |0.163       |\n",
      "---------------------------------------------------\n",
      "Valid: \t mAP@50: 0.509197, mAP@75: 0.203080, mAP@90: 0.002042, Mean Loss: 19.862556\n",
      "array_param_shape: 3232\n",
      "=> Loading checkpoint\n",
      "Model loaded: tinyissimoYOLO/NAdam_None_Airbus_256_BATCH_32_LR_0.0005/model_opt/6-TIC_5_sims_max_steps_100_slices_5_interval_4_10_degredation_0/sim_4/YOLO_opt.pth.tar\n"
     ]
    },
    {
     "name": "stderr",
     "output_type": "stream",
     "text": [
      "Eval: Valid: : 100%|██████████| 2/2 [00:00<00:00,  4.00it/s]\n"
     ]
    },
    {
     "name": "stdout",
     "output_type": "stream",
     "text": [
      "---------------------------------------------------\n",
      "-------------Loss Summary eval Valid--------------\n",
      "Total Loss  |Loss Coord  |Conf Loss   |No Obj Loss |Class Loss  |\n",
      "19.579      |10.327      |5.601       |3.484       |0.167       |\n",
      "---------------------------------------------------\n",
      "Valid: \t mAP@50: 0.541849, mAP@75: 0.068116, mAP@90: 0.006871, Mean Loss: 19.579210\n",
      "array_param_shape: 600544\n",
      "=> Loading checkpoint\n",
      "Model loaded: tinyissimoYOLO/NAdam_None_Airbus_256_BATCH_32_LR_0.0005/model_opt/6-TIC_5_sims_max_steps_100_slices_5_interval_4_10_degredation_0/sim_4/YOLO_opt.pth.tar\n"
     ]
    },
    {
     "name": "stderr",
     "output_type": "stream",
     "text": [
      "Eval: Valid: : 100%|██████████| 2/2 [00:00<00:00,  8.18it/s]\n"
     ]
    },
    {
     "name": "stdout",
     "output_type": "stream",
     "text": [
      "---------------------------------------------------\n",
      "-------------Loss Summary eval Valid--------------\n",
      "Total Loss  |Loss Coord  |Conf Loss   |No Obj Loss |Class Loss  |\n",
      "41.726      |17.755      |5.608       |5.165       |13.198      |\n",
      "---------------------------------------------------\n",
      "Valid: \t mAP@50: 0.602647, mAP@75: 0.139901, mAP@90: 0.000000, Mean Loss: 41.725513\n",
      "array_param_shape: 597648\n",
      "Valid: \t mAP@50: 0.551231, mAP@75: 0.139901, mAP@90: 0.000000, Mean Loss: 27.055760\n",
      "=> Loading checkpoint\n",
      "Model loaded: tinyissimoYOLO/NAdam_None_Airbus_256_BATCH_32_LR_0.0005/model_opt/6-TIC_5_sims_max_steps_100_slices_5_interval_4_10_degredation_0/sim_4/YOLO_opt.pth.tar\n",
      "############################################\n",
      "Noise level 2: Slice: [1, 1], Percentage: 0.5\n",
      "############################################\n",
      "=> Loading checkpoint\n",
      "Model loaded: tinyissimoYOLO/NAdam_None_Airbus_256_BATCH_32_LR_0.0005/model_opt/6-TIC_5_sims_max_steps_100_slices_5_interval_4_10_degredation_0/sim_4/YOLO_opt.pth.tar\n"
     ]
    },
    {
     "name": "stderr",
     "output_type": "stream",
     "text": [
      "Eval: Valid: : 100%|██████████| 2/2 [00:00<00:00,  2.25it/s]\n"
     ]
    },
    {
     "name": "stdout",
     "output_type": "stream",
     "text": [
      "---------------------------------------------------\n",
      "-------------Loss Summary eval Valid--------------\n",
      "Total Loss  |Loss Coord  |Conf Loss   |No Obj Loss |Class Loss  |\n",
      "60.921      |35.207      |24.893      |0.185       |0.636       |\n",
      "---------------------------------------------------\n",
      "Valid: \t mAP@50: 0.017544, mAP@75: 0.017544, mAP@90: 0.000000, Mean Loss: 60.920723\n",
      "array_param_shape: 655984\n",
      "=> Loading checkpoint\n",
      "Model loaded: tinyissimoYOLO/NAdam_None_Airbus_256_BATCH_32_LR_0.0005/model_opt/6-TIC_5_sims_max_steps_100_slices_5_interval_4_10_degredation_0/sim_4/YOLO_opt.pth.tar\n"
     ]
    },
    {
     "name": "stderr",
     "output_type": "stream",
     "text": [
      "Eval: Valid: : 100%|██████████| 2/2 [00:00<00:00,  8.25it/s]\n"
     ]
    },
    {
     "name": "stdout",
     "output_type": "stream",
     "text": [
      "---------------------------------------------------\n",
      "-------------Loss Summary eval Valid--------------\n",
      "Total Loss  |Loss Coord  |Conf Loss   |No Obj Loss |Class Loss  |\n",
      "37.176      |21.253      |10.739      |4.891       |0.294       |\n",
      "---------------------------------------------------\n",
      "Valid: \t mAP@50: 0.172553, mAP@75: 0.020990, mAP@90: 0.017544, Mean Loss: 37.176167\n",
      "array_param_shape: 600272\n",
      "=> Loading checkpoint\n",
      "Model loaded: tinyissimoYOLO/NAdam_None_Airbus_256_BATCH_32_LR_0.0005/model_opt/6-TIC_5_sims_max_steps_100_slices_5_interval_4_10_degredation_0/sim_4/YOLO_opt.pth.tar\n"
     ]
    },
    {
     "name": "stderr",
     "output_type": "stream",
     "text": [
      "Eval: Valid: : 100%|██████████| 2/2 [00:00<00:00,  8.05it/s]\n"
     ]
    },
    {
     "name": "stdout",
     "output_type": "stream",
     "text": [
      "---------------------------------------------------\n",
      "-------------Loss Summary eval Valid--------------\n",
      "Total Loss  |Loss Coord  |Conf Loss   |No Obj Loss |Class Loss  |\n",
      "27.622      |13.796      |8.293       |5.361       |0.172       |\n",
      "---------------------------------------------------\n",
      "Valid: \t mAP@50: 0.449149, mAP@75: 0.052166, mAP@90: 0.000000, Mean Loss: 27.621855\n",
      "array_param_shape: 769728\n",
      "Valid: \t mAP@50: 0.213082, mAP@75: 0.052166, mAP@90: 0.000000, Mean Loss: 41.906248\n",
      "=> Loading checkpoint\n",
      "Model loaded: tinyissimoYOLO/NAdam_None_Airbus_256_BATCH_32_LR_0.0005/model_opt/6-TIC_5_sims_max_steps_100_slices_5_interval_4_10_degredation_0/sim_4/YOLO_opt.pth.tar\n",
      "############################################\n",
      "Noise level 2: Slice: [1, 1], Percentage: 0.7\n",
      "############################################\n",
      "=> Loading checkpoint\n",
      "Model loaded: tinyissimoYOLO/NAdam_None_Airbus_256_BATCH_32_LR_0.0005/model_opt/6-TIC_5_sims_max_steps_100_slices_5_interval_4_10_degredation_0/sim_4/YOLO_opt.pth.tar\n"
     ]
    },
    {
     "name": "stderr",
     "output_type": "stream",
     "text": [
      "Eval: Valid: : 100%|██████████| 2/2 [00:00<00:00,  7.88it/s]\n"
     ]
    },
    {
     "name": "stdout",
     "output_type": "stream",
     "text": [
      "---------------------------------------------------\n",
      "-------------Loss Summary eval Valid--------------\n",
      "Total Loss  |Loss Coord  |Conf Loss   |No Obj Loss |Class Loss  |\n",
      "40.853      |20.433      |19.314      |0.839       |0.268       |\n",
      "---------------------------------------------------\n",
      "Valid: \t mAP@50: 0.095384, mAP@75: 0.015748, mAP@90: 0.000000, Mean Loss: 40.853157\n",
      "array_param_shape: 341312\n",
      "=> Loading checkpoint\n",
      "Model loaded: tinyissimoYOLO/NAdam_None_Airbus_256_BATCH_32_LR_0.0005/model_opt/6-TIC_5_sims_max_steps_100_slices_5_interval_4_10_degredation_0/sim_4/YOLO_opt.pth.tar\n"
     ]
    },
    {
     "name": "stderr",
     "output_type": "stream",
     "text": [
      "Eval: Valid: : 100%|██████████| 2/2 [00:00<00:00,  8.38it/s]\n"
     ]
    },
    {
     "name": "stdout",
     "output_type": "stream",
     "text": [
      "---------------------------------------------------\n",
      "-------------Loss Summary eval Valid--------------\n",
      "Total Loss  |Loss Coord  |Conf Loss   |No Obj Loss |Class Loss  |\n",
      "43.161      |21.036      |20.897      |0.970       |0.258       |\n",
      "---------------------------------------------------\n",
      "Valid: \t mAP@50: 0.122807, mAP@75: 0.047494, mAP@90: 0.000000, Mean Loss: 43.160587\n",
      "array_param_shape: 378176\n",
      "=> Loading checkpoint\n",
      "Model loaded: tinyissimoYOLO/NAdam_None_Airbus_256_BATCH_32_LR_0.0005/model_opt/6-TIC_5_sims_max_steps_100_slices_5_interval_4_10_degredation_0/sim_4/YOLO_opt.pth.tar\n"
     ]
    },
    {
     "name": "stderr",
     "output_type": "stream",
     "text": [
      "Eval: Valid: : 100%|██████████| 2/2 [00:00<00:00,  8.21it/s]\n"
     ]
    },
    {
     "name": "stdout",
     "output_type": "stream",
     "text": [
      "---------------------------------------------------\n",
      "-------------Loss Summary eval Valid--------------\n",
      "Total Loss  |Loss Coord  |Conf Loss   |No Obj Loss |Class Loss  |\n",
      "52.290      |28.802      |21.379      |1.840       |0.269       |\n",
      "---------------------------------------------------\n",
      "Valid: \t mAP@50: 0.084503, mAP@75: 0.022515, mAP@90: 0.000000, Mean Loss: 52.290382\n",
      "array_param_shape: 902256\n",
      "Valid: \t mAP@50: 0.100898, mAP@75: 0.022515, mAP@90: 0.000000, Mean Loss: 45.434709\n",
      "=> Loading checkpoint\n",
      "Model loaded: tinyissimoYOLO/NAdam_None_Airbus_256_BATCH_32_LR_0.0005/model_opt/6-TIC_5_sims_max_steps_100_slices_5_interval_4_10_degredation_0/sim_4/YOLO_opt.pth.tar\n",
      "############################################\n",
      "Noise level 2: Slice: [1, 1], Percentage: 1\n",
      "############################################\n",
      "=> Loading checkpoint\n",
      "Model loaded: tinyissimoYOLO/NAdam_None_Airbus_256_BATCH_32_LR_0.0005/model_opt/6-TIC_5_sims_max_steps_100_slices_5_interval_4_10_degredation_0/sim_4/YOLO_opt.pth.tar\n"
     ]
    },
    {
     "name": "stderr",
     "output_type": "stream",
     "text": [
      "Eval: Valid: : 100%|██████████| 2/2 [00:00<00:00,  8.20it/s]\n"
     ]
    },
    {
     "name": "stdout",
     "output_type": "stream",
     "text": [
      "---------------------------------------------------\n",
      "-------------Loss Summary eval Valid--------------\n",
      "Total Loss  |Loss Coord  |Conf Loss   |No Obj Loss |Class Loss  |\n",
      "57.391      |33.037      |19.156      |4.316       |0.881       |\n",
      "---------------------------------------------------\n",
      "Valid: \t mAP@50: 0.023246, mAP@75: 0.000000, mAP@90: 0.000000, Mean Loss: 57.390692\n",
      "array_param_shape: 903104\n",
      "=> Loading checkpoint\n",
      "Model loaded: tinyissimoYOLO/NAdam_None_Airbus_256_BATCH_32_LR_0.0005/model_opt/6-TIC_5_sims_max_steps_100_slices_5_interval_4_10_degredation_0/sim_4/YOLO_opt.pth.tar\n"
     ]
    },
    {
     "name": "stderr",
     "output_type": "stream",
     "text": [
      "Eval: Valid: : 100%|██████████| 2/2 [00:00<00:00,  8.18it/s]\n"
     ]
    },
    {
     "name": "stdout",
     "output_type": "stream",
     "text": [
      "---------------------------------------------------\n",
      "-------------Loss Summary eval Valid--------------\n",
      "Total Loss  |Loss Coord  |Conf Loss   |No Obj Loss |Class Loss  |\n",
      "48.072      |18.790      |13.096      |15.699      |0.487       |\n",
      "---------------------------------------------------\n",
      "Valid: \t mAP@50: 0.264201, mAP@75: 0.009347, mAP@90: 0.000000, Mean Loss: 48.071770\n",
      "array_param_shape: 903104\n",
      "=> Loading checkpoint\n",
      "Model loaded: tinyissimoYOLO/NAdam_None_Airbus_256_BATCH_32_LR_0.0005/model_opt/6-TIC_5_sims_max_steps_100_slices_5_interval_4_10_degredation_0/sim_4/YOLO_opt.pth.tar\n"
     ]
    },
    {
     "name": "stderr",
     "output_type": "stream",
     "text": [
      "Eval: Valid: : 100%|██████████| 2/2 [00:00<00:00,  8.56it/s]\n"
     ]
    },
    {
     "name": "stdout",
     "output_type": "stream",
     "text": [
      "---------------------------------------------------\n",
      "-------------Loss Summary eval Valid--------------\n",
      "Total Loss  |Loss Coord  |Conf Loss   |No Obj Loss |Class Loss  |\n",
      "63.132      |25.274      |22.243      |15.351      |0.263       |\n",
      "---------------------------------------------------\n",
      "Valid: \t mAP@50: 0.263158, mAP@75: 0.060008, mAP@90: 0.002924, Mean Loss: 63.131525\n",
      "array_param_shape: 903104\n",
      "Valid: \t mAP@50: 0.183535, mAP@75: 0.060008, mAP@90: 0.002924, Mean Loss: 56.197996\n"
     ]
    }
   ],
   "source": [
    "from eval_noise import test_noise\n",
    "case1=False\n",
    "case2=True\n",
    "percentage_layers_case_2  = [0, 0.3, 0.5, 0.7, 1] if case2 else [0]\n",
    "\n",
    "\n",
    "#prueba 4\n",
    "slices_case2 = [1,1]\n",
    "interval_2 = (-8,2)\n",
    "percentage_tensors_2 = 0.001\n",
    "\n",
    "folder_model = '6-TIC_5_sims_max_steps_100_slices_5_interval_4_10_degredation_0/sim_4'\n",
    "model_name = 'YOLO_opt.pth.tar'\n",
    "test_noise(case1=case1, percentage_layers_case_1=[0], slices_case1 = [0,0],\n",
    "           case2=case2, percentage_layers_case_2=percentage_layers_case_2, slices_case2 = slices_case2, interval_2 = interval_2, percentage_tensors_2= percentage_tensors_2,\n",
    "            folder_model = folder_model, model_name = model_name)"
   ]
  },
  {
   "cell_type": "code",
   "execution_count": 3,
   "id": "b0599f95-49ac-42c8-9f45-96c716c7210c",
   "metadata": {
    "scrolled": true
   },
   "outputs": [
    {
     "name": "stdout",
     "output_type": "stream",
     "text": [
      "Test with case1: False, case2: True\n",
      "File case2_results_noise_slices_1_interval2_-2_2_p_0.003.txt exists. Deleting...\n",
      "Results will be saved in: case2_results_noise_slices_1_interval2_-2_2_p_0.003.txt\n",
      "=> Loading checkpoint\n",
      "Model loaded: tinyissimoYOLO/NAdam_None_Airbus_256_BATCH_32_LR_0.0005/model_opt/6-TIC_5_sims_max_steps_100_slices_5_interval_4_10_degredation_0/sim_4/YOLO_opt.pth.tar\n",
      "############################################\n",
      "Noise level 2: Slice: [1, 1], Percentage: 0\n",
      "############################################\n",
      "=> Loading checkpoint\n",
      "Model loaded: tinyissimoYOLO/NAdam_None_Airbus_256_BATCH_32_LR_0.0005/model_opt/6-TIC_5_sims_max_steps_100_slices_5_interval_4_10_degredation_0/sim_4/YOLO_opt.pth.tar\n"
     ]
    },
    {
     "name": "stderr",
     "output_type": "stream",
     "text": [
      "Eval: Valid: : 100%|██████████| 2/2 [00:00<00:00,  8.06it/s]\n"
     ]
    },
    {
     "name": "stdout",
     "output_type": "stream",
     "text": [
      "---------------------------------------------------\n",
      "-------------Loss Summary eval Valid--------------\n",
      "Total Loss  |Loss Coord  |Conf Loss   |No Obj Loss |Class Loss  |\n",
      "15.111      |7.942       |4.850       |2.253       |0.065       |\n",
      "---------------------------------------------------\n",
      "Valid: \t mAP@50: 0.746276, mAP@75: 0.258633, mAP@90: 0.001629, Mean Loss: 15.110722\n",
      "array_param_shape: 0\n",
      "=> Loading checkpoint\n",
      "Model loaded: tinyissimoYOLO/NAdam_None_Airbus_256_BATCH_32_LR_0.0005/model_opt/6-TIC_5_sims_max_steps_100_slices_5_interval_4_10_degredation_0/sim_4/YOLO_opt.pth.tar\n"
     ]
    },
    {
     "name": "stderr",
     "output_type": "stream",
     "text": [
      "Eval: Valid: : 100%|██████████| 2/2 [00:00<00:00,  8.40it/s]\n"
     ]
    },
    {
     "name": "stdout",
     "output_type": "stream",
     "text": [
      "---------------------------------------------------\n",
      "-------------Loss Summary eval Valid--------------\n",
      "Total Loss  |Loss Coord  |Conf Loss   |No Obj Loss |Class Loss  |\n",
      "15.111      |7.942       |4.850       |2.253       |0.065       |\n",
      "---------------------------------------------------\n",
      "Valid: \t mAP@50: 0.746276, mAP@75: 0.258633, mAP@90: 0.001629, Mean Loss: 15.110721\n",
      "array_param_shape: 0\n",
      "=> Loading checkpoint\n",
      "Model loaded: tinyissimoYOLO/NAdam_None_Airbus_256_BATCH_32_LR_0.0005/model_opt/6-TIC_5_sims_max_steps_100_slices_5_interval_4_10_degredation_0/sim_4/YOLO_opt.pth.tar\n"
     ]
    },
    {
     "name": "stderr",
     "output_type": "stream",
     "text": [
      "Eval: Valid: : 100%|██████████| 2/2 [00:00<00:00,  7.60it/s]\n"
     ]
    },
    {
     "name": "stdout",
     "output_type": "stream",
     "text": [
      "---------------------------------------------------\n",
      "-------------Loss Summary eval Valid--------------\n",
      "Total Loss  |Loss Coord  |Conf Loss   |No Obj Loss |Class Loss  |\n",
      "15.111      |7.942       |4.850       |2.253       |0.065       |\n",
      "---------------------------------------------------\n",
      "Valid: \t mAP@50: 0.746276, mAP@75: 0.258633, mAP@90: 0.001629, Mean Loss: 15.110721\n",
      "array_param_shape: 0\n",
      "Valid: \t mAP@50: 0.746276, mAP@75: 0.258633, mAP@90: 0.001629, Mean Loss: 15.110721\n",
      "=> Loading checkpoint\n",
      "Model loaded: tinyissimoYOLO/NAdam_None_Airbus_256_BATCH_32_LR_0.0005/model_opt/6-TIC_5_sims_max_steps_100_slices_5_interval_4_10_degredation_0/sim_4/YOLO_opt.pth.tar\n",
      "############################################\n",
      "Noise level 2: Slice: [1, 1], Percentage: 0.3\n",
      "############################################\n",
      "=> Loading checkpoint\n",
      "Model loaded: tinyissimoYOLO/NAdam_None_Airbus_256_BATCH_32_LR_0.0005/model_opt/6-TIC_5_sims_max_steps_100_slices_5_interval_4_10_degredation_0/sim_4/YOLO_opt.pth.tar\n"
     ]
    },
    {
     "name": "stderr",
     "output_type": "stream",
     "text": [
      "Eval: Valid: : 100%|██████████| 2/2 [00:00<00:00,  8.30it/s]\n"
     ]
    },
    {
     "name": "stdout",
     "output_type": "stream",
     "text": [
      "---------------------------------------------------\n",
      "-------------Loss Summary eval Valid--------------\n",
      "Total Loss  |Loss Coord  |Conf Loss   |No Obj Loss |Class Loss  |\n",
      "35.657      |20.481      |10.560      |4.447       |0.170       |\n",
      "---------------------------------------------------\n",
      "Valid: \t mAP@50: 0.265085, mAP@75: 0.054526, mAP@90: 0.000487, Mean Loss: 35.657374\n",
      "array_param_shape: 555120\n",
      "=> Loading checkpoint\n",
      "Model loaded: tinyissimoYOLO/NAdam_None_Airbus_256_BATCH_32_LR_0.0005/model_opt/6-TIC_5_sims_max_steps_100_slices_5_interval_4_10_degredation_0/sim_4/YOLO_opt.pth.tar\n"
     ]
    },
    {
     "name": "stderr",
     "output_type": "stream",
     "text": [
      "Eval: Valid: : 100%|██████████| 2/2 [00:00<00:00,  8.28it/s]\n"
     ]
    },
    {
     "name": "stdout",
     "output_type": "stream",
     "text": [
      "---------------------------------------------------\n",
      "-------------Loss Summary eval Valid--------------\n",
      "Total Loss  |Loss Coord  |Conf Loss   |No Obj Loss |Class Loss  |\n",
      "43.802      |24.679      |16.722      |2.259       |0.142       |\n",
      "---------------------------------------------------\n",
      "Valid: \t mAP@50: 0.072847, mAP@75: 0.050102, mAP@90: 0.000000, Mean Loss: 43.801537\n",
      "array_param_shape: 794608\n",
      "=> Loading checkpoint\n",
      "Model loaded: tinyissimoYOLO/NAdam_None_Airbus_256_BATCH_32_LR_0.0005/model_opt/6-TIC_5_sims_max_steps_100_slices_5_interval_4_10_degredation_0/sim_4/YOLO_opt.pth.tar\n"
     ]
    },
    {
     "name": "stderr",
     "output_type": "stream",
     "text": [
      "Eval: Valid: : 100%|██████████| 2/2 [00:00<00:00,  8.41it/s]\n"
     ]
    },
    {
     "name": "stdout",
     "output_type": "stream",
     "text": [
      "---------------------------------------------------\n",
      "-------------Loss Summary eval Valid--------------\n",
      "Total Loss  |Loss Coord  |Conf Loss   |No Obj Loss |Class Loss  |\n",
      "59.000      |34.853      |22.043      |2.024       |0.080       |\n",
      "---------------------------------------------------\n",
      "Valid: \t mAP@50: 0.017544, mAP@75: 0.017544, mAP@90: 0.000000, Mean Loss: 58.999672\n",
      "array_param_shape: 77008\n",
      "Valid: \t mAP@50: 0.118492, mAP@75: 0.017544, mAP@90: 0.000000, Mean Loss: 46.152861\n",
      "=> Loading checkpoint\n",
      "Model loaded: tinyissimoYOLO/NAdam_None_Airbus_256_BATCH_32_LR_0.0005/model_opt/6-TIC_5_sims_max_steps_100_slices_5_interval_4_10_degredation_0/sim_4/YOLO_opt.pth.tar\n",
      "############################################\n",
      "Noise level 2: Slice: [1, 1], Percentage: 0.5\n",
      "############################################\n",
      "=> Loading checkpoint\n",
      "Model loaded: tinyissimoYOLO/NAdam_None_Airbus_256_BATCH_32_LR_0.0005/model_opt/6-TIC_5_sims_max_steps_100_slices_5_interval_4_10_degredation_0/sim_4/YOLO_opt.pth.tar\n"
     ]
    },
    {
     "name": "stderr",
     "output_type": "stream",
     "text": [
      "Eval: Valid: : 100%|██████████| 2/2 [00:00<00:00,  2.52it/s]\n"
     ]
    },
    {
     "name": "stdout",
     "output_type": "stream",
     "text": [
      "---------------------------------------------------\n",
      "-------------Loss Summary eval Valid--------------\n",
      "Total Loss  |Loss Coord  |Conf Loss   |No Obj Loss |Class Loss  |\n",
      "17.385      |9.300       |5.204       |2.795       |0.086       |\n",
      "---------------------------------------------------\n",
      "Valid: \t mAP@50: 0.629692, mAP@75: 0.142950, mAP@90: 0.000000, Mean Loss: 17.384713\n",
      "array_param_shape: 155120\n",
      "=> Loading checkpoint\n",
      "Model loaded: tinyissimoYOLO/NAdam_None_Airbus_256_BATCH_32_LR_0.0005/model_opt/6-TIC_5_sims_max_steps_100_slices_5_interval_4_10_degredation_0/sim_4/YOLO_opt.pth.tar\n"
     ]
    },
    {
     "name": "stderr",
     "output_type": "stream",
     "text": [
      "Eval: Valid: : 100%|██████████| 2/2 [00:00<00:00,  7.93it/s]\n"
     ]
    },
    {
     "name": "stdout",
     "output_type": "stream",
     "text": [
      "---------------------------------------------------\n",
      "-------------Loss Summary eval Valid--------------\n",
      "Total Loss  |Loss Coord  |Conf Loss   |No Obj Loss |Class Loss  |\n",
      "567.983     |471.826     |33.824      |54.114      |8.219       |\n",
      "---------------------------------------------------\n",
      "Valid: \t mAP@50: 0.004191, mAP@75: 0.000000, mAP@90: 0.000000, Mean Loss: 567.983047\n",
      "array_param_shape: 605536\n",
      "=> Loading checkpoint\n",
      "Model loaded: tinyissimoYOLO/NAdam_None_Airbus_256_BATCH_32_LR_0.0005/model_opt/6-TIC_5_sims_max_steps_100_slices_5_interval_4_10_degredation_0/sim_4/YOLO_opt.pth.tar\n"
     ]
    },
    {
     "name": "stderr",
     "output_type": "stream",
     "text": [
      "Eval: Valid: : 100%|██████████| 2/2 [00:00<00:00,  7.96it/s]\n"
     ]
    },
    {
     "name": "stdout",
     "output_type": "stream",
     "text": [
      "---------------------------------------------------\n",
      "-------------Loss Summary eval Valid--------------\n",
      "Total Loss  |Loss Coord  |Conf Loss   |No Obj Loss |Class Loss  |\n",
      "39.657      |23.738      |5.791       |9.951       |0.177       |\n",
      "---------------------------------------------------\n",
      "Valid: \t mAP@50: 0.299386, mAP@75: 0.008286, mAP@90: 0.000000, Mean Loss: 39.656874\n",
      "array_param_shape: 594656\n",
      "Valid: \t mAP@50: 0.311090, mAP@75: 0.008286, mAP@90: 0.000000, Mean Loss: 208.341545\n",
      "=> Loading checkpoint\n",
      "Model loaded: tinyissimoYOLO/NAdam_None_Airbus_256_BATCH_32_LR_0.0005/model_opt/6-TIC_5_sims_max_steps_100_slices_5_interval_4_10_degredation_0/sim_4/YOLO_opt.pth.tar\n",
      "############################################\n",
      "Noise level 2: Slice: [1, 1], Percentage: 0.7\n",
      "############################################\n",
      "=> Loading checkpoint\n",
      "Model loaded: tinyissimoYOLO/NAdam_None_Airbus_256_BATCH_32_LR_0.0005/model_opt/6-TIC_5_sims_max_steps_100_slices_5_interval_4_10_degredation_0/sim_4/YOLO_opt.pth.tar\n"
     ]
    },
    {
     "name": "stderr",
     "output_type": "stream",
     "text": [
      "Eval: Valid: : 100%|██████████| 2/2 [00:00<00:00,  7.53it/s]\n"
     ]
    },
    {
     "name": "stdout",
     "output_type": "stream",
     "text": [
      "---------------------------------------------------\n",
      "-------------Loss Summary eval Valid--------------\n",
      "Total Loss  |Loss Coord  |Conf Loss   |No Obj Loss |Class Loss  |\n",
      "151.641     |57.058      |25.172      |65.672      |3.740       |\n",
      "---------------------------------------------------\n",
      "Valid: \t mAP@50: 0.047652, mAP@75: 0.008751, mAP@90: 0.000000, Mean Loss: 151.640991\n",
      "array_param_shape: 789456\n",
      "=> Loading checkpoint\n",
      "Model loaded: tinyissimoYOLO/NAdam_None_Airbus_256_BATCH_32_LR_0.0005/model_opt/6-TIC_5_sims_max_steps_100_slices_5_interval_4_10_degredation_0/sim_4/YOLO_opt.pth.tar\n"
     ]
    },
    {
     "name": "stderr",
     "output_type": "stream",
     "text": [
      "Eval: Valid: : 100%|██████████| 2/2 [00:00<00:00,  8.18it/s]\n"
     ]
    },
    {
     "name": "stdout",
     "output_type": "stream",
     "text": [
      "---------------------------------------------------\n",
      "-------------Loss Summary eval Valid--------------\n",
      "Total Loss  |Loss Coord  |Conf Loss   |No Obj Loss |Class Loss  |\n",
      "40.958      |19.548      |20.730      |0.414       |0.267       |\n",
      "---------------------------------------------------\n",
      "Valid: \t mAP@50: 0.122807, mAP@75: 0.030994, mAP@90: 0.010234, Mean Loss: 40.958392\n",
      "array_param_shape: 158160\n",
      "=> Loading checkpoint\n",
      "Model loaded: tinyissimoYOLO/NAdam_None_Airbus_256_BATCH_32_LR_0.0005/model_opt/6-TIC_5_sims_max_steps_100_slices_5_interval_4_10_degredation_0/sim_4/YOLO_opt.pth.tar\n"
     ]
    },
    {
     "name": "stderr",
     "output_type": "stream",
     "text": [
      "Eval: Valid: : 100%|██████████| 2/2 [00:00<00:00,  8.65it/s]\n"
     ]
    },
    {
     "name": "stdout",
     "output_type": "stream",
     "text": [
      "---------------------------------------------------\n",
      "-------------Loss Summary eval Valid--------------\n",
      "Total Loss  |Loss Coord  |Conf Loss   |No Obj Loss |Class Loss  |\n",
      "46.662      |25.098      |16.468      |4.707       |0.389       |\n",
      "---------------------------------------------------\n",
      "Valid: \t mAP@50: 0.091208, mAP@75: 0.000000, mAP@90: 0.000000, Mean Loss: 46.661579\n",
      "array_param_shape: 652624\n",
      "Valid: \t mAP@50: 0.087222, mAP@75: 0.000000, mAP@90: 0.000000, Mean Loss: 79.753654\n",
      "=> Loading checkpoint\n",
      "Model loaded: tinyissimoYOLO/NAdam_None_Airbus_256_BATCH_32_LR_0.0005/model_opt/6-TIC_5_sims_max_steps_100_slices_5_interval_4_10_degredation_0/sim_4/YOLO_opt.pth.tar\n",
      "############################################\n",
      "Noise level 2: Slice: [1, 1], Percentage: 1\n",
      "############################################\n",
      "=> Loading checkpoint\n",
      "Model loaded: tinyissimoYOLO/NAdam_None_Airbus_256_BATCH_32_LR_0.0005/model_opt/6-TIC_5_sims_max_steps_100_slices_5_interval_4_10_degredation_0/sim_4/YOLO_opt.pth.tar\n"
     ]
    },
    {
     "name": "stderr",
     "output_type": "stream",
     "text": [
      "Eval: Valid: : 100%|██████████| 2/2 [00:00<00:00,  2.80it/s]\n"
     ]
    },
    {
     "name": "stdout",
     "output_type": "stream",
     "text": [
      "---------------------------------------------------\n",
      "-------------Loss Summary eval Valid--------------\n",
      "Total Loss  |Loss Coord  |Conf Loss   |No Obj Loss |Class Loss  |\n",
      "140.988     |47.025      |30.020      |63.296      |0.647       |\n",
      "---------------------------------------------------\n",
      "Valid: \t mAP@50: 0.000199, mAP@75: 0.000000, mAP@90: 0.000000, Mean Loss: 140.988201\n",
      "array_param_shape: 903104\n",
      "=> Loading checkpoint\n",
      "Model loaded: tinyissimoYOLO/NAdam_None_Airbus_256_BATCH_32_LR_0.0005/model_opt/6-TIC_5_sims_max_steps_100_slices_5_interval_4_10_degredation_0/sim_4/YOLO_opt.pth.tar\n"
     ]
    },
    {
     "name": "stderr",
     "output_type": "stream",
     "text": [
      "Eval: Valid: : 100%|██████████| 2/2 [00:00<00:00,  8.45it/s]\n"
     ]
    },
    {
     "name": "stdout",
     "output_type": "stream",
     "text": [
      "---------------------------------------------------\n",
      "-------------Loss Summary eval Valid--------------\n",
      "Total Loss  |Loss Coord  |Conf Loss   |No Obj Loss |Class Loss  |\n",
      "67.836      |42.645      |22.383      |2.455       |0.352       |\n",
      "---------------------------------------------------\n",
      "Valid: \t mAP@50: 0.001754, mAP@75: 0.000000, mAP@90: 0.000000, Mean Loss: 67.836481\n",
      "array_param_shape: 903104\n",
      "=> Loading checkpoint\n",
      "Model loaded: tinyissimoYOLO/NAdam_None_Airbus_256_BATCH_32_LR_0.0005/model_opt/6-TIC_5_sims_max_steps_100_slices_5_interval_4_10_degredation_0/sim_4/YOLO_opt.pth.tar\n"
     ]
    },
    {
     "name": "stderr",
     "output_type": "stream",
     "text": [
      "Eval: Valid: : 100%|██████████| 2/2 [00:00<00:00,  7.74it/s]\n"
     ]
    },
    {
     "name": "stdout",
     "output_type": "stream",
     "text": [
      "---------------------------------------------------\n",
      "-------------Loss Summary eval Valid--------------\n",
      "Total Loss  |Loss Coord  |Conf Loss   |No Obj Loss |Class Loss  |\n",
      "139.405     |101.317     |13.784      |23.750      |0.554       |\n",
      "---------------------------------------------------\n",
      "Valid: \t mAP@50: 0.008953, mAP@75: 0.000101, mAP@90: 0.000000, Mean Loss: 139.404736\n",
      "array_param_shape: 903104\n",
      "Valid: \t mAP@50: 0.003636, mAP@75: 0.000101, mAP@90: 0.000000, Mean Loss: 116.076473\n"
     ]
    }
   ],
   "source": [
    "from eval_noise import test_noise\n",
    "case1=False\n",
    "case2=True\n",
    "percentage_layers_case_2  = [0, 0.3, 0.5, 0.7, 1] if case2 else [0]\n",
    "\n",
    "\n",
    "#prueba 4\n",
    "slices_case2 = [1,1]\n",
    "interval_2 = (-2,2)\n",
    "percentage_tensors_2 = 0.003\n",
    "\n",
    "folder_model = '6-TIC_5_sims_max_steps_100_slices_5_interval_4_10_degredation_0/sim_4'\n",
    "model_name = 'YOLO_opt.pth.tar'\n",
    "test_noise(case1=case1, percentage_layers_case_1=[0], slices_case1 = [0,0],\n",
    "           case2=case2, percentage_layers_case_2=percentage_layers_case_2, slices_case2 = slices_case2, interval_2 = interval_2, percentage_tensors_2= percentage_tensors_2,\n",
    "            folder_model = folder_model, model_name = model_name)"
   ]
  },
  {
   "cell_type": "code",
   "execution_count": 7,
   "id": "94eaf127-04d0-4528-aa4f-c18597c81f7f",
   "metadata": {
    "scrolled": true
   },
   "outputs": [
    {
     "name": "stdout",
     "output_type": "stream",
     "text": [
      "Test with case1: False, case2: True\n",
      "File case2_results_noise_slices_3_interval2_-8_2_p_0.001.txt exists. Deleting...\n",
      "Results will be saved in: case2_results_noise_slices_3_interval2_-8_2_p_0.001.txt\n",
      "=> Loading checkpoint\n",
      "Model loaded: tinyissimoYOLO/NAdam_None_Airbus_256_BATCH_32_LR_0.0005/model_opt/6-TIC_5_sims_max_steps_100_slices_5_interval_4_10_degredation_0/sim_4/YOLO_opt.pth.tar\n",
      "############################################\n",
      "Noise level 2: Slice: [1, 3], Percentage: 0\n",
      "############################################\n",
      "=> Loading checkpoint\n",
      "Model loaded: tinyissimoYOLO/NAdam_None_Airbus_256_BATCH_32_LR_0.0005/model_opt/6-TIC_5_sims_max_steps_100_slices_5_interval_4_10_degredation_0/sim_4/YOLO_opt.pth.tar\n"
     ]
    },
    {
     "name": "stderr",
     "output_type": "stream",
     "text": [
      "Eval: Valid: : 100%|██████████| 2/2 [00:00<00:00,  7.86it/s]\n"
     ]
    },
    {
     "name": "stdout",
     "output_type": "stream",
     "text": [
      "---------------------------------------------------\n",
      "-------------Loss Summary eval Valid--------------\n",
      "Total Loss  |Loss Coord  |Conf Loss   |No Obj Loss |Class Loss  |\n",
      "15.111      |7.942       |4.850       |2.253       |0.065       |\n",
      "---------------------------------------------------\n",
      "Valid: \t mAP@50: 0.746276, mAP@75: 0.258633, mAP@90: 0.001629, Mean Loss: 15.110721\n",
      "array_param_shape: 0\n",
      "=> Loading checkpoint\n",
      "Model loaded: tinyissimoYOLO/NAdam_None_Airbus_256_BATCH_32_LR_0.0005/model_opt/6-TIC_5_sims_max_steps_100_slices_5_interval_4_10_degredation_0/sim_4/YOLO_opt.pth.tar\n"
     ]
    },
    {
     "name": "stderr",
     "output_type": "stream",
     "text": [
      "Eval: Valid: : 100%|██████████| 2/2 [00:00<00:00,  8.34it/s]\n"
     ]
    },
    {
     "name": "stdout",
     "output_type": "stream",
     "text": [
      "---------------------------------------------------\n",
      "-------------Loss Summary eval Valid--------------\n",
      "Total Loss  |Loss Coord  |Conf Loss   |No Obj Loss |Class Loss  |\n",
      "15.111      |7.942       |4.850       |2.253       |0.065       |\n",
      "---------------------------------------------------\n",
      "Valid: \t mAP@50: 0.746276, mAP@75: 0.258633, mAP@90: 0.001629, Mean Loss: 15.110722\n",
      "array_param_shape: 0\n",
      "=> Loading checkpoint\n",
      "Model loaded: tinyissimoYOLO/NAdam_None_Airbus_256_BATCH_32_LR_0.0005/model_opt/6-TIC_5_sims_max_steps_100_slices_5_interval_4_10_degredation_0/sim_4/YOLO_opt.pth.tar\n"
     ]
    },
    {
     "name": "stderr",
     "output_type": "stream",
     "text": [
      "Eval: Valid: : 100%|██████████| 2/2 [00:00<00:00,  8.46it/s]\n"
     ]
    },
    {
     "name": "stdout",
     "output_type": "stream",
     "text": [
      "---------------------------------------------------\n",
      "-------------Loss Summary eval Valid--------------\n",
      "Total Loss  |Loss Coord  |Conf Loss   |No Obj Loss |Class Loss  |\n",
      "15.111      |7.942       |4.850       |2.253       |0.065       |\n",
      "---------------------------------------------------\n",
      "Valid: \t mAP@50: 0.746276, mAP@75: 0.258633, mAP@90: 0.001629, Mean Loss: 15.110721\n",
      "array_param_shape: 0\n",
      "Valid: \t mAP@50: 0.746276, mAP@75: 0.258633, mAP@90: 0.001629, Mean Loss: 15.110721\n",
      "=> Loading checkpoint\n",
      "Model loaded: tinyissimoYOLO/NAdam_None_Airbus_256_BATCH_32_LR_0.0005/model_opt/6-TIC_5_sims_max_steps_100_slices_5_interval_4_10_degredation_0/sim_4/YOLO_opt.pth.tar\n",
      "############################################\n",
      "Noise level 2: Slice: [2, 3], Percentage: 0\n",
      "############################################\n",
      "=> Loading checkpoint\n",
      "Model loaded: tinyissimoYOLO/NAdam_None_Airbus_256_BATCH_32_LR_0.0005/model_opt/6-TIC_5_sims_max_steps_100_slices_5_interval_4_10_degredation_0/sim_4/YOLO_opt.pth.tar\n"
     ]
    },
    {
     "name": "stderr",
     "output_type": "stream",
     "text": [
      "Eval: Valid: : 100%|██████████| 2/2 [00:00<00:00,  8.14it/s]\n"
     ]
    },
    {
     "name": "stdout",
     "output_type": "stream",
     "text": [
      "---------------------------------------------------\n",
      "-------------Loss Summary eval Valid--------------\n",
      "Total Loss  |Loss Coord  |Conf Loss   |No Obj Loss |Class Loss  |\n",
      "15.111      |7.942       |4.850       |2.253       |0.065       |\n",
      "---------------------------------------------------\n",
      "Valid: \t mAP@50: 0.746276, mAP@75: 0.258633, mAP@90: 0.001629, Mean Loss: 15.110722\n",
      "array_param_shape: 0\n",
      "=> Loading checkpoint\n",
      "Model loaded: tinyissimoYOLO/NAdam_None_Airbus_256_BATCH_32_LR_0.0005/model_opt/6-TIC_5_sims_max_steps_100_slices_5_interval_4_10_degredation_0/sim_4/YOLO_opt.pth.tar\n"
     ]
    },
    {
     "name": "stderr",
     "output_type": "stream",
     "text": [
      "Eval: Valid: : 100%|██████████| 2/2 [00:00<00:00,  8.50it/s]\n"
     ]
    },
    {
     "name": "stdout",
     "output_type": "stream",
     "text": [
      "---------------------------------------------------\n",
      "-------------Loss Summary eval Valid--------------\n",
      "Total Loss  |Loss Coord  |Conf Loss   |No Obj Loss |Class Loss  |\n",
      "15.111      |7.942       |4.850       |2.253       |0.065       |\n",
      "---------------------------------------------------\n",
      "Valid: \t mAP@50: 0.746276, mAP@75: 0.258633, mAP@90: 0.001629, Mean Loss: 15.110722\n",
      "array_param_shape: 0\n",
      "=> Loading checkpoint\n",
      "Model loaded: tinyissimoYOLO/NAdam_None_Airbus_256_BATCH_32_LR_0.0005/model_opt/6-TIC_5_sims_max_steps_100_slices_5_interval_4_10_degredation_0/sim_4/YOLO_opt.pth.tar\n"
     ]
    },
    {
     "name": "stderr",
     "output_type": "stream",
     "text": [
      "Eval: Valid: : 100%|██████████| 2/2 [00:00<00:00,  8.23it/s]\n"
     ]
    },
    {
     "name": "stdout",
     "output_type": "stream",
     "text": [
      "---------------------------------------------------\n",
      "-------------Loss Summary eval Valid--------------\n",
      "Total Loss  |Loss Coord  |Conf Loss   |No Obj Loss |Class Loss  |\n",
      "15.111      |7.942       |4.850       |2.253       |0.065       |\n",
      "---------------------------------------------------\n",
      "Valid: \t mAP@50: 0.746276, mAP@75: 0.258633, mAP@90: 0.001629, Mean Loss: 15.110721\n",
      "array_param_shape: 0\n",
      "Valid: \t mAP@50: 0.746276, mAP@75: 0.258633, mAP@90: 0.001629, Mean Loss: 15.110721\n",
      "=> Loading checkpoint\n",
      "Model loaded: tinyissimoYOLO/NAdam_None_Airbus_256_BATCH_32_LR_0.0005/model_opt/6-TIC_5_sims_max_steps_100_slices_5_interval_4_10_degredation_0/sim_4/YOLO_opt.pth.tar\n",
      "############################################\n",
      "Noise level 2: Slice: [3, 3], Percentage: 0\n",
      "############################################\n",
      "=> Loading checkpoint\n",
      "Model loaded: tinyissimoYOLO/NAdam_None_Airbus_256_BATCH_32_LR_0.0005/model_opt/6-TIC_5_sims_max_steps_100_slices_5_interval_4_10_degredation_0/sim_4/YOLO_opt.pth.tar\n"
     ]
    },
    {
     "name": "stderr",
     "output_type": "stream",
     "text": [
      "Eval: Valid: : 100%|██████████| 2/2 [00:00<00:00,  7.94it/s]\n"
     ]
    },
    {
     "name": "stdout",
     "output_type": "stream",
     "text": [
      "---------------------------------------------------\n",
      "-------------Loss Summary eval Valid--------------\n",
      "Total Loss  |Loss Coord  |Conf Loss   |No Obj Loss |Class Loss  |\n",
      "15.111      |7.942       |4.850       |2.253       |0.065       |\n",
      "---------------------------------------------------\n",
      "Valid: \t mAP@50: 0.746276, mAP@75: 0.258633, mAP@90: 0.001629, Mean Loss: 15.110721\n",
      "array_param_shape: 0\n",
      "=> Loading checkpoint\n",
      "Model loaded: tinyissimoYOLO/NAdam_None_Airbus_256_BATCH_32_LR_0.0005/model_opt/6-TIC_5_sims_max_steps_100_slices_5_interval_4_10_degredation_0/sim_4/YOLO_opt.pth.tar\n"
     ]
    },
    {
     "name": "stderr",
     "output_type": "stream",
     "text": [
      "Eval: Valid: : 100%|██████████| 2/2 [00:00<00:00,  8.42it/s]\n"
     ]
    },
    {
     "name": "stdout",
     "output_type": "stream",
     "text": [
      "---------------------------------------------------\n",
      "-------------Loss Summary eval Valid--------------\n",
      "Total Loss  |Loss Coord  |Conf Loss   |No Obj Loss |Class Loss  |\n",
      "15.111      |7.942       |4.850       |2.253       |0.065       |\n",
      "---------------------------------------------------\n",
      "Valid: \t mAP@50: 0.746276, mAP@75: 0.258633, mAP@90: 0.001629, Mean Loss: 15.110722\n",
      "array_param_shape: 0\n",
      "=> Loading checkpoint\n",
      "Model loaded: tinyissimoYOLO/NAdam_None_Airbus_256_BATCH_32_LR_0.0005/model_opt/6-TIC_5_sims_max_steps_100_slices_5_interval_4_10_degredation_0/sim_4/YOLO_opt.pth.tar\n"
     ]
    },
    {
     "name": "stderr",
     "output_type": "stream",
     "text": [
      "Eval: Valid: : 100%|██████████| 2/2 [00:00<00:00,  8.54it/s]\n"
     ]
    },
    {
     "name": "stdout",
     "output_type": "stream",
     "text": [
      "---------------------------------------------------\n",
      "-------------Loss Summary eval Valid--------------\n",
      "Total Loss  |Loss Coord  |Conf Loss   |No Obj Loss |Class Loss  |\n",
      "15.111      |7.942       |4.850       |2.253       |0.065       |\n",
      "---------------------------------------------------\n",
      "Valid: \t mAP@50: 0.746276, mAP@75: 0.258633, mAP@90: 0.001629, Mean Loss: 15.110722\n",
      "array_param_shape: 0\n",
      "Valid: \t mAP@50: 0.746276, mAP@75: 0.258633, mAP@90: 0.001629, Mean Loss: 15.110722\n",
      "=> Loading checkpoint\n",
      "Model loaded: tinyissimoYOLO/NAdam_None_Airbus_256_BATCH_32_LR_0.0005/model_opt/6-TIC_5_sims_max_steps_100_slices_5_interval_4_10_degredation_0/sim_4/YOLO_opt.pth.tar\n",
      "############################################\n",
      "Noise level 2: Slice: [1, 3], Percentage: 0.3\n",
      "############################################\n",
      "=> Loading checkpoint\n",
      "Model loaded: tinyissimoYOLO/NAdam_None_Airbus_256_BATCH_32_LR_0.0005/model_opt/6-TIC_5_sims_max_steps_100_slices_5_interval_4_10_degredation_0/sim_4/YOLO_opt.pth.tar\n"
     ]
    },
    {
     "name": "stderr",
     "output_type": "stream",
     "text": [
      "Eval: Valid: : 100%|██████████| 2/2 [00:00<00:00,  8.14it/s]\n"
     ]
    },
    {
     "name": "stdout",
     "output_type": "stream",
     "text": [
      "---------------------------------------------------\n",
      "-------------Loss Summary eval Valid--------------\n",
      "Total Loss  |Loss Coord  |Conf Loss   |No Obj Loss |Class Loss  |\n",
      "16.774      |8.877       |5.641       |2.176       |0.080       |\n",
      "---------------------------------------------------\n",
      "Valid: \t mAP@50: 0.664154, mAP@75: 0.259717, mAP@90: 0.000877, Mean Loss: 16.773692\n",
      "array_param_shape: 2784\n",
      "=> Loading checkpoint\n",
      "Model loaded: tinyissimoYOLO/NAdam_None_Airbus_256_BATCH_32_LR_0.0005/model_opt/6-TIC_5_sims_max_steps_100_slices_5_interval_4_10_degredation_0/sim_4/YOLO_opt.pth.tar\n"
     ]
    },
    {
     "name": "stderr",
     "output_type": "stream",
     "text": [
      "Eval: Valid: : 100%|██████████| 2/2 [00:00<00:00,  8.26it/s]\n"
     ]
    },
    {
     "name": "stdout",
     "output_type": "stream",
     "text": [
      "---------------------------------------------------\n",
      "-------------Loss Summary eval Valid--------------\n",
      "Total Loss  |Loss Coord  |Conf Loss   |No Obj Loss |Class Loss  |\n",
      "23.459      |11.705      |9.597       |1.972       |0.185       |\n",
      "---------------------------------------------------\n",
      "Valid: \t mAP@50: 0.412524, mAP@75: 0.166096, mAP@90: 0.000000, Mean Loss: 23.459105\n",
      "array_param_shape: 2352\n",
      "=> Loading checkpoint\n",
      "Model loaded: tinyissimoYOLO/NAdam_None_Airbus_256_BATCH_32_LR_0.0005/model_opt/6-TIC_5_sims_max_steps_100_slices_5_interval_4_10_degredation_0/sim_4/YOLO_opt.pth.tar\n"
     ]
    },
    {
     "name": "stderr",
     "output_type": "stream",
     "text": [
      "Eval: Valid: : 100%|██████████| 2/2 [00:00<00:00,  8.30it/s]\n"
     ]
    },
    {
     "name": "stdout",
     "output_type": "stream",
     "text": [
      "---------------------------------------------------\n",
      "-------------Loss Summary eval Valid--------------\n",
      "Total Loss  |Loss Coord  |Conf Loss   |No Obj Loss |Class Loss  |\n",
      "15.970      |8.564       |5.267       |2.062       |0.078       |\n",
      "---------------------------------------------------\n",
      "Valid: \t mAP@50: 0.674655, mAP@75: 0.229058, mAP@90: 0.000797, Mean Loss: 15.969767\n",
      "array_param_shape: 6944\n",
      "Valid: \t mAP@50: 0.583778, mAP@75: 0.229058, mAP@90: 0.000797, Mean Loss: 18.734188\n",
      "=> Loading checkpoint\n",
      "Model loaded: tinyissimoYOLO/NAdam_None_Airbus_256_BATCH_32_LR_0.0005/model_opt/6-TIC_5_sims_max_steps_100_slices_5_interval_4_10_degredation_0/sim_4/YOLO_opt.pth.tar\n",
      "############################################\n",
      "Noise level 2: Slice: [2, 3], Percentage: 0.3\n",
      "############################################\n",
      "=> Loading checkpoint\n",
      "Model loaded: tinyissimoYOLO/NAdam_None_Airbus_256_BATCH_32_LR_0.0005/model_opt/6-TIC_5_sims_max_steps_100_slices_5_interval_4_10_degredation_0/sim_4/YOLO_opt.pth.tar\n"
     ]
    },
    {
     "name": "stderr",
     "output_type": "stream",
     "text": [
      "Eval: Valid: : 100%|██████████| 2/2 [00:00<00:00,  7.97it/s]\n"
     ]
    },
    {
     "name": "stdout",
     "output_type": "stream",
     "text": [
      "---------------------------------------------------\n",
      "-------------Loss Summary eval Valid--------------\n",
      "Total Loss  |Loss Coord  |Conf Loss   |No Obj Loss |Class Loss  |\n",
      "18.326      |9.847       |5.143       |3.228       |0.107       |\n",
      "---------------------------------------------------\n",
      "Valid: \t mAP@50: 0.646672, mAP@75: 0.077207, mAP@90: 0.000516, Mean Loss: 18.325511\n",
      "array_param_shape: 73824\n",
      "=> Loading checkpoint\n",
      "Model loaded: tinyissimoYOLO/NAdam_None_Airbus_256_BATCH_32_LR_0.0005/model_opt/6-TIC_5_sims_max_steps_100_slices_5_interval_4_10_degredation_0/sim_4/YOLO_opt.pth.tar\n"
     ]
    },
    {
     "name": "stderr",
     "output_type": "stream",
     "text": [
      "Eval: Valid: : 100%|██████████| 2/2 [00:00<00:00,  8.24it/s]\n"
     ]
    },
    {
     "name": "stdout",
     "output_type": "stream",
     "text": [
      "---------------------------------------------------\n",
      "-------------Loss Summary eval Valid--------------\n",
      "Total Loss  |Loss Coord  |Conf Loss   |No Obj Loss |Class Loss  |\n",
      "15.358      |8.248       |4.406       |2.636       |0.068       |\n",
      "---------------------------------------------------\n",
      "Valid: \t mAP@50: 0.762526, mAP@75: 0.177540, mAP@90: 0.000000, Mean Loss: 15.358047\n",
      "array_param_shape: 192\n",
      "=> Loading checkpoint\n",
      "Model loaded: tinyissimoYOLO/NAdam_None_Airbus_256_BATCH_32_LR_0.0005/model_opt/6-TIC_5_sims_max_steps_100_slices_5_interval_4_10_degredation_0/sim_4/YOLO_opt.pth.tar\n"
     ]
    },
    {
     "name": "stderr",
     "output_type": "stream",
     "text": [
      "Eval: Valid: : 100%|██████████| 2/2 [00:00<00:00,  8.31it/s]\n"
     ]
    },
    {
     "name": "stdout",
     "output_type": "stream",
     "text": [
      "---------------------------------------------------\n",
      "-------------Loss Summary eval Valid--------------\n",
      "Total Loss  |Loss Coord  |Conf Loss   |No Obj Loss |Class Loss  |\n",
      "21.015      |12.729      |5.766       |2.401       |0.120       |\n",
      "---------------------------------------------------\n",
      "Valid: \t mAP@50: 0.626406, mAP@75: 0.050257, mAP@90: 0.000292, Mean Loss: 21.015255\n",
      "array_param_shape: 73824\n",
      "Valid: \t mAP@50: 0.678535, mAP@75: 0.050257, mAP@90: 0.000292, Mean Loss: 18.232938\n",
      "=> Loading checkpoint\n",
      "Model loaded: tinyissimoYOLO/NAdam_None_Airbus_256_BATCH_32_LR_0.0005/model_opt/6-TIC_5_sims_max_steps_100_slices_5_interval_4_10_degredation_0/sim_4/YOLO_opt.pth.tar\n",
      "############################################\n",
      "Noise level 2: Slice: [3, 3], Percentage: 0.3\n",
      "############################################\n",
      "=> Loading checkpoint\n",
      "Model loaded: tinyissimoYOLO/NAdam_None_Airbus_256_BATCH_32_LR_0.0005/model_opt/6-TIC_5_sims_max_steps_100_slices_5_interval_4_10_degredation_0/sim_4/YOLO_opt.pth.tar\n"
     ]
    },
    {
     "name": "stderr",
     "output_type": "stream",
     "text": [
      "Eval: Valid: : 100%|██████████| 2/2 [00:00<00:00,  8.08it/s]\n"
     ]
    },
    {
     "name": "stdout",
     "output_type": "stream",
     "text": [
      "---------------------------------------------------\n",
      "-------------Loss Summary eval Valid--------------\n",
      "Total Loss  |Loss Coord  |Conf Loss   |No Obj Loss |Class Loss  |\n",
      "15.136      |7.964       |4.847       |2.261       |0.065       |\n",
      "---------------------------------------------------\n",
      "Valid: \t mAP@50: 0.746861, mAP@75: 0.259460, mAP@90: 0.001603, Mean Loss: 15.136022\n",
      "array_param_shape: 524800\n",
      "=> Loading checkpoint\n",
      "Model loaded: tinyissimoYOLO/NAdam_None_Airbus_256_BATCH_32_LR_0.0005/model_opt/6-TIC_5_sims_max_steps_100_slices_5_interval_4_10_degredation_0/sim_4/YOLO_opt.pth.tar\n"
     ]
    },
    {
     "name": "stderr",
     "output_type": "stream",
     "text": [
      "Eval: Valid: : 100%|██████████| 2/2 [00:00<00:00,  8.06it/s]\n"
     ]
    },
    {
     "name": "stdout",
     "output_type": "stream",
     "text": [
      "---------------------------------------------------\n",
      "-------------Loss Summary eval Valid--------------\n",
      "Total Loss  |Loss Coord  |Conf Loss   |No Obj Loss |Class Loss  |\n",
      "24.039      |12.502      |4.353       |6.884       |0.300       |\n",
      "---------------------------------------------------\n",
      "Valid: \t mAP@50: 0.634460, mAP@75: 0.127691, mAP@90: 0.000000, Mean Loss: 24.038713\n",
      "array_param_shape: 598400\n",
      "=> Loading checkpoint\n",
      "Model loaded: tinyissimoYOLO/NAdam_None_Airbus_256_BATCH_32_LR_0.0005/model_opt/6-TIC_5_sims_max_steps_100_slices_5_interval_4_10_degredation_0/sim_4/YOLO_opt.pth.tar\n"
     ]
    },
    {
     "name": "stderr",
     "output_type": "stream",
     "text": [
      "Eval: Valid: : 100%|██████████| 2/2 [00:00<00:00,  7.98it/s]\n"
     ]
    },
    {
     "name": "stdout",
     "output_type": "stream",
     "text": [
      "---------------------------------------------------\n",
      "-------------Loss Summary eval Valid--------------\n",
      "Total Loss  |Loss Coord  |Conf Loss   |No Obj Loss |Class Loss  |\n",
      "15.317      |8.094       |4.879       |2.284       |0.060       |\n",
      "---------------------------------------------------\n",
      "Valid: \t mAP@50: 0.730970, mAP@75: 0.226594, mAP@90: 0.000797, Mean Loss: 15.317397\n",
      "array_param_shape: 74048\n",
      "Valid: \t mAP@50: 0.704097, mAP@75: 0.226594, mAP@90: 0.000797, Mean Loss: 18.164044\n",
      "=> Loading checkpoint\n",
      "Model loaded: tinyissimoYOLO/NAdam_None_Airbus_256_BATCH_32_LR_0.0005/model_opt/6-TIC_5_sims_max_steps_100_slices_5_interval_4_10_degredation_0/sim_4/YOLO_opt.pth.tar\n",
      "############################################\n",
      "Noise level 2: Slice: [1, 3], Percentage: 0.5\n",
      "############################################\n",
      "=> Loading checkpoint\n",
      "Model loaded: tinyissimoYOLO/NAdam_None_Airbus_256_BATCH_32_LR_0.0005/model_opt/6-TIC_5_sims_max_steps_100_slices_5_interval_4_10_degredation_0/sim_4/YOLO_opt.pth.tar\n"
     ]
    },
    {
     "name": "stderr",
     "output_type": "stream",
     "text": [
      "Eval: Valid: : 100%|██████████| 2/2 [00:00<00:00,  8.29it/s]\n"
     ]
    },
    {
     "name": "stdout",
     "output_type": "stream",
     "text": [
      "---------------------------------------------------\n",
      "-------------Loss Summary eval Valid--------------\n",
      "Total Loss  |Loss Coord  |Conf Loss   |No Obj Loss |Class Loss  |\n",
      "16.766      |8.400       |5.359       |2.915       |0.092       |\n",
      "---------------------------------------------------\n",
      "Valid: \t mAP@50: 0.669173, mAP@75: 0.270335, mAP@90: 0.000877, Mean Loss: 16.766113\n",
      "array_param_shape: 9680\n",
      "=> Loading checkpoint\n",
      "Model loaded: tinyissimoYOLO/NAdam_None_Airbus_256_BATCH_32_LR_0.0005/model_opt/6-TIC_5_sims_max_steps_100_slices_5_interval_4_10_degredation_0/sim_4/YOLO_opt.pth.tar\n"
     ]
    },
    {
     "name": "stderr",
     "output_type": "stream",
     "text": [
      "Eval: Valid: : 100%|██████████| 2/2 [00:00<00:00,  8.80it/s]\n"
     ]
    },
    {
     "name": "stdout",
     "output_type": "stream",
     "text": [
      "---------------------------------------------------\n",
      "-------------Loss Summary eval Valid--------------\n",
      "Total Loss  |Loss Coord  |Conf Loss   |No Obj Loss |Class Loss  |\n",
      "24.679      |12.756      |10.113      |1.651       |0.160       |\n",
      "---------------------------------------------------\n",
      "Valid: \t mAP@50: 0.459968, mAP@75: 0.113306, mAP@90: 0.000000, Mean Loss: 24.679319\n",
      "array_param_shape: 5088\n",
      "=> Loading checkpoint\n",
      "Model loaded: tinyissimoYOLO/NAdam_None_Airbus_256_BATCH_32_LR_0.0005/model_opt/6-TIC_5_sims_max_steps_100_slices_5_interval_4_10_degredation_0/sim_4/YOLO_opt.pth.tar\n"
     ]
    },
    {
     "name": "stderr",
     "output_type": "stream",
     "text": [
      "Eval: Valid: : 100%|██████████| 2/2 [00:00<00:00,  8.77it/s]\n"
     ]
    },
    {
     "name": "stdout",
     "output_type": "stream",
     "text": [
      "---------------------------------------------------\n",
      "-------------Loss Summary eval Valid--------------\n",
      "Total Loss  |Loss Coord  |Conf Loss   |No Obj Loss |Class Loss  |\n",
      "19.970      |9.690       |8.501       |1.638       |0.141       |\n",
      "---------------------------------------------------\n",
      "Valid: \t mAP@50: 0.566259, mAP@75: 0.217859, mAP@90: 0.000283, Mean Loss: 19.970326\n",
      "array_param_shape: 4672\n",
      "Valid: \t mAP@50: 0.565133, mAP@75: 0.217859, mAP@90: 0.000283, Mean Loss: 20.471920\n",
      "=> Loading checkpoint\n",
      "Model loaded: tinyissimoYOLO/NAdam_None_Airbus_256_BATCH_32_LR_0.0005/model_opt/6-TIC_5_sims_max_steps_100_slices_5_interval_4_10_degredation_0/sim_4/YOLO_opt.pth.tar\n",
      "############################################\n",
      "Noise level 2: Slice: [2, 3], Percentage: 0.5\n",
      "############################################\n",
      "=> Loading checkpoint\n",
      "Model loaded: tinyissimoYOLO/NAdam_None_Airbus_256_BATCH_32_LR_0.0005/model_opt/6-TIC_5_sims_max_steps_100_slices_5_interval_4_10_degredation_0/sim_4/YOLO_opt.pth.tar\n"
     ]
    },
    {
     "name": "stderr",
     "output_type": "stream",
     "text": [
      "Eval: Valid: : 100%|██████████| 2/2 [00:00<00:00,  7.94it/s]\n"
     ]
    },
    {
     "name": "stdout",
     "output_type": "stream",
     "text": [
      "---------------------------------------------------\n",
      "-------------Loss Summary eval Valid--------------\n",
      "Total Loss  |Loss Coord  |Conf Loss   |No Obj Loss |Class Loss  |\n",
      "14.973      |7.849       |4.886       |2.171       |0.067       |\n",
      "---------------------------------------------------\n",
      "Valid: \t mAP@50: 0.750234, mAP@75: 0.236680, mAP@90: 0.001629, Mean Loss: 14.973349\n",
      "array_param_shape: 55488\n",
      "=> Loading checkpoint\n",
      "Model loaded: tinyissimoYOLO/NAdam_None_Airbus_256_BATCH_32_LR_0.0005/model_opt/6-TIC_5_sims_max_steps_100_slices_5_interval_4_10_degredation_0/sim_4/YOLO_opt.pth.tar\n"
     ]
    },
    {
     "name": "stderr",
     "output_type": "stream",
     "text": [
      "Eval: Valid: : 100%|██████████| 2/2 [00:00<00:00,  8.34it/s]\n"
     ]
    },
    {
     "name": "stdout",
     "output_type": "stream",
     "text": [
      "---------------------------------------------------\n",
      "-------------Loss Summary eval Valid--------------\n",
      "Total Loss  |Loss Coord  |Conf Loss   |No Obj Loss |Class Loss  |\n",
      "16.727      |8.257       |6.130       |2.229       |0.111       |\n",
      "---------------------------------------------------\n",
      "Valid: \t mAP@50: 0.659173, mAP@75: 0.210738, mAP@90: 0.001697, Mean Loss: 16.726542\n",
      "array_param_shape: 37120\n",
      "=> Loading checkpoint\n",
      "Model loaded: tinyissimoYOLO/NAdam_None_Airbus_256_BATCH_32_LR_0.0005/model_opt/6-TIC_5_sims_max_steps_100_slices_5_interval_4_10_degredation_0/sim_4/YOLO_opt.pth.tar\n"
     ]
    },
    {
     "name": "stderr",
     "output_type": "stream",
     "text": [
      "Eval: Valid: : 100%|██████████| 2/2 [00:00<00:00,  8.23it/s]\n"
     ]
    },
    {
     "name": "stdout",
     "output_type": "stream",
     "text": [
      "---------------------------------------------------\n",
      "-------------Loss Summary eval Valid--------------\n",
      "Total Loss  |Loss Coord  |Conf Loss   |No Obj Loss |Class Loss  |\n",
      "20.246      |10.750      |5.906       |3.498       |0.092       |\n",
      "---------------------------------------------------\n",
      "Valid: \t mAP@50: 0.629417, mAP@75: 0.085596, mAP@90: 0.000000, Mean Loss: 20.245762\n",
      "array_param_shape: 55456\n",
      "Valid: \t mAP@50: 0.679608, mAP@75: 0.085596, mAP@90: 0.000000, Mean Loss: 17.315218\n",
      "=> Loading checkpoint\n",
      "Model loaded: tinyissimoYOLO/NAdam_None_Airbus_256_BATCH_32_LR_0.0005/model_opt/6-TIC_5_sims_max_steps_100_slices_5_interval_4_10_degredation_0/sim_4/YOLO_opt.pth.tar\n",
      "############################################\n",
      "Noise level 2: Slice: [3, 3], Percentage: 0.5\n",
      "############################################\n",
      "=> Loading checkpoint\n",
      "Model loaded: tinyissimoYOLO/NAdam_None_Airbus_256_BATCH_32_LR_0.0005/model_opt/6-TIC_5_sims_max_steps_100_slices_5_interval_4_10_degredation_0/sim_4/YOLO_opt.pth.tar\n"
     ]
    },
    {
     "name": "stderr",
     "output_type": "stream",
     "text": [
      "Eval: Valid: : 100%|██████████| 2/2 [00:00<00:00,  7.92it/s]\n"
     ]
    },
    {
     "name": "stdout",
     "output_type": "stream",
     "text": [
      "---------------------------------------------------\n",
      "-------------Loss Summary eval Valid--------------\n",
      "Total Loss  |Loss Coord  |Conf Loss   |No Obj Loss |Class Loss  |\n",
      "17.849      |9.096       |5.226       |3.428       |0.100       |\n",
      "---------------------------------------------------\n",
      "Valid: \t mAP@50: 0.723740, mAP@75: 0.129655, mAP@90: 0.000000, Mean Loss: 17.849090\n",
      "array_param_shape: 790720\n",
      "=> Loading checkpoint\n",
      "Model loaded: tinyissimoYOLO/NAdam_None_Airbus_256_BATCH_32_LR_0.0005/model_opt/6-TIC_5_sims_max_steps_100_slices_5_interval_4_10_degredation_0/sim_4/YOLO_opt.pth.tar\n"
     ]
    },
    {
     "name": "stderr",
     "output_type": "stream",
     "text": [
      "Eval: Valid: : 100%|██████████| 2/2 [00:00<00:00,  8.37it/s]\n"
     ]
    },
    {
     "name": "stdout",
     "output_type": "stream",
     "text": [
      "---------------------------------------------------\n",
      "-------------Loss Summary eval Valid--------------\n",
      "Total Loss  |Loss Coord  |Conf Loss   |No Obj Loss |Class Loss  |\n",
      "15.116      |7.941       |4.881       |2.223       |0.071       |\n",
      "---------------------------------------------------\n",
      "Valid: \t mAP@50: 0.706962, mAP@75: 0.247048, mAP@90: 0.000797, Mean Loss: 15.116007\n",
      "array_param_shape: 643584\n",
      "=> Loading checkpoint\n",
      "Model loaded: tinyissimoYOLO/NAdam_None_Airbus_256_BATCH_32_LR_0.0005/model_opt/6-TIC_5_sims_max_steps_100_slices_5_interval_4_10_degredation_0/sim_4/YOLO_opt.pth.tar\n"
     ]
    },
    {
     "name": "stderr",
     "output_type": "stream",
     "text": [
      "Eval: Valid: : 100%|██████████| 2/2 [00:00<00:00,  7.91it/s]\n"
     ]
    },
    {
     "name": "stdout",
     "output_type": "stream",
     "text": [
      "---------------------------------------------------\n",
      "-------------Loss Summary eval Valid--------------\n",
      "Total Loss  |Loss Coord  |Conf Loss   |No Obj Loss |Class Loss  |\n",
      "23.557      |13.184      |6.615       |2.813       |0.945       |\n",
      "---------------------------------------------------\n",
      "Valid: \t mAP@50: 0.482298, mAP@75: 0.043834, mAP@90: 0.000000, Mean Loss: 23.557400\n",
      "array_param_shape: 266560\n",
      "Valid: \t mAP@50: 0.637667, mAP@75: 0.043834, mAP@90: 0.000000, Mean Loss: 18.840832\n",
      "=> Loading checkpoint\n",
      "Model loaded: tinyissimoYOLO/NAdam_None_Airbus_256_BATCH_32_LR_0.0005/model_opt/6-TIC_5_sims_max_steps_100_slices_5_interval_4_10_degredation_0/sim_4/YOLO_opt.pth.tar\n",
      "############################################\n",
      "Noise level 2: Slice: [1, 3], Percentage: 0.7\n",
      "############################################\n",
      "=> Loading checkpoint\n",
      "Model loaded: tinyissimoYOLO/NAdam_None_Airbus_256_BATCH_32_LR_0.0005/model_opt/6-TIC_5_sims_max_steps_100_slices_5_interval_4_10_degredation_0/sim_4/YOLO_opt.pth.tar\n"
     ]
    },
    {
     "name": "stderr",
     "output_type": "stream",
     "text": [
      "Eval: Valid: : 100%|██████████| 2/2 [00:00<00:00,  2.79it/s]\n"
     ]
    },
    {
     "name": "stdout",
     "output_type": "stream",
     "text": [
      "---------------------------------------------------\n",
      "-------------Loss Summary eval Valid--------------\n",
      "Total Loss  |Loss Coord  |Conf Loss   |No Obj Loss |Class Loss  |\n",
      "24.486      |13.126      |9.896       |1.236       |0.227       |\n",
      "---------------------------------------------------\n",
      "Valid: \t mAP@50: 0.450725, mAP@75: 0.081195, mAP@90: 0.000000, Mean Loss: 24.485790\n",
      "array_param_shape: 7440\n",
      "=> Loading checkpoint\n",
      "Model loaded: tinyissimoYOLO/NAdam_None_Airbus_256_BATCH_32_LR_0.0005/model_opt/6-TIC_5_sims_max_steps_100_slices_5_interval_4_10_degredation_0/sim_4/YOLO_opt.pth.tar\n"
     ]
    },
    {
     "name": "stderr",
     "output_type": "stream",
     "text": [
      "Eval: Valid: : 100%|██████████| 2/2 [00:00<00:00,  8.59it/s]\n"
     ]
    },
    {
     "name": "stdout",
     "output_type": "stream",
     "text": [
      "---------------------------------------------------\n",
      "-------------Loss Summary eval Valid--------------\n",
      "Total Loss  |Loss Coord  |Conf Loss   |No Obj Loss |Class Loss  |\n",
      "35.509      |17.643      |16.696      |0.787       |0.383       |\n",
      "---------------------------------------------------\n",
      "Valid: \t mAP@50: 0.298245, mAP@75: 0.174226, mAP@90: 0.000000, Mean Loss: 35.508846\n",
      "array_param_shape: 7440\n",
      "=> Loading checkpoint\n",
      "Model loaded: tinyissimoYOLO/NAdam_None_Airbus_256_BATCH_32_LR_0.0005/model_opt/6-TIC_5_sims_max_steps_100_slices_5_interval_4_10_degredation_0/sim_4/YOLO_opt.pth.tar\n"
     ]
    },
    {
     "name": "stderr",
     "output_type": "stream",
     "text": [
      "Eval: Valid: : 100%|██████████| 2/2 [00:00<00:00,  8.33it/s]\n"
     ]
    },
    {
     "name": "stdout",
     "output_type": "stream",
     "text": [
      "---------------------------------------------------\n",
      "-------------Loss Summary eval Valid--------------\n",
      "Total Loss  |Loss Coord  |Conf Loss   |No Obj Loss |Class Loss  |\n",
      "26.829      |15.056      |8.088       |3.557       |0.128       |\n",
      "---------------------------------------------------\n",
      "Valid: \t mAP@50: 0.430597, mAP@75: 0.113165, mAP@90: 0.000000, Mean Loss: 26.829365\n",
      "array_param_shape: 5152\n",
      "Valid: \t mAP@50: 0.393189, mAP@75: 0.113165, mAP@90: 0.000000, Mean Loss: 28.941334\n",
      "=> Loading checkpoint\n",
      "Model loaded: tinyissimoYOLO/NAdam_None_Airbus_256_BATCH_32_LR_0.0005/model_opt/6-TIC_5_sims_max_steps_100_slices_5_interval_4_10_degredation_0/sim_4/YOLO_opt.pth.tar\n",
      "############################################\n",
      "Noise level 2: Slice: [2, 3], Percentage: 0.7\n",
      "############################################\n",
      "=> Loading checkpoint\n",
      "Model loaded: tinyissimoYOLO/NAdam_None_Airbus_256_BATCH_32_LR_0.0005/model_opt/6-TIC_5_sims_max_steps_100_slices_5_interval_4_10_degredation_0/sim_4/YOLO_opt.pth.tar\n"
     ]
    },
    {
     "name": "stderr",
     "output_type": "stream",
     "text": [
      "Eval: Valid: : 100%|██████████| 2/2 [00:00<00:00,  7.88it/s]\n"
     ]
    },
    {
     "name": "stdout",
     "output_type": "stream",
     "text": [
      "---------------------------------------------------\n",
      "-------------Loss Summary eval Valid--------------\n",
      "Total Loss  |Loss Coord  |Conf Loss   |No Obj Loss |Class Loss  |\n",
      "20.248      |10.089      |8.045       |2.011       |0.104       |\n",
      "---------------------------------------------------\n",
      "Valid: \t mAP@50: 0.590719, mAP@75: 0.184686, mAP@90: 0.000351, Mean Loss: 20.248345\n",
      "array_param_shape: 83232\n",
      "=> Loading checkpoint\n",
      "Model loaded: tinyissimoYOLO/NAdam_None_Airbus_256_BATCH_32_LR_0.0005/model_opt/6-TIC_5_sims_max_steps_100_slices_5_interval_4_10_degredation_0/sim_4/YOLO_opt.pth.tar\n"
     ]
    },
    {
     "name": "stderr",
     "output_type": "stream",
     "text": [
      "Eval: Valid: : 100%|██████████| 2/2 [00:00<00:00,  8.30it/s]\n"
     ]
    },
    {
     "name": "stdout",
     "output_type": "stream",
     "text": [
      "---------------------------------------------------\n",
      "-------------Loss Summary eval Valid--------------\n",
      "Total Loss  |Loss Coord  |Conf Loss   |No Obj Loss |Class Loss  |\n",
      "20.214      |10.757      |7.298       |2.061       |0.098       |\n",
      "---------------------------------------------------\n",
      "Valid: \t mAP@50: 0.560140, mAP@75: 0.075628, mAP@90: 0.000000, Mean Loss: 20.214464\n",
      "array_param_shape: 64768\n",
      "=> Loading checkpoint\n",
      "Model loaded: tinyissimoYOLO/NAdam_None_Airbus_256_BATCH_32_LR_0.0005/model_opt/6-TIC_5_sims_max_steps_100_slices_5_interval_4_10_degredation_0/sim_4/YOLO_opt.pth.tar\n"
     ]
    },
    {
     "name": "stderr",
     "output_type": "stream",
     "text": [
      "Eval: Valid: : 100%|██████████| 2/2 [00:00<00:00,  8.36it/s]\n"
     ]
    },
    {
     "name": "stdout",
     "output_type": "stream",
     "text": [
      "---------------------------------------------------\n",
      "-------------Loss Summary eval Valid--------------\n",
      "Total Loss  |Loss Coord  |Conf Loss   |No Obj Loss |Class Loss  |\n",
      "19.138      |10.356      |5.920       |2.792       |0.070       |\n",
      "---------------------------------------------------\n",
      "Valid: \t mAP@50: 0.650645, mAP@75: 0.164796, mAP@90: 0.000000, Mean Loss: 19.137724\n",
      "array_param_shape: 64768\n",
      "Valid: \t mAP@50: 0.600501, mAP@75: 0.164796, mAP@90: 0.000000, Mean Loss: 19.866844\n",
      "=> Loading checkpoint\n",
      "Model loaded: tinyissimoYOLO/NAdam_None_Airbus_256_BATCH_32_LR_0.0005/model_opt/6-TIC_5_sims_max_steps_100_slices_5_interval_4_10_degredation_0/sim_4/YOLO_opt.pth.tar\n",
      "############################################\n",
      "Noise level 2: Slice: [3, 3], Percentage: 0.7\n",
      "############################################\n",
      "=> Loading checkpoint\n",
      "Model loaded: tinyissimoYOLO/NAdam_None_Airbus_256_BATCH_32_LR_0.0005/model_opt/6-TIC_5_sims_max_steps_100_slices_5_interval_4_10_degredation_0/sim_4/YOLO_opt.pth.tar\n"
     ]
    },
    {
     "name": "stderr",
     "output_type": "stream",
     "text": [
      "Eval: Valid: : 100%|██████████| 2/2 [00:00<00:00,  7.94it/s]\n"
     ]
    },
    {
     "name": "stdout",
     "output_type": "stream",
     "text": [
      "---------------------------------------------------\n",
      "-------------Loss Summary eval Valid--------------\n",
      "Total Loss  |Loss Coord  |Conf Loss   |No Obj Loss |Class Loss  |\n",
      "18.580      |9.418       |6.035       |2.975       |0.151       |\n",
      "---------------------------------------------------\n",
      "Valid: \t mAP@50: 0.563048, mAP@75: 0.128314, mAP@90: 0.019034, Mean Loss: 18.579639\n",
      "array_param_shape: 266752\n",
      "=> Loading checkpoint\n",
      "Model loaded: tinyissimoYOLO/NAdam_None_Airbus_256_BATCH_32_LR_0.0005/model_opt/6-TIC_5_sims_max_steps_100_slices_5_interval_4_10_degredation_0/sim_4/YOLO_opt.pth.tar\n"
     ]
    },
    {
     "name": "stderr",
     "output_type": "stream",
     "text": [
      "Eval: Valid: : 100%|██████████| 2/2 [00:00<00:00,  8.21it/s]\n"
     ]
    },
    {
     "name": "stdout",
     "output_type": "stream",
     "text": [
      "---------------------------------------------------\n",
      "-------------Loss Summary eval Valid--------------\n",
      "Total Loss  |Loss Coord  |Conf Loss   |No Obj Loss |Class Loss  |\n",
      "15.054      |7.906       |4.790       |2.291       |0.067       |\n",
      "---------------------------------------------------\n",
      "Valid: \t mAP@50: 0.747021, mAP@75: 0.259254, mAP@90: 0.000731, Mean Loss: 15.053922\n",
      "array_param_shape: 221952\n",
      "=> Loading checkpoint\n",
      "Model loaded: tinyissimoYOLO/NAdam_None_Airbus_256_BATCH_32_LR_0.0005/model_opt/6-TIC_5_sims_max_steps_100_slices_5_interval_4_10_degredation_0/sim_4/YOLO_opt.pth.tar\n"
     ]
    },
    {
     "name": "stderr",
     "output_type": "stream",
     "text": [
      "Eval: Valid: : 100%|██████████| 2/2 [00:00<00:00,  8.33it/s]\n"
     ]
    },
    {
     "name": "stdout",
     "output_type": "stream",
     "text": [
      "---------------------------------------------------\n",
      "-------------Loss Summary eval Valid--------------\n",
      "Total Loss  |Loss Coord  |Conf Loss   |No Obj Loss |Class Loss  |\n",
      "36.350      |21.583      |9.628       |4.790       |0.348       |\n",
      "---------------------------------------------------\n",
      "Valid: \t mAP@50: 0.459862, mAP@75: 0.105616, mAP@90: 0.000000, Mean Loss: 36.349553\n",
      "array_param_shape: 790912\n",
      "Valid: \t mAP@50: 0.589977, mAP@75: 0.105616, mAP@90: 0.000000, Mean Loss: 23.327705\n",
      "=> Loading checkpoint\n",
      "Model loaded: tinyissimoYOLO/NAdam_None_Airbus_256_BATCH_32_LR_0.0005/model_opt/6-TIC_5_sims_max_steps_100_slices_5_interval_4_10_degredation_0/sim_4/YOLO_opt.pth.tar\n",
      "############################################\n",
      "Noise level 2: Slice: [1, 3], Percentage: 1\n",
      "############################################\n",
      "=> Loading checkpoint\n",
      "Model loaded: tinyissimoYOLO/NAdam_None_Airbus_256_BATCH_32_LR_0.0005/model_opt/6-TIC_5_sims_max_steps_100_slices_5_interval_4_10_degredation_0/sim_4/YOLO_opt.pth.tar\n"
     ]
    },
    {
     "name": "stderr",
     "output_type": "stream",
     "text": [
      "Eval: Valid: : 100%|██████████| 2/2 [00:00<00:00,  7.99it/s]\n"
     ]
    },
    {
     "name": "stdout",
     "output_type": "stream",
     "text": [
      "---------------------------------------------------\n",
      "-------------Loss Summary eval Valid--------------\n",
      "Total Loss  |Loss Coord  |Conf Loss   |No Obj Loss |Class Loss  |\n",
      "74.535      |45.822      |27.878      |0.043       |0.792       |\n",
      "---------------------------------------------------\n",
      "Valid: \t mAP@50: 0.000000, mAP@75: 0.000000, mAP@90: 0.000000, Mean Loss: 74.534767\n",
      "array_param_shape: 9776\n",
      "=> Loading checkpoint\n",
      "Model loaded: tinyissimoYOLO/NAdam_None_Airbus_256_BATCH_32_LR_0.0005/model_opt/6-TIC_5_sims_max_steps_100_slices_5_interval_4_10_degredation_0/sim_4/YOLO_opt.pth.tar\n"
     ]
    },
    {
     "name": "stderr",
     "output_type": "stream",
     "text": [
      "Eval: Valid: : 100%|██████████| 2/2 [00:00<00:00,  8.24it/s]\n"
     ]
    },
    {
     "name": "stdout",
     "output_type": "stream",
     "text": [
      "---------------------------------------------------\n",
      "-------------Loss Summary eval Valid--------------\n",
      "Total Loss  |Loss Coord  |Conf Loss   |No Obj Loss |Class Loss  |\n",
      "53.443      |30.759      |21.284      |0.857       |0.543       |\n",
      "---------------------------------------------------\n",
      "Valid: \t mAP@50: 0.120457, mAP@75: 0.070175, mAP@90: 0.000000, Mean Loss: 53.443493\n",
      "array_param_shape: 9776\n",
      "=> Loading checkpoint\n",
      "Model loaded: tinyissimoYOLO/NAdam_None_Airbus_256_BATCH_32_LR_0.0005/model_opt/6-TIC_5_sims_max_steps_100_slices_5_interval_4_10_degredation_0/sim_4/YOLO_opt.pth.tar\n"
     ]
    },
    {
     "name": "stderr",
     "output_type": "stream",
     "text": [
      "Eval: Valid: : 100%|██████████| 2/2 [00:00<00:00,  8.18it/s]\n"
     ]
    },
    {
     "name": "stdout",
     "output_type": "stream",
     "text": [
      "---------------------------------------------------\n",
      "-------------Loss Summary eval Valid--------------\n",
      "Total Loss  |Loss Coord  |Conf Loss   |No Obj Loss |Class Loss  |\n",
      "17.438      |9.433       |5.020       |2.936       |0.049       |\n",
      "---------------------------------------------------\n",
      "Valid: \t mAP@50: 0.630168, mAP@75: 0.207274, mAP@90: 0.000000, Mean Loss: 17.437696\n",
      "array_param_shape: 9776\n",
      "Valid: \t mAP@50: 0.250208, mAP@75: 0.207274, mAP@90: 0.000000, Mean Loss: 48.471985\n",
      "=> Loading checkpoint\n",
      "Model loaded: tinyissimoYOLO/NAdam_None_Airbus_256_BATCH_32_LR_0.0005/model_opt/6-TIC_5_sims_max_steps_100_slices_5_interval_4_10_degredation_0/sim_4/YOLO_opt.pth.tar\n",
      "############################################\n",
      "Noise level 2: Slice: [2, 3], Percentage: 1\n",
      "############################################\n",
      "=> Loading checkpoint\n",
      "Model loaded: tinyissimoYOLO/NAdam_None_Airbus_256_BATCH_32_LR_0.0005/model_opt/6-TIC_5_sims_max_steps_100_slices_5_interval_4_10_degredation_0/sim_4/YOLO_opt.pth.tar\n"
     ]
    },
    {
     "name": "stderr",
     "output_type": "stream",
     "text": [
      "Eval: Valid: : 100%|██████████| 2/2 [00:00<00:00,  7.11it/s]\n"
     ]
    },
    {
     "name": "stdout",
     "output_type": "stream",
     "text": [
      "---------------------------------------------------\n",
      "-------------Loss Summary eval Valid--------------\n",
      "Total Loss  |Loss Coord  |Conf Loss   |No Obj Loss |Class Loss  |\n",
      "19.780      |10.823      |6.943       |1.942       |0.072       |\n",
      "---------------------------------------------------\n",
      "Valid: \t mAP@50: 0.569977, mAP@75: 0.214326, mAP@90: 0.006871, Mean Loss: 19.779997\n",
      "array_param_shape: 101728\n",
      "=> Loading checkpoint\n",
      "Model loaded: tinyissimoYOLO/NAdam_None_Airbus_256_BATCH_32_LR_0.0005/model_opt/6-TIC_5_sims_max_steps_100_slices_5_interval_4_10_degredation_0/sim_4/YOLO_opt.pth.tar\n"
     ]
    },
    {
     "name": "stderr",
     "output_type": "stream",
     "text": [
      "Eval: Valid: : 100%|██████████| 2/2 [00:00<00:00,  7.61it/s]\n"
     ]
    },
    {
     "name": "stdout",
     "output_type": "stream",
     "text": [
      "---------------------------------------------------\n",
      "-------------Loss Summary eval Valid--------------\n",
      "Total Loss  |Loss Coord  |Conf Loss   |No Obj Loss |Class Loss  |\n",
      "26.355      |13.401      |7.114       |5.722       |0.118       |\n",
      "---------------------------------------------------\n",
      "Valid: \t mAP@50: 0.498638, mAP@75: 0.052359, mAP@90: 0.000251, Mean Loss: 26.354910\n",
      "array_param_shape: 101728\n",
      "=> Loading checkpoint\n",
      "Model loaded: tinyissimoYOLO/NAdam_None_Airbus_256_BATCH_32_LR_0.0005/model_opt/6-TIC_5_sims_max_steps_100_slices_5_interval_4_10_degredation_0/sim_4/YOLO_opt.pth.tar\n"
     ]
    },
    {
     "name": "stderr",
     "output_type": "stream",
     "text": [
      "Eval: Valid: : 100%|██████████| 2/2 [00:00<00:00,  8.01it/s]\n"
     ]
    },
    {
     "name": "stdout",
     "output_type": "stream",
     "text": [
      "---------------------------------------------------\n",
      "-------------Loss Summary eval Valid--------------\n",
      "Total Loss  |Loss Coord  |Conf Loss   |No Obj Loss |Class Loss  |\n",
      "21.123      |10.310      |6.812       |3.840       |0.161       |\n",
      "---------------------------------------------------\n",
      "Valid: \t mAP@50: 0.483572, mAP@75: 0.094872, mAP@90: 0.000000, Mean Loss: 21.122514\n",
      "array_param_shape: 101728\n",
      "Valid: \t mAP@50: 0.517395, mAP@75: 0.094872, mAP@90: 0.000000, Mean Loss: 22.419140\n",
      "=> Loading checkpoint\n",
      "Model loaded: tinyissimoYOLO/NAdam_None_Airbus_256_BATCH_32_LR_0.0005/model_opt/6-TIC_5_sims_max_steps_100_slices_5_interval_4_10_degredation_0/sim_4/YOLO_opt.pth.tar\n",
      "############################################\n",
      "Noise level 2: Slice: [3, 3], Percentage: 1\n",
      "############################################\n",
      "=> Loading checkpoint\n",
      "Model loaded: tinyissimoYOLO/NAdam_None_Airbus_256_BATCH_32_LR_0.0005/model_opt/6-TIC_5_sims_max_steps_100_slices_5_interval_4_10_degredation_0/sim_4/YOLO_opt.pth.tar\n"
     ]
    },
    {
     "name": "stderr",
     "output_type": "stream",
     "text": [
      "Eval: Valid: : 100%|██████████| 2/2 [00:00<00:00,  8.08it/s]\n"
     ]
    },
    {
     "name": "stdout",
     "output_type": "stream",
     "text": [
      "---------------------------------------------------\n",
      "-------------Loss Summary eval Valid--------------\n",
      "Total Loss  |Loss Coord  |Conf Loss   |No Obj Loss |Class Loss  |\n",
      "20.885      |11.967      |6.852       |1.914       |0.151       |\n",
      "---------------------------------------------------\n",
      "Valid: \t mAP@50: 0.506335, mAP@75: 0.077023, mAP@90: 0.000000, Mean Loss: 20.884714\n",
      "array_param_shape: 791424\n",
      "=> Loading checkpoint\n",
      "Model loaded: tinyissimoYOLO/NAdam_None_Airbus_256_BATCH_32_LR_0.0005/model_opt/6-TIC_5_sims_max_steps_100_slices_5_interval_4_10_degredation_0/sim_4/YOLO_opt.pth.tar\n"
     ]
    },
    {
     "name": "stderr",
     "output_type": "stream",
     "text": [
      "Eval: Valid: : 100%|██████████| 2/2 [00:00<00:00,  8.35it/s]\n"
     ]
    },
    {
     "name": "stdout",
     "output_type": "stream",
     "text": [
      "---------------------------------------------------\n",
      "-------------Loss Summary eval Valid--------------\n",
      "Total Loss  |Loss Coord  |Conf Loss   |No Obj Loss |Class Loss  |\n",
      "23.149      |13.482      |6.410       |2.354       |0.902       |\n",
      "---------------------------------------------------\n",
      "Valid: \t mAP@50: 0.502399, mAP@75: 0.063979, mAP@90: 0.000000, Mean Loss: 23.148706\n",
      "array_param_shape: 791424\n",
      "=> Loading checkpoint\n",
      "Model loaded: tinyissimoYOLO/NAdam_None_Airbus_256_BATCH_32_LR_0.0005/model_opt/6-TIC_5_sims_max_steps_100_slices_5_interval_4_10_degredation_0/sim_4/YOLO_opt.pth.tar\n"
     ]
    },
    {
     "name": "stderr",
     "output_type": "stream",
     "text": [
      "Eval: Valid: : 100%|██████████| 2/2 [00:00<00:00,  7.92it/s]\n"
     ]
    },
    {
     "name": "stdout",
     "output_type": "stream",
     "text": [
      "---------------------------------------------------\n",
      "-------------Loss Summary eval Valid--------------\n",
      "Total Loss  |Loss Coord  |Conf Loss   |No Obj Loss |Class Loss  |\n",
      "22.719      |12.775      |7.642       |2.037       |0.265       |\n",
      "---------------------------------------------------\n",
      "Valid: \t mAP@50: 0.483323, mAP@75: 0.096492, mAP@90: 0.000000, Mean Loss: 22.718988\n",
      "array_param_shape: 791424\n",
      "Valid: \t mAP@50: 0.497353, mAP@75: 0.096492, mAP@90: 0.000000, Mean Loss: 22.250803\n"
     ]
    }
   ],
   "source": [
    "from eval_noise import test_noise\n",
    "case1=False\n",
    "case2=True\n",
    "percentage_layers_case_2  = [0, 0.3, 0.5, 0.7, 1] if case2 else [0]\n",
    "\n",
    "\n",
    "#prueba 4\n",
    "slices_case2 = [3,3]\n",
    "interval_2 = (-8,2)\n",
    "percentage_tensors_2 = 0.001\n",
    "\n",
    "folder_model = '6-TIC_5_sims_max_steps_100_slices_5_interval_4_10_degredation_0/sim_4'\n",
    "model_name = 'YOLO_opt.pth.tar'\n",
    "test_noise(case1=case1, percentage_layers_case_1=[0], slices_case1 = [0,0],\n",
    "           case2=case2, percentage_layers_case_2=percentage_layers_case_2, slices_case2 = slices_case2, interval_2 = interval_2, percentage_tensors_2= percentage_tensors_2,\n",
    "            folder_model = folder_model, model_name = model_name)"
   ]
  },
  {
   "cell_type": "code",
   "execution_count": 5,
   "id": "94fe3180-acd5-4d44-8dff-df6d17ca6dfc",
   "metadata": {
    "scrolled": true
   },
   "outputs": [
    {
     "name": "stdout",
     "output_type": "stream",
     "text": [
      "Test with case1: False, case2: True\n",
      "File case2_results_noise_slices_3_interval2_-2_2_p_0.003.txt exists. Deleting...\n",
      "Results will be saved in: case2_results_noise_slices_3_interval2_-2_2_p_0.003.txt\n",
      "=> Loading checkpoint\n",
      "Model loaded: tinyissimoYOLO/NAdam_None_Airbus_256_BATCH_32_LR_0.0005/model_opt/6-TIC_5_sims_max_steps_100_slices_5_interval_4_10_degredation_0/sim_4/YOLO_opt.pth.tar\n",
      "############################################\n",
      "Noise level 2: Slice: [1, 3], Percentage: 0\n",
      "############################################\n",
      "=> Loading checkpoint\n",
      "Model loaded: tinyissimoYOLO/NAdam_None_Airbus_256_BATCH_32_LR_0.0005/model_opt/6-TIC_5_sims_max_steps_100_slices_5_interval_4_10_degredation_0/sim_4/YOLO_opt.pth.tar\n"
     ]
    },
    {
     "name": "stderr",
     "output_type": "stream",
     "text": [
      "Eval: Valid: : 100%|██████████| 2/2 [00:00<00:00,  2.12it/s]\n"
     ]
    },
    {
     "name": "stdout",
     "output_type": "stream",
     "text": [
      "---------------------------------------------------\n",
      "-------------Loss Summary eval Valid--------------\n",
      "Total Loss  |Loss Coord  |Conf Loss   |No Obj Loss |Class Loss  |\n",
      "15.111      |7.942       |4.850       |2.253       |0.065       |\n",
      "---------------------------------------------------\n",
      "Valid: \t mAP@50: 0.746276, mAP@75: 0.258633, mAP@90: 0.001629, Mean Loss: 15.110720\n",
      "array_param_shape: 0\n",
      "=> Loading checkpoint\n",
      "Model loaded: tinyissimoYOLO/NAdam_None_Airbus_256_BATCH_32_LR_0.0005/model_opt/6-TIC_5_sims_max_steps_100_slices_5_interval_4_10_degredation_0/sim_4/YOLO_opt.pth.tar\n"
     ]
    },
    {
     "name": "stderr",
     "output_type": "stream",
     "text": [
      "Eval: Valid: : 100%|██████████| 2/2 [00:00<00:00,  6.52it/s]\n"
     ]
    },
    {
     "name": "stdout",
     "output_type": "stream",
     "text": [
      "---------------------------------------------------\n",
      "-------------Loss Summary eval Valid--------------\n",
      "Total Loss  |Loss Coord  |Conf Loss   |No Obj Loss |Class Loss  |\n",
      "15.111      |7.942       |4.850       |2.253       |0.065       |\n",
      "---------------------------------------------------\n",
      "Valid: \t mAP@50: 0.746276, mAP@75: 0.258633, mAP@90: 0.001629, Mean Loss: 15.110721\n",
      "array_param_shape: 0\n",
      "=> Loading checkpoint\n",
      "Model loaded: tinyissimoYOLO/NAdam_None_Airbus_256_BATCH_32_LR_0.0005/model_opt/6-TIC_5_sims_max_steps_100_slices_5_interval_4_10_degredation_0/sim_4/YOLO_opt.pth.tar\n"
     ]
    },
    {
     "name": "stderr",
     "output_type": "stream",
     "text": [
      "Eval: Valid: : 100%|██████████| 2/2 [00:00<00:00,  6.64it/s]\n"
     ]
    },
    {
     "name": "stdout",
     "output_type": "stream",
     "text": [
      "---------------------------------------------------\n",
      "-------------Loss Summary eval Valid--------------\n",
      "Total Loss  |Loss Coord  |Conf Loss   |No Obj Loss |Class Loss  |\n",
      "15.111      |7.942       |4.850       |2.253       |0.065       |\n",
      "---------------------------------------------------\n",
      "Valid: \t mAP@50: 0.746276, mAP@75: 0.258633, mAP@90: 0.001629, Mean Loss: 15.110721\n",
      "array_param_shape: 0\n",
      "Valid: \t mAP@50: 0.746276, mAP@75: 0.258633, mAP@90: 0.001629, Mean Loss: 15.110721\n",
      "=> Loading checkpoint\n",
      "Model loaded: tinyissimoYOLO/NAdam_None_Airbus_256_BATCH_32_LR_0.0005/model_opt/6-TIC_5_sims_max_steps_100_slices_5_interval_4_10_degredation_0/sim_4/YOLO_opt.pth.tar\n",
      "############################################\n",
      "Noise level 2: Slice: [2, 3], Percentage: 0\n",
      "############################################\n",
      "=> Loading checkpoint\n",
      "Model loaded: tinyissimoYOLO/NAdam_None_Airbus_256_BATCH_32_LR_0.0005/model_opt/6-TIC_5_sims_max_steps_100_slices_5_interval_4_10_degredation_0/sim_4/YOLO_opt.pth.tar\n"
     ]
    },
    {
     "name": "stderr",
     "output_type": "stream",
     "text": [
      "Eval: Valid: : 100%|██████████| 2/2 [00:00<00:00,  7.67it/s]\n"
     ]
    },
    {
     "name": "stdout",
     "output_type": "stream",
     "text": [
      "---------------------------------------------------\n",
      "-------------Loss Summary eval Valid--------------\n",
      "Total Loss  |Loss Coord  |Conf Loss   |No Obj Loss |Class Loss  |\n",
      "15.111      |7.942       |4.850       |2.253       |0.065       |\n",
      "---------------------------------------------------\n",
      "Valid: \t mAP@50: 0.746276, mAP@75: 0.258633, mAP@90: 0.001629, Mean Loss: 15.110722\n",
      "array_param_shape: 0\n",
      "=> Loading checkpoint\n",
      "Model loaded: tinyissimoYOLO/NAdam_None_Airbus_256_BATCH_32_LR_0.0005/model_opt/6-TIC_5_sims_max_steps_100_slices_5_interval_4_10_degredation_0/sim_4/YOLO_opt.pth.tar\n"
     ]
    },
    {
     "name": "stderr",
     "output_type": "stream",
     "text": [
      "Eval: Valid: : 100%|██████████| 2/2 [00:00<00:00,  8.38it/s]\n"
     ]
    },
    {
     "name": "stdout",
     "output_type": "stream",
     "text": [
      "---------------------------------------------------\n",
      "-------------Loss Summary eval Valid--------------\n",
      "Total Loss  |Loss Coord  |Conf Loss   |No Obj Loss |Class Loss  |\n",
      "15.111      |7.942       |4.850       |2.253       |0.065       |\n",
      "---------------------------------------------------\n",
      "Valid: \t mAP@50: 0.746276, mAP@75: 0.258633, mAP@90: 0.001629, Mean Loss: 15.110722\n",
      "array_param_shape: 0\n",
      "=> Loading checkpoint\n",
      "Model loaded: tinyissimoYOLO/NAdam_None_Airbus_256_BATCH_32_LR_0.0005/model_opt/6-TIC_5_sims_max_steps_100_slices_5_interval_4_10_degredation_0/sim_4/YOLO_opt.pth.tar\n"
     ]
    },
    {
     "name": "stderr",
     "output_type": "stream",
     "text": [
      "Eval: Valid: : 100%|██████████| 2/2 [00:00<00:00,  8.44it/s]\n"
     ]
    },
    {
     "name": "stdout",
     "output_type": "stream",
     "text": [
      "---------------------------------------------------\n",
      "-------------Loss Summary eval Valid--------------\n",
      "Total Loss  |Loss Coord  |Conf Loss   |No Obj Loss |Class Loss  |\n",
      "15.111      |7.942       |4.850       |2.253       |0.065       |\n",
      "---------------------------------------------------\n",
      "Valid: \t mAP@50: 0.746276, mAP@75: 0.258633, mAP@90: 0.001629, Mean Loss: 15.110721\n",
      "array_param_shape: 0\n",
      "Valid: \t mAP@50: 0.746276, mAP@75: 0.258633, mAP@90: 0.001629, Mean Loss: 15.110721\n",
      "=> Loading checkpoint\n",
      "Model loaded: tinyissimoYOLO/NAdam_None_Airbus_256_BATCH_32_LR_0.0005/model_opt/6-TIC_5_sims_max_steps_100_slices_5_interval_4_10_degredation_0/sim_4/YOLO_opt.pth.tar\n",
      "############################################\n",
      "Noise level 2: Slice: [3, 3], Percentage: 0\n",
      "############################################\n",
      "=> Loading checkpoint\n",
      "Model loaded: tinyissimoYOLO/NAdam_None_Airbus_256_BATCH_32_LR_0.0005/model_opt/6-TIC_5_sims_max_steps_100_slices_5_interval_4_10_degredation_0/sim_4/YOLO_opt.pth.tar\n"
     ]
    },
    {
     "name": "stderr",
     "output_type": "stream",
     "text": [
      "Eval: Valid: : 100%|██████████| 2/2 [00:00<00:00,  7.98it/s]\n"
     ]
    },
    {
     "name": "stdout",
     "output_type": "stream",
     "text": [
      "---------------------------------------------------\n",
      "-------------Loss Summary eval Valid--------------\n",
      "Total Loss  |Loss Coord  |Conf Loss   |No Obj Loss |Class Loss  |\n",
      "15.111      |7.942       |4.850       |2.253       |0.065       |\n",
      "---------------------------------------------------\n",
      "Valid: \t mAP@50: 0.746276, mAP@75: 0.258633, mAP@90: 0.001629, Mean Loss: 15.110723\n",
      "array_param_shape: 0\n",
      "=> Loading checkpoint\n",
      "Model loaded: tinyissimoYOLO/NAdam_None_Airbus_256_BATCH_32_LR_0.0005/model_opt/6-TIC_5_sims_max_steps_100_slices_5_interval_4_10_degredation_0/sim_4/YOLO_opt.pth.tar\n"
     ]
    },
    {
     "name": "stderr",
     "output_type": "stream",
     "text": [
      "Eval: Valid: : 100%|██████████| 2/2 [00:00<00:00,  8.30it/s]\n"
     ]
    },
    {
     "name": "stdout",
     "output_type": "stream",
     "text": [
      "---------------------------------------------------\n",
      "-------------Loss Summary eval Valid--------------\n",
      "Total Loss  |Loss Coord  |Conf Loss   |No Obj Loss |Class Loss  |\n",
      "15.111      |7.942       |4.850       |2.253       |0.065       |\n",
      "---------------------------------------------------\n",
      "Valid: \t mAP@50: 0.746276, mAP@75: 0.258633, mAP@90: 0.001629, Mean Loss: 15.110721\n",
      "array_param_shape: 0\n",
      "=> Loading checkpoint\n",
      "Model loaded: tinyissimoYOLO/NAdam_None_Airbus_256_BATCH_32_LR_0.0005/model_opt/6-TIC_5_sims_max_steps_100_slices_5_interval_4_10_degredation_0/sim_4/YOLO_opt.pth.tar\n"
     ]
    },
    {
     "name": "stderr",
     "output_type": "stream",
     "text": [
      "Eval: Valid: : 100%|██████████| 2/2 [00:00<00:00,  8.18it/s]\n"
     ]
    },
    {
     "name": "stdout",
     "output_type": "stream",
     "text": [
      "---------------------------------------------------\n",
      "-------------Loss Summary eval Valid--------------\n",
      "Total Loss  |Loss Coord  |Conf Loss   |No Obj Loss |Class Loss  |\n",
      "15.111      |7.942       |4.850       |2.253       |0.065       |\n",
      "---------------------------------------------------\n",
      "Valid: \t mAP@50: 0.746276, mAP@75: 0.258633, mAP@90: 0.001629, Mean Loss: 15.110722\n",
      "array_param_shape: 0\n",
      "Valid: \t mAP@50: 0.746276, mAP@75: 0.258633, mAP@90: 0.001629, Mean Loss: 15.110722\n",
      "=> Loading checkpoint\n",
      "Model loaded: tinyissimoYOLO/NAdam_None_Airbus_256_BATCH_32_LR_0.0005/model_opt/6-TIC_5_sims_max_steps_100_slices_5_interval_4_10_degredation_0/sim_4/YOLO_opt.pth.tar\n",
      "############################################\n",
      "Noise level 2: Slice: [1, 3], Percentage: 0.3\n",
      "############################################\n",
      "=> Loading checkpoint\n",
      "Model loaded: tinyissimoYOLO/NAdam_None_Airbus_256_BATCH_32_LR_0.0005/model_opt/6-TIC_5_sims_max_steps_100_slices_5_interval_4_10_degredation_0/sim_4/YOLO_opt.pth.tar\n"
     ]
    },
    {
     "name": "stderr",
     "output_type": "stream",
     "text": [
      "Eval: Valid: : 100%|██████████| 2/2 [00:00<00:00,  7.23it/s]\n"
     ]
    },
    {
     "name": "stdout",
     "output_type": "stream",
     "text": [
      "---------------------------------------------------\n",
      "-------------Loss Summary eval Valid--------------\n",
      "Total Loss  |Loss Coord  |Conf Loss   |No Obj Loss |Class Loss  |\n",
      "16.662      |8.640       |5.261       |2.705       |0.056       |\n",
      "---------------------------------------------------\n",
      "Valid: \t mAP@50: 0.688153, mAP@75: 0.208876, mAP@90: 0.000000, Mean Loss: 16.661784\n",
      "array_param_shape: 2784\n",
      "=> Loading checkpoint\n",
      "Model loaded: tinyissimoYOLO/NAdam_None_Airbus_256_BATCH_32_LR_0.0005/model_opt/6-TIC_5_sims_max_steps_100_slices_5_interval_4_10_degredation_0/sim_4/YOLO_opt.pth.tar\n"
     ]
    },
    {
     "name": "stderr",
     "output_type": "stream",
     "text": [
      "Eval: Valid: : 100%|██████████| 2/2 [00:00<00:00,  7.34it/s]\n"
     ]
    },
    {
     "name": "stdout",
     "output_type": "stream",
     "text": [
      "---------------------------------------------------\n",
      "-------------Loss Summary eval Valid--------------\n",
      "Total Loss  |Loss Coord  |Conf Loss   |No Obj Loss |Class Loss  |\n",
      "36.602      |18.652      |16.533      |0.982       |0.436       |\n",
      "---------------------------------------------------\n",
      "Valid: \t mAP@50: 0.233857, mAP@75: 0.038725, mAP@90: 0.000000, Mean Loss: 36.602080\n",
      "array_param_shape: 4656\n",
      "=> Loading checkpoint\n",
      "Model loaded: tinyissimoYOLO/NAdam_None_Airbus_256_BATCH_32_LR_0.0005/model_opt/6-TIC_5_sims_max_steps_100_slices_5_interval_4_10_degredation_0/sim_4/YOLO_opt.pth.tar\n"
     ]
    },
    {
     "name": "stderr",
     "output_type": "stream",
     "text": [
      "Eval: Valid: : 100%|██████████| 2/2 [00:00<00:00,  7.34it/s]\n"
     ]
    },
    {
     "name": "stdout",
     "output_type": "stream",
     "text": [
      "---------------------------------------------------\n",
      "-------------Loss Summary eval Valid--------------\n",
      "Total Loss  |Loss Coord  |Conf Loss   |No Obj Loss |Class Loss  |\n",
      "22.059      |11.374      |9.004       |1.503       |0.177       |\n",
      "---------------------------------------------------\n",
      "Valid: \t mAP@50: 0.486994, mAP@75: 0.200530, mAP@90: 0.000797, Mean Loss: 22.058524\n",
      "array_param_shape: 2352\n",
      "Valid: \t mAP@50: 0.469668, mAP@75: 0.200530, mAP@90: 0.000797, Mean Loss: 25.107463\n",
      "=> Loading checkpoint\n",
      "Model loaded: tinyissimoYOLO/NAdam_None_Airbus_256_BATCH_32_LR_0.0005/model_opt/6-TIC_5_sims_max_steps_100_slices_5_interval_4_10_degredation_0/sim_4/YOLO_opt.pth.tar\n",
      "############################################\n",
      "Noise level 2: Slice: [2, 3], Percentage: 0.3\n",
      "############################################\n",
      "=> Loading checkpoint\n",
      "Model loaded: tinyissimoYOLO/NAdam_None_Airbus_256_BATCH_32_LR_0.0005/model_opt/6-TIC_5_sims_max_steps_100_slices_5_interval_4_10_degredation_0/sim_4/YOLO_opt.pth.tar\n"
     ]
    },
    {
     "name": "stderr",
     "output_type": "stream",
     "text": [
      "Eval: Valid: : 100%|██████████| 2/2 [00:00<00:00,  7.44it/s]\n"
     ]
    },
    {
     "name": "stdout",
     "output_type": "stream",
     "text": [
      "---------------------------------------------------\n",
      "-------------Loss Summary eval Valid--------------\n",
      "Total Loss  |Loss Coord  |Conf Loss   |No Obj Loss |Class Loss  |\n",
      "15.508      |8.126       |4.670       |2.656       |0.056       |\n",
      "---------------------------------------------------\n",
      "Valid: \t mAP@50: 0.758955, mAP@75: 0.187354, mAP@90: 0.000877, Mean Loss: 15.507929\n",
      "array_param_shape: 9376\n",
      "=> Loading checkpoint\n",
      "Model loaded: tinyissimoYOLO/NAdam_None_Airbus_256_BATCH_32_LR_0.0005/model_opt/6-TIC_5_sims_max_steps_100_slices_5_interval_4_10_degredation_0/sim_4/YOLO_opt.pth.tar\n"
     ]
    },
    {
     "name": "stderr",
     "output_type": "stream",
     "text": [
      "Eval: Valid: : 100%|██████████| 2/2 [00:00<00:00,  7.21it/s]\n"
     ]
    },
    {
     "name": "stdout",
     "output_type": "stream",
     "text": [
      "---------------------------------------------------\n",
      "-------------Loss Summary eval Valid--------------\n",
      "Total Loss  |Loss Coord  |Conf Loss   |No Obj Loss |Class Loss  |\n",
      "36.685      |23.447      |8.984       |3.950       |0.303       |\n",
      "---------------------------------------------------\n",
      "Valid: \t mAP@50: 0.242426, mAP@75: 0.005033, mAP@90: 0.000000, Mean Loss: 36.685282\n",
      "array_param_shape: 101376\n",
      "=> Loading checkpoint\n",
      "Model loaded: tinyissimoYOLO/NAdam_None_Airbus_256_BATCH_32_LR_0.0005/model_opt/6-TIC_5_sims_max_steps_100_slices_5_interval_4_10_degredation_0/sim_4/YOLO_opt.pth.tar\n"
     ]
    },
    {
     "name": "stderr",
     "output_type": "stream",
     "text": [
      "Eval: Valid: : 100%|██████████| 2/2 [00:00<00:00,  7.41it/s]\n"
     ]
    },
    {
     "name": "stdout",
     "output_type": "stream",
     "text": [
      "---------------------------------------------------\n",
      "-------------Loss Summary eval Valid--------------\n",
      "Total Loss  |Loss Coord  |Conf Loss   |No Obj Loss |Class Loss  |\n",
      "30.040      |18.915      |8.786       |1.969       |0.371       |\n",
      "---------------------------------------------------\n",
      "Valid: \t mAP@50: 0.220236, mAP@75: 0.012351, mAP@90: 0.000000, Mean Loss: 30.039522\n",
      "array_param_shape: 46208\n",
      "Valid: \t mAP@50: 0.407206, mAP@75: 0.012351, mAP@90: 0.000000, Mean Loss: 27.410911\n",
      "=> Loading checkpoint\n",
      "Model loaded: tinyissimoYOLO/NAdam_None_Airbus_256_BATCH_32_LR_0.0005/model_opt/6-TIC_5_sims_max_steps_100_slices_5_interval_4_10_degredation_0/sim_4/YOLO_opt.pth.tar\n",
      "############################################\n",
      "Noise level 2: Slice: [3, 3], Percentage: 0.3\n",
      "############################################\n",
      "=> Loading checkpoint\n",
      "Model loaded: tinyissimoYOLO/NAdam_None_Airbus_256_BATCH_32_LR_0.0005/model_opt/6-TIC_5_sims_max_steps_100_slices_5_interval_4_10_degredation_0/sim_4/YOLO_opt.pth.tar\n"
     ]
    },
    {
     "name": "stderr",
     "output_type": "stream",
     "text": [
      "Eval: Valid: : 100%|██████████| 2/2 [00:00<00:00,  2.15it/s]\n"
     ]
    },
    {
     "name": "stdout",
     "output_type": "stream",
     "text": [
      "---------------------------------------------------\n",
      "-------------Loss Summary eval Valid--------------\n",
      "Total Loss  |Loss Coord  |Conf Loss   |No Obj Loss |Class Loss  |\n",
      "15.773      |8.501       |4.989       |2.193       |0.090       |\n",
      "---------------------------------------------------\n",
      "Valid: \t mAP@50: 0.748520, mAP@75: 0.149762, mAP@90: 0.000731, Mean Loss: 15.772717\n",
      "array_param_shape: 45504\n",
      "=> Loading checkpoint\n",
      "Model loaded: tinyissimoYOLO/NAdam_None_Airbus_256_BATCH_32_LR_0.0005/model_opt/6-TIC_5_sims_max_steps_100_slices_5_interval_4_10_degredation_0/sim_4/YOLO_opt.pth.tar\n"
     ]
    },
    {
     "name": "stderr",
     "output_type": "stream",
     "text": [
      "Eval: Valid: : 100%|██████████| 2/2 [00:00<00:00,  7.24it/s]\n"
     ]
    },
    {
     "name": "stdout",
     "output_type": "stream",
     "text": [
      "---------------------------------------------------\n",
      "-------------Loss Summary eval Valid--------------\n",
      "Total Loss  |Loss Coord  |Conf Loss   |No Obj Loss |Class Loss  |\n",
      "37.194      |25.068      |5.647       |5.089       |1.390       |\n",
      "---------------------------------------------------\n",
      "Valid: \t mAP@50: 0.313832, mAP@75: 0.036249, mAP@90: 0.000000, Mean Loss: 37.193645\n",
      "array_param_shape: 45568\n",
      "=> Loading checkpoint\n",
      "Model loaded: tinyissimoYOLO/NAdam_None_Airbus_256_BATCH_32_LR_0.0005/model_opt/6-TIC_5_sims_max_steps_100_slices_5_interval_4_10_degredation_0/sim_4/YOLO_opt.pth.tar\n"
     ]
    },
    {
     "name": "stderr",
     "output_type": "stream",
     "text": [
      "Eval: Valid: : 100%|██████████| 2/2 [00:00<00:00,  7.61it/s]\n"
     ]
    },
    {
     "name": "stdout",
     "output_type": "stream",
     "text": [
      "---------------------------------------------------\n",
      "-------------Loss Summary eval Valid--------------\n",
      "Total Loss  |Loss Coord  |Conf Loss   |No Obj Loss |Class Loss  |\n",
      "24.545      |14.412      |8.047       |1.927       |0.159       |\n",
      "---------------------------------------------------\n",
      "Valid: \t mAP@50: 0.350415, mAP@75: 0.030676, mAP@90: 0.000000, Mean Loss: 24.545465\n",
      "array_param_shape: 221568\n",
      "Valid: \t mAP@50: 0.470922, mAP@75: 0.030676, mAP@90: 0.000000, Mean Loss: 25.837275\n",
      "=> Loading checkpoint\n",
      "Model loaded: tinyissimoYOLO/NAdam_None_Airbus_256_BATCH_32_LR_0.0005/model_opt/6-TIC_5_sims_max_steps_100_slices_5_interval_4_10_degredation_0/sim_4/YOLO_opt.pth.tar\n",
      "############################################\n",
      "Noise level 2: Slice: [1, 3], Percentage: 0.5\n",
      "############################################\n",
      "=> Loading checkpoint\n",
      "Model loaded: tinyissimoYOLO/NAdam_None_Airbus_256_BATCH_32_LR_0.0005/model_opt/6-TIC_5_sims_max_steps_100_slices_5_interval_4_10_degredation_0/sim_4/YOLO_opt.pth.tar\n"
     ]
    },
    {
     "name": "stderr",
     "output_type": "stream",
     "text": [
      "Eval: Valid: : 100%|██████████| 2/2 [00:00<00:00,  7.28it/s]\n"
     ]
    },
    {
     "name": "stdout",
     "output_type": "stream",
     "text": [
      "---------------------------------------------------\n",
      "-------------Loss Summary eval Valid--------------\n",
      "Total Loss  |Loss Coord  |Conf Loss   |No Obj Loss |Class Loss  |\n",
      "55.666      |29.988      |24.551      |0.556       |0.571       |\n",
      "---------------------------------------------------\n",
      "Valid: \t mAP@50: 0.035088, mAP@75: 0.035088, mAP@90: 0.000000, Mean Loss: 55.666342\n",
      "array_param_shape: 6992\n",
      "=> Loading checkpoint\n",
      "Model loaded: tinyissimoYOLO/NAdam_None_Airbus_256_BATCH_32_LR_0.0005/model_opt/6-TIC_5_sims_max_steps_100_slices_5_interval_4_10_degredation_0/sim_4/YOLO_opt.pth.tar\n"
     ]
    },
    {
     "name": "stderr",
     "output_type": "stream",
     "text": [
      "Eval: Valid: : 100%|██████████| 2/2 [00:00<00:00,  7.34it/s]\n"
     ]
    },
    {
     "name": "stdout",
     "output_type": "stream",
     "text": [
      "---------------------------------------------------\n",
      "-------------Loss Summary eval Valid--------------\n",
      "Total Loss  |Loss Coord  |Conf Loss   |No Obj Loss |Class Loss  |\n",
      "20.684      |10.064      |8.811       |1.644       |0.165       |\n",
      "---------------------------------------------------\n",
      "Valid: \t mAP@50: 0.506996, mAP@75: 0.166299, mAP@90: 0.001462, Mean Loss: 20.684280\n",
      "array_param_shape: 2384\n",
      "=> Loading checkpoint\n",
      "Model loaded: tinyissimoYOLO/NAdam_None_Airbus_256_BATCH_32_LR_0.0005/model_opt/6-TIC_5_sims_max_steps_100_slices_5_interval_4_10_degredation_0/sim_4/YOLO_opt.pth.tar\n"
     ]
    },
    {
     "name": "stderr",
     "output_type": "stream",
     "text": [
      "Eval: Valid: : 100%|██████████| 2/2 [00:00<00:00,  6.76it/s]\n"
     ]
    },
    {
     "name": "stdout",
     "output_type": "stream",
     "text": [
      "---------------------------------------------------\n",
      "-------------Loss Summary eval Valid--------------\n",
      "Total Loss  |Loss Coord  |Conf Loss   |No Obj Loss |Class Loss  |\n",
      "19.261      |10.116      |7.068       |1.972       |0.105       |\n",
      "---------------------------------------------------\n",
      "Valid: \t mAP@50: 0.616035, mAP@75: 0.196796, mAP@90: 0.000000, Mean Loss: 19.260581\n",
      "array_param_shape: 2384\n",
      "Valid: \t mAP@50: 0.386040, mAP@75: 0.196796, mAP@90: 0.000000, Mean Loss: 31.870401\n",
      "=> Loading checkpoint\n",
      "Model loaded: tinyissimoYOLO/NAdam_None_Airbus_256_BATCH_32_LR_0.0005/model_opt/6-TIC_5_sims_max_steps_100_slices_5_interval_4_10_degredation_0/sim_4/YOLO_opt.pth.tar\n",
      "############################################\n",
      "Noise level 2: Slice: [2, 3], Percentage: 0.5\n",
      "############################################\n",
      "=> Loading checkpoint\n",
      "Model loaded: tinyissimoYOLO/NAdam_None_Airbus_256_BATCH_32_LR_0.0005/model_opt/6-TIC_5_sims_max_steps_100_slices_5_interval_4_10_degredation_0/sim_4/YOLO_opt.pth.tar\n"
     ]
    },
    {
     "name": "stderr",
     "output_type": "stream",
     "text": [
      "Eval: Valid: : 100%|██████████| 2/2 [00:00<00:00,  7.30it/s]\n"
     ]
    },
    {
     "name": "stdout",
     "output_type": "stream",
     "text": [
      "---------------------------------------------------\n",
      "-------------Loss Summary eval Valid--------------\n",
      "Total Loss  |Loss Coord  |Conf Loss   |No Obj Loss |Class Loss  |\n",
      "39.416      |27.267      |9.842       |1.738       |0.568       |\n",
      "---------------------------------------------------\n",
      "Valid: \t mAP@50: 0.162791, mAP@75: 0.001096, mAP@90: 0.000000, Mean Loss: 39.415623\n",
      "array_param_shape: 92288\n",
      "=> Loading checkpoint\n",
      "Model loaded: tinyissimoYOLO/NAdam_None_Airbus_256_BATCH_32_LR_0.0005/model_opt/6-TIC_5_sims_max_steps_100_slices_5_interval_4_10_degredation_0/sim_4/YOLO_opt.pth.tar\n"
     ]
    },
    {
     "name": "stderr",
     "output_type": "stream",
     "text": [
      "Eval: Valid: : 100%|██████████| 2/2 [00:00<00:00,  7.32it/s]\n"
     ]
    },
    {
     "name": "stdout",
     "output_type": "stream",
     "text": [
      "---------------------------------------------------\n",
      "-------------Loss Summary eval Valid--------------\n",
      "Total Loss  |Loss Coord  |Conf Loss   |No Obj Loss |Class Loss  |\n",
      "27.631      |13.742      |10.866      |2.819       |0.204       |\n",
      "---------------------------------------------------\n",
      "Valid: \t mAP@50: 0.401981, mAP@75: 0.078939, mAP@90: 0.000000, Mean Loss: 27.630640\n",
      "array_param_shape: 55488\n",
      "=> Loading checkpoint\n",
      "Model loaded: tinyissimoYOLO/NAdam_None_Airbus_256_BATCH_32_LR_0.0005/model_opt/6-TIC_5_sims_max_steps_100_slices_5_interval_4_10_degredation_0/sim_4/YOLO_opt.pth.tar\n"
     ]
    },
    {
     "name": "stderr",
     "output_type": "stream",
     "text": [
      "Eval: Valid: : 100%|██████████| 2/2 [00:00<00:00,  7.74it/s]\n"
     ]
    },
    {
     "name": "stdout",
     "output_type": "stream",
     "text": [
      "---------------------------------------------------\n",
      "-------------Loss Summary eval Valid--------------\n",
      "Total Loss  |Loss Coord  |Conf Loss   |No Obj Loss |Class Loss  |\n",
      "26.765      |15.748      |8.258       |2.603       |0.156       |\n",
      "---------------------------------------------------\n",
      "Valid: \t mAP@50: 0.418305, mAP@75: 0.066113, mAP@90: 0.001096, Mean Loss: 26.764504\n",
      "array_param_shape: 55488\n",
      "Valid: \t mAP@50: 0.327692, mAP@75: 0.066113, mAP@90: 0.001096, Mean Loss: 31.270256\n",
      "=> Loading checkpoint\n",
      "Model loaded: tinyissimoYOLO/NAdam_None_Airbus_256_BATCH_32_LR_0.0005/model_opt/6-TIC_5_sims_max_steps_100_slices_5_interval_4_10_degredation_0/sim_4/YOLO_opt.pth.tar\n",
      "############################################\n",
      "Noise level 2: Slice: [3, 3], Percentage: 0.5\n",
      "############################################\n",
      "=> Loading checkpoint\n",
      "Model loaded: tinyissimoYOLO/NAdam_None_Airbus_256_BATCH_32_LR_0.0005/model_opt/6-TIC_5_sims_max_steps_100_slices_5_interval_4_10_degredation_0/sim_4/YOLO_opt.pth.tar\n"
     ]
    },
    {
     "name": "stderr",
     "output_type": "stream",
     "text": [
      "Eval: Valid: : 100%|██████████| 2/2 [00:00<00:00,  2.45it/s]\n"
     ]
    },
    {
     "name": "stdout",
     "output_type": "stream",
     "text": [
      "---------------------------------------------------\n",
      "-------------Loss Summary eval Valid--------------\n",
      "Total Loss  |Loss Coord  |Conf Loss   |No Obj Loss |Class Loss  |\n",
      "15.343      |8.204       |4.723       |2.345       |0.071       |\n",
      "---------------------------------------------------\n",
      "Valid: \t mAP@50: 0.748794, mAP@75: 0.221866, mAP@90: 0.000877, Mean Loss: 15.343288\n",
      "array_param_shape: 672192\n",
      "=> Loading checkpoint\n",
      "Model loaded: tinyissimoYOLO/NAdam_None_Airbus_256_BATCH_32_LR_0.0005/model_opt/6-TIC_5_sims_max_steps_100_slices_5_interval_4_10_degredation_0/sim_4/YOLO_opt.pth.tar\n"
     ]
    },
    {
     "name": "stderr",
     "output_type": "stream",
     "text": [
      "Eval: Valid: : 100%|██████████| 2/2 [00:00<00:00,  7.53it/s]\n"
     ]
    },
    {
     "name": "stdout",
     "output_type": "stream",
     "text": [
      "---------------------------------------------------\n",
      "-------------Loss Summary eval Valid--------------\n",
      "Total Loss  |Loss Coord  |Conf Loss   |No Obj Loss |Class Loss  |\n",
      "24.116      |14.626      |6.748       |2.452       |0.290       |\n",
      "---------------------------------------------------\n",
      "Valid: \t mAP@50: 0.460385, mAP@75: 0.026625, mAP@90: 0.001652, Mean Loss: 24.116291\n",
      "array_param_shape: 45568\n",
      "=> Loading checkpoint\n",
      "Model loaded: tinyissimoYOLO/NAdam_None_Airbus_256_BATCH_32_LR_0.0005/model_opt/6-TIC_5_sims_max_steps_100_slices_5_interval_4_10_degredation_0/sim_4/YOLO_opt.pth.tar\n"
     ]
    },
    {
     "name": "stderr",
     "output_type": "stream",
     "text": [
      "Eval: Valid: : 100%|██████████| 2/2 [00:00<00:00,  7.70it/s]\n"
     ]
    },
    {
     "name": "stdout",
     "output_type": "stream",
     "text": [
      "---------------------------------------------------\n",
      "-------------Loss Summary eval Valid--------------\n",
      "Total Loss  |Loss Coord  |Conf Loss   |No Obj Loss |Class Loss  |\n",
      "15.122      |7.917       |4.908       |2.231       |0.067       |\n",
      "---------------------------------------------------\n",
      "Valid: \t mAP@50: 0.731006, mAP@75: 0.239275, mAP@90: 0.000797, Mean Loss: 15.122020\n",
      "array_param_shape: 193088\n",
      "Valid: \t mAP@50: 0.646729, mAP@75: 0.239275, mAP@90: 0.000797, Mean Loss: 18.193866\n",
      "=> Loading checkpoint\n",
      "Model loaded: tinyissimoYOLO/NAdam_None_Airbus_256_BATCH_32_LR_0.0005/model_opt/6-TIC_5_sims_max_steps_100_slices_5_interval_4_10_degredation_0/sim_4/YOLO_opt.pth.tar\n",
      "############################################\n",
      "Noise level 2: Slice: [1, 3], Percentage: 0.7\n",
      "############################################\n",
      "=> Loading checkpoint\n",
      "Model loaded: tinyissimoYOLO/NAdam_None_Airbus_256_BATCH_32_LR_0.0005/model_opt/6-TIC_5_sims_max_steps_100_slices_5_interval_4_10_degredation_0/sim_4/YOLO_opt.pth.tar\n"
     ]
    },
    {
     "name": "stderr",
     "output_type": "stream",
     "text": [
      "Eval: Valid: : 100%|██████████| 2/2 [00:00<00:00,  7.32it/s]\n"
     ]
    },
    {
     "name": "stdout",
     "output_type": "stream",
     "text": [
      "---------------------------------------------------\n",
      "-------------Loss Summary eval Valid--------------\n",
      "Total Loss  |Loss Coord  |Conf Loss   |No Obj Loss |Class Loss  |\n",
      "19.738      |10.359      |7.114       |2.143       |0.122       |\n",
      "---------------------------------------------------\n",
      "Valid: \t mAP@50: 0.623876, mAP@75: 0.196563, mAP@90: 0.000000, Mean Loss: 19.738401\n",
      "array_param_shape: 9712\n",
      "=> Loading checkpoint\n",
      "Model loaded: tinyissimoYOLO/NAdam_None_Airbus_256_BATCH_32_LR_0.0005/model_opt/6-TIC_5_sims_max_steps_100_slices_5_interval_4_10_degredation_0/sim_4/YOLO_opt.pth.tar\n"
     ]
    },
    {
     "name": "stderr",
     "output_type": "stream",
     "text": [
      "Eval: Valid: : 100%|██████████| 2/2 [00:00<00:00,  6.77it/s]\n"
     ]
    },
    {
     "name": "stdout",
     "output_type": "stream",
     "text": [
      "---------------------------------------------------\n",
      "-------------Loss Summary eval Valid--------------\n",
      "Total Loss  |Loss Coord  |Conf Loss   |No Obj Loss |Class Loss  |\n",
      "28.463      |15.897      |9.661       |2.747       |0.157       |\n",
      "---------------------------------------------------\n",
      "Valid: \t mAP@50: 0.292570, mAP@75: 0.046310, mAP@90: 0.000975, Mean Loss: 28.463041\n",
      "array_param_shape: 7424\n",
      "=> Loading checkpoint\n",
      "Model loaded: tinyissimoYOLO/NAdam_None_Airbus_256_BATCH_32_LR_0.0005/model_opt/6-TIC_5_sims_max_steps_100_slices_5_interval_4_10_degredation_0/sim_4/YOLO_opt.pth.tar\n"
     ]
    },
    {
     "name": "stderr",
     "output_type": "stream",
     "text": [
      "Eval: Valid: : 100%|██████████| 2/2 [00:00<00:00,  7.38it/s]\n"
     ]
    },
    {
     "name": "stdout",
     "output_type": "stream",
     "text": [
      "---------------------------------------------------\n",
      "-------------Loss Summary eval Valid--------------\n",
      "Total Loss  |Loss Coord  |Conf Loss   |No Obj Loss |Class Loss  |\n",
      "43.230      |22.322      |19.587      |0.944       |0.377       |\n",
      "---------------------------------------------------\n",
      "Valid: \t mAP@50: 0.245614, mAP@75: 0.112791, mAP@90: 0.000000, Mean Loss: 43.229807\n",
      "array_param_shape: 5120\n",
      "Valid: \t mAP@50: 0.387353, mAP@75: 0.112791, mAP@90: 0.000000, Mean Loss: 30.477083\n",
      "=> Loading checkpoint\n",
      "Model loaded: tinyissimoYOLO/NAdam_None_Airbus_256_BATCH_32_LR_0.0005/model_opt/6-TIC_5_sims_max_steps_100_slices_5_interval_4_10_degredation_0/sim_4/YOLO_opt.pth.tar\n",
      "############################################\n",
      "Noise level 2: Slice: [2, 3], Percentage: 0.7\n",
      "############################################\n",
      "=> Loading checkpoint\n",
      "Model loaded: tinyissimoYOLO/NAdam_None_Airbus_256_BATCH_32_LR_0.0005/model_opt/6-TIC_5_sims_max_steps_100_slices_5_interval_4_10_degredation_0/sim_4/YOLO_opt.pth.tar\n"
     ]
    },
    {
     "name": "stderr",
     "output_type": "stream",
     "text": [
      "Eval: Valid: : 100%|██████████| 2/2 [00:00<00:00,  6.75it/s]\n"
     ]
    },
    {
     "name": "stdout",
     "output_type": "stream",
     "text": [
      "---------------------------------------------------\n",
      "-------------Loss Summary eval Valid--------------\n",
      "Total Loss  |Loss Coord  |Conf Loss   |No Obj Loss |Class Loss  |\n",
      "33.431      |15.546      |7.713       |9.908       |0.264       |\n",
      "---------------------------------------------------\n",
      "Valid: \t mAP@50: 0.374336, mAP@75: 0.060352, mAP@90: 0.000000, Mean Loss: 33.431400\n",
      "array_param_shape: 101568\n",
      "=> Loading checkpoint\n",
      "Model loaded: tinyissimoYOLO/NAdam_None_Airbus_256_BATCH_32_LR_0.0005/model_opt/6-TIC_5_sims_max_steps_100_slices_5_interval_4_10_degredation_0/sim_4/YOLO_opt.pth.tar\n"
     ]
    },
    {
     "name": "stderr",
     "output_type": "stream",
     "text": [
      "Eval: Valid: : 100%|██████████| 2/2 [00:00<00:00,  6.99it/s]\n"
     ]
    },
    {
     "name": "stdout",
     "output_type": "stream",
     "text": [
      "---------------------------------------------------\n",
      "-------------Loss Summary eval Valid--------------\n",
      "Total Loss  |Loss Coord  |Conf Loss   |No Obj Loss |Class Loss  |\n",
      "34.011      |19.555      |6.940       |7.129       |0.388       |\n",
      "---------------------------------------------------\n",
      "Valid: \t mAP@50: 0.233795, mAP@75: 0.002042, mAP@90: 0.000000, Mean Loss: 34.011244\n",
      "array_param_shape: 92416\n",
      "=> Loading checkpoint\n",
      "Model loaded: tinyissimoYOLO/NAdam_None_Airbus_256_BATCH_32_LR_0.0005/model_opt/6-TIC_5_sims_max_steps_100_slices_5_interval_4_10_degredation_0/sim_4/YOLO_opt.pth.tar\n"
     ]
    },
    {
     "name": "stderr",
     "output_type": "stream",
     "text": [
      "Eval: Valid: : 100%|██████████| 2/2 [00:00<00:00,  6.96it/s]\n"
     ]
    },
    {
     "name": "stdout",
     "output_type": "stream",
     "text": [
      "---------------------------------------------------\n",
      "-------------Loss Summary eval Valid--------------\n",
      "Total Loss  |Loss Coord  |Conf Loss   |No Obj Loss |Class Loss  |\n",
      "24.875      |12.203      |9.091       |3.322       |0.259       |\n",
      "---------------------------------------------------\n",
      "Valid: \t mAP@50: 0.339652, mAP@75: 0.092896, mAP@90: 0.000000, Mean Loss: 24.875234\n",
      "array_param_shape: 83200\n",
      "Valid: \t mAP@50: 0.315928, mAP@75: 0.092896, mAP@90: 0.000000, Mean Loss: 30.772626\n",
      "=> Loading checkpoint\n",
      "Model loaded: tinyissimoYOLO/NAdam_None_Airbus_256_BATCH_32_LR_0.0005/model_opt/6-TIC_5_sims_max_steps_100_slices_5_interval_4_10_degredation_0/sim_4/YOLO_opt.pth.tar\n",
      "############################################\n",
      "Noise level 2: Slice: [3, 3], Percentage: 0.7\n",
      "############################################\n",
      "=> Loading checkpoint\n",
      "Model loaded: tinyissimoYOLO/NAdam_None_Airbus_256_BATCH_32_LR_0.0005/model_opt/6-TIC_5_sims_max_steps_100_slices_5_interval_4_10_degredation_0/sim_4/YOLO_opt.pth.tar\n"
     ]
    },
    {
     "name": "stderr",
     "output_type": "stream",
     "text": [
      "Eval: Valid: : 100%|██████████| 2/2 [00:00<00:00,  6.65it/s]\n"
     ]
    },
    {
     "name": "stdout",
     "output_type": "stream",
     "text": [
      "---------------------------------------------------\n",
      "-------------Loss Summary eval Valid--------------\n",
      "Total Loss  |Loss Coord  |Conf Loss   |No Obj Loss |Class Loss  |\n",
      "31.127      |20.920      |7.078       |3.010       |0.120       |\n",
      "---------------------------------------------------\n",
      "Valid: \t mAP@50: 0.263932, mAP@75: 0.022011, mAP@90: 0.000000, Mean Loss: 31.127371\n",
      "array_param_shape: 598656\n",
      "=> Loading checkpoint\n",
      "Model loaded: tinyissimoYOLO/NAdam_None_Airbus_256_BATCH_32_LR_0.0005/model_opt/6-TIC_5_sims_max_steps_100_slices_5_interval_4_10_degredation_0/sim_4/YOLO_opt.pth.tar\n"
     ]
    },
    {
     "name": "stderr",
     "output_type": "stream",
     "text": [
      "Eval: Valid: : 100%|██████████| 2/2 [00:00<00:00,  7.04it/s]\n"
     ]
    },
    {
     "name": "stdout",
     "output_type": "stream",
     "text": [
      "---------------------------------------------------\n",
      "-------------Loss Summary eval Valid--------------\n",
      "Total Loss  |Loss Coord  |Conf Loss   |No Obj Loss |Class Loss  |\n",
      "19.646      |10.606      |5.708       |3.148       |0.184       |\n",
      "---------------------------------------------------\n",
      "Valid: \t mAP@50: 0.512261, mAP@75: 0.070698, mAP@90: 0.000000, Mean Loss: 19.646020\n",
      "array_param_shape: 193280\n",
      "=> Loading checkpoint\n",
      "Model loaded: tinyissimoYOLO/NAdam_None_Airbus_256_BATCH_32_LR_0.0005/model_opt/6-TIC_5_sims_max_steps_100_slices_5_interval_4_10_degredation_0/sim_4/YOLO_opt.pth.tar\n"
     ]
    },
    {
     "name": "stderr",
     "output_type": "stream",
     "text": [
      "Eval: Valid: : 100%|██████████| 2/2 [00:00<00:00,  6.52it/s]\n"
     ]
    },
    {
     "name": "stdout",
     "output_type": "stream",
     "text": [
      "---------------------------------------------------\n",
      "-------------Loss Summary eval Valid--------------\n",
      "Total Loss  |Loss Coord  |Conf Loss   |No Obj Loss |Class Loss  |\n",
      "78.393      |49.531      |10.178      |16.420      |2.264       |\n",
      "---------------------------------------------------\n",
      "Valid: \t mAP@50: 0.169309, mAP@75: 0.048263, mAP@90: 0.004386, Mean Loss: 78.393188\n",
      "array_param_shape: 643712\n",
      "Valid: \t mAP@50: 0.315167, mAP@75: 0.048263, mAP@90: 0.004386, Mean Loss: 43.055527\n",
      "=> Loading checkpoint\n",
      "Model loaded: tinyissimoYOLO/NAdam_None_Airbus_256_BATCH_32_LR_0.0005/model_opt/6-TIC_5_sims_max_steps_100_slices_5_interval_4_10_degredation_0/sim_4/YOLO_opt.pth.tar\n",
      "############################################\n",
      "Noise level 2: Slice: [1, 3], Percentage: 1\n",
      "############################################\n",
      "=> Loading checkpoint\n",
      "Model loaded: tinyissimoYOLO/NAdam_None_Airbus_256_BATCH_32_LR_0.0005/model_opt/6-TIC_5_sims_max_steps_100_slices_5_interval_4_10_degredation_0/sim_4/YOLO_opt.pth.tar\n"
     ]
    },
    {
     "name": "stderr",
     "output_type": "stream",
     "text": [
      "Eval: Valid: : 100%|██████████| 2/2 [00:00<00:00,  6.73it/s]\n"
     ]
    },
    {
     "name": "stdout",
     "output_type": "stream",
     "text": [
      "---------------------------------------------------\n",
      "-------------Loss Summary eval Valid--------------\n",
      "Total Loss  |Loss Coord  |Conf Loss   |No Obj Loss |Class Loss  |\n",
      "69.571      |40.737      |27.746      |0.641       |0.447       |\n",
      "---------------------------------------------------\n",
      "Valid: \t mAP@50: 0.000000, mAP@75: 0.000000, mAP@90: 0.000000, Mean Loss: 69.570745\n",
      "array_param_shape: 9776\n",
      "=> Loading checkpoint\n",
      "Model loaded: tinyissimoYOLO/NAdam_None_Airbus_256_BATCH_32_LR_0.0005/model_opt/6-TIC_5_sims_max_steps_100_slices_5_interval_4_10_degredation_0/sim_4/YOLO_opt.pth.tar\n"
     ]
    },
    {
     "name": "stderr",
     "output_type": "stream",
     "text": [
      "Eval: Valid: : 100%|██████████| 2/2 [00:00<00:00,  6.86it/s]\n"
     ]
    },
    {
     "name": "stdout",
     "output_type": "stream",
     "text": [
      "---------------------------------------------------\n",
      "-------------Loss Summary eval Valid--------------\n",
      "Total Loss  |Loss Coord  |Conf Loss   |No Obj Loss |Class Loss  |\n",
      "41.113      |22.616      |15.956      |2.358       |0.183       |\n",
      "---------------------------------------------------\n",
      "Valid: \t mAP@50: 0.228070, mAP@75: 0.001462, mAP@90: 0.000000, Mean Loss: 41.112794\n",
      "array_param_shape: 9776\n",
      "=> Loading checkpoint\n",
      "Model loaded: tinyissimoYOLO/NAdam_None_Airbus_256_BATCH_32_LR_0.0005/model_opt/6-TIC_5_sims_max_steps_100_slices_5_interval_4_10_degredation_0/sim_4/YOLO_opt.pth.tar\n"
     ]
    },
    {
     "name": "stderr",
     "output_type": "stream",
     "text": [
      "Eval: Valid: : 100%|██████████| 2/2 [00:00<00:00,  8.02it/s]\n"
     ]
    },
    {
     "name": "stdout",
     "output_type": "stream",
     "text": [
      "---------------------------------------------------\n",
      "-------------Loss Summary eval Valid--------------\n",
      "Total Loss  |Loss Coord  |Conf Loss   |No Obj Loss |Class Loss  |\n",
      "56.121      |32.029      |18.909      |5.104       |0.079       |\n",
      "---------------------------------------------------\n",
      "Valid: \t mAP@50: 0.070175, mAP@75: 0.035088, mAP@90: 0.000000, Mean Loss: 56.121326\n",
      "array_param_shape: 9776\n",
      "Valid: \t mAP@50: 0.099415, mAP@75: 0.035088, mAP@90: 0.000000, Mean Loss: 55.601622\n",
      "=> Loading checkpoint\n",
      "Model loaded: tinyissimoYOLO/NAdam_None_Airbus_256_BATCH_32_LR_0.0005/model_opt/6-TIC_5_sims_max_steps_100_slices_5_interval_4_10_degredation_0/sim_4/YOLO_opt.pth.tar\n",
      "############################################\n",
      "Noise level 2: Slice: [2, 3], Percentage: 1\n",
      "############################################\n",
      "=> Loading checkpoint\n",
      "Model loaded: tinyissimoYOLO/NAdam_None_Airbus_256_BATCH_32_LR_0.0005/model_opt/6-TIC_5_sims_max_steps_100_slices_5_interval_4_10_degredation_0/sim_4/YOLO_opt.pth.tar\n"
     ]
    },
    {
     "name": "stderr",
     "output_type": "stream",
     "text": [
      "Eval: Valid: : 100%|██████████| 2/2 [00:00<00:00,  7.27it/s]\n"
     ]
    },
    {
     "name": "stdout",
     "output_type": "stream",
     "text": [
      "---------------------------------------------------\n",
      "-------------Loss Summary eval Valid--------------\n",
      "Total Loss  |Loss Coord  |Conf Loss   |No Obj Loss |Class Loss  |\n",
      "19.246      |10.865      |4.217       |4.102       |0.061       |\n",
      "---------------------------------------------------\n",
      "Valid: \t mAP@50: 0.685718, mAP@75: 0.069503, mAP@90: 0.001700, Mean Loss: 19.245688\n",
      "array_param_shape: 101728\n",
      "=> Loading checkpoint\n",
      "Model loaded: tinyissimoYOLO/NAdam_None_Airbus_256_BATCH_32_LR_0.0005/model_opt/6-TIC_5_sims_max_steps_100_slices_5_interval_4_10_degredation_0/sim_4/YOLO_opt.pth.tar\n"
     ]
    },
    {
     "name": "stderr",
     "output_type": "stream",
     "text": [
      "Eval: Valid: : 100%|██████████| 2/2 [00:00<00:00,  7.13it/s]\n"
     ]
    },
    {
     "name": "stdout",
     "output_type": "stream",
     "text": [
      "---------------------------------------------------\n",
      "-------------Loss Summary eval Valid--------------\n",
      "Total Loss  |Loss Coord  |Conf Loss   |No Obj Loss |Class Loss  |\n",
      "65.596      |47.818      |12.562      |4.272       |0.944       |\n",
      "---------------------------------------------------\n",
      "Valid: \t mAP@50: 0.107733, mAP@75: 0.000000, mAP@90: 0.000000, Mean Loss: 65.596018\n",
      "array_param_shape: 101728\n",
      "=> Loading checkpoint\n",
      "Model loaded: tinyissimoYOLO/NAdam_None_Airbus_256_BATCH_32_LR_0.0005/model_opt/6-TIC_5_sims_max_steps_100_slices_5_interval_4_10_degredation_0/sim_4/YOLO_opt.pth.tar\n"
     ]
    },
    {
     "name": "stderr",
     "output_type": "stream",
     "text": [
      "Eval: Valid: : 100%|██████████| 2/2 [00:00<00:00,  4.43it/s]\n"
     ]
    },
    {
     "name": "stdout",
     "output_type": "stream",
     "text": [
      "---------------------------------------------------\n",
      "-------------Loss Summary eval Valid--------------\n",
      "Total Loss  |Loss Coord  |Conf Loss   |No Obj Loss |Class Loss  |\n",
      "78.605      |50.762      |25.900      |0.254       |1.690       |\n",
      "---------------------------------------------------\n",
      "Valid: \t mAP@50: 0.000000, mAP@75: 0.000000, mAP@90: 0.000000, Mean Loss: 78.605488\n",
      "array_param_shape: 101728\n",
      "Valid: \t mAP@50: 0.264484, mAP@75: 0.000000, mAP@90: 0.000000, Mean Loss: 54.482398\n",
      "=> Loading checkpoint\n",
      "Model loaded: tinyissimoYOLO/NAdam_None_Airbus_256_BATCH_32_LR_0.0005/model_opt/6-TIC_5_sims_max_steps_100_slices_5_interval_4_10_degredation_0/sim_4/YOLO_opt.pth.tar\n",
      "############################################\n",
      "Noise level 2: Slice: [3, 3], Percentage: 1\n",
      "############################################\n",
      "=> Loading checkpoint\n",
      "Model loaded: tinyissimoYOLO/NAdam_None_Airbus_256_BATCH_32_LR_0.0005/model_opt/6-TIC_5_sims_max_steps_100_slices_5_interval_4_10_degredation_0/sim_4/YOLO_opt.pth.tar\n"
     ]
    },
    {
     "name": "stderr",
     "output_type": "stream",
     "text": [
      "Eval: Valid: : 100%|██████████| 2/2 [00:00<00:00,  5.07it/s]\n"
     ]
    },
    {
     "name": "stdout",
     "output_type": "stream",
     "text": [
      "---------------------------------------------------\n",
      "-------------Loss Summary eval Valid--------------\n",
      "Total Loss  |Loss Coord  |Conf Loss   |No Obj Loss |Class Loss  |\n",
      "229.705     |137.709     |21.151      |63.326      |7.519       |\n",
      "---------------------------------------------------\n",
      "Valid: \t mAP@50: 0.066110, mAP@75: 0.000000, mAP@90: 0.000000, Mean Loss: 229.705017\n",
      "array_param_shape: 791424\n",
      "=> Loading checkpoint\n",
      "Model loaded: tinyissimoYOLO/NAdam_None_Airbus_256_BATCH_32_LR_0.0005/model_opt/6-TIC_5_sims_max_steps_100_slices_5_interval_4_10_degredation_0/sim_4/YOLO_opt.pth.tar\n"
     ]
    },
    {
     "name": "stderr",
     "output_type": "stream",
     "text": [
      "Eval: Valid: : 100%|██████████| 2/2 [00:00<00:00,  7.05it/s]\n"
     ]
    },
    {
     "name": "stdout",
     "output_type": "stream",
     "text": [
      "---------------------------------------------------\n",
      "-------------Loss Summary eval Valid--------------\n",
      "Total Loss  |Loss Coord  |Conf Loss   |No Obj Loss |Class Loss  |\n",
      "137.388     |106.538     |5.531       |24.265      |1.054       |\n",
      "---------------------------------------------------\n",
      "Valid: \t mAP@50: 0.144003, mAP@75: 0.002831, mAP@90: 0.000000, Mean Loss: 137.387810\n",
      "array_param_shape: 791424\n",
      "=> Loading checkpoint\n",
      "Model loaded: tinyissimoYOLO/NAdam_None_Airbus_256_BATCH_32_LR_0.0005/model_opt/6-TIC_5_sims_max_steps_100_slices_5_interval_4_10_degredation_0/sim_4/YOLO_opt.pth.tar\n"
     ]
    },
    {
     "name": "stderr",
     "output_type": "stream",
     "text": [
      "Eval: Valid: : 100%|██████████| 2/2 [00:00<00:00,  6.58it/s]\n"
     ]
    },
    {
     "name": "stdout",
     "output_type": "stream",
     "text": [
      "---------------------------------------------------\n",
      "-------------Loss Summary eval Valid--------------\n",
      "Total Loss  |Loss Coord  |Conf Loss   |No Obj Loss |Class Loss  |\n",
      "61.441      |33.350      |4.917       |20.517      |2.657       |\n",
      "---------------------------------------------------\n",
      "Valid: \t mAP@50: 0.162992, mAP@75: 0.000975, mAP@90: 0.000000, Mean Loss: 61.440725\n",
      "array_param_shape: 791424\n",
      "Valid: \t mAP@50: 0.124368, mAP@75: 0.000975, mAP@90: 0.000000, Mean Loss: 142.844517\n"
     ]
    }
   ],
   "source": [
    "from eval_noise import test_noise\n",
    "case1=False\n",
    "case2=True\n",
    "percentage_layers_case_2  = [0, 0.3, 0.5, 0.7, 1] if case2 else [0]\n",
    "\n",
    "\n",
    "#prueba 4\n",
    "slices_case2 = [3,3]\n",
    "interval_2 = (-2,2)\n",
    "percentage_tensors_2 = 0.003\n",
    "\n",
    "folder_model = '6-TIC_5_sims_max_steps_100_slices_5_interval_4_10_degredation_0/sim_4'\n",
    "model_name = 'YOLO_opt.pth.tar'\n",
    "test_noise(case1=case1, percentage_layers_case_1=[0], slices_case1 = [0,0],\n",
    "           case2=case2, percentage_layers_case_2=percentage_layers_case_2, slices_case2 = slices_case2, interval_2 = interval_2, percentage_tensors_2= percentage_tensors_2,\n",
    "            folder_model = folder_model, model_name = model_name)"
   ]
  },
  {
   "cell_type": "code",
   "execution_count": 6,
   "id": "264dd5b4-dffa-441f-9679-7a6a8de090d4",
   "metadata": {
    "scrolled": true
   },
   "outputs": [
    {
     "name": "stdout",
     "output_type": "stream",
     "text": [
      "Test with case1: False, case2: True\n",
      "Results will be saved in: case2_results_noise_slices_3_interval2_-4_2_p_0.003.txt\n",
      "=> Loading checkpoint\n",
      "Model loaded: tinyissimoYOLO/NAdam_None_Airbus_256_BATCH_32_LR_0.0005/model_opt/6-TIC_5_sims_max_steps_100_slices_5_interval_4_10_degredation_0/sim_4/YOLO_opt.pth.tar\n",
      "############################################\n",
      "Noise level 2: Slice: [1, 3], Percentage: 0\n",
      "############################################\n",
      "=> Loading checkpoint\n",
      "Model loaded: tinyissimoYOLO/NAdam_None_Airbus_256_BATCH_32_LR_0.0005/model_opt/6-TIC_5_sims_max_steps_100_slices_5_interval_4_10_degredation_0/sim_4/YOLO_opt.pth.tar\n"
     ]
    },
    {
     "name": "stderr",
     "output_type": "stream",
     "text": [
      "Eval: Valid: : 100%|██████████| 2/2 [00:00<00:00,  7.52it/s]\n"
     ]
    },
    {
     "name": "stdout",
     "output_type": "stream",
     "text": [
      "---------------------------------------------------\n",
      "-------------Loss Summary eval Valid--------------\n",
      "Total Loss  |Loss Coord  |Conf Loss   |No Obj Loss |Class Loss  |\n",
      "15.111      |7.942       |4.850       |2.253       |0.065       |\n",
      "---------------------------------------------------\n",
      "Valid: \t mAP@50: 0.746276, mAP@75: 0.258633, mAP@90: 0.001629, Mean Loss: 15.110722\n",
      "array_param_shape: 0\n",
      "=> Loading checkpoint\n",
      "Model loaded: tinyissimoYOLO/NAdam_None_Airbus_256_BATCH_32_LR_0.0005/model_opt/6-TIC_5_sims_max_steps_100_slices_5_interval_4_10_degredation_0/sim_4/YOLO_opt.pth.tar\n"
     ]
    },
    {
     "name": "stderr",
     "output_type": "stream",
     "text": [
      "Eval: Valid: : 100%|██████████| 2/2 [00:00<00:00,  8.04it/s]\n"
     ]
    },
    {
     "name": "stdout",
     "output_type": "stream",
     "text": [
      "---------------------------------------------------\n",
      "-------------Loss Summary eval Valid--------------\n",
      "Total Loss  |Loss Coord  |Conf Loss   |No Obj Loss |Class Loss  |\n",
      "15.111      |7.942       |4.850       |2.253       |0.065       |\n",
      "---------------------------------------------------\n",
      "Valid: \t mAP@50: 0.746276, mAP@75: 0.258633, mAP@90: 0.001629, Mean Loss: 15.110720\n",
      "array_param_shape: 0\n",
      "=> Loading checkpoint\n",
      "Model loaded: tinyissimoYOLO/NAdam_None_Airbus_256_BATCH_32_LR_0.0005/model_opt/6-TIC_5_sims_max_steps_100_slices_5_interval_4_10_degredation_0/sim_4/YOLO_opt.pth.tar\n"
     ]
    },
    {
     "name": "stderr",
     "output_type": "stream",
     "text": [
      "Eval: Valid: : 100%|██████████| 2/2 [00:00<00:00,  8.06it/s]\n"
     ]
    },
    {
     "name": "stdout",
     "output_type": "stream",
     "text": [
      "---------------------------------------------------\n",
      "-------------Loss Summary eval Valid--------------\n",
      "Total Loss  |Loss Coord  |Conf Loss   |No Obj Loss |Class Loss  |\n",
      "15.111      |7.942       |4.850       |2.253       |0.065       |\n",
      "---------------------------------------------------\n",
      "Valid: \t mAP@50: 0.746276, mAP@75: 0.258633, mAP@90: 0.001629, Mean Loss: 15.110721\n",
      "array_param_shape: 0\n",
      "Valid: \t mAP@50: 0.746276, mAP@75: 0.258633, mAP@90: 0.001629, Mean Loss: 15.110721\n",
      "=> Loading checkpoint\n",
      "Model loaded: tinyissimoYOLO/NAdam_None_Airbus_256_BATCH_32_LR_0.0005/model_opt/6-TIC_5_sims_max_steps_100_slices_5_interval_4_10_degredation_0/sim_4/YOLO_opt.pth.tar\n",
      "############################################\n",
      "Noise level 2: Slice: [2, 3], Percentage: 0\n",
      "############################################\n",
      "=> Loading checkpoint\n",
      "Model loaded: tinyissimoYOLO/NAdam_None_Airbus_256_BATCH_32_LR_0.0005/model_opt/6-TIC_5_sims_max_steps_100_slices_5_interval_4_10_degredation_0/sim_4/YOLO_opt.pth.tar\n"
     ]
    },
    {
     "name": "stderr",
     "output_type": "stream",
     "text": [
      "Eval: Valid: : 100%|██████████| 2/2 [00:00<00:00,  7.90it/s]\n"
     ]
    },
    {
     "name": "stdout",
     "output_type": "stream",
     "text": [
      "---------------------------------------------------\n",
      "-------------Loss Summary eval Valid--------------\n",
      "Total Loss  |Loss Coord  |Conf Loss   |No Obj Loss |Class Loss  |\n",
      "15.111      |7.942       |4.850       |2.253       |0.065       |\n",
      "---------------------------------------------------\n",
      "Valid: \t mAP@50: 0.746276, mAP@75: 0.258633, mAP@90: 0.001629, Mean Loss: 15.110722\n",
      "array_param_shape: 0\n",
      "=> Loading checkpoint\n",
      "Model loaded: tinyissimoYOLO/NAdam_None_Airbus_256_BATCH_32_LR_0.0005/model_opt/6-TIC_5_sims_max_steps_100_slices_5_interval_4_10_degredation_0/sim_4/YOLO_opt.pth.tar\n"
     ]
    },
    {
     "name": "stderr",
     "output_type": "stream",
     "text": [
      "Eval: Valid: : 100%|██████████| 2/2 [00:00<00:00,  8.16it/s]\n"
     ]
    },
    {
     "name": "stdout",
     "output_type": "stream",
     "text": [
      "---------------------------------------------------\n",
      "-------------Loss Summary eval Valid--------------\n",
      "Total Loss  |Loss Coord  |Conf Loss   |No Obj Loss |Class Loss  |\n",
      "15.111      |7.942       |4.850       |2.253       |0.065       |\n",
      "---------------------------------------------------\n",
      "Valid: \t mAP@50: 0.746276, mAP@75: 0.258633, mAP@90: 0.001629, Mean Loss: 15.110721\n",
      "array_param_shape: 0\n",
      "=> Loading checkpoint\n",
      "Model loaded: tinyissimoYOLO/NAdam_None_Airbus_256_BATCH_32_LR_0.0005/model_opt/6-TIC_5_sims_max_steps_100_slices_5_interval_4_10_degredation_0/sim_4/YOLO_opt.pth.tar\n"
     ]
    },
    {
     "name": "stderr",
     "output_type": "stream",
     "text": [
      "Eval: Valid: : 100%|██████████| 2/2 [00:00<00:00,  7.75it/s]\n"
     ]
    },
    {
     "name": "stdout",
     "output_type": "stream",
     "text": [
      "---------------------------------------------------\n",
      "-------------Loss Summary eval Valid--------------\n",
      "Total Loss  |Loss Coord  |Conf Loss   |No Obj Loss |Class Loss  |\n",
      "15.111      |7.942       |4.850       |2.253       |0.065       |\n",
      "---------------------------------------------------\n",
      "Valid: \t mAP@50: 0.746276, mAP@75: 0.258633, mAP@90: 0.001629, Mean Loss: 15.110723\n",
      "array_param_shape: 0\n",
      "Valid: \t mAP@50: 0.746276, mAP@75: 0.258633, mAP@90: 0.001629, Mean Loss: 15.110722\n",
      "=> Loading checkpoint\n",
      "Model loaded: tinyissimoYOLO/NAdam_None_Airbus_256_BATCH_32_LR_0.0005/model_opt/6-TIC_5_sims_max_steps_100_slices_5_interval_4_10_degredation_0/sim_4/YOLO_opt.pth.tar\n",
      "############################################\n",
      "Noise level 2: Slice: [3, 3], Percentage: 0\n",
      "############################################\n",
      "=> Loading checkpoint\n",
      "Model loaded: tinyissimoYOLO/NAdam_None_Airbus_256_BATCH_32_LR_0.0005/model_opt/6-TIC_5_sims_max_steps_100_slices_5_interval_4_10_degredation_0/sim_4/YOLO_opt.pth.tar\n"
     ]
    },
    {
     "name": "stderr",
     "output_type": "stream",
     "text": [
      "Eval: Valid: : 100%|██████████| 2/2 [00:00<00:00,  8.13it/s]\n"
     ]
    },
    {
     "name": "stdout",
     "output_type": "stream",
     "text": [
      "---------------------------------------------------\n",
      "-------------Loss Summary eval Valid--------------\n",
      "Total Loss  |Loss Coord  |Conf Loss   |No Obj Loss |Class Loss  |\n",
      "15.111      |7.942       |4.850       |2.253       |0.065       |\n",
      "---------------------------------------------------\n",
      "Valid: \t mAP@50: 0.746276, mAP@75: 0.258633, mAP@90: 0.001629, Mean Loss: 15.110722\n",
      "array_param_shape: 0\n",
      "=> Loading checkpoint\n",
      "Model loaded: tinyissimoYOLO/NAdam_None_Airbus_256_BATCH_32_LR_0.0005/model_opt/6-TIC_5_sims_max_steps_100_slices_5_interval_4_10_degredation_0/sim_4/YOLO_opt.pth.tar\n"
     ]
    },
    {
     "name": "stderr",
     "output_type": "stream",
     "text": [
      "Eval: Valid: : 100%|██████████| 2/2 [00:00<00:00,  8.41it/s]\n"
     ]
    },
    {
     "name": "stdout",
     "output_type": "stream",
     "text": [
      "---------------------------------------------------\n",
      "-------------Loss Summary eval Valid--------------\n",
      "Total Loss  |Loss Coord  |Conf Loss   |No Obj Loss |Class Loss  |\n",
      "15.111      |7.942       |4.850       |2.253       |0.065       |\n",
      "---------------------------------------------------\n",
      "Valid: \t mAP@50: 0.746276, mAP@75: 0.258633, mAP@90: 0.001629, Mean Loss: 15.110721\n",
      "array_param_shape: 0\n",
      "=> Loading checkpoint\n",
      "Model loaded: tinyissimoYOLO/NAdam_None_Airbus_256_BATCH_32_LR_0.0005/model_opt/6-TIC_5_sims_max_steps_100_slices_5_interval_4_10_degredation_0/sim_4/YOLO_opt.pth.tar\n"
     ]
    },
    {
     "name": "stderr",
     "output_type": "stream",
     "text": [
      "Eval: Valid: : 100%|██████████| 2/2 [00:00<00:00,  8.20it/s]\n"
     ]
    },
    {
     "name": "stdout",
     "output_type": "stream",
     "text": [
      "---------------------------------------------------\n",
      "-------------Loss Summary eval Valid--------------\n",
      "Total Loss  |Loss Coord  |Conf Loss   |No Obj Loss |Class Loss  |\n",
      "15.111      |7.942       |4.850       |2.253       |0.065       |\n",
      "---------------------------------------------------\n",
      "Valid: \t mAP@50: 0.746276, mAP@75: 0.258633, mAP@90: 0.001629, Mean Loss: 15.110722\n",
      "array_param_shape: 0\n",
      "Valid: \t mAP@50: 0.746276, mAP@75: 0.258633, mAP@90: 0.001629, Mean Loss: 15.110722\n",
      "=> Loading checkpoint\n",
      "Model loaded: tinyissimoYOLO/NAdam_None_Airbus_256_BATCH_32_LR_0.0005/model_opt/6-TIC_5_sims_max_steps_100_slices_5_interval_4_10_degredation_0/sim_4/YOLO_opt.pth.tar\n",
      "############################################\n",
      "Noise level 2: Slice: [1, 3], Percentage: 0.3\n",
      "############################################\n",
      "=> Loading checkpoint\n",
      "Model loaded: tinyissimoYOLO/NAdam_None_Airbus_256_BATCH_32_LR_0.0005/model_opt/6-TIC_5_sims_max_steps_100_slices_5_interval_4_10_degredation_0/sim_4/YOLO_opt.pth.tar\n"
     ]
    },
    {
     "name": "stderr",
     "output_type": "stream",
     "text": [
      "Eval: Valid: : 100%|██████████| 2/2 [00:00<00:00,  7.42it/s]\n"
     ]
    },
    {
     "name": "stdout",
     "output_type": "stream",
     "text": [
      "---------------------------------------------------\n",
      "-------------Loss Summary eval Valid--------------\n",
      "Total Loss  |Loss Coord  |Conf Loss   |No Obj Loss |Class Loss  |\n",
      "17.866      |9.374       |6.063       |2.355       |0.074       |\n",
      "---------------------------------------------------\n",
      "Valid: \t mAP@50: 0.615776, mAP@75: 0.249484, mAP@90: 0.000000, Mean Loss: 17.865843\n",
      "array_param_shape: 2784\n",
      "=> Loading checkpoint\n",
      "Model loaded: tinyissimoYOLO/NAdam_None_Airbus_256_BATCH_32_LR_0.0005/model_opt/6-TIC_5_sims_max_steps_100_slices_5_interval_4_10_degredation_0/sim_4/YOLO_opt.pth.tar\n"
     ]
    },
    {
     "name": "stderr",
     "output_type": "stream",
     "text": [
      "Eval: Valid: : 100%|██████████| 2/2 [00:00<00:00,  7.97it/s]\n"
     ]
    },
    {
     "name": "stdout",
     "output_type": "stream",
     "text": [
      "---------------------------------------------------\n",
      "-------------Loss Summary eval Valid--------------\n",
      "Total Loss  |Loss Coord  |Conf Loss   |No Obj Loss |Class Loss  |\n",
      "15.798      |8.403       |4.879       |2.446       |0.070       |\n",
      "---------------------------------------------------\n",
      "Valid: \t mAP@50: 0.723711, mAP@75: 0.201882, mAP@90: 0.000877, Mean Loss: 15.798292\n",
      "array_param_shape: 2784\n",
      "=> Loading checkpoint\n",
      "Model loaded: tinyissimoYOLO/NAdam_None_Airbus_256_BATCH_32_LR_0.0005/model_opt/6-TIC_5_sims_max_steps_100_slices_5_interval_4_10_degredation_0/sim_4/YOLO_opt.pth.tar\n"
     ]
    },
    {
     "name": "stderr",
     "output_type": "stream",
     "text": [
      "Eval: Valid: : 100%|██████████| 2/2 [00:00<00:00,  3.19it/s]\n"
     ]
    },
    {
     "name": "stdout",
     "output_type": "stream",
     "text": [
      "---------------------------------------------------\n",
      "-------------Loss Summary eval Valid--------------\n",
      "Total Loss  |Loss Coord  |Conf Loss   |No Obj Loss |Class Loss  |\n",
      "15.111      |7.942       |4.850       |2.253       |0.065       |\n",
      "---------------------------------------------------\n",
      "Valid: \t mAP@50: 0.746276, mAP@75: 0.258633, mAP@90: 0.001629, Mean Loss: 15.110722\n",
      "array_param_shape: 64\n",
      "Valid: \t mAP@50: 0.695255, mAP@75: 0.258633, mAP@90: 0.001629, Mean Loss: 16.258286\n",
      "=> Loading checkpoint\n",
      "Model loaded: tinyissimoYOLO/NAdam_None_Airbus_256_BATCH_32_LR_0.0005/model_opt/6-TIC_5_sims_max_steps_100_slices_5_interval_4_10_degredation_0/sim_4/YOLO_opt.pth.tar\n",
      "############################################\n",
      "Noise level 2: Slice: [2, 3], Percentage: 0.3\n",
      "############################################\n",
      "=> Loading checkpoint\n",
      "Model loaded: tinyissimoYOLO/NAdam_None_Airbus_256_BATCH_32_LR_0.0005/model_opt/6-TIC_5_sims_max_steps_100_slices_5_interval_4_10_degredation_0/sim_4/YOLO_opt.pth.tar\n"
     ]
    },
    {
     "name": "stderr",
     "output_type": "stream",
     "text": [
      "Eval: Valid: : 100%|██████████| 2/2 [00:00<00:00,  7.95it/s]\n"
     ]
    },
    {
     "name": "stdout",
     "output_type": "stream",
     "text": [
      "---------------------------------------------------\n",
      "-------------Loss Summary eval Valid--------------\n",
      "Total Loss  |Loss Coord  |Conf Loss   |No Obj Loss |Class Loss  |\n",
      "24.846      |16.487      |5.049       |3.166       |0.144       |\n",
      "---------------------------------------------------\n",
      "Valid: \t mAP@50: 0.523284, mAP@75: 0.085623, mAP@90: 0.002193, Mean Loss: 24.846446\n",
      "array_param_shape: 73824\n",
      "=> Loading checkpoint\n",
      "Model loaded: tinyissimoYOLO/NAdam_None_Airbus_256_BATCH_32_LR_0.0005/model_opt/6-TIC_5_sims_max_steps_100_slices_5_interval_4_10_degredation_0/sim_4/YOLO_opt.pth.tar\n"
     ]
    },
    {
     "name": "stderr",
     "output_type": "stream",
     "text": [
      "Eval: Valid: : 100%|██████████| 2/2 [00:00<00:00,  8.05it/s]\n"
     ]
    },
    {
     "name": "stdout",
     "output_type": "stream",
     "text": [
      "---------------------------------------------------\n",
      "-------------Loss Summary eval Valid--------------\n",
      "Total Loss  |Loss Coord  |Conf Loss   |No Obj Loss |Class Loss  |\n",
      "15.111      |7.942       |4.850       |2.253       |0.065       |\n",
      "---------------------------------------------------\n",
      "Valid: \t mAP@50: 0.746276, mAP@75: 0.258633, mAP@90: 0.001629, Mean Loss: 15.110722\n",
      "array_param_shape: 192\n",
      "=> Loading checkpoint\n",
      "Model loaded: tinyissimoYOLO/NAdam_None_Airbus_256_BATCH_32_LR_0.0005/model_opt/6-TIC_5_sims_max_steps_100_slices_5_interval_4_10_degredation_0/sim_4/YOLO_opt.pth.tar\n"
     ]
    },
    {
     "name": "stderr",
     "output_type": "stream",
     "text": [
      "Eval: Valid: : 100%|██████████| 2/2 [00:00<00:00,  8.08it/s]\n"
     ]
    },
    {
     "name": "stdout",
     "output_type": "stream",
     "text": [
      "---------------------------------------------------\n",
      "-------------Loss Summary eval Valid--------------\n",
      "Total Loss  |Loss Coord  |Conf Loss   |No Obj Loss |Class Loss  |\n",
      "39.831      |22.843      |14.937      |1.915       |0.136       |\n",
      "---------------------------------------------------\n",
      "Valid: \t mAP@50: 0.172263, mAP@75: 0.072495, mAP@90: 0.004386, Mean Loss: 39.831430\n",
      "array_param_shape: 55392\n",
      "Valid: \t mAP@50: 0.480608, mAP@75: 0.072495, mAP@90: 0.004386, Mean Loss: 26.596200\n",
      "=> Loading checkpoint\n",
      "Model loaded: tinyissimoYOLO/NAdam_None_Airbus_256_BATCH_32_LR_0.0005/model_opt/6-TIC_5_sims_max_steps_100_slices_5_interval_4_10_degredation_0/sim_4/YOLO_opt.pth.tar\n",
      "############################################\n",
      "Noise level 2: Slice: [3, 3], Percentage: 0.3\n",
      "############################################\n",
      "=> Loading checkpoint\n",
      "Model loaded: tinyissimoYOLO/NAdam_None_Airbus_256_BATCH_32_LR_0.0005/model_opt/6-TIC_5_sims_max_steps_100_slices_5_interval_4_10_degredation_0/sim_4/YOLO_opt.pth.tar\n"
     ]
    },
    {
     "name": "stderr",
     "output_type": "stream",
     "text": [
      "Eval: Valid: : 100%|██████████| 2/2 [00:00<00:00,  2.77it/s]\n"
     ]
    },
    {
     "name": "stdout",
     "output_type": "stream",
     "text": [
      "---------------------------------------------------\n",
      "-------------Loss Summary eval Valid--------------\n",
      "Total Loss  |Loss Coord  |Conf Loss   |No Obj Loss |Class Loss  |\n",
      "19.912      |9.912       |6.569       |3.150       |0.281       |\n",
      "---------------------------------------------------\n",
      "Valid: \t mAP@50: 0.566698, mAP@75: 0.068069, mAP@90: 0.000731, Mean Loss: 19.911877\n",
      "array_param_shape: 266368\n",
      "=> Loading checkpoint\n",
      "Model loaded: tinyissimoYOLO/NAdam_None_Airbus_256_BATCH_32_LR_0.0005/model_opt/6-TIC_5_sims_max_steps_100_slices_5_interval_4_10_degredation_0/sim_4/YOLO_opt.pth.tar\n"
     ]
    },
    {
     "name": "stderr",
     "output_type": "stream",
     "text": [
      "Eval: Valid: : 100%|██████████| 2/2 [00:00<00:00,  8.11it/s]\n"
     ]
    },
    {
     "name": "stdout",
     "output_type": "stream",
     "text": [
      "---------------------------------------------------\n",
      "-------------Loss Summary eval Valid--------------\n",
      "Total Loss  |Loss Coord  |Conf Loss   |No Obj Loss |Class Loss  |\n",
      "22.500      |11.155      |9.484       |1.626       |0.236       |\n",
      "---------------------------------------------------\n",
      "Valid: \t mAP@50: 0.385578, mAP@75: 0.099208, mAP@90: 0.001754, Mean Loss: 22.500438\n",
      "array_param_shape: 74048\n",
      "=> Loading checkpoint\n",
      "Model loaded: tinyissimoYOLO/NAdam_None_Airbus_256_BATCH_32_LR_0.0005/model_opt/6-TIC_5_sims_max_steps_100_slices_5_interval_4_10_degredation_0/sim_4/YOLO_opt.pth.tar\n"
     ]
    },
    {
     "name": "stderr",
     "output_type": "stream",
     "text": [
      "Eval: Valid: : 100%|██████████| 2/2 [00:00<00:00,  8.00it/s]\n"
     ]
    },
    {
     "name": "stdout",
     "output_type": "stream",
     "text": [
      "---------------------------------------------------\n",
      "-------------Loss Summary eval Valid--------------\n",
      "Total Loss  |Loss Coord  |Conf Loss   |No Obj Loss |Class Loss  |\n",
      "15.323      |8.138       |4.827       |2.292       |0.066       |\n",
      "---------------------------------------------------\n",
      "Valid: \t mAP@50: 0.703398, mAP@75: 0.247941, mAP@90: 0.001537, Mean Loss: 15.323326\n",
      "array_param_shape: 598208\n",
      "Valid: \t mAP@50: 0.551892, mAP@75: 0.247941, mAP@90: 0.001537, Mean Loss: 19.245214\n",
      "=> Loading checkpoint\n",
      "Model loaded: tinyissimoYOLO/NAdam_None_Airbus_256_BATCH_32_LR_0.0005/model_opt/6-TIC_5_sims_max_steps_100_slices_5_interval_4_10_degredation_0/sim_4/YOLO_opt.pth.tar\n",
      "############################################\n",
      "Noise level 2: Slice: [1, 3], Percentage: 0.5\n",
      "############################################\n",
      "=> Loading checkpoint\n",
      "Model loaded: tinyissimoYOLO/NAdam_None_Airbus_256_BATCH_32_LR_0.0005/model_opt/6-TIC_5_sims_max_steps_100_slices_5_interval_4_10_degredation_0/sim_4/YOLO_opt.pth.tar\n"
     ]
    },
    {
     "name": "stderr",
     "output_type": "stream",
     "text": [
      "Eval: Valid: : 100%|██████████| 2/2 [00:00<00:00,  7.72it/s]\n"
     ]
    },
    {
     "name": "stdout",
     "output_type": "stream",
     "text": [
      "---------------------------------------------------\n",
      "-------------Loss Summary eval Valid--------------\n",
      "Total Loss  |Loss Coord  |Conf Loss   |No Obj Loss |Class Loss  |\n",
      "15.258      |8.018       |4.913       |2.263       |0.065       |\n",
      "---------------------------------------------------\n",
      "Valid: \t mAP@50: 0.745101, mAP@75: 0.238298, mAP@90: 0.001683, Mean Loss: 15.258169\n",
      "array_param_shape: 4688\n",
      "=> Loading checkpoint\n",
      "Model loaded: tinyissimoYOLO/NAdam_None_Airbus_256_BATCH_32_LR_0.0005/model_opt/6-TIC_5_sims_max_steps_100_slices_5_interval_4_10_degredation_0/sim_4/YOLO_opt.pth.tar\n"
     ]
    },
    {
     "name": "stderr",
     "output_type": "stream",
     "text": [
      "Eval: Valid: : 100%|██████████| 2/2 [00:00<00:00,  8.26it/s]\n"
     ]
    },
    {
     "name": "stdout",
     "output_type": "stream",
     "text": [
      "---------------------------------------------------\n",
      "-------------Loss Summary eval Valid--------------\n",
      "Total Loss  |Loss Coord  |Conf Loss   |No Obj Loss |Class Loss  |\n",
      "20.326      |10.357      |8.334       |1.444       |0.190       |\n",
      "---------------------------------------------------\n",
      "Valid: \t mAP@50: 0.550227, mAP@75: 0.188593, mAP@90: 0.001462, Mean Loss: 20.325766\n",
      "array_param_shape: 5120\n",
      "=> Loading checkpoint\n",
      "Model loaded: tinyissimoYOLO/NAdam_None_Airbus_256_BATCH_32_LR_0.0005/model_opt/6-TIC_5_sims_max_steps_100_slices_5_interval_4_10_degredation_0/sim_4/YOLO_opt.pth.tar\n"
     ]
    },
    {
     "name": "stderr",
     "output_type": "stream",
     "text": [
      "Eval: Valid: : 100%|██████████| 2/2 [00:00<00:00,  7.73it/s]\n"
     ]
    },
    {
     "name": "stdout",
     "output_type": "stream",
     "text": [
      "---------------------------------------------------\n",
      "-------------Loss Summary eval Valid--------------\n",
      "Total Loss  |Loss Coord  |Conf Loss   |No Obj Loss |Class Loss  |\n",
      "79.075      |48.882      |29.367      |0.190       |0.636       |\n",
      "---------------------------------------------------\n",
      "Valid: \t mAP@50: 0.000000, mAP@75: 0.000000, mAP@90: 0.000000, Mean Loss: 79.074711\n",
      "array_param_shape: 9680\n",
      "Valid: \t mAP@50: 0.431776, mAP@75: 0.000000, mAP@90: 0.000000, Mean Loss: 38.219549\n",
      "=> Loading checkpoint\n",
      "Model loaded: tinyissimoYOLO/NAdam_None_Airbus_256_BATCH_32_LR_0.0005/model_opt/6-TIC_5_sims_max_steps_100_slices_5_interval_4_10_degredation_0/sim_4/YOLO_opt.pth.tar\n",
      "############################################\n",
      "Noise level 2: Slice: [2, 3], Percentage: 0.5\n",
      "############################################\n",
      "=> Loading checkpoint\n",
      "Model loaded: tinyissimoYOLO/NAdam_None_Airbus_256_BATCH_32_LR_0.0005/model_opt/6-TIC_5_sims_max_steps_100_slices_5_interval_4_10_degredation_0/sim_4/YOLO_opt.pth.tar\n"
     ]
    },
    {
     "name": "stderr",
     "output_type": "stream",
     "text": [
      "Eval: Valid: : 100%|██████████| 2/2 [00:00<00:00,  7.82it/s]\n"
     ]
    },
    {
     "name": "stdout",
     "output_type": "stream",
     "text": [
      "---------------------------------------------------\n",
      "-------------Loss Summary eval Valid--------------\n",
      "Total Loss  |Loss Coord  |Conf Loss   |No Obj Loss |Class Loss  |\n",
      "15.102      |7.939       |4.844       |2.254       |0.065       |\n",
      "---------------------------------------------------\n",
      "Valid: \t mAP@50: 0.746677, mAP@75: 0.239917, mAP@90: 0.001629, Mean Loss: 15.101838\n",
      "array_param_shape: 73952\n",
      "=> Loading checkpoint\n",
      "Model loaded: tinyissimoYOLO/NAdam_None_Airbus_256_BATCH_32_LR_0.0005/model_opt/6-TIC_5_sims_max_steps_100_slices_5_interval_4_10_degredation_0/sim_4/YOLO_opt.pth.tar\n"
     ]
    },
    {
     "name": "stderr",
     "output_type": "stream",
     "text": [
      "Eval: Valid: : 100%|██████████| 2/2 [00:00<00:00,  8.16it/s]\n"
     ]
    },
    {
     "name": "stdout",
     "output_type": "stream",
     "text": [
      "---------------------------------------------------\n",
      "-------------Loss Summary eval Valid--------------\n",
      "Total Loss  |Loss Coord  |Conf Loss   |No Obj Loss |Class Loss  |\n",
      "15.096      |7.930       |4.862       |2.238       |0.066       |\n",
      "---------------------------------------------------\n",
      "Valid: \t mAP@50: 0.747098, mAP@75: 0.238088, mAP@90: 0.001562, Mean Loss: 15.096447\n",
      "array_param_shape: 55488\n",
      "=> Loading checkpoint\n",
      "Model loaded: tinyissimoYOLO/NAdam_None_Airbus_256_BATCH_32_LR_0.0005/model_opt/6-TIC_5_sims_max_steps_100_slices_5_interval_4_10_degredation_0/sim_4/YOLO_opt.pth.tar\n"
     ]
    },
    {
     "name": "stderr",
     "output_type": "stream",
     "text": [
      "Eval: Valid: : 100%|██████████| 2/2 [00:00<00:00,  8.15it/s]\n"
     ]
    },
    {
     "name": "stdout",
     "output_type": "stream",
     "text": [
      "---------------------------------------------------\n",
      "-------------Loss Summary eval Valid--------------\n",
      "Total Loss  |Loss Coord  |Conf Loss   |No Obj Loss |Class Loss  |\n",
      "22.761      |11.263      |9.654       |1.679       |0.165       |\n",
      "---------------------------------------------------\n",
      "Valid: \t mAP@50: 0.433778, mAP@75: 0.159133, mAP@90: 0.000000, Mean Loss: 22.760741\n",
      "array_param_shape: 46272\n",
      "Valid: \t mAP@50: 0.642518, mAP@75: 0.159133, mAP@90: 0.000000, Mean Loss: 17.653009\n",
      "=> Loading checkpoint\n",
      "Model loaded: tinyissimoYOLO/NAdam_None_Airbus_256_BATCH_32_LR_0.0005/model_opt/6-TIC_5_sims_max_steps_100_slices_5_interval_4_10_degredation_0/sim_4/YOLO_opt.pth.tar\n",
      "############################################\n",
      "Noise level 2: Slice: [3, 3], Percentage: 0.5\n",
      "############################################\n",
      "=> Loading checkpoint\n",
      "Model loaded: tinyissimoYOLO/NAdam_None_Airbus_256_BATCH_32_LR_0.0005/model_opt/6-TIC_5_sims_max_steps_100_slices_5_interval_4_10_degredation_0/sim_4/YOLO_opt.pth.tar\n"
     ]
    },
    {
     "name": "stderr",
     "output_type": "stream",
     "text": [
      "Eval: Valid: : 100%|██████████| 2/2 [00:00<00:00,  7.56it/s]\n"
     ]
    },
    {
     "name": "stdout",
     "output_type": "stream",
     "text": [
      "---------------------------------------------------\n",
      "-------------Loss Summary eval Valid--------------\n",
      "Total Loss  |Loss Coord  |Conf Loss   |No Obj Loss |Class Loss  |\n",
      "34.083      |16.900      |4.778       |11.095      |1.310       |\n",
      "---------------------------------------------------\n",
      "Valid: \t mAP@50: 0.496657, mAP@75: 0.059175, mAP@90: 0.000487, Mean Loss: 34.083290\n",
      "array_param_shape: 193088\n",
      "=> Loading checkpoint\n",
      "Model loaded: tinyissimoYOLO/NAdam_None_Airbus_256_BATCH_32_LR_0.0005/model_opt/6-TIC_5_sims_max_steps_100_slices_5_interval_4_10_degredation_0/sim_4/YOLO_opt.pth.tar\n"
     ]
    },
    {
     "name": "stderr",
     "output_type": "stream",
     "text": [
      "Eval: Valid: : 100%|██████████| 2/2 [00:00<00:00,  7.74it/s]\n"
     ]
    },
    {
     "name": "stdout",
     "output_type": "stream",
     "text": [
      "---------------------------------------------------\n",
      "-------------Loss Summary eval Valid--------------\n",
      "Total Loss  |Loss Coord  |Conf Loss   |No Obj Loss |Class Loss  |\n",
      "15.222      |7.942       |4.850       |2.253       |0.176       |\n",
      "---------------------------------------------------\n",
      "Valid: \t mAP@50: 0.746276, mAP@75: 0.258633, mAP@90: 0.001629, Mean Loss: 15.222185\n",
      "array_param_shape: 192896\n",
      "=> Loading checkpoint\n",
      "Model loaded: tinyissimoYOLO/NAdam_None_Airbus_256_BATCH_32_LR_0.0005/model_opt/6-TIC_5_sims_max_steps_100_slices_5_interval_4_10_degredation_0/sim_4/YOLO_opt.pth.tar\n"
     ]
    },
    {
     "name": "stderr",
     "output_type": "stream",
     "text": [
      "Eval: Valid: : 100%|██████████| 2/2 [00:00<00:00,  7.69it/s]\n"
     ]
    },
    {
     "name": "stdout",
     "output_type": "stream",
     "text": [
      "---------------------------------------------------\n",
      "-------------Loss Summary eval Valid--------------\n",
      "Total Loss  |Loss Coord  |Conf Loss   |No Obj Loss |Class Loss  |\n",
      "33.530      |17.273      |7.749       |8.090       |0.417       |\n",
      "---------------------------------------------------\n",
      "Valid: \t mAP@50: 0.304977, mAP@75: 0.022519, mAP@90: 0.000000, Mean Loss: 33.529676\n",
      "array_param_shape: 598528\n",
      "Valid: \t mAP@50: 0.515970, mAP@75: 0.022519, mAP@90: 0.000000, Mean Loss: 27.611717\n",
      "=> Loading checkpoint\n",
      "Model loaded: tinyissimoYOLO/NAdam_None_Airbus_256_BATCH_32_LR_0.0005/model_opt/6-TIC_5_sims_max_steps_100_slices_5_interval_4_10_degredation_0/sim_4/YOLO_opt.pth.tar\n",
      "############################################\n",
      "Noise level 2: Slice: [1, 3], Percentage: 0.7\n",
      "############################################\n",
      "=> Loading checkpoint\n",
      "Model loaded: tinyissimoYOLO/NAdam_None_Airbus_256_BATCH_32_LR_0.0005/model_opt/6-TIC_5_sims_max_steps_100_slices_5_interval_4_10_degredation_0/sim_4/YOLO_opt.pth.tar\n"
     ]
    },
    {
     "name": "stderr",
     "output_type": "stream",
     "text": [
      "Eval: Valid: : 100%|██████████| 2/2 [00:00<00:00,  7.39it/s]\n"
     ]
    },
    {
     "name": "stdout",
     "output_type": "stream",
     "text": [
      "---------------------------------------------------\n",
      "-------------Loss Summary eval Valid--------------\n",
      "Total Loss  |Loss Coord  |Conf Loss   |No Obj Loss |Class Loss  |\n",
      "63.982      |36.285      |26.980      |0.101       |0.615       |\n",
      "---------------------------------------------------\n",
      "Valid: \t mAP@50: 0.000000, mAP@75: 0.000000, mAP@90: 0.000000, Mean Loss: 63.981815\n",
      "array_param_shape: 7440\n",
      "=> Loading checkpoint\n",
      "Model loaded: tinyissimoYOLO/NAdam_None_Airbus_256_BATCH_32_LR_0.0005/model_opt/6-TIC_5_sims_max_steps_100_slices_5_interval_4_10_degredation_0/sim_4/YOLO_opt.pth.tar\n"
     ]
    },
    {
     "name": "stderr",
     "output_type": "stream",
     "text": [
      "Eval: Valid: : 100%|██████████| 2/2 [00:00<00:00,  7.77it/s]\n"
     ]
    },
    {
     "name": "stdout",
     "output_type": "stream",
     "text": [
      "---------------------------------------------------\n",
      "-------------Loss Summary eval Valid--------------\n",
      "Total Loss  |Loss Coord  |Conf Loss   |No Obj Loss |Class Loss  |\n",
      "16.693      |8.492       |5.998       |2.106       |0.097       |\n",
      "---------------------------------------------------\n",
      "Valid: \t mAP@50: 0.698218, mAP@75: 0.265184, mAP@90: 0.001096, Mean Loss: 16.693169\n",
      "array_param_shape: 7440\n",
      "=> Loading checkpoint\n",
      "Model loaded: tinyissimoYOLO/NAdam_None_Airbus_256_BATCH_32_LR_0.0005/model_opt/6-TIC_5_sims_max_steps_100_slices_5_interval_4_10_degredation_0/sim_4/YOLO_opt.pth.tar\n"
     ]
    },
    {
     "name": "stderr",
     "output_type": "stream",
     "text": [
      "Eval: Valid: : 100%|██████████| 2/2 [00:00<00:00,  8.17it/s]\n"
     ]
    },
    {
     "name": "stdout",
     "output_type": "stream",
     "text": [
      "---------------------------------------------------\n",
      "-------------Loss Summary eval Valid--------------\n",
      "Total Loss  |Loss Coord  |Conf Loss   |No Obj Loss |Class Loss  |\n",
      "61.765      |35.358      |25.622      |0.208       |0.576       |\n",
      "---------------------------------------------------\n",
      "Valid: \t mAP@50: 0.017544, mAP@75: 0.000000, mAP@90: 0.000000, Mean Loss: 61.764872\n",
      "array_param_shape: 7440\n",
      "Valid: \t mAP@50: 0.238587, mAP@75: 0.000000, mAP@90: 0.000000, Mean Loss: 47.479952\n",
      "=> Loading checkpoint\n",
      "Model loaded: tinyissimoYOLO/NAdam_None_Airbus_256_BATCH_32_LR_0.0005/model_opt/6-TIC_5_sims_max_steps_100_slices_5_interval_4_10_degredation_0/sim_4/YOLO_opt.pth.tar\n",
      "############################################\n",
      "Noise level 2: Slice: [2, 3], Percentage: 0.7\n",
      "############################################\n",
      "=> Loading checkpoint\n",
      "Model loaded: tinyissimoYOLO/NAdam_None_Airbus_256_BATCH_32_LR_0.0005/model_opt/6-TIC_5_sims_max_steps_100_slices_5_interval_4_10_degredation_0/sim_4/YOLO_opt.pth.tar\n"
     ]
    },
    {
     "name": "stderr",
     "output_type": "stream",
     "text": [
      "Eval: Valid: : 100%|██████████| 2/2 [00:00<00:00,  2.33it/s]\n"
     ]
    },
    {
     "name": "stdout",
     "output_type": "stream",
     "text": [
      "---------------------------------------------------\n",
      "-------------Loss Summary eval Valid--------------\n",
      "Total Loss  |Loss Coord  |Conf Loss   |No Obj Loss |Class Loss  |\n",
      "43.731      |23.097      |19.674      |0.453       |0.507       |\n",
      "---------------------------------------------------\n",
      "Valid: \t mAP@50: 0.087719, mAP@75: 0.007895, mAP@90: 0.000000, Mean Loss: 43.730843\n",
      "array_param_shape: 101568\n",
      "=> Loading checkpoint\n",
      "Model loaded: tinyissimoYOLO/NAdam_None_Airbus_256_BATCH_32_LR_0.0005/model_opt/6-TIC_5_sims_max_steps_100_slices_5_interval_4_10_degredation_0/sim_4/YOLO_opt.pth.tar\n"
     ]
    },
    {
     "name": "stderr",
     "output_type": "stream",
     "text": [
      "Eval: Valid: : 100%|██████████| 2/2 [00:00<00:00,  8.23it/s]\n"
     ]
    },
    {
     "name": "stdout",
     "output_type": "stream",
     "text": [
      "---------------------------------------------------\n",
      "-------------Loss Summary eval Valid--------------\n",
      "Total Loss  |Loss Coord  |Conf Loss   |No Obj Loss |Class Loss  |\n",
      "55.874      |32.476      |21.993      |0.724       |0.681       |\n",
      "---------------------------------------------------\n",
      "Valid: \t mAP@50: 0.027778, mAP@75: 0.000000, mAP@90: 0.000000, Mean Loss: 55.873674\n",
      "array_param_shape: 101568\n",
      "=> Loading checkpoint\n",
      "Model loaded: tinyissimoYOLO/NAdam_None_Airbus_256_BATCH_32_LR_0.0005/model_opt/6-TIC_5_sims_max_steps_100_slices_5_interval_4_10_degredation_0/sim_4/YOLO_opt.pth.tar\n"
     ]
    },
    {
     "name": "stderr",
     "output_type": "stream",
     "text": [
      "Eval: Valid: : 100%|██████████| 2/2 [00:00<00:00,  8.38it/s]\n"
     ]
    },
    {
     "name": "stdout",
     "output_type": "stream",
     "text": [
      "---------------------------------------------------\n",
      "-------------Loss Summary eval Valid--------------\n",
      "Total Loss  |Loss Coord  |Conf Loss   |No Obj Loss |Class Loss  |\n",
      "36.328      |19.896      |14.268      |1.933       |0.231       |\n",
      "---------------------------------------------------\n",
      "Valid: \t mAP@50: 0.151622, mAP@75: 0.064919, mAP@90: 0.000000, Mean Loss: 36.327579\n",
      "array_param_shape: 101600\n",
      "Valid: \t mAP@50: 0.089040, mAP@75: 0.064919, mAP@90: 0.000000, Mean Loss: 45.310699\n",
      "=> Loading checkpoint\n",
      "Model loaded: tinyissimoYOLO/NAdam_None_Airbus_256_BATCH_32_LR_0.0005/model_opt/6-TIC_5_sims_max_steps_100_slices_5_interval_4_10_degredation_0/sim_4/YOLO_opt.pth.tar\n",
      "############################################\n",
      "Noise level 2: Slice: [3, 3], Percentage: 0.7\n",
      "############################################\n",
      "=> Loading checkpoint\n",
      "Model loaded: tinyissimoYOLO/NAdam_None_Airbus_256_BATCH_32_LR_0.0005/model_opt/6-TIC_5_sims_max_steps_100_slices_5_interval_4_10_degredation_0/sim_4/YOLO_opt.pth.tar\n"
     ]
    },
    {
     "name": "stderr",
     "output_type": "stream",
     "text": [
      "Eval: Valid: : 100%|██████████| 2/2 [00:00<00:00,  7.94it/s]\n"
     ]
    },
    {
     "name": "stdout",
     "output_type": "stream",
     "text": [
      "---------------------------------------------------\n",
      "-------------Loss Summary eval Valid--------------\n",
      "Total Loss  |Loss Coord  |Conf Loss   |No Obj Loss |Class Loss  |\n",
      "15.416      |8.202       |4.883       |2.266       |0.066       |\n",
      "---------------------------------------------------\n",
      "Valid: \t mAP@50: 0.690087, mAP@75: 0.247517, mAP@90: 0.001562, Mean Loss: 15.416491\n",
      "array_param_shape: 746112\n",
      "=> Loading checkpoint\n",
      "Model loaded: tinyissimoYOLO/NAdam_None_Airbus_256_BATCH_32_LR_0.0005/model_opt/6-TIC_5_sims_max_steps_100_slices_5_interval_4_10_degredation_0/sim_4/YOLO_opt.pth.tar\n"
     ]
    },
    {
     "name": "stderr",
     "output_type": "stream",
     "text": [
      "Eval: Valid: : 100%|██████████| 2/2 [00:00<00:00,  7.91it/s]\n"
     ]
    },
    {
     "name": "stdout",
     "output_type": "stream",
     "text": [
      "---------------------------------------------------\n",
      "-------------Loss Summary eval Valid--------------\n",
      "Total Loss  |Loss Coord  |Conf Loss   |No Obj Loss |Class Loss  |\n",
      "41.750      |26.332      |9.820       |4.931       |0.667       |\n",
      "---------------------------------------------------\n",
      "Valid: \t mAP@50: 0.262377, mAP@75: 0.013216, mAP@90: 0.000000, Mean Loss: 41.749735\n",
      "array_param_shape: 790976\n",
      "=> Loading checkpoint\n",
      "Model loaded: tinyissimoYOLO/NAdam_None_Airbus_256_BATCH_32_LR_0.0005/model_opt/6-TIC_5_sims_max_steps_100_slices_5_interval_4_10_degredation_0/sim_4/YOLO_opt.pth.tar\n"
     ]
    },
    {
     "name": "stderr",
     "output_type": "stream",
     "text": [
      "Eval: Valid: : 100%|██████████| 2/2 [00:00<00:00,  7.83it/s]\n"
     ]
    },
    {
     "name": "stdout",
     "output_type": "stream",
     "text": [
      "---------------------------------------------------\n",
      "-------------Loss Summary eval Valid--------------\n",
      "Total Loss  |Loss Coord  |Conf Loss   |No Obj Loss |Class Loss  |\n",
      "19.631      |11.040      |5.217       |3.165       |0.209       |\n",
      "---------------------------------------------------\n",
      "Valid: \t mAP@50: 0.604621, mAP@75: 0.141893, mAP@90: 0.004253, Mean Loss: 19.631325\n",
      "array_param_shape: 791104\n",
      "Valid: \t mAP@50: 0.519028, mAP@75: 0.141893, mAP@90: 0.004253, Mean Loss: 25.599184\n",
      "=> Loading checkpoint\n",
      "Model loaded: tinyissimoYOLO/NAdam_None_Airbus_256_BATCH_32_LR_0.0005/model_opt/6-TIC_5_sims_max_steps_100_slices_5_interval_4_10_degredation_0/sim_4/YOLO_opt.pth.tar\n",
      "############################################\n",
      "Noise level 2: Slice: [1, 3], Percentage: 1\n",
      "############################################\n",
      "=> Loading checkpoint\n",
      "Model loaded: tinyissimoYOLO/NAdam_None_Airbus_256_BATCH_32_LR_0.0005/model_opt/6-TIC_5_sims_max_steps_100_slices_5_interval_4_10_degredation_0/sim_4/YOLO_opt.pth.tar\n"
     ]
    },
    {
     "name": "stderr",
     "output_type": "stream",
     "text": [
      "Eval: Valid: : 100%|██████████| 2/2 [00:00<00:00,  8.40it/s]\n"
     ]
    },
    {
     "name": "stdout",
     "output_type": "stream",
     "text": [
      "---------------------------------------------------\n",
      "-------------Loss Summary eval Valid--------------\n",
      "Total Loss  |Loss Coord  |Conf Loss   |No Obj Loss |Class Loss  |\n",
      "30.179      |14.434      |14.089      |1.406       |0.250       |\n",
      "---------------------------------------------------\n",
      "Valid: \t mAP@50: 0.404247, mAP@75: 0.172001, mAP@90: 0.001096, Mean Loss: 30.179145\n",
      "array_param_shape: 9776\n",
      "=> Loading checkpoint\n",
      "Model loaded: tinyissimoYOLO/NAdam_None_Airbus_256_BATCH_32_LR_0.0005/model_opt/6-TIC_5_sims_max_steps_100_slices_5_interval_4_10_degredation_0/sim_4/YOLO_opt.pth.tar\n"
     ]
    },
    {
     "name": "stderr",
     "output_type": "stream",
     "text": [
      "Eval: Valid: : 100%|██████████| 2/2 [00:00<00:00,  8.59it/s]\n"
     ]
    },
    {
     "name": "stdout",
     "output_type": "stream",
     "text": [
      "---------------------------------------------------\n",
      "-------------Loss Summary eval Valid--------------\n",
      "Total Loss  |Loss Coord  |Conf Loss   |No Obj Loss |Class Loss  |\n",
      "44.070      |20.987      |22.396      |0.363       |0.323       |\n",
      "---------------------------------------------------\n",
      "Valid: \t mAP@50: 0.105263, mAP@75: 0.105263, mAP@90: 0.000000, Mean Loss: 44.070143\n",
      "array_param_shape: 9776\n",
      "=> Loading checkpoint\n",
      "Model loaded: tinyissimoYOLO/NAdam_None_Airbus_256_BATCH_32_LR_0.0005/model_opt/6-TIC_5_sims_max_steps_100_slices_5_interval_4_10_degredation_0/sim_4/YOLO_opt.pth.tar\n"
     ]
    },
    {
     "name": "stderr",
     "output_type": "stream",
     "text": [
      "Eval: Valid: : 100%|██████████| 2/2 [00:00<00:00,  8.73it/s]\n"
     ]
    },
    {
     "name": "stdout",
     "output_type": "stream",
     "text": [
      "---------------------------------------------------\n",
      "-------------Loss Summary eval Valid--------------\n",
      "Total Loss  |Loss Coord  |Conf Loss   |No Obj Loss |Class Loss  |\n",
      "42.965      |24.373      |10.869      |7.668       |0.055       |\n",
      "---------------------------------------------------\n",
      "Valid: \t mAP@50: 0.283568, mAP@75: 0.028660, mAP@90: 0.002924, Mean Loss: 42.964874\n",
      "array_param_shape: 9776\n",
      "Valid: \t mAP@50: 0.264359, mAP@75: 0.028660, mAP@90: 0.002924, Mean Loss: 39.071387\n",
      "=> Loading checkpoint\n",
      "Model loaded: tinyissimoYOLO/NAdam_None_Airbus_256_BATCH_32_LR_0.0005/model_opt/6-TIC_5_sims_max_steps_100_slices_5_interval_4_10_degredation_0/sim_4/YOLO_opt.pth.tar\n",
      "############################################\n",
      "Noise level 2: Slice: [2, 3], Percentage: 1\n",
      "############################################\n",
      "=> Loading checkpoint\n",
      "Model loaded: tinyissimoYOLO/NAdam_None_Airbus_256_BATCH_32_LR_0.0005/model_opt/6-TIC_5_sims_max_steps_100_slices_5_interval_4_10_degredation_0/sim_4/YOLO_opt.pth.tar\n"
     ]
    },
    {
     "name": "stderr",
     "output_type": "stream",
     "text": [
      "Eval: Valid: : 100%|██████████| 2/2 [00:00<00:00,  8.27it/s]\n"
     ]
    },
    {
     "name": "stdout",
     "output_type": "stream",
     "text": [
      "---------------------------------------------------\n",
      "-------------Loss Summary eval Valid--------------\n",
      "Total Loss  |Loss Coord  |Conf Loss   |No Obj Loss |Class Loss  |\n",
      "32.461      |17.402      |11.254      |3.588       |0.217       |\n",
      "---------------------------------------------------\n",
      "Valid: \t mAP@50: 0.407609, mAP@75: 0.060737, mAP@90: 0.000000, Mean Loss: 32.460563\n",
      "array_param_shape: 101728\n",
      "=> Loading checkpoint\n",
      "Model loaded: tinyissimoYOLO/NAdam_None_Airbus_256_BATCH_32_LR_0.0005/model_opt/6-TIC_5_sims_max_steps_100_slices_5_interval_4_10_degredation_0/sim_4/YOLO_opt.pth.tar\n"
     ]
    },
    {
     "name": "stderr",
     "output_type": "stream",
     "text": [
      "Eval: Valid: : 100%|██████████| 2/2 [00:00<00:00,  8.24it/s]\n"
     ]
    },
    {
     "name": "stdout",
     "output_type": "stream",
     "text": [
      "---------------------------------------------------\n",
      "-------------Loss Summary eval Valid--------------\n",
      "Total Loss  |Loss Coord  |Conf Loss   |No Obj Loss |Class Loss  |\n",
      "16.813      |9.128       |4.037       |3.576       |0.071       |\n",
      "---------------------------------------------------\n",
      "Valid: \t mAP@50: 0.749635, mAP@75: 0.134388, mAP@90: 0.000000, Mean Loss: 16.813253\n",
      "array_param_shape: 101728\n",
      "=> Loading checkpoint\n",
      "Model loaded: tinyissimoYOLO/NAdam_None_Airbus_256_BATCH_32_LR_0.0005/model_opt/6-TIC_5_sims_max_steps_100_slices_5_interval_4_10_degredation_0/sim_4/YOLO_opt.pth.tar\n"
     ]
    },
    {
     "name": "stderr",
     "output_type": "stream",
     "text": [
      "Eval: Valid: : 100%|██████████| 2/2 [00:00<00:00,  8.33it/s]\n"
     ]
    },
    {
     "name": "stdout",
     "output_type": "stream",
     "text": [
      "---------------------------------------------------\n",
      "-------------Loss Summary eval Valid--------------\n",
      "Total Loss  |Loss Coord  |Conf Loss   |No Obj Loss |Class Loss  |\n",
      "15.157      |7.934       |4.978       |2.178       |0.068       |\n",
      "---------------------------------------------------\n",
      "Valid: \t mAP@50: 0.749311, mAP@75: 0.263259, mAP@90: 0.001806, Mean Loss: 15.157435\n",
      "array_param_shape: 101728\n",
      "Valid: \t mAP@50: 0.635518, mAP@75: 0.263259, mAP@90: 0.001806, Mean Loss: 21.477084\n",
      "=> Loading checkpoint\n",
      "Model loaded: tinyissimoYOLO/NAdam_None_Airbus_256_BATCH_32_LR_0.0005/model_opt/6-TIC_5_sims_max_steps_100_slices_5_interval_4_10_degredation_0/sim_4/YOLO_opt.pth.tar\n",
      "############################################\n",
      "Noise level 2: Slice: [3, 3], Percentage: 1\n",
      "############################################\n",
      "=> Loading checkpoint\n",
      "Model loaded: tinyissimoYOLO/NAdam_None_Airbus_256_BATCH_32_LR_0.0005/model_opt/6-TIC_5_sims_max_steps_100_slices_5_interval_4_10_degredation_0/sim_4/YOLO_opt.pth.tar\n"
     ]
    },
    {
     "name": "stderr",
     "output_type": "stream",
     "text": [
      "Eval: Valid: : 100%|██████████| 2/2 [00:00<00:00,  2.21it/s]\n"
     ]
    },
    {
     "name": "stdout",
     "output_type": "stream",
     "text": [
      "---------------------------------------------------\n",
      "-------------Loss Summary eval Valid--------------\n",
      "Total Loss  |Loss Coord  |Conf Loss   |No Obj Loss |Class Loss  |\n",
      "40.288      |20.976      |6.384       |11.517      |1.411       |\n",
      "---------------------------------------------------\n",
      "Valid: \t mAP@50: 0.474761, mAP@75: 0.065413, mAP@90: 0.000000, Mean Loss: 40.288413\n",
      "array_param_shape: 791424\n",
      "=> Loading checkpoint\n",
      "Model loaded: tinyissimoYOLO/NAdam_None_Airbus_256_BATCH_32_LR_0.0005/model_opt/6-TIC_5_sims_max_steps_100_slices_5_interval_4_10_degredation_0/sim_4/YOLO_opt.pth.tar\n"
     ]
    },
    {
     "name": "stderr",
     "output_type": "stream",
     "text": [
      "Eval: Valid: : 100%|██████████| 2/2 [00:00<00:00,  7.74it/s]\n"
     ]
    },
    {
     "name": "stdout",
     "output_type": "stream",
     "text": [
      "---------------------------------------------------\n",
      "-------------Loss Summary eval Valid--------------\n",
      "Total Loss  |Loss Coord  |Conf Loss   |No Obj Loss |Class Loss  |\n",
      "187.176     |125.127     |11.325      |46.299      |4.426       |\n",
      "---------------------------------------------------\n",
      "Valid: \t mAP@50: 0.149136, mAP@75: 0.039738, mAP@90: 0.000302, Mean Loss: 187.176373\n",
      "array_param_shape: 791424\n",
      "=> Loading checkpoint\n",
      "Model loaded: tinyissimoYOLO/NAdam_None_Airbus_256_BATCH_32_LR_0.0005/model_opt/6-TIC_5_sims_max_steps_100_slices_5_interval_4_10_degredation_0/sim_4/YOLO_opt.pth.tar\n"
     ]
    },
    {
     "name": "stderr",
     "output_type": "stream",
     "text": [
      "Eval: Valid: : 100%|██████████| 2/2 [00:00<00:00,  6.61it/s]\n"
     ]
    },
    {
     "name": "stdout",
     "output_type": "stream",
     "text": [
      "---------------------------------------------------\n",
      "-------------Loss Summary eval Valid--------------\n",
      "Total Loss  |Loss Coord  |Conf Loss   |No Obj Loss |Class Loss  |\n",
      "439.716     |312.100     |10.738      |113.177     |3.701       |\n",
      "---------------------------------------------------\n",
      "Valid: \t mAP@50: 0.006939, mAP@75: 0.000000, mAP@90: 0.000000, Mean Loss: 439.716042\n",
      "array_param_shape: 791424\n",
      "Valid: \t mAP@50: 0.210279, mAP@75: 0.000000, mAP@90: 0.000000, Mean Loss: 222.393609\n"
     ]
    }
   ],
   "source": [
    "from eval_noise import test_noise\n",
    "case1=False\n",
    "case2=True\n",
    "percentage_layers_case_2  = [0, 0.3, 0.5, 0.7, 1] if case2 else [0]\n",
    "\n",
    "\n",
    "#prueba 4\n",
    "slices_case2 = [3,3]\n",
    "interval_2 = (-4,2)\n",
    "percentage_tensors_2 = 0.003\n",
    "\n",
    "folder_model = '6-TIC_5_sims_max_steps_100_slices_5_interval_4_10_degredation_0/sim_4'\n",
    "model_name = 'YOLO_opt.pth.tar'\n",
    "test_noise(case1=case1, percentage_layers_case_1=[0], slices_case1 = [0,0],\n",
    "           case2=case2, percentage_layers_case_2=percentage_layers_case_2, slices_case2 = slices_case2, interval_2 = interval_2, percentage_tensors_2= percentage_tensors_2,\n",
    "            folder_model = folder_model, model_name = model_name)"
   ]
  },
  {
   "cell_type": "code",
   "execution_count": 2,
   "id": "75038a52-319b-4cf4-b0a9-f05d07561fb0",
   "metadata": {},
   "outputs": [],
   "source": [
    "\n",
    "def convert_fractional_to_binary(number, precision=32):\n",
    "    fractional_part = number - int(number)\n",
    "    binary_fractional_part = []\n",
    "    while fractional_part != 0 and len(binary_fractional_part) < precision:\n",
    "        fractional_part *= 2\n",
    "        bit = int(fractional_part)\n",
    "        binary_fractional_part.append(abs(bit))\n",
    "        fractional_part -= bit\n",
    "    return binary_fractional_part\n",
    "\n",
    "def fractional_bits_required(number, precision=10):\n",
    "  \n",
    "    # The number of bits required is the length of the binary_fractional_part list\n",
    "    return len(convert_fractional_to_binary(number, precision=precision))\n",
    "\n",
    "def convert_fractional_binary_to_fractional(int_value, binary_fractional_part):\n",
    "    fractional_part = abs(int_value)\n",
    "    for i in range(len(binary_fractional_part)):\n",
    "        fractional_part += abs(binary_fractional_part[i]) * 2**(-(i+1))\n",
    "    return fractional_part\n",
    "\n",
    "def convert_int_binary_to_int(binary_int_part):\n",
    "    fractional_part = 0\n",
    "    for i in range(len(binary_int_part)):\n",
    "        fractional_part += binary_int_part[i] * 2**(i)\n",
    "    return fractional_part\n",
    "\n",
    "\n",
    "\n",
    "\n",
    "def string_bit(sign_bit, int_bits, frac_bits):\n",
    "    \n",
    "    bits = f'{1 if sign_bit==-1 else 0}'\n",
    "    for int_bit in int_bits:\n",
    "        bits = f'{bits}{int_bit}'\n",
    "    bits = f'{bits}.'\n",
    "    for frac_bit in frac_bits:\n",
    "        bits = f'{bits}{frac_bit}'\n",
    "    return bits"
   ]
  },
  {
   "cell_type": "code",
   "execution_count": 12,
   "id": "7dd7a25b-6f10-4657-bbe7-1b57ed6fbd7f",
   "metadata": {
    "scrolled": true
   },
   "outputs": [],
   "source": [
    "bin_frac = convert_fractional_to_binary( 0.37078234553337097)"
   ]
  },
  {
   "cell_type": "code",
   "execution_count": 35,
   "id": "ed40e393-6d2b-4d91-aa58-b7eca5ee0127",
   "metadata": {},
   "outputs": [
    {
     "data": {
      "text/plain": [
       "[0, 1, 0, 1]"
      ]
     },
     "execution_count": 35,
     "metadata": {},
     "output_type": "execute_result"
    }
   ],
   "source": [
    "bin_frac[:4]"
   ]
  },
  {
   "cell_type": "code",
   "execution_count": 37,
   "id": "e87da858-24b5-4034-bfc9-6689db463d74",
   "metadata": {},
   "outputs": [
    {
     "data": {
      "text/plain": [
       "0.3125"
      ]
     },
     "execution_count": 37,
     "metadata": {},
     "output_type": "execute_result"
    }
   ],
   "source": [
    "convert_fractional_binary_to_fractional(0, bin_frac[:4])"
   ]
  }
 ],
 "metadata": {
  "kernelspec": {
   "display_name": "Python 3 (ipykernel)",
   "language": "python",
   "name": "python3"
  },
  "language_info": {
   "codemirror_mode": {
    "name": "ipython",
    "version": 3
   },
   "file_extension": ".py",
   "mimetype": "text/x-python",
   "name": "python",
   "nbconvert_exporter": "python",
   "pygments_lexer": "ipython3",
   "version": "3.11.4"
  }
 },
 "nbformat": 4,
 "nbformat_minor": 5
}
