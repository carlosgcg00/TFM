{
 "cells": [
  {
   "cell_type": "markdown",
   "id": "9faeac2a-7873-4028-82cb-a4f525882b10",
   "metadata": {},
   "source": [
    "# **Instalción de librerias**"
   ]
  },
  {
   "cell_type": "code",
   "execution_count": 1,
   "id": "46cde9c7-2668-41ff-ae2f-b4f1aa0ced51",
   "metadata": {
    "scrolled": true
   },
   "outputs": [
    {
     "name": "stdout",
     "output_type": "stream",
     "text": [
      "\u001b[33mWARNING: The directory '/home/jovyan/.cache/pip' or its parent directory is not owned or is not writable by the current user. The cache has been disabled. Check the permissions and owner of that directory. If executing pip with sudo, you should use sudo's -H flag.\u001b[0m\u001b[33m\n",
      "\u001b[0mCollecting torchsummary\n",
      "  Downloading torchsummary-1.5.1-py3-none-any.whl (2.8 kB)\n",
      "Installing collected packages: torchsummary\n",
      "Successfully installed torchsummary-1.5.1\n",
      "\u001b[33mWARNING: Running pip as the 'root' user can result in broken permissions and conflicting behaviour with the system package manager. It is recommended to use a virtual environment instead: https://pip.pypa.io/warnings/venv\u001b[0m\u001b[33m\n",
      "\u001b[0m\u001b[33mWARNING: The directory '/home/jovyan/.cache/pip' or its parent directory is not owned or is not writable by the current user. The cache has been disabled. Check the permissions and owner of that directory. If executing pip with sudo, you should use sudo's -H flag.\u001b[0m\u001b[33m\n",
      "\u001b[0mCollecting pytorch-lightning\n",
      "  Downloading pytorch_lightning-2.2.5-py3-none-any.whl (802 kB)\n",
      "\u001b[2K     \u001b[90m━━━━━━━━━━━━━━━━━━━━━━━━━━━━━━━━━━━━━━\u001b[0m \u001b[32m802.3/802.3 kB\u001b[0m \u001b[31m24.3 MB/s\u001b[0m eta \u001b[36m0:00:00\u001b[0m\n",
      "\u001b[?25hCollecting pycocotools\n",
      "  Downloading pycocotools-2.0.7-cp311-cp311-manylinux_2_17_x86_64.manylinux2014_x86_64.whl (463 kB)\n",
      "\u001b[2K     \u001b[90m━━━━━━━━━━━━━━━━━━━━━━━━━━━━━━━━━━━━━━\u001b[0m \u001b[32m463.7/463.7 kB\u001b[0m \u001b[31m31.4 MB/s\u001b[0m eta \u001b[36m0:00:00\u001b[0m\n",
      "\u001b[?25hRequirement already satisfied: numpy>=1.17.2 in /opt/conda/lib/python3.11/site-packages (from pytorch-lightning) (1.23.5)\n",
      "Requirement already satisfied: torch>=1.13.0 in /opt/conda/lib/python3.11/site-packages (from pytorch-lightning) (2.1.2)\n",
      "Requirement already satisfied: tqdm>=4.57.0 in /opt/conda/lib/python3.11/site-packages (from pytorch-lightning) (4.65.0)\n",
      "Requirement already satisfied: PyYAML>=5.4 in /opt/conda/lib/python3.11/site-packages (from pytorch-lightning) (6.0)\n",
      "Requirement already satisfied: fsspec[http]>=2022.5.0 in /opt/conda/lib/python3.11/site-packages (from pytorch-lightning) (2023.6.0)\n",
      "Collecting torchmetrics>=0.7.0 (from pytorch-lightning)\n",
      "  Downloading torchmetrics-1.4.0.post0-py3-none-any.whl (868 kB)\n",
      "\u001b[2K     \u001b[90m━━━━━━━━━━━━━━━━━━━━━━━━━━━━━━━━━━━━━━\u001b[0m \u001b[32m868.8/868.8 kB\u001b[0m \u001b[31m29.4 MB/s\u001b[0m eta \u001b[36m0:00:00\u001b[0m\n",
      "\u001b[?25hRequirement already satisfied: packaging>=20.0 in /opt/conda/lib/python3.11/site-packages (from pytorch-lightning) (23.1)\n",
      "Requirement already satisfied: typing-extensions>=4.4.0 in /opt/conda/lib/python3.11/site-packages (from pytorch-lightning) (4.7.1)\n",
      "Collecting lightning-utilities>=0.8.0 (from pytorch-lightning)\n",
      "  Downloading lightning_utilities-0.11.2-py3-none-any.whl (26 kB)\n",
      "Requirement already satisfied: matplotlib>=2.1.0 in /opt/conda/lib/python3.11/site-packages (from pycocotools) (3.7.1)\n",
      "Requirement already satisfied: requests in /opt/conda/lib/python3.11/site-packages (from fsspec[http]>=2022.5.0->pytorch-lightning) (2.31.0)\n",
      "Requirement already satisfied: aiohttp!=4.0.0a0,!=4.0.0a1 in /opt/conda/lib/python3.11/site-packages (from fsspec[http]>=2022.5.0->pytorch-lightning) (3.9.1)\n",
      "Requirement already satisfied: setuptools in /opt/conda/lib/python3.11/site-packages (from lightning-utilities>=0.8.0->pytorch-lightning) (68.0.0)\n",
      "Requirement already satisfied: contourpy>=1.0.1 in /opt/conda/lib/python3.11/site-packages (from matplotlib>=2.1.0->pycocotools) (1.1.0)\n",
      "Requirement already satisfied: cycler>=0.10 in /opt/conda/lib/python3.11/site-packages (from matplotlib>=2.1.0->pycocotools) (0.11.0)\n",
      "Requirement already satisfied: fonttools>=4.22.0 in /opt/conda/lib/python3.11/site-packages (from matplotlib>=2.1.0->pycocotools) (4.40.0)\n",
      "Requirement already satisfied: kiwisolver>=1.0.1 in /opt/conda/lib/python3.11/site-packages (from matplotlib>=2.1.0->pycocotools) (1.4.4)\n",
      "Requirement already satisfied: pillow>=6.2.0 in /opt/conda/lib/python3.11/site-packages (from matplotlib>=2.1.0->pycocotools) (10.0.0)\n",
      "Requirement already satisfied: pyparsing>=2.3.1 in /opt/conda/lib/python3.11/site-packages (from matplotlib>=2.1.0->pycocotools) (3.1.0)\n",
      "Requirement already satisfied: python-dateutil>=2.7 in /opt/conda/lib/python3.11/site-packages (from matplotlib>=2.1.0->pycocotools) (2.8.2)\n",
      "Requirement already satisfied: filelock in /opt/conda/lib/python3.11/site-packages (from torch>=1.13.0->pytorch-lightning) (3.13.1)\n",
      "Requirement already satisfied: sympy in /opt/conda/lib/python3.11/site-packages (from torch>=1.13.0->pytorch-lightning) (1.12)\n",
      "Requirement already satisfied: networkx in /opt/conda/lib/python3.11/site-packages (from torch>=1.13.0->pytorch-lightning) (3.1)\n",
      "Requirement already satisfied: jinja2 in /opt/conda/lib/python3.11/site-packages (from torch>=1.13.0->pytorch-lightning) (3.1.2)\n",
      "Requirement already satisfied: nvidia-cuda-nvrtc-cu12==12.1.105 in /opt/conda/lib/python3.11/site-packages (from torch>=1.13.0->pytorch-lightning) (12.1.105)\n",
      "Requirement already satisfied: nvidia-cuda-runtime-cu12==12.1.105 in /opt/conda/lib/python3.11/site-packages (from torch>=1.13.0->pytorch-lightning) (12.1.105)\n",
      "Requirement already satisfied: nvidia-cuda-cupti-cu12==12.1.105 in /opt/conda/lib/python3.11/site-packages (from torch>=1.13.0->pytorch-lightning) (12.1.105)\n",
      "Requirement already satisfied: nvidia-cudnn-cu12==8.9.2.26 in /opt/conda/lib/python3.11/site-packages (from torch>=1.13.0->pytorch-lightning) (8.9.2.26)\n",
      "Requirement already satisfied: nvidia-cublas-cu12==12.1.3.1 in /opt/conda/lib/python3.11/site-packages (from torch>=1.13.0->pytorch-lightning) (12.1.3.1)\n",
      "Requirement already satisfied: nvidia-cufft-cu12==11.0.2.54 in /opt/conda/lib/python3.11/site-packages (from torch>=1.13.0->pytorch-lightning) (11.0.2.54)\n",
      "Requirement already satisfied: nvidia-curand-cu12==10.3.2.106 in /opt/conda/lib/python3.11/site-packages (from torch>=1.13.0->pytorch-lightning) (10.3.2.106)\n",
      "Requirement already satisfied: nvidia-cusolver-cu12==11.4.5.107 in /opt/conda/lib/python3.11/site-packages (from torch>=1.13.0->pytorch-lightning) (11.4.5.107)\n",
      "Requirement already satisfied: nvidia-cusparse-cu12==12.1.0.106 in /opt/conda/lib/python3.11/site-packages (from torch>=1.13.0->pytorch-lightning) (12.1.0.106)\n",
      "Requirement already satisfied: nvidia-nccl-cu12==2.18.1 in /opt/conda/lib/python3.11/site-packages (from torch>=1.13.0->pytorch-lightning) (2.18.1)\n",
      "Requirement already satisfied: nvidia-nvtx-cu12==12.1.105 in /opt/conda/lib/python3.11/site-packages (from torch>=1.13.0->pytorch-lightning) (12.1.105)\n",
      "Requirement already satisfied: triton==2.1.0 in /opt/conda/lib/python3.11/site-packages (from torch>=1.13.0->pytorch-lightning) (2.1.0)\n",
      "Requirement already satisfied: nvidia-nvjitlink-cu12 in /opt/conda/lib/python3.11/site-packages (from nvidia-cusolver-cu12==11.4.5.107->torch>=1.13.0->pytorch-lightning) (12.3.101)\n",
      "Requirement already satisfied: attrs>=17.3.0 in /opt/conda/lib/python3.11/site-packages (from aiohttp!=4.0.0a0,!=4.0.0a1->fsspec[http]>=2022.5.0->pytorch-lightning) (23.1.0)\n",
      "Requirement already satisfied: multidict<7.0,>=4.5 in /opt/conda/lib/python3.11/site-packages (from aiohttp!=4.0.0a0,!=4.0.0a1->fsspec[http]>=2022.5.0->pytorch-lightning) (6.0.4)\n",
      "Requirement already satisfied: yarl<2.0,>=1.0 in /opt/conda/lib/python3.11/site-packages (from aiohttp!=4.0.0a0,!=4.0.0a1->fsspec[http]>=2022.5.0->pytorch-lightning) (1.9.4)\n",
      "Requirement already satisfied: frozenlist>=1.1.1 in /opt/conda/lib/python3.11/site-packages (from aiohttp!=4.0.0a0,!=4.0.0a1->fsspec[http]>=2022.5.0->pytorch-lightning) (1.4.1)\n",
      "Requirement already satisfied: aiosignal>=1.1.2 in /opt/conda/lib/python3.11/site-packages (from aiohttp!=4.0.0a0,!=4.0.0a1->fsspec[http]>=2022.5.0->pytorch-lightning) (1.3.1)\n",
      "Requirement already satisfied: six>=1.5 in /opt/conda/lib/python3.11/site-packages (from python-dateutil>=2.7->matplotlib>=2.1.0->pycocotools) (1.16.0)\n",
      "Requirement already satisfied: MarkupSafe>=2.0 in /opt/conda/lib/python3.11/site-packages (from jinja2->torch>=1.13.0->pytorch-lightning) (2.1.3)\n",
      "Requirement already satisfied: charset-normalizer<4,>=2 in /opt/conda/lib/python3.11/site-packages (from requests->fsspec[http]>=2022.5.0->pytorch-lightning) (3.1.0)\n",
      "Requirement already satisfied: idna<4,>=2.5 in /opt/conda/lib/python3.11/site-packages (from requests->fsspec[http]>=2022.5.0->pytorch-lightning) (3.4)\n",
      "Requirement already satisfied: urllib3<3,>=1.21.1 in /opt/conda/lib/python3.11/site-packages (from requests->fsspec[http]>=2022.5.0->pytorch-lightning) (1.26.16)\n",
      "Requirement already satisfied: certifi>=2017.4.17 in /opt/conda/lib/python3.11/site-packages (from requests->fsspec[http]>=2022.5.0->pytorch-lightning) (2023.5.7)\n",
      "Requirement already satisfied: mpmath>=0.19 in /opt/conda/lib/python3.11/site-packages (from sympy->torch>=1.13.0->pytorch-lightning) (1.3.0)\n",
      "Installing collected packages: lightning-utilities, pycocotools, torchmetrics, pytorch-lightning\n",
      "Successfully installed lightning-utilities-0.11.2 pycocotools-2.0.7 pytorch-lightning-2.2.5 torchmetrics-1.4.0.post0\n",
      "\u001b[33mWARNING: Running pip as the 'root' user can result in broken permissions and conflicting behaviour with the system package manager. It is recommended to use a virtual environment instead: https://pip.pypa.io/warnings/venv\u001b[0m\u001b[33m\n",
      "\u001b[0m\u001b[33mWARNING: The directory '/home/jovyan/.cache/pip' or its parent directory is not owned or is not writable by the current user. The cache has been disabled. Check the permissions and owner of that directory. If executing pip with sudo, you should use sudo's -H flag.\u001b[0m\u001b[33m\n",
      "\u001b[0mRequirement already satisfied: torchmetrics in /opt/conda/lib/python3.11/site-packages (1.4.0.post0)\n",
      "Requirement already satisfied: numpy>1.20.0 in /opt/conda/lib/python3.11/site-packages (from torchmetrics) (1.23.5)\n",
      "Requirement already satisfied: packaging>17.1 in /opt/conda/lib/python3.11/site-packages (from torchmetrics) (23.1)\n",
      "Requirement already satisfied: torch>=1.10.0 in /opt/conda/lib/python3.11/site-packages (from torchmetrics) (2.1.2)\n",
      "Requirement already satisfied: lightning-utilities>=0.8.0 in /opt/conda/lib/python3.11/site-packages (from torchmetrics) (0.11.2)\n",
      "Requirement already satisfied: setuptools in /opt/conda/lib/python3.11/site-packages (from lightning-utilities>=0.8.0->torchmetrics) (68.0.0)\n",
      "Requirement already satisfied: typing-extensions in /opt/conda/lib/python3.11/site-packages (from lightning-utilities>=0.8.0->torchmetrics) (4.7.1)\n",
      "Requirement already satisfied: filelock in /opt/conda/lib/python3.11/site-packages (from torch>=1.10.0->torchmetrics) (3.13.1)\n",
      "Requirement already satisfied: sympy in /opt/conda/lib/python3.11/site-packages (from torch>=1.10.0->torchmetrics) (1.12)\n",
      "Requirement already satisfied: networkx in /opt/conda/lib/python3.11/site-packages (from torch>=1.10.0->torchmetrics) (3.1)\n",
      "Requirement already satisfied: jinja2 in /opt/conda/lib/python3.11/site-packages (from torch>=1.10.0->torchmetrics) (3.1.2)\n",
      "Requirement already satisfied: fsspec in /opt/conda/lib/python3.11/site-packages (from torch>=1.10.0->torchmetrics) (2023.6.0)\n",
      "Requirement already satisfied: nvidia-cuda-nvrtc-cu12==12.1.105 in /opt/conda/lib/python3.11/site-packages (from torch>=1.10.0->torchmetrics) (12.1.105)\n",
      "Requirement already satisfied: nvidia-cuda-runtime-cu12==12.1.105 in /opt/conda/lib/python3.11/site-packages (from torch>=1.10.0->torchmetrics) (12.1.105)\n",
      "Requirement already satisfied: nvidia-cuda-cupti-cu12==12.1.105 in /opt/conda/lib/python3.11/site-packages (from torch>=1.10.0->torchmetrics) (12.1.105)\n",
      "Requirement already satisfied: nvidia-cudnn-cu12==8.9.2.26 in /opt/conda/lib/python3.11/site-packages (from torch>=1.10.0->torchmetrics) (8.9.2.26)\n",
      "Requirement already satisfied: nvidia-cublas-cu12==12.1.3.1 in /opt/conda/lib/python3.11/site-packages (from torch>=1.10.0->torchmetrics) (12.1.3.1)\n",
      "Requirement already satisfied: nvidia-cufft-cu12==11.0.2.54 in /opt/conda/lib/python3.11/site-packages (from torch>=1.10.0->torchmetrics) (11.0.2.54)\n",
      "Requirement already satisfied: nvidia-curand-cu12==10.3.2.106 in /opt/conda/lib/python3.11/site-packages (from torch>=1.10.0->torchmetrics) (10.3.2.106)\n",
      "Requirement already satisfied: nvidia-cusolver-cu12==11.4.5.107 in /opt/conda/lib/python3.11/site-packages (from torch>=1.10.0->torchmetrics) (11.4.5.107)\n",
      "Requirement already satisfied: nvidia-cusparse-cu12==12.1.0.106 in /opt/conda/lib/python3.11/site-packages (from torch>=1.10.0->torchmetrics) (12.1.0.106)\n",
      "Requirement already satisfied: nvidia-nccl-cu12==2.18.1 in /opt/conda/lib/python3.11/site-packages (from torch>=1.10.0->torchmetrics) (2.18.1)\n",
      "Requirement already satisfied: nvidia-nvtx-cu12==12.1.105 in /opt/conda/lib/python3.11/site-packages (from torch>=1.10.0->torchmetrics) (12.1.105)\n",
      "Requirement already satisfied: triton==2.1.0 in /opt/conda/lib/python3.11/site-packages (from torch>=1.10.0->torchmetrics) (2.1.0)\n",
      "Requirement already satisfied: nvidia-nvjitlink-cu12 in /opt/conda/lib/python3.11/site-packages (from nvidia-cusolver-cu12==11.4.5.107->torch>=1.10.0->torchmetrics) (12.3.101)\n",
      "Requirement already satisfied: MarkupSafe>=2.0 in /opt/conda/lib/python3.11/site-packages (from jinja2->torch>=1.10.0->torchmetrics) (2.1.3)\n",
      "Requirement already satisfied: mpmath>=0.19 in /opt/conda/lib/python3.11/site-packages (from sympy->torch>=1.10.0->torchmetrics) (1.3.0)\n",
      "\u001b[33mWARNING: Running pip as the 'root' user can result in broken permissions and conflicting behaviour with the system package manager. It is recommended to use a virtual environment instead: https://pip.pypa.io/warnings/venv\u001b[0m\u001b[33m\n",
      "\u001b[0m\u001b[33mWARNING: The directory '/home/jovyan/.cache/pip' or its parent directory is not owned or is not writable by the current user. The cache has been disabled. Check the permissions and owner of that directory. If executing pip with sudo, you should use sudo's -H flag.\u001b[0m\u001b[33m\n",
      "\u001b[0mCollecting torchvision\n",
      "  Downloading torchvision-0.18.0-cp311-cp311-manylinux1_x86_64.whl (7.0 MB)\n",
      "\u001b[2K     \u001b[90m━━━━━━━━━━━━━━━━━━━━━━━━━━━━━━━━━━━━━━━━\u001b[0m \u001b[32m7.0/7.0 MB\u001b[0m \u001b[31m13.1 MB/s\u001b[0m eta \u001b[36m0:00:00\u001b[0ma \u001b[36m0:00:01\u001b[0m\n",
      "\u001b[?25hRequirement already satisfied: numpy in /opt/conda/lib/python3.11/site-packages (from torchvision) (1.23.5)\n",
      "Collecting torch==2.3.0 (from torchvision)\n",
      "  Downloading torch-2.3.0-cp311-cp311-manylinux1_x86_64.whl (779.2 MB)\n",
      "\u001b[2K     \u001b[90m━━━━━━━━━━━━━━━━━━━━━━━━━━━━━━━━━━━━━━\u001b[0m \u001b[32m779.2/779.2 MB\u001b[0m \u001b[31m16.1 MB/s\u001b[0m eta \u001b[36m0:00:00\u001b[0m00:01\u001b[0m00:02\u001b[0m\n",
      "\u001b[?25hRequirement already satisfied: pillow!=8.3.*,>=5.3.0 in /opt/conda/lib/python3.11/site-packages (from torchvision) (10.0.0)\n",
      "Requirement already satisfied: filelock in /opt/conda/lib/python3.11/site-packages (from torch==2.3.0->torchvision) (3.13.1)\n",
      "Collecting typing-extensions>=4.8.0 (from torch==2.3.0->torchvision)\n",
      "  Downloading typing_extensions-4.12.1-py3-none-any.whl (37 kB)\n",
      "Requirement already satisfied: sympy in /opt/conda/lib/python3.11/site-packages (from torch==2.3.0->torchvision) (1.12)\n",
      "Requirement already satisfied: networkx in /opt/conda/lib/python3.11/site-packages (from torch==2.3.0->torchvision) (3.1)\n",
      "Requirement already satisfied: jinja2 in /opt/conda/lib/python3.11/site-packages (from torch==2.3.0->torchvision) (3.1.2)\n",
      "Requirement already satisfied: fsspec in /opt/conda/lib/python3.11/site-packages (from torch==2.3.0->torchvision) (2023.6.0)\n",
      "Requirement already satisfied: nvidia-cuda-nvrtc-cu12==12.1.105 in /opt/conda/lib/python3.11/site-packages (from torch==2.3.0->torchvision) (12.1.105)\n",
      "Requirement already satisfied: nvidia-cuda-runtime-cu12==12.1.105 in /opt/conda/lib/python3.11/site-packages (from torch==2.3.0->torchvision) (12.1.105)\n",
      "Requirement already satisfied: nvidia-cuda-cupti-cu12==12.1.105 in /opt/conda/lib/python3.11/site-packages (from torch==2.3.0->torchvision) (12.1.105)\n",
      "Requirement already satisfied: nvidia-cudnn-cu12==8.9.2.26 in /opt/conda/lib/python3.11/site-packages (from torch==2.3.0->torchvision) (8.9.2.26)\n",
      "Requirement already satisfied: nvidia-cublas-cu12==12.1.3.1 in /opt/conda/lib/python3.11/site-packages (from torch==2.3.0->torchvision) (12.1.3.1)\n",
      "Requirement already satisfied: nvidia-cufft-cu12==11.0.2.54 in /opt/conda/lib/python3.11/site-packages (from torch==2.3.0->torchvision) (11.0.2.54)\n",
      "Requirement already satisfied: nvidia-curand-cu12==10.3.2.106 in /opt/conda/lib/python3.11/site-packages (from torch==2.3.0->torchvision) (10.3.2.106)\n",
      "Requirement already satisfied: nvidia-cusolver-cu12==11.4.5.107 in /opt/conda/lib/python3.11/site-packages (from torch==2.3.0->torchvision) (11.4.5.107)\n",
      "Requirement already satisfied: nvidia-cusparse-cu12==12.1.0.106 in /opt/conda/lib/python3.11/site-packages (from torch==2.3.0->torchvision) (12.1.0.106)\n",
      "Collecting nvidia-nccl-cu12==2.20.5 (from torch==2.3.0->torchvision)\n",
      "  Downloading nvidia_nccl_cu12-2.20.5-py3-none-manylinux2014_x86_64.whl (176.2 MB)\n",
      "\u001b[2K     \u001b[90m━━━━━━━━━━━━━━━━━━━━━━━━━━━━━━━━━━━━━━\u001b[0m \u001b[32m176.2/176.2 MB\u001b[0m \u001b[31m14.7 MB/s\u001b[0m eta \u001b[36m0:00:00\u001b[0m00:01\u001b[0m00:01\u001b[0m\n",
      "\u001b[?25hRequirement already satisfied: nvidia-nvtx-cu12==12.1.105 in /opt/conda/lib/python3.11/site-packages (from torch==2.3.0->torchvision) (12.1.105)\n",
      "Collecting triton==2.3.0 (from torch==2.3.0->torchvision)\n",
      "  Downloading triton-2.3.0-cp311-cp311-manylinux_2_17_x86_64.manylinux2014_x86_64.whl (168.1 MB)\n",
      "\u001b[2K     \u001b[90m━━━━━━━━━━━━━━━━━━━━━━━━━━━━━━━━━━━━━━\u001b[0m \u001b[32m168.1/168.1 MB\u001b[0m \u001b[31m18.3 MB/s\u001b[0m eta \u001b[36m0:00:00\u001b[0m00:01\u001b[0m00:01\u001b[0m\n",
      "\u001b[?25hRequirement already satisfied: nvidia-nvjitlink-cu12 in /opt/conda/lib/python3.11/site-packages (from nvidia-cusolver-cu12==11.4.5.107->torch==2.3.0->torchvision) (12.3.101)\n",
      "Requirement already satisfied: MarkupSafe>=2.0 in /opt/conda/lib/python3.11/site-packages (from jinja2->torch==2.3.0->torchvision) (2.1.3)\n",
      "Requirement already satisfied: mpmath>=0.19 in /opt/conda/lib/python3.11/site-packages (from sympy->torch==2.3.0->torchvision) (1.3.0)\n",
      "Installing collected packages: typing-extensions, triton, nvidia-nccl-cu12, torch, torchvision\n",
      "  Attempting uninstall: typing-extensions\n",
      "    Found existing installation: typing_extensions 4.7.1\n",
      "    Uninstalling typing_extensions-4.7.1:\n",
      "      Successfully uninstalled typing_extensions-4.7.1\n",
      "  Attempting uninstall: triton\n",
      "    Found existing installation: triton 2.1.0\n",
      "    Uninstalling triton-2.1.0:\n",
      "      Successfully uninstalled triton-2.1.0\n",
      "  Attempting uninstall: nvidia-nccl-cu12\n",
      "    Found existing installation: nvidia-nccl-cu12 2.18.1\n",
      "    Uninstalling nvidia-nccl-cu12-2.18.1:\n",
      "      Successfully uninstalled nvidia-nccl-cu12-2.18.1\n",
      "  Attempting uninstall: torch\n",
      "    Found existing installation: torch 2.1.2\n",
      "    Uninstalling torch-2.1.2:\n",
      "      Successfully uninstalled torch-2.1.2\n",
      "Successfully installed nvidia-nccl-cu12-2.20.5 torch-2.3.0 torchvision-0.18.0 triton-2.3.0 typing-extensions-4.12.1\n",
      "\u001b[33mWARNING: Running pip as the 'root' user can result in broken permissions and conflicting behaviour with the system package manager. It is recommended to use a virtual environment instead: https://pip.pypa.io/warnings/venv\u001b[0m\u001b[33m\n",
      "\u001b[0m\u001b[33mWARNING: The directory '/home/jovyan/.cache/pip' or its parent directory is not owned or is not writable by the current user. The cache has been disabled. Check the permissions and owner of that directory. If executing pip with sudo, you should use sudo's -H flag.\u001b[0m\u001b[33m\n",
      "\u001b[0mCollecting albumentations\n",
      "  Downloading albumentations-1.4.8-py3-none-any.whl (156 kB)\n",
      "\u001b[2K     \u001b[90m━━━━━━━━━━━━━━━━━━━━━━━━━━━━━━━━━━━━━━\u001b[0m \u001b[32m156.8/156.8 kB\u001b[0m \u001b[31m14.1 MB/s\u001b[0m eta \u001b[36m0:00:00\u001b[0m\n",
      "\u001b[?25hCollecting numpy>=1.24.4 (from albumentations)\n",
      "  Downloading numpy-1.26.4-cp311-cp311-manylinux_2_17_x86_64.manylinux2014_x86_64.whl (18.3 MB)\n",
      "\u001b[2K     \u001b[90m━━━━━━━━━━━━━━━━━━━━━━━━━━━━━━━━━━━━━━━━\u001b[0m \u001b[32m18.3/18.3 MB\u001b[0m \u001b[31m17.2 MB/s\u001b[0m eta \u001b[36m0:00:00\u001b[0m00:01\u001b[0m00:01\u001b[0m\n",
      "\u001b[?25hRequirement already satisfied: scipy>=1.10.0 in /opt/conda/lib/python3.11/site-packages (from albumentations) (1.11.1)\n",
      "Collecting scikit-image>=0.21.0 (from albumentations)\n",
      "  Downloading scikit_image-0.23.2-cp311-cp311-manylinux_2_17_x86_64.manylinux2014_x86_64.whl (14.7 MB)\n",
      "\u001b[2K     \u001b[90m━━━━━━━━━━━━━━━━━━━━━━━━━━━━━━━━━━━━━━━━\u001b[0m \u001b[32m14.7/14.7 MB\u001b[0m \u001b[31m16.1 MB/s\u001b[0m eta \u001b[36m0:00:00\u001b[0m00:01\u001b[0m00:01\u001b[0m\n",
      "\u001b[?25hRequirement already satisfied: PyYAML in /opt/conda/lib/python3.11/site-packages (from albumentations) (6.0)\n",
      "Requirement already satisfied: typing-extensions>=4.9.0 in /opt/conda/lib/python3.11/site-packages (from albumentations) (4.12.1)\n",
      "Collecting scikit-learn>=1.3.2 (from albumentations)\n",
      "  Downloading scikit_learn-1.5.0-cp311-cp311-manylinux_2_17_x86_64.manylinux2014_x86_64.whl (13.3 MB)\n",
      "\u001b[2K     \u001b[90m━━━━━━━━━━━━━━━━━━━━━━━━━━━━━━━━━━━━━━━━\u001b[0m \u001b[32m13.3/13.3 MB\u001b[0m \u001b[31m14.6 MB/s\u001b[0m eta \u001b[36m0:00:00\u001b[0m00:01\u001b[0m00:01\u001b[0m\n",
      "\u001b[?25hCollecting pydantic>=2.7.0 (from albumentations)\n",
      "  Downloading pydantic-2.7.3-py3-none-any.whl (409 kB)\n",
      "\u001b[2K     \u001b[90m━━━━━━━━━━━━━━━━━━━━━━━━━━━━━━━━━━━━━━\u001b[0m \u001b[32m409.6/409.6 kB\u001b[0m \u001b[31m22.8 MB/s\u001b[0m eta \u001b[36m0:00:00\u001b[0m\n",
      "\u001b[?25hCollecting albucore>=0.0.4 (from albumentations)\n",
      "  Downloading albucore-0.0.8-py3-none-any.whl (7.2 kB)\n",
      "Collecting opencv-python-headless>=4.9.0.80 (from albumentations)\n",
      "  Downloading opencv_python_headless-4.10.0.82-cp37-abi3-manylinux_2_17_x86_64.manylinux2014_x86_64.whl (49.9 MB)\n",
      "\u001b[2K     \u001b[90m━━━━━━━━━━━━━━━━━━━━━━━━━━━━━━━━━━━━━━━━\u001b[0m \u001b[32m49.9/49.9 MB\u001b[0m \u001b[31m14.8 MB/s\u001b[0m eta \u001b[36m0:00:00\u001b[0m00:01\u001b[0m00:01\u001b[0m\n",
      "\u001b[?25hRequirement already satisfied: tomli>=2.0.1 in /opt/conda/lib/python3.11/site-packages (from albucore>=0.0.4->albumentations) (2.0.1)\n",
      "Collecting annotated-types>=0.4.0 (from pydantic>=2.7.0->albumentations)\n",
      "  Downloading annotated_types-0.7.0-py3-none-any.whl (13 kB)\n",
      "Collecting pydantic-core==2.18.4 (from pydantic>=2.7.0->albumentations)\n",
      "  Downloading pydantic_core-2.18.4-cp311-cp311-manylinux_2_17_x86_64.manylinux2014_x86_64.whl (2.0 MB)\n",
      "\u001b[2K     \u001b[90m━━━━━━━━━━━━━━━━━━━━━━━━━━━━━━━━━━━━━━━━\u001b[0m \u001b[32m2.0/2.0 MB\u001b[0m \u001b[31m17.5 MB/s\u001b[0m eta \u001b[36m0:00:00\u001b[0ma \u001b[36m0:00:01\u001b[0m\n",
      "\u001b[?25hRequirement already satisfied: networkx>=2.8 in /opt/conda/lib/python3.11/site-packages (from scikit-image>=0.21.0->albumentations) (3.1)\n",
      "Requirement already satisfied: pillow>=9.1 in /opt/conda/lib/python3.11/site-packages (from scikit-image>=0.21.0->albumentations) (10.0.0)\n",
      "Collecting imageio>=2.33 (from scikit-image>=0.21.0->albumentations)\n",
      "  Downloading imageio-2.34.1-py3-none-any.whl (313 kB)\n",
      "\u001b[2K     \u001b[90m━━━━━━━━━━━━━━━━━━━━━━━━━━━━━━━━━━━━━━\u001b[0m \u001b[32m313.5/313.5 kB\u001b[0m \u001b[31m25.2 MB/s\u001b[0m eta \u001b[36m0:00:00\u001b[0m\n",
      "\u001b[?25hRequirement already satisfied: tifffile>=2022.8.12 in /opt/conda/lib/python3.11/site-packages (from scikit-image>=0.21.0->albumentations) (2023.4.12)\n",
      "Requirement already satisfied: packaging>=21 in /opt/conda/lib/python3.11/site-packages (from scikit-image>=0.21.0->albumentations) (23.1)\n",
      "Collecting lazy-loader>=0.4 (from scikit-image>=0.21.0->albumentations)\n",
      "  Downloading lazy_loader-0.4-py3-none-any.whl (12 kB)\n",
      "Requirement already satisfied: joblib>=1.2.0 in /opt/conda/lib/python3.11/site-packages (from scikit-learn>=1.3.2->albumentations) (1.3.0)\n",
      "Requirement already satisfied: threadpoolctl>=3.1.0 in /opt/conda/lib/python3.11/site-packages (from scikit-learn>=1.3.2->albumentations) (3.1.0)\n",
      "Installing collected packages: pydantic-core, numpy, lazy-loader, annotated-types, pydantic, opencv-python-headless, imageio, scikit-learn, scikit-image, albucore, albumentations\n",
      "  Attempting uninstall: numpy\n",
      "    Found existing installation: numpy 1.23.5\n",
      "    Uninstalling numpy-1.23.5:\n",
      "      Successfully uninstalled numpy-1.23.5\n",
      "  Attempting uninstall: lazy-loader\n",
      "    Found existing installation: lazy_loader 0.2\n",
      "    Uninstalling lazy_loader-0.2:\n",
      "      Successfully uninstalled lazy_loader-0.2\n",
      "  Attempting uninstall: imageio\n",
      "    Found existing installation: imageio 2.31.1\n",
      "    Uninstalling imageio-2.31.1:\n",
      "      Successfully uninstalled imageio-2.31.1\n",
      "  Attempting uninstall: scikit-learn\n",
      "    Found existing installation: scikit-learn 1.3.0\n",
      "    Uninstalling scikit-learn-1.3.0:\n",
      "      Successfully uninstalled scikit-learn-1.3.0\n",
      "  Attempting uninstall: scikit-image\n",
      "    Found existing installation: scikit-image 0.20.0\n",
      "    Uninstalling scikit-image-0.20.0:\n",
      "      Successfully uninstalled scikit-image-0.20.0\n",
      "\u001b[31mERROR: pip's dependency resolver does not currently take into account all the packages that are installed. This behaviour is the source of the following dependency conflicts.\n",
      "tensorflow 2.12.0 requires numpy<1.24,>=1.22, but you have numpy 1.26.4 which is incompatible.\n",
      "numba 0.57.1 requires numpy<1.25,>=1.21, but you have numpy 1.26.4 which is incompatible.\u001b[0m\u001b[31m\n",
      "\u001b[0mSuccessfully installed albucore-0.0.8 albumentations-1.4.8 annotated-types-0.7.0 imageio-2.34.1 lazy-loader-0.4 numpy-1.26.4 opencv-python-headless-4.10.0.82 pydantic-2.7.3 pydantic-core-2.18.4 scikit-image-0.23.2 scikit-learn-1.5.0\n",
      "\u001b[33mWARNING: Running pip as the 'root' user can result in broken permissions and conflicting behaviour with the system package manager. It is recommended to use a virtual environment instead: https://pip.pypa.io/warnings/venv\u001b[0m\u001b[33m\n",
      "\u001b[0m\u001b[33mWARNING: The directory '/home/jovyan/.cache/pip' or its parent directory is not owned or is not writable by the current user. The cache has been disabled. Check the permissions and owner of that directory. If executing pip with sudo, you should use sudo's -H flag.\u001b[0m\u001b[33m\n",
      "\u001b[0mCollecting opencv-python\n",
      "  Downloading opencv_python-4.10.0.82-cp37-abi3-manylinux_2_17_x86_64.manylinux2014_x86_64.whl (62.5 MB)\n",
      "\u001b[2K     \u001b[90m━━━━━━━━━━━━━━━━━━━━━━━━━━━━━━━━━━━━━━━━\u001b[0m \u001b[32m62.5/62.5 MB\u001b[0m \u001b[31m15.1 MB/s\u001b[0m eta \u001b[36m0:00:00\u001b[0m00:01\u001b[0m00:01\u001b[0m\n",
      "\u001b[?25hRequirement already satisfied: numpy>=1.21.2 in /opt/conda/lib/python3.11/site-packages (from opencv-python) (1.26.4)\n",
      "Installing collected packages: opencv-python\n",
      "Successfully installed opencv-python-4.10.0.82\n",
      "\u001b[33mWARNING: Running pip as the 'root' user can result in broken permissions and conflicting behaviour with the system package manager. It is recommended to use a virtual environment instead: https://pip.pypa.io/warnings/venv\u001b[0m\u001b[33m\n",
      "\u001b[0m"
     ]
    }
   ],
   "source": [
    "!pip install torchsummary\n",
    "!pip install torchmetrics\n",
    "!pip install torchvision\n",
    "!pip install opencv-python"
   ]
  },
  {
   "cell_type": "code",
   "execution_count": null,
   "id": "f2af0a90-7ea5-40f4-8e0b-dbdad7486948",
   "metadata": {},
   "outputs": [],
   "source": [
    "!python eval_noise.py"
   ]
  },
  {
   "cell_type": "markdown",
   "id": "fcf1687a-97c1-44a3-9e02-1a2d83bfc5af",
   "metadata": {},
   "source": [
    "# **Testing Noise**"
   ]
  },
  {
   "cell_type": "markdown",
   "id": "d9e60e97-2d9f-4879-9051-350228034849",
   "metadata": {},
   "source": [
    "Uno de los objetivos de este proyecto es la posterior implementación de estos modelos en una FPGA,  con el fin de que sea capaz de resolver problemas de detección desde un satélite.\n",
    "\n",
    "Se sabe que los modelos en una FPGA están expuestos a ruido, este ruido puede afectar en cualquier parte del modelo, se han considerado los siguientes casos:\n",
    "* **Caso 1**: Analizamos el ruido que afecta a la entrada del modelo, como consecuencia del ruido que se recibe en la captura de de la señal de entrada, debido a las inferencias electrónicas.\n",
    "* **Caso 2**: se pretende simular el ruido que puede ocurrir dentro del modelo, es decir, entre las conexiones de capas.\n",
    "* **Caso 3**: se simula el ruido que puede afectar a los pesos del modelo debido a las fluctuaciones que pueden surgir en el almacenamiento de estos.\n",
    "\n",
    "Para el caso 2 y 3 de análisis de ruido se ha considerado el caso, de que en caso de que exista ruido este se produce con la inyección de un 1 o un 0, en algún punto aleatorio de los pesos o activaciones.\n",
    "\n",
    "En este ***Notebook*** se pretende analizar diferentes casos, de como afecta los diferentes ruidos de manera aislada y como se ve afectado el modelo en caso de que se produzca el ruido de manera simultanea en los dos o tres casos. Los resutlados obtenidos son guardados en la carpeta correspondiente del modelo que está siendo ejecutado, en la subcarpeta de ***results_noise***, en el que son analizadas las métricas de loss y mAP50.\n",
    "\n",
    "Como en los ***Notebooks*** anteriores, la ejecución de estos códigos hay que tener en cuenta que dependen directamente del fichero de configuración ***config.py***, para la selección del modelo. En este cuaderno a diferencia de los otros no ejecutamos el código con un !python eval_noise.py, si no que hacemos un import, por comodidad de este código y poder evaluar los diferentes casos. Siendo así el código, si quieres probar diferentes modelos con el fichero ***config.py*** hay que reiniciar el kernel despues de modificar el fichero.\n",
    "\n",
    "Si se quiere realizar las pruebas de **noise.py** sobre los modelos optimizados se tiene que especificar la ruta del modelo optimizado aunque tiene que tener coherencia con **config.py**"
   ]
  },
  {
   "cell_type": "code",
   "execution_count": 1,
   "id": "157bd168-7d25-497e-aff7-6929ed671bce",
   "metadata": {
    "scrolled": true
   },
   "outputs": [
    {
     "name": "stderr",
     "output_type": "stream",
     "text": [
      "/opt/conda/lib/python3.11/site-packages/transformers/utils/generic.py:441: UserWarning: torch.utils._pytree._register_pytree_node is deprecated. Please use torch.utils._pytree.register_pytree_node instead.\n",
      "  _torch_pytree._register_pytree_node(\n"
     ]
    }
   ],
   "source": [
    "from eval_noise import test_noise"
   ]
  },
  {
   "cell_type": "markdown",
   "id": "44b614bc-4304-4086-8e39-0550473aadfc",
   "metadata": {},
   "source": [
    "Para cada uno de los casos hay que introducir diferentes niveles de ruido, desde niveles bajos hasta ir subiendolos progresivamente. Hay que tener en cuenta que en cada caso, el modelo se ve influenciado de una manera u otra, entonces estos niveles de ruido tienen diferente nivel en cada uno de ellos."
   ]
  },
  {
   "cell_type": "markdown",
   "id": "2d1dbed4-dfcd-42dd-acc5-bca458dfc1d4",
   "metadata": {},
   "source": [
    "## **Test case1**"
   ]
  },
  {
   "cell_type": "code",
   "execution_count": 2,
   "id": "2b1d1d3d-5f2d-4503-ba84-edd6d0b4023b",
   "metadata": {},
   "outputs": [
    {
     "name": "stdout",
     "output_type": "stream",
     "text": [
      "Test with case1: True, case2: False\n",
      "=> Loading checkpoint\n",
      "=> Loading checkpoint\n",
      "Model loaded: tinyissimoYOLO/Adam_None_Airbus_256_BATCH_32_LR_0.0005/model/37_YOLO_best.pth.tar\n",
      "Noise level 1: Slice: [0, 3], Percentage: 0\n"
     ]
    },
    {
     "ename": "RuntimeError",
     "evalue": "OrderedDict mutated during iteration",
     "output_type": "error",
     "traceback": [
      "\u001b[0;31m---------------------------------------------------------------------------\u001b[0m",
      "\u001b[0;31mRuntimeError\u001b[0m                              Traceback (most recent call last)",
      "Cell \u001b[0;32mIn[2], line 6\u001b[0m\n\u001b[1;32m      3\u001b[0m percentage_layers_case_1  \u001b[38;5;241m=\u001b[39m [\u001b[38;5;241m0\u001b[39m, \u001b[38;5;241m0.05\u001b[39m, \u001b[38;5;241m0.1\u001b[39m, \u001b[38;5;241m0.12\u001b[39m, \u001b[38;5;241m0.15\u001b[39m, \u001b[38;5;241m0.2\u001b[39m, \u001b[38;5;241m0.25\u001b[39m, \u001b[38;5;241m0.3\u001b[39m] \u001b[38;5;28;01mif\u001b[39;00m case1 \u001b[38;5;28;01melse\u001b[39;00m [\u001b[38;5;241m0\u001b[39m]\n\u001b[1;32m      4\u001b[0m slices_case1 \u001b[38;5;241m=\u001b[39m [\u001b[38;5;241m3\u001b[39m,\u001b[38;5;241m3\u001b[39m]\n\u001b[0;32m----> 6\u001b[0m \u001b[43mtest_noise\u001b[49m\u001b[43m(\u001b[49m\u001b[43m \u001b[49m\u001b[43mcase1\u001b[49m\u001b[38;5;241;43m=\u001b[39;49m\u001b[43mcase1\u001b[49m\u001b[43m,\u001b[49m\u001b[43m \u001b[49m\u001b[43mpercentage_layers_case_1\u001b[49m\u001b[38;5;241;43m=\u001b[39;49m\u001b[43mpercentage_layers_case_1\u001b[49m\u001b[43m,\u001b[49m\u001b[43m \u001b[49m\u001b[43mslices_case1\u001b[49m\u001b[43m \u001b[49m\u001b[38;5;241;43m=\u001b[39;49m\u001b[43m \u001b[49m\u001b[43mslices_case1\u001b[49m\u001b[43m,\u001b[49m\n\u001b[1;32m      7\u001b[0m \u001b[43m            \u001b[49m\u001b[43mcase2\u001b[49m\u001b[38;5;241;43m=\u001b[39;49m\u001b[43mcase2\u001b[49m\u001b[43m,\u001b[49m\u001b[43m \u001b[49m\u001b[43mpercentage_layers_case_2\u001b[49m\u001b[38;5;241;43m=\u001b[39;49m\u001b[43m[\u001b[49m\u001b[38;5;241;43m0\u001b[39;49m\u001b[43m]\u001b[49m\u001b[43m,\u001b[49m\u001b[43m \u001b[49m\u001b[43mslices_case2\u001b[49m\u001b[43m \u001b[49m\u001b[38;5;241;43m=\u001b[39;49m\u001b[43m \u001b[49m\u001b[43m[\u001b[49m\u001b[38;5;241;43m0\u001b[39;49m\u001b[43m,\u001b[49m\u001b[38;5;241;43m0\u001b[39;49m\u001b[43m]\u001b[49m\u001b[43m)\u001b[49m\n",
      "File \u001b[0;32m~/Carlos_Gonzalez/YOLO/eval_noise.py:259\u001b[0m, in \u001b[0;36mtest_noise\u001b[0;34m(case1, percentage_layers_case_1, slices_case1, case2, percentage_layers_case_2, slices_case2, folder_model, model_name)\u001b[0m\n\u001b[1;32m    257\u001b[0m total_modules \u001b[38;5;241m=\u001b[39m \u001b[38;5;28msum\u001b[39m(\u001b[38;5;241m1\u001b[39m \u001b[38;5;28;01mfor\u001b[39;00m _ \u001b[38;5;129;01min\u001b[39;00m model\u001b[38;5;241m.\u001b[39mnamed_modules())\n\u001b[1;32m    258\u001b[0m limit_n \u001b[38;5;241m=\u001b[39m total_modules\u001b[38;5;241m/\u001b[39m\u001b[38;5;241m/\u001b[39mslices_case1[\u001b[38;5;241m1\u001b[39m]\n\u001b[0;32m--> 259\u001b[0m \u001b[38;5;28;01mfor\u001b[39;00m indx, (name, module) \u001b[38;5;129;01min\u001b[39;00m \u001b[38;5;28menumerate\u001b[39m(model\u001b[38;5;241m.\u001b[39mnamed_modules()):\n\u001b[1;32m    260\u001b[0m     \u001b[38;5;28;01mif\u001b[39;00m indx \u001b[38;5;241m>\u001b[39m\u001b[38;5;241m=\u001b[39m limit_n\u001b[38;5;241m*\u001b[39mslice_1 \u001b[38;5;129;01mand\u001b[39;00m indx \u001b[38;5;241m<\u001b[39m limit_n\u001b[38;5;241m*\u001b[39m(slice_1\u001b[38;5;241m+\u001b[39m\u001b[38;5;241m1\u001b[39m): \u001b[38;5;66;03m# and name == 'darknet':\u001b[39;00m\n\u001b[1;32m    261\u001b[0m         \u001b[38;5;28;01mif\u001b[39;00m \u001b[38;5;28misinstance\u001b[39m(module, nn\u001b[38;5;241m.\u001b[39mReLU) \u001b[38;5;129;01mor\u001b[39;00m \u001b[38;5;28misinstance\u001b[39m(module, nn\u001b[38;5;241m.\u001b[39mLeakyReLU):  \u001b[38;5;66;03m# Choose appropriate layers\u001b[39;00m\n",
      "File \u001b[0;32m/opt/conda/lib/python3.11/site-packages/torch/nn/modules/module.py:2405\u001b[0m, in \u001b[0;36mModule.named_modules\u001b[0;34m(self, memo, prefix, remove_duplicate)\u001b[0m\n\u001b[1;32m   2403\u001b[0m     memo\u001b[38;5;241m.\u001b[39madd(\u001b[38;5;28mself\u001b[39m)\n\u001b[1;32m   2404\u001b[0m \u001b[38;5;28;01myield\u001b[39;00m prefix, \u001b[38;5;28mself\u001b[39m\n\u001b[0;32m-> 2405\u001b[0m \u001b[38;5;28;01mfor\u001b[39;00m name, module \u001b[38;5;129;01min\u001b[39;00m \u001b[38;5;28mself\u001b[39m\u001b[38;5;241m.\u001b[39m_modules\u001b[38;5;241m.\u001b[39mitems():\n\u001b[1;32m   2406\u001b[0m     \u001b[38;5;28;01mif\u001b[39;00m module \u001b[38;5;129;01mis\u001b[39;00m \u001b[38;5;28;01mNone\u001b[39;00m:\n\u001b[1;32m   2407\u001b[0m         \u001b[38;5;28;01mcontinue\u001b[39;00m\n",
      "\u001b[0;31mRuntimeError\u001b[0m: OrderedDict mutated during iteration"
     ]
    }
   ],
   "source": [
    "case1=True\n",
    "case2=False\n",
    "percentage_layers_case_1  = [0, 0.05, 0.1, 0.12, 0.15, 0.2, 0.25, 0.3] if case1 else [0]\n",
    "slices_case1 = [3,3]\n",
    "\n",
    "test_noise( case1=case1, percentage_layers_case_1=percentage_layers_case_1, slices_case1 = slices_case1,\n",
    "            case2=case2, percentage_layers_case_2=[0], slices_case2 = [0,0])"
   ]
  },
  {
   "cell_type": "markdown",
   "id": "e09c5f42-e4b3-4c89-b847-2ac7cecc724a",
   "metadata": {},
   "source": [
    "## **Test case 3**"
   ]
  },
  {
   "cell_type": "code",
   "execution_count": 4,
   "id": "fab3477e-4558-494f-89c4-c699c43ef4ee",
   "metadata": {
    "scrolled": true
   },
   "outputs": [
    {
     "name": "stdout",
     "output_type": "stream",
     "text": [
      "Test with case1: False, case2: False, case3: True\n",
      "File case3_results_noise.txt exists. Deleting...\n",
      "=> Loading checkpoint\n",
      "Model loaded: efficientnet/Adam_None_Airbus_256_BATCH_32_LR_0.0005/model/93_YOLO_best.pth.tar\n",
      "Noise level 3: Slice: [0, 4], Percentage: 0\n",
      "Number of layers affected: 0\n"
     ]
    },
    {
     "name": "stderr",
     "output_type": "stream",
     "text": [
      "Eval: Valid: : 100%|██████████| 88/88 [00:07<00:00, 12.33it/s]\n"
     ]
    },
    {
     "name": "stdout",
     "output_type": "stream",
     "text": [
      "---------------------------------------------------\n",
      "-------------Loss Summary eval Valid--------------\n",
      "Total Loss  |Loss Coord  |Conf Loss   |No Obj Loss |Class Loss  |\n",
      "13.290      |5.927       |4.004       |3.293       |0.065       |\n",
      "---------------------------------------------------\n",
      "Valid: \t mAP@50: 0.836296, mAP@75: 0.495590, mAP@90: 0.015652, Mean Loss: 13.289885\n",
      "Noise level 3: Slice: [1, 4], Percentage: 0\n",
      "Number of layers affected: 0\n"
     ]
    },
    {
     "name": "stderr",
     "output_type": "stream",
     "text": [
      "Eval: Valid: : 100%|██████████| 88/88 [00:06<00:00, 13.15it/s]\n"
     ]
    },
    {
     "name": "stdout",
     "output_type": "stream",
     "text": [
      "---------------------------------------------------\n",
      "-------------Loss Summary eval Valid--------------\n",
      "Total Loss  |Loss Coord  |Conf Loss   |No Obj Loss |Class Loss  |\n",
      "13.290      |5.927       |4.004       |3.293       |0.065       |\n",
      "---------------------------------------------------\n",
      "Valid: \t mAP@50: 0.836296, mAP@75: 0.495590, mAP@90: 0.015652, Mean Loss: 13.289885\n",
      "Noise level 3: Slice: [2, 4], Percentage: 0\n",
      "Number of layers affected: 0\n"
     ]
    },
    {
     "name": "stderr",
     "output_type": "stream",
     "text": [
      "Eval: Valid: : 100%|██████████| 88/88 [00:07<00:00, 11.91it/s]\n"
     ]
    },
    {
     "name": "stdout",
     "output_type": "stream",
     "text": [
      "---------------------------------------------------\n",
      "-------------Loss Summary eval Valid--------------\n",
      "Total Loss  |Loss Coord  |Conf Loss   |No Obj Loss |Class Loss  |\n",
      "13.290      |5.927       |4.004       |3.293       |0.065       |\n",
      "---------------------------------------------------\n",
      "Valid: \t mAP@50: 0.836296, mAP@75: 0.495590, mAP@90: 0.015652, Mean Loss: 13.289885\n",
      "Noise level 3: Slice: [3, 4], Percentage: 0\n",
      "Number of layers affected: 0\n"
     ]
    },
    {
     "name": "stderr",
     "output_type": "stream",
     "text": [
      "Eval: Valid: : 100%|██████████| 88/88 [00:06<00:00, 12.68it/s]\n"
     ]
    },
    {
     "name": "stdout",
     "output_type": "stream",
     "text": [
      "---------------------------------------------------\n",
      "-------------Loss Summary eval Valid--------------\n",
      "Total Loss  |Loss Coord  |Conf Loss   |No Obj Loss |Class Loss  |\n",
      "13.290      |5.927       |4.004       |3.293       |0.065       |\n",
      "---------------------------------------------------\n",
      "Valid: \t mAP@50: 0.836296, mAP@75: 0.495590, mAP@90: 0.015652, Mean Loss: 13.289885\n",
      "Noise level 3: Slice: [0, 4], Percentage: 0.05\n",
      "Number of layers affected: 2\n"
     ]
    },
    {
     "name": "stderr",
     "output_type": "stream",
     "text": [
      "Eval: Valid: : 100%|██████████| 88/88 [00:06<00:00, 13.58it/s]\n"
     ]
    },
    {
     "name": "stdout",
     "output_type": "stream",
     "text": [
      "---------------------------------------------------\n",
      "-------------Loss Summary eval Valid--------------\n",
      "Total Loss  |Loss Coord  |Conf Loss   |No Obj Loss |Class Loss  |\n",
      "13.290      |5.927       |4.004       |3.293       |0.065       |\n",
      "---------------------------------------------------\n",
      "Valid: \t mAP@50: 0.836295, mAP@75: 0.495592, mAP@90: 0.015652, Mean Loss: 13.289891\n",
      "Noise level 3: Slice: [1, 4], Percentage: 0.05\n",
      "Number of layers affected: 3\n"
     ]
    },
    {
     "name": "stderr",
     "output_type": "stream",
     "text": [
      "Eval: Valid: : 100%|██████████| 88/88 [00:06<00:00, 13.87it/s]\n"
     ]
    },
    {
     "name": "stdout",
     "output_type": "stream",
     "text": [
      "---------------------------------------------------\n",
      "-------------Loss Summary eval Valid--------------\n",
      "Total Loss  |Loss Coord  |Conf Loss   |No Obj Loss |Class Loss  |\n",
      "13.290      |5.927       |4.004       |3.293       |0.065       |\n",
      "---------------------------------------------------\n",
      "Valid: \t mAP@50: 0.836289, mAP@75: 0.495566, mAP@90: 0.015649, Mean Loss: 13.289905\n",
      "Noise level 3: Slice: [2, 4], Percentage: 0.05\n",
      "Number of layers affected: 4\n"
     ]
    },
    {
     "name": "stderr",
     "output_type": "stream",
     "text": [
      "Eval: Valid: : 100%|██████████| 88/88 [00:06<00:00, 13.92it/s]\n"
     ]
    },
    {
     "name": "stdout",
     "output_type": "stream",
     "text": [
      "---------------------------------------------------\n",
      "-------------Loss Summary eval Valid--------------\n",
      "Total Loss  |Loss Coord  |Conf Loss   |No Obj Loss |Class Loss  |\n",
      "13.290      |5.927       |4.004       |3.293       |0.065       |\n",
      "---------------------------------------------------\n",
      "Valid: \t mAP@50: 0.836291, mAP@75: 0.495567, mAP@90: 0.015648, Mean Loss: 13.289916\n",
      "Noise level 3: Slice: [3, 4], Percentage: 0.05\n",
      "Number of layers affected: 3\n"
     ]
    },
    {
     "name": "stderr",
     "output_type": "stream",
     "text": [
      "Eval: Valid: : 100%|██████████| 88/88 [00:06<00:00, 13.85it/s]\n"
     ]
    },
    {
     "name": "stdout",
     "output_type": "stream",
     "text": [
      "---------------------------------------------------\n",
      "-------------Loss Summary eval Valid--------------\n",
      "Total Loss  |Loss Coord  |Conf Loss   |No Obj Loss |Class Loss  |\n",
      "13.290      |5.927       |4.004       |3.293       |0.065       |\n",
      "---------------------------------------------------\n",
      "Valid: \t mAP@50: 0.836291, mAP@75: 0.495567, mAP@90: 0.015648, Mean Loss: 13.289916\n",
      "Noise level 3: Slice: [0, 4], Percentage: 0.1\n",
      "Number of layers affected: 2\n"
     ]
    },
    {
     "name": "stderr",
     "output_type": "stream",
     "text": [
      "Eval: Valid: : 100%|██████████| 88/88 [00:06<00:00, 13.46it/s]\n"
     ]
    },
    {
     "name": "stdout",
     "output_type": "stream",
     "text": [
      "---------------------------------------------------\n",
      "-------------Loss Summary eval Valid--------------\n",
      "Total Loss  |Loss Coord  |Conf Loss   |No Obj Loss |Class Loss  |\n",
      "13.290      |5.927       |4.004       |3.293       |0.065       |\n",
      "---------------------------------------------------\n",
      "Valid: \t mAP@50: 0.836292, mAP@75: 0.495612, mAP@90: 0.015648, Mean Loss: 13.289838\n",
      "Noise level 3: Slice: [1, 4], Percentage: 0.1\n",
      "Number of layers affected: 4\n"
     ]
    },
    {
     "name": "stderr",
     "output_type": "stream",
     "text": [
      "Eval: Valid: : 100%|██████████| 88/88 [00:06<00:00, 13.61it/s]\n"
     ]
    },
    {
     "name": "stdout",
     "output_type": "stream",
     "text": [
      "---------------------------------------------------\n",
      "-------------Loss Summary eval Valid--------------\n",
      "Total Loss  |Loss Coord  |Conf Loss   |No Obj Loss |Class Loss  |\n",
      "13.290      |5.927       |4.004       |3.293       |0.065       |\n",
      "---------------------------------------------------\n",
      "Valid: \t mAP@50: 0.836292, mAP@75: 0.495612, mAP@90: 0.015649, Mean Loss: 13.289838\n",
      "Noise level 3: Slice: [2, 4], Percentage: 0.1\n",
      "Number of layers affected: 4\n"
     ]
    },
    {
     "name": "stderr",
     "output_type": "stream",
     "text": [
      "Eval: Valid: : 100%|██████████| 88/88 [00:06<00:00, 13.75it/s]\n"
     ]
    },
    {
     "name": "stdout",
     "output_type": "stream",
     "text": [
      "---------------------------------------------------\n",
      "-------------Loss Summary eval Valid--------------\n",
      "Total Loss  |Loss Coord  |Conf Loss   |No Obj Loss |Class Loss  |\n",
      "13.290      |5.927       |4.004       |3.293       |0.065       |\n",
      "---------------------------------------------------\n",
      "Valid: \t mAP@50: 0.836292, mAP@75: 0.495611, mAP@90: 0.015648, Mean Loss: 13.289839\n",
      "Noise level 3: Slice: [3, 4], Percentage: 0.1\n",
      "Number of layers affected: 5\n"
     ]
    },
    {
     "name": "stderr",
     "output_type": "stream",
     "text": [
      "Eval: Valid: : 100%|██████████| 88/88 [00:06<00:00, 13.32it/s]\n"
     ]
    },
    {
     "name": "stdout",
     "output_type": "stream",
     "text": [
      "---------------------------------------------------\n",
      "-------------Loss Summary eval Valid--------------\n",
      "Total Loss  |Loss Coord  |Conf Loss   |No Obj Loss |Class Loss  |\n",
      "13.290      |5.927       |4.004       |3.293       |0.065       |\n",
      "---------------------------------------------------\n",
      "Valid: \t mAP@50: 0.836290, mAP@75: 0.495605, mAP@90: 0.015647, Mean Loss: 13.289769\n",
      "Noise level 3: Slice: [0, 4], Percentage: 0.12\n",
      "Number of layers affected: 2\n"
     ]
    },
    {
     "name": "stderr",
     "output_type": "stream",
     "text": [
      "Eval: Valid: : 100%|██████████| 88/88 [00:06<00:00, 13.60it/s]\n"
     ]
    },
    {
     "name": "stdout",
     "output_type": "stream",
     "text": [
      "---------------------------------------------------\n",
      "-------------Loss Summary eval Valid--------------\n",
      "Total Loss  |Loss Coord  |Conf Loss   |No Obj Loss |Class Loss  |\n",
      "13.436      |6.019       |4.123       |3.229       |0.065       |\n",
      "---------------------------------------------------\n",
      "Valid: \t mAP@50: 0.834777, mAP@75: 0.494261, mAP@90: 0.016061, Mean Loss: 13.436000\n",
      "Noise level 3: Slice: [1, 4], Percentage: 0.12\n",
      "Number of layers affected: 5\n"
     ]
    },
    {
     "name": "stderr",
     "output_type": "stream",
     "text": [
      "Eval: Valid: : 100%|██████████| 88/88 [00:06<00:00, 12.86it/s]\n"
     ]
    },
    {
     "name": "stdout",
     "output_type": "stream",
     "text": [
      "---------------------------------------------------\n",
      "-------------Loss Summary eval Valid--------------\n",
      "Total Loss  |Loss Coord  |Conf Loss   |No Obj Loss |Class Loss  |\n",
      "13.431      |6.011       |4.126       |3.229       |0.065       |\n",
      "---------------------------------------------------\n",
      "Valid: \t mAP@50: 0.834845, mAP@75: 0.495223, mAP@90: 0.016222, Mean Loss: 13.430967\n",
      "Noise level 3: Slice: [2, 4], Percentage: 0.12\n",
      "Number of layers affected: 6\n"
     ]
    },
    {
     "name": "stderr",
     "output_type": "stream",
     "text": [
      "Eval: Valid: : 100%|██████████| 88/88 [00:06<00:00, 14.06it/s]\n"
     ]
    },
    {
     "name": "stdout",
     "output_type": "stream",
     "text": [
      "---------------------------------------------------\n",
      "-------------Loss Summary eval Valid--------------\n",
      "Total Loss  |Loss Coord  |Conf Loss   |No Obj Loss |Class Loss  |\n",
      "13.431      |6.011       |4.126       |3.229       |0.065       |\n",
      "---------------------------------------------------\n",
      "Valid: \t mAP@50: 0.834844, mAP@75: 0.495222, mAP@90: 0.016223, Mean Loss: 13.430946\n",
      "Noise level 3: Slice: [3, 4], Percentage: 0.12\n",
      "Number of layers affected: 5\n"
     ]
    },
    {
     "name": "stderr",
     "output_type": "stream",
     "text": [
      "Eval: Valid: : 100%|██████████| 88/88 [00:06<00:00, 13.43it/s]\n"
     ]
    },
    {
     "name": "stdout",
     "output_type": "stream",
     "text": [
      "---------------------------------------------------\n",
      "-------------Loss Summary eval Valid--------------\n",
      "Total Loss  |Loss Coord  |Conf Loss   |No Obj Loss |Class Loss  |\n",
      "13.431      |6.011       |4.126       |3.228       |0.065       |\n",
      "---------------------------------------------------\n",
      "Valid: \t mAP@50: 0.834844, mAP@75: 0.495236, mAP@90: 0.016221, Mean Loss: 13.430934\n",
      "Noise level 3: Slice: [0, 4], Percentage: 0.15\n",
      "Number of layers affected: 8\n"
     ]
    },
    {
     "name": "stderr",
     "output_type": "stream",
     "text": [
      "Eval: Valid: : 100%|██████████| 88/88 [00:06<00:00, 13.66it/s]\n"
     ]
    },
    {
     "name": "stdout",
     "output_type": "stream",
     "text": [
      "---------------------------------------------------\n",
      "-------------Loss Summary eval Valid--------------\n",
      "Total Loss  |Loss Coord  |Conf Loss   |No Obj Loss |Class Loss  |\n",
      "14.697      |6.445       |4.440       |3.743       |0.069       |\n",
      "---------------------------------------------------\n",
      "Valid: \t mAP@50: 0.807791, mAP@75: 0.443163, mAP@90: 0.012567, Mean Loss: 14.696615\n",
      "Noise level 3: Slice: [1, 4], Percentage: 0.15\n",
      "Number of layers affected: 10\n"
     ]
    },
    {
     "name": "stderr",
     "output_type": "stream",
     "text": [
      "Eval: Valid: : 100%|██████████| 88/88 [00:06<00:00, 13.06it/s]\n"
     ]
    },
    {
     "name": "stdout",
     "output_type": "stream",
     "text": [
      "---------------------------------------------------\n",
      "-------------Loss Summary eval Valid--------------\n",
      "Total Loss  |Loss Coord  |Conf Loss   |No Obj Loss |Class Loss  |\n",
      "14.695      |6.441       |4.434       |3.750       |0.069       |\n",
      "---------------------------------------------------\n",
      "Valid: \t mAP@50: 0.808163, mAP@75: 0.444618, mAP@90: 0.013278, Mean Loss: 14.694765\n",
      "Noise level 3: Slice: [2, 4], Percentage: 0.15\n",
      "Number of layers affected: 13\n"
     ]
    },
    {
     "name": "stderr",
     "output_type": "stream",
     "text": [
      "Eval: Valid: : 100%|██████████| 88/88 [00:06<00:00, 13.18it/s]\n"
     ]
    },
    {
     "name": "stdout",
     "output_type": "stream",
     "text": [
      "---------------------------------------------------\n",
      "-------------Loss Summary eval Valid--------------\n",
      "Total Loss  |Loss Coord  |Conf Loss   |No Obj Loss |Class Loss  |\n",
      "14.694      |6.441       |4.434       |3.750       |0.069       |\n",
      "---------------------------------------------------\n",
      "Valid: \t mAP@50: 0.809053, mAP@75: 0.444969, mAP@90: 0.013323, Mean Loss: 14.694122\n",
      "Noise level 3: Slice: [3, 4], Percentage: 0.15\n",
      "Number of layers affected: 10\n"
     ]
    },
    {
     "name": "stderr",
     "output_type": "stream",
     "text": [
      "Eval: Valid: : 100%|██████████| 88/88 [00:06<00:00, 13.43it/s]\n"
     ]
    },
    {
     "name": "stdout",
     "output_type": "stream",
     "text": [
      "---------------------------------------------------\n",
      "-------------Loss Summary eval Valid--------------\n",
      "Total Loss  |Loss Coord  |Conf Loss   |No Obj Loss |Class Loss  |\n",
      "14.694      |6.441       |4.434       |3.750       |0.069       |\n",
      "---------------------------------------------------\n",
      "Valid: \t mAP@50: 0.809053, mAP@75: 0.444969, mAP@90: 0.013323, Mean Loss: 14.694122\n",
      "Noise level 3: Slice: [0, 4], Percentage: 0.2\n",
      "Number of layers affected: 10\n"
     ]
    },
    {
     "name": "stderr",
     "output_type": "stream",
     "text": [
      "Eval: Valid: : 100%|██████████| 88/88 [00:06<00:00, 14.14it/s]\n"
     ]
    },
    {
     "name": "stdout",
     "output_type": "stream",
     "text": [
      "---------------------------------------------------\n",
      "-------------Loss Summary eval Valid--------------\n",
      "Total Loss  |Loss Coord  |Conf Loss   |No Obj Loss |Class Loss  |\n",
      "14.848      |6.482       |4.445       |3.851       |0.070       |\n",
      "---------------------------------------------------\n",
      "Valid: \t mAP@50: 0.809287, mAP@75: 0.434564, mAP@90: 0.012451, Mean Loss: 14.847924\n",
      "Noise level 3: Slice: [1, 4], Percentage: 0.2\n",
      "Number of layers affected: 6\n"
     ]
    },
    {
     "name": "stderr",
     "output_type": "stream",
     "text": [
      "Eval: Valid: : 100%|██████████| 88/88 [00:06<00:00, 14.38it/s]\n"
     ]
    },
    {
     "name": "stdout",
     "output_type": "stream",
     "text": [
      "---------------------------------------------------\n",
      "-------------Loss Summary eval Valid--------------\n",
      "Total Loss  |Loss Coord  |Conf Loss   |No Obj Loss |Class Loss  |\n",
      "14.847      |6.481       |4.444       |3.852       |0.070       |\n",
      "---------------------------------------------------\n",
      "Valid: \t mAP@50: 0.809272, mAP@75: 0.434536, mAP@90: 0.012453, Mean Loss: 14.846798\n",
      "Noise level 3: Slice: [2, 4], Percentage: 0.2\n",
      "Number of layers affected: 13\n"
     ]
    },
    {
     "name": "stderr",
     "output_type": "stream",
     "text": [
      "Eval: Valid: : 100%|██████████| 88/88 [00:06<00:00, 13.14it/s]\n"
     ]
    },
    {
     "name": "stdout",
     "output_type": "stream",
     "text": [
      "---------------------------------------------------\n",
      "-------------Loss Summary eval Valid--------------\n",
      "Total Loss  |Loss Coord  |Conf Loss   |No Obj Loss |Class Loss  |\n",
      "14.845      |6.494       |4.444       |3.836       |0.070       |\n",
      "---------------------------------------------------\n",
      "Valid: \t mAP@50: 0.811177, mAP@75: 0.445842, mAP@90: 0.010801, Mean Loss: 14.845245\n",
      "Noise level 3: Slice: [3, 4], Percentage: 0.2\n",
      "Number of layers affected: 9\n"
     ]
    },
    {
     "name": "stderr",
     "output_type": "stream",
     "text": [
      "Eval: Valid: : 100%|██████████| 88/88 [00:06<00:00, 13.02it/s]\n"
     ]
    },
    {
     "name": "stdout",
     "output_type": "stream",
     "text": [
      "---------------------------------------------------\n",
      "-------------Loss Summary eval Valid--------------\n",
      "Total Loss  |Loss Coord  |Conf Loss   |No Obj Loss |Class Loss  |\n",
      "14.845      |6.494       |4.444       |3.836       |0.070       |\n",
      "---------------------------------------------------\n",
      "Valid: \t mAP@50: 0.811173, mAP@75: 0.445827, mAP@90: 0.010800, Mean Loss: 14.845205\n"
     ]
    }
   ],
   "source": [
    "case1=False\n",
    "case2=True\n",
    "percentage_layers_case_2  = [0, 0.05, 0.1, 0.12, 0.15, 0.2, 0.25, 0.3] if case2 else [0]\n",
    "slices_case2 = [3,3]\n",
    "\n",
    "test_noise(case1=case1, percentage_layers_case_1=[0], slices_case1 = [0,0],\n",
    "           case2=case2, percentage_layers_case_1=percentage_layers_case_2, slices_case2 = slices_case2)"
   ]
  },
  {
   "cell_type": "markdown",
   "id": "13f51b5f-f175-417e-9442-615138e5450c",
   "metadata": {},
   "source": [
    "Estoy viendo que en cuanto modificamos los pesos, en uno de los bits mas significativos, el modelo es muy sensible. Interesa tener activado el seed? "
   ]
  },
  {
   "cell_type": "markdown",
   "id": "032e2f89-5e0a-4b90-a56b-1b0db16d12cf",
   "metadata": {},
   "source": [
    "## **Test case1 y case 2**"
   ]
  },
  {
   "cell_type": "code",
   "execution_count": 6,
   "id": "dec20ed0-a93a-4bcd-89f1-d35c51fdbbcc",
   "metadata": {
    "scrolled": true
   },
   "outputs": [
    {
     "name": "stdout",
     "output_type": "stream",
     "text": [
      "Test with case1: True, case2: True, case3: False\n",
      "File case1_case2_results_noise.txt exists. Deleting...\n",
      "=> Loading checkpoint\n",
      "Model loaded: efficientnet/Adam_None_Airbus_256_BATCH_32_LR_0.0005/model/93_YOLO_best.pth.tar\n",
      "Noise level 1: 0\n",
      "Noise level 2: 0\n"
     ]
    },
    {
     "name": "stderr",
     "output_type": "stream",
     "text": [
      "Eval: Valid: : 100%|██████████| 88/88 [00:06<00:00, 13.89it/s]\n"
     ]
    },
    {
     "name": "stdout",
     "output_type": "stream",
     "text": [
      "---------------------------------------------------\n",
      "-------------Loss Summary eval Valid--------------\n",
      "Total Loss  |Loss Coord  |Conf Loss   |No Obj Loss |Class Loss  |\n",
      "13.087      |5.913       |4.003       |3.105       |0.065       |\n",
      "---------------------------------------------------\n",
      "Valid: \t mAP@50: 0.836296, mAP@75: 0.495590, mAP@90: 0.015712, Mean Loss: 13.086824\n",
      "Noise level 1: 0\n",
      "Noise level 2: 0.1\n"
     ]
    },
    {
     "name": "stderr",
     "output_type": "stream",
     "text": [
      "Eval: Valid: : 100%|██████████| 88/88 [00:06<00:00, 14.40it/s]\n"
     ]
    },
    {
     "name": "stdout",
     "output_type": "stream",
     "text": [
      "---------------------------------------------------\n",
      "-------------Loss Summary eval Valid--------------\n",
      "Total Loss  |Loss Coord  |Conf Loss   |No Obj Loss |Class Loss  |\n",
      "31.516      |8.422       |4.301       |18.475      |0.318       |\n",
      "---------------------------------------------------\n",
      "Valid: \t mAP@50: 0.824538, mAP@75: 0.348066, mAP@90: 0.004723, Mean Loss: 31.516115\n",
      "Noise level 1: 0\n",
      "Noise level 2: 0.2\n"
     ]
    },
    {
     "name": "stderr",
     "output_type": "stream",
     "text": [
      "Eval: Valid: : 100%|██████████| 88/88 [00:06<00:00, 13.51it/s]\n"
     ]
    },
    {
     "name": "stdout",
     "output_type": "stream",
     "text": [
      "---------------------------------------------------\n",
      "-------------Loss Summary eval Valid--------------\n",
      "Total Loss  |Loss Coord  |Conf Loss   |No Obj Loss |Class Loss  |\n",
      "86.162      |15.549      |5.175       |64.417      |1.021       |\n",
      "---------------------------------------------------\n",
      "Valid: \t mAP@50: 0.665821, mAP@75: 0.111705, mAP@90: 0.000541, Mean Loss: 86.162155\n",
      "Noise level 1: 0\n",
      "Noise level 2: 0.3\n"
     ]
    },
    {
     "name": "stderr",
     "output_type": "stream",
     "text": [
      "Eval: Valid: : 100%|██████████| 88/88 [00:13<00:00,  6.35it/s]\n"
     ]
    },
    {
     "name": "stdout",
     "output_type": "stream",
     "text": [
      "---------------------------------------------------\n",
      "-------------Loss Summary eval Valid--------------\n",
      "Total Loss  |Loss Coord  |Conf Loss   |No Obj Loss |Class Loss  |\n",
      "176.268     |26.543      |6.412       |141.069     |2.245       |\n",
      "---------------------------------------------------\n",
      "Valid: \t mAP@50: 0.352938, mAP@75: 0.024586, mAP@90: 0.000065, Mean Loss: 176.268175\n",
      "Noise level 1: 0\n",
      "Noise level 2: 0.5\n"
     ]
    },
    {
     "name": "stderr",
     "output_type": "stream",
     "text": [
      "Eval: Valid: : 100%|██████████| 88/88 [00:58<00:00,  1.51it/s]\n"
     ]
    },
    {
     "name": "stdout",
     "output_type": "stream",
     "text": [
      "---------------------------------------------------\n",
      "-------------Loss Summary eval Valid--------------\n",
      "Total Loss  |Loss Coord  |Conf Loss   |No Obj Loss |Class Loss  |\n",
      "459.204     |58.186      |10.700      |384.476     |5.841       |\n",
      "---------------------------------------------------\n",
      "Valid: \t mAP@50: 0.051258, mAP@75: 0.000941, mAP@90: 0.000000, Mean Loss: 459.203905\n",
      "Noise level 1: 0.01\n",
      "Noise level 2: 0\n"
     ]
    },
    {
     "name": "stderr",
     "output_type": "stream",
     "text": [
      "Eval: Valid: : 100%|██████████| 88/88 [00:06<00:00, 12.91it/s]\n"
     ]
    },
    {
     "name": "stdout",
     "output_type": "stream",
     "text": [
      "---------------------------------------------------\n",
      "-------------Loss Summary eval Valid--------------\n",
      "Total Loss  |Loss Coord  |Conf Loss   |No Obj Loss |Class Loss  |\n",
      "13.096      |5.931       |4.009       |3.092       |0.065       |\n",
      "---------------------------------------------------\n",
      "Valid: \t mAP@50: 0.835163, mAP@75: 0.493024, mAP@90: 0.016095, Mean Loss: 13.096470\n",
      "Noise level 1: 0.01\n",
      "Noise level 2: 0.1\n"
     ]
    },
    {
     "name": "stderr",
     "output_type": "stream",
     "text": [
      "Eval: Valid: : 100%|██████████| 88/88 [00:06<00:00, 14.41it/s]\n"
     ]
    },
    {
     "name": "stdout",
     "output_type": "stream",
     "text": [
      "---------------------------------------------------\n",
      "-------------Loss Summary eval Valid--------------\n",
      "Total Loss  |Loss Coord  |Conf Loss   |No Obj Loss |Class Loss  |\n",
      "31.390      |8.239       |4.370       |18.468      |0.313       |\n",
      "---------------------------------------------------\n",
      "Valid: \t mAP@50: 0.815740, mAP@75: 0.339684, mAP@90: 0.004704, Mean Loss: 31.389523\n",
      "Noise level 1: 0.01\n",
      "Noise level 2: 0.2\n"
     ]
    },
    {
     "name": "stderr",
     "output_type": "stream",
     "text": [
      "Eval: Valid: : 100%|██████████| 88/88 [00:06<00:00, 13.70it/s]\n"
     ]
    },
    {
     "name": "stdout",
     "output_type": "stream",
     "text": [
      "---------------------------------------------------\n",
      "-------------Loss Summary eval Valid--------------\n",
      "Total Loss  |Loss Coord  |Conf Loss   |No Obj Loss |Class Loss  |\n",
      "85.810      |15.106      |5.139       |64.538      |1.027       |\n",
      "---------------------------------------------------\n",
      "Valid: \t mAP@50: 0.670377, mAP@75: 0.117989, mAP@90: 0.000636, Mean Loss: 85.809622\n",
      "Noise level 1: 0.01\n",
      "Noise level 2: 0.3\n"
     ]
    },
    {
     "name": "stderr",
     "output_type": "stream",
     "text": [
      "Eval: Valid: : 100%|██████████| 88/88 [00:13<00:00,  6.52it/s]\n"
     ]
    },
    {
     "name": "stdout",
     "output_type": "stream",
     "text": [
      "---------------------------------------------------\n",
      "-------------Loss Summary eval Valid--------------\n",
      "Total Loss  |Loss Coord  |Conf Loss   |No Obj Loss |Class Loss  |\n",
      "176.478     |26.507      |6.464       |141.190     |2.316       |\n",
      "---------------------------------------------------\n",
      "Valid: \t mAP@50: 0.325725, mAP@75: 0.025202, mAP@90: 0.000192, Mean Loss: 176.477815\n",
      "Noise level 1: 0.01\n",
      "Noise level 2: 0.5\n"
     ]
    },
    {
     "name": "stderr",
     "output_type": "stream",
     "text": [
      "Eval: Valid: : 100%|██████████| 88/88 [00:58<00:00,  1.50it/s]\n"
     ]
    },
    {
     "name": "stdout",
     "output_type": "stream",
     "text": [
      "---------------------------------------------------\n",
      "-------------Loss Summary eval Valid--------------\n",
      "Total Loss  |Loss Coord  |Conf Loss   |No Obj Loss |Class Loss  |\n",
      "462.794     |59.876      |10.634      |386.089     |6.194       |\n",
      "---------------------------------------------------\n",
      "Valid: \t mAP@50: 0.050786, mAP@75: 0.000728, mAP@90: 0.000003, Mean Loss: 462.793501\n",
      "Noise level 1: 0.03\n",
      "Noise level 2: 0\n"
     ]
    },
    {
     "name": "stderr",
     "output_type": "stream",
     "text": [
      "Eval: Valid: : 100%|██████████| 88/88 [00:06<00:00, 14.30it/s]\n"
     ]
    },
    {
     "name": "stdout",
     "output_type": "stream",
     "text": [
      "---------------------------------------------------\n",
      "-------------Loss Summary eval Valid--------------\n",
      "Total Loss  |Loss Coord  |Conf Loss   |No Obj Loss |Class Loss  |\n",
      "13.267      |6.076       |4.148       |2.979       |0.064       |\n",
      "---------------------------------------------------\n",
      "Valid: \t mAP@50: 0.827884, mAP@75: 0.514217, mAP@90: 0.013567, Mean Loss: 13.267461\n",
      "Noise level 1: 0.03\n",
      "Noise level 2: 0.1\n"
     ]
    },
    {
     "name": "stderr",
     "output_type": "stream",
     "text": [
      "Eval: Valid: : 100%|██████████| 88/88 [00:06<00:00, 14.31it/s]\n"
     ]
    },
    {
     "name": "stdout",
     "output_type": "stream",
     "text": [
      "---------------------------------------------------\n",
      "-------------Loss Summary eval Valid--------------\n",
      "Total Loss  |Loss Coord  |Conf Loss   |No Obj Loss |Class Loss  |\n",
      "31.534      |8.461       |4.448       |18.325      |0.301       |\n",
      "---------------------------------------------------\n",
      "Valid: \t mAP@50: 0.816074, mAP@75: 0.352045, mAP@90: 0.003519, Mean Loss: 31.534349\n",
      "Noise level 1: 0.03\n",
      "Noise level 2: 0.2\n"
     ]
    },
    {
     "name": "stderr",
     "output_type": "stream",
     "text": [
      "Eval: Valid: : 100%|██████████| 88/88 [00:06<00:00, 13.52it/s]\n"
     ]
    },
    {
     "name": "stdout",
     "output_type": "stream",
     "text": [
      "---------------------------------------------------\n",
      "-------------Loss Summary eval Valid--------------\n",
      "Total Loss  |Loss Coord  |Conf Loss   |No Obj Loss |Class Loss  |\n",
      "85.811      |15.160      |5.251       |64.366      |1.035       |\n",
      "---------------------------------------------------\n",
      "Valid: \t mAP@50: 0.670407, mAP@75: 0.118582, mAP@90: 0.000412, Mean Loss: 85.811010\n",
      "Noise level 1: 0.03\n",
      "Noise level 2: 0.3\n"
     ]
    },
    {
     "name": "stderr",
     "output_type": "stream",
     "text": [
      "Eval: Valid: : 100%|██████████| 88/88 [00:13<00:00,  6.51it/s]\n"
     ]
    },
    {
     "name": "stdout",
     "output_type": "stream",
     "text": [
      "---------------------------------------------------\n",
      "-------------Loss Summary eval Valid--------------\n",
      "Total Loss  |Loss Coord  |Conf Loss   |No Obj Loss |Class Loss  |\n",
      "175.991     |26.068      |6.662       |140.963     |2.298       |\n",
      "---------------------------------------------------\n",
      "Valid: \t mAP@50: 0.343621, mAP@75: 0.029945, mAP@90: 0.000021, Mean Loss: 175.991173\n",
      "Noise level 1: 0.03\n",
      "Noise level 2: 0.5\n"
     ]
    },
    {
     "name": "stderr",
     "output_type": "stream",
     "text": [
      "Eval: Valid: : 100%|██████████| 88/88 [00:58<00:00,  1.49it/s]\n"
     ]
    },
    {
     "name": "stdout",
     "output_type": "stream",
     "text": [
      "---------------------------------------------------\n",
      "-------------Loss Summary eval Valid--------------\n",
      "Total Loss  |Loss Coord  |Conf Loss   |No Obj Loss |Class Loss  |\n",
      "463.072     |59.879      |10.846      |386.143     |6.204       |\n",
      "---------------------------------------------------\n",
      "Valid: \t mAP@50: 0.041931, mAP@75: 0.000359, mAP@90: 0.000000, Mean Loss: 463.071862\n",
      "Noise level 1: 0.05\n",
      "Noise level 2: 0\n"
     ]
    },
    {
     "name": "stderr",
     "output_type": "stream",
     "text": [
      "Eval: Valid: : 100%|██████████| 88/88 [00:06<00:00, 14.09it/s]\n"
     ]
    },
    {
     "name": "stdout",
     "output_type": "stream",
     "text": [
      "---------------------------------------------------\n",
      "-------------Loss Summary eval Valid--------------\n",
      "Total Loss  |Loss Coord  |Conf Loss   |No Obj Loss |Class Loss  |\n",
      "14.462      |6.853       |4.751       |2.793       |0.066       |\n",
      "---------------------------------------------------\n",
      "Valid: \t mAP@50: 0.787262, mAP@75: 0.481278, mAP@90: 0.011035, Mean Loss: 14.462194\n",
      "Noise level 1: 0.05\n",
      "Noise level 2: 0.1\n"
     ]
    },
    {
     "name": "stderr",
     "output_type": "stream",
     "text": [
      "Eval: Valid: : 100%|██████████| 88/88 [00:06<00:00, 14.36it/s]\n"
     ]
    },
    {
     "name": "stdout",
     "output_type": "stream",
     "text": [
      "---------------------------------------------------\n",
      "-------------Loss Summary eval Valid--------------\n",
      "Total Loss  |Loss Coord  |Conf Loss   |No Obj Loss |Class Loss  |\n",
      "32.894      |9.381       |5.071       |18.138      |0.304       |\n",
      "---------------------------------------------------\n",
      "Valid: \t mAP@50: 0.779732, mAP@75: 0.337391, mAP@90: 0.003645, Mean Loss: 32.894184\n",
      "Noise level 1: 0.05\n",
      "Noise level 2: 0.2\n"
     ]
    },
    {
     "name": "stderr",
     "output_type": "stream",
     "text": [
      "Eval: Valid: : 100%|██████████| 88/88 [00:06<00:00, 13.40it/s]\n"
     ]
    },
    {
     "name": "stdout",
     "output_type": "stream",
     "text": [
      "---------------------------------------------------\n",
      "-------------Loss Summary eval Valid--------------\n",
      "Total Loss  |Loss Coord  |Conf Loss   |No Obj Loss |Class Loss  |\n",
      "86.872      |16.244      |5.685       |63.938      |1.006       |\n",
      "---------------------------------------------------\n",
      "Valid: \t mAP@50: 0.645836, mAP@75: 0.116291, mAP@90: 0.000687, Mean Loss: 86.871911\n",
      "Noise level 1: 0.05\n",
      "Noise level 2: 0.3\n"
     ]
    },
    {
     "name": "stderr",
     "output_type": "stream",
     "text": [
      "Eval: Valid: : 100%|██████████| 88/88 [00:13<00:00,  6.63it/s]\n"
     ]
    },
    {
     "name": "stdout",
     "output_type": "stream",
     "text": [
      "---------------------------------------------------\n",
      "-------------Loss Summary eval Valid--------------\n",
      "Total Loss  |Loss Coord  |Conf Loss   |No Obj Loss |Class Loss  |\n",
      "177.754     |27.963      |7.270       |140.294     |2.226       |\n",
      "---------------------------------------------------\n",
      "Valid: \t mAP@50: 0.303104, mAP@75: 0.021440, mAP@90: 0.000151, Mean Loss: 177.753559\n",
      "Noise level 1: 0.05\n",
      "Noise level 2: 0.5\n"
     ]
    },
    {
     "name": "stderr",
     "output_type": "stream",
     "text": [
      "Eval: Valid: : 100%|██████████| 88/88 [00:59<00:00,  1.48it/s]\n"
     ]
    },
    {
     "name": "stdout",
     "output_type": "stream",
     "text": [
      "---------------------------------------------------\n",
      "-------------Loss Summary eval Valid--------------\n",
      "Total Loss  |Loss Coord  |Conf Loss   |No Obj Loss |Class Loss  |\n",
      "462.316     |59.412      |11.128      |385.254     |6.522       |\n",
      "---------------------------------------------------\n",
      "Valid: \t mAP@50: 0.048983, mAP@75: 0.000922, mAP@90: 0.000001, Mean Loss: 462.315784\n",
      "Noise level 1: 0.07\n",
      "Noise level 2: 0\n"
     ]
    },
    {
     "name": "stderr",
     "output_type": "stream",
     "text": [
      "Eval: Valid: : 100%|██████████| 88/88 [00:06<00:00, 13.95it/s]\n"
     ]
    },
    {
     "name": "stdout",
     "output_type": "stream",
     "text": [
      "---------------------------------------------------\n",
      "-------------Loss Summary eval Valid--------------\n",
      "Total Loss  |Loss Coord  |Conf Loss   |No Obj Loss |Class Loss  |\n",
      "18.320      |9.508       |6.315       |2.420       |0.077       |\n",
      "---------------------------------------------------\n",
      "Valid: \t mAP@50: 0.691181, mAP@75: 0.359862, mAP@90: 0.005188, Mean Loss: 18.319521\n",
      "Noise level 1: 0.07\n",
      "Noise level 2: 0.1\n"
     ]
    },
    {
     "name": "stderr",
     "output_type": "stream",
     "text": [
      "Eval: Valid: : 100%|██████████| 88/88 [00:05<00:00, 15.05it/s]\n"
     ]
    },
    {
     "name": "stdout",
     "output_type": "stream",
     "text": [
      "---------------------------------------------------\n",
      "-------------Loss Summary eval Valid--------------\n",
      "Total Loss  |Loss Coord  |Conf Loss   |No Obj Loss |Class Loss  |\n",
      "36.932      |12.187      |6.749       |17.671      |0.324       |\n",
      "---------------------------------------------------\n",
      "Valid: \t mAP@50: 0.671267, mAP@75: 0.236077, mAP@90: 0.001576, Mean Loss: 36.931505\n",
      "Noise level 1: 0.07\n",
      "Noise level 2: 0.2\n"
     ]
    },
    {
     "name": "stderr",
     "output_type": "stream",
     "text": [
      "Eval: Valid: : 100%|██████████| 88/88 [00:06<00:00, 13.67it/s]\n"
     ]
    },
    {
     "name": "stdout",
     "output_type": "stream",
     "text": [
      "---------------------------------------------------\n",
      "-------------Loss Summary eval Valid--------------\n",
      "Total Loss  |Loss Coord  |Conf Loss   |No Obj Loss |Class Loss  |\n",
      "90.773      |18.925      |7.408       |63.372      |1.069       |\n",
      "---------------------------------------------------\n",
      "Valid: \t mAP@50: 0.548389, mAP@75: 0.075473, mAP@90: 0.000147, Mean Loss: 90.772814\n",
      "Noise level 1: 0.07\n",
      "Noise level 2: 0.3\n"
     ]
    },
    {
     "name": "stderr",
     "output_type": "stream",
     "text": [
      "Eval: Valid: : 100%|██████████| 88/88 [00:13<00:00,  6.57it/s]\n"
     ]
    },
    {
     "name": "stdout",
     "output_type": "stream",
     "text": [
      "---------------------------------------------------\n",
      "-------------Loss Summary eval Valid--------------\n",
      "Total Loss  |Loss Coord  |Conf Loss   |No Obj Loss |Class Loss  |\n",
      "182.757     |30.941      |8.922       |140.619     |2.275       |\n",
      "---------------------------------------------------\n",
      "Valid: \t mAP@50: 0.250285, mAP@75: 0.012661, mAP@90: 0.000020, Mean Loss: 182.757176\n",
      "Noise level 1: 0.07\n",
      "Noise level 2: 0.5\n"
     ]
    },
    {
     "name": "stderr",
     "output_type": "stream",
     "text": [
      "Eval: Valid: : 100%|██████████| 88/88 [00:58<00:00,  1.51it/s]\n"
     ]
    },
    {
     "name": "stdout",
     "output_type": "stream",
     "text": [
      "---------------------------------------------------\n",
      "-------------Loss Summary eval Valid--------------\n",
      "Total Loss  |Loss Coord  |Conf Loss   |No Obj Loss |Class Loss  |\n",
      "465.841     |61.988      |13.208      |384.580     |6.065       |\n",
      "---------------------------------------------------\n",
      "Valid: \t mAP@50: 0.031855, mAP@75: 0.000356, mAP@90: 0.000000, Mean Loss: 465.840535\n",
      "Noise level 1: 0.08\n",
      "Noise level 2: 0\n"
     ]
    },
    {
     "name": "stderr",
     "output_type": "stream",
     "text": [
      "Eval: Valid: : 100%|██████████| 88/88 [00:06<00:00, 14.10it/s]\n"
     ]
    },
    {
     "name": "stdout",
     "output_type": "stream",
     "text": [
      "---------------------------------------------------\n",
      "-------------Loss Summary eval Valid--------------\n",
      "Total Loss  |Loss Coord  |Conf Loss   |No Obj Loss |Class Loss  |\n",
      "22.372      |12.304      |7.780       |2.192       |0.096       |\n",
      "---------------------------------------------------\n",
      "Valid: \t mAP@50: 0.603750, mAP@75: 0.266956, mAP@90: 0.002768, Mean Loss: 22.371903\n",
      "Noise level 1: 0.08\n",
      "Noise level 2: 0.1\n"
     ]
    },
    {
     "name": "stderr",
     "output_type": "stream",
     "text": [
      "Eval: Valid: : 100%|██████████| 88/88 [00:06<00:00, 14.27it/s]\n"
     ]
    },
    {
     "name": "stdout",
     "output_type": "stream",
     "text": [
      "---------------------------------------------------\n",
      "-------------Loss Summary eval Valid--------------\n",
      "Total Loss  |Loss Coord  |Conf Loss   |No Obj Loss |Class Loss  |\n",
      "40.819      |14.869      |8.050       |17.548      |0.352       |\n",
      "---------------------------------------------------\n",
      "Valid: \t mAP@50: 0.578682, mAP@75: 0.177759, mAP@90: 0.000416, Mean Loss: 40.818999\n",
      "Noise level 1: 0.08\n",
      "Noise level 2: 0.2\n"
     ]
    },
    {
     "name": "stderr",
     "output_type": "stream",
     "text": [
      "Eval: Valid: : 100%|██████████| 88/88 [00:06<00:00, 13.58it/s]\n"
     ]
    },
    {
     "name": "stdout",
     "output_type": "stream",
     "text": [
      "---------------------------------------------------\n",
      "-------------Loss Summary eval Valid--------------\n",
      "Total Loss  |Loss Coord  |Conf Loss   |No Obj Loss |Class Loss  |\n",
      "95.669      |22.111      |8.868       |63.659      |1.031       |\n",
      "---------------------------------------------------\n",
      "Valid: \t mAP@50: 0.441706, mAP@75: 0.051058, mAP@90: 0.000046, Mean Loss: 95.669391\n",
      "Noise level 1: 0.08\n",
      "Noise level 2: 0.3\n"
     ]
    },
    {
     "name": "stderr",
     "output_type": "stream",
     "text": [
      "Eval: Valid: : 100%|██████████| 88/88 [00:12<00:00,  6.81it/s]\n"
     ]
    },
    {
     "name": "stdout",
     "output_type": "stream",
     "text": [
      "---------------------------------------------------\n",
      "-------------Loss Summary eval Valid--------------\n",
      "Total Loss  |Loss Coord  |Conf Loss   |No Obj Loss |Class Loss  |\n",
      "186.326     |33.695      |10.077      |140.160     |2.394       |\n",
      "---------------------------------------------------\n",
      "Valid: \t mAP@50: 0.202701, mAP@75: 0.007820, mAP@90: 0.000002, Mean Loss: 186.325658\n",
      "Noise level 1: 0.08\n",
      "Noise level 2: 0.5\n"
     ]
    },
    {
     "name": "stderr",
     "output_type": "stream",
     "text": [
      "Eval: Valid: : 100%|██████████| 88/88 [00:59<00:00,  1.49it/s]\n"
     ]
    },
    {
     "name": "stdout",
     "output_type": "stream",
     "text": [
      "---------------------------------------------------\n",
      "-------------Loss Summary eval Valid--------------\n",
      "Total Loss  |Loss Coord  |Conf Loss   |No Obj Loss |Class Loss  |\n",
      "474.372     |66.840      |15.061      |386.457     |6.014       |\n",
      "---------------------------------------------------\n",
      "Valid: \t mAP@50: 0.025258, mAP@75: 0.000477, mAP@90: 0.000003, Mean Loss: 474.371707\n",
      "Noise level 1: 0.1\n",
      "Noise level 2: 0\n"
     ]
    },
    {
     "name": "stderr",
     "output_type": "stream",
     "text": [
      "Eval: Valid: : 100%|██████████| 88/88 [00:06<00:00, 14.25it/s]\n"
     ]
    },
    {
     "name": "stdout",
     "output_type": "stream",
     "text": [
      "---------------------------------------------------\n",
      "-------------Loss Summary eval Valid--------------\n",
      "Total Loss  |Loss Coord  |Conf Loss   |No Obj Loss |Class Loss  |\n",
      "34.719      |21.147      |11.670      |1.742       |0.160       |\n",
      "---------------------------------------------------\n",
      "Valid: \t mAP@50: 0.367734, mAP@75: 0.110012, mAP@90: 0.000468, Mean Loss: 34.718631\n",
      "Noise level 1: 0.1\n",
      "Noise level 2: 0.1\n"
     ]
    },
    {
     "name": "stderr",
     "output_type": "stream",
     "text": [
      "Eval: Valid: : 100%|██████████| 88/88 [00:06<00:00, 14.48it/s]\n"
     ]
    },
    {
     "name": "stdout",
     "output_type": "stream",
     "text": [
      "---------------------------------------------------\n",
      "-------------Loss Summary eval Valid--------------\n",
      "Total Loss  |Loss Coord  |Conf Loss   |No Obj Loss |Class Loss  |\n",
      "53.233      |23.694      |11.985      |17.155      |0.399       |\n",
      "---------------------------------------------------\n",
      "Valid: \t mAP@50: 0.363356, mAP@75: 0.059722, mAP@90: 0.000246, Mean Loss: 53.232766\n",
      "Noise level 1: 0.1\n",
      "Noise level 2: 0.2\n"
     ]
    },
    {
     "name": "stderr",
     "output_type": "stream",
     "text": [
      "Eval: Valid: : 100%|██████████| 88/88 [00:06<00:00, 13.81it/s]\n"
     ]
    },
    {
     "name": "stdout",
     "output_type": "stream",
     "text": [
      "---------------------------------------------------\n",
      "-------------Loss Summary eval Valid--------------\n",
      "Total Loss  |Loss Coord  |Conf Loss   |No Obj Loss |Class Loss  |\n",
      "108.379     |31.189      |12.899      |63.193      |1.099       |\n",
      "---------------------------------------------------\n",
      "Valid: \t mAP@50: 0.250721, mAP@75: 0.018533, mAP@90: 0.000204, Mean Loss: 108.379297\n",
      "Noise level 1: 0.1\n",
      "Noise level 2: 0.3\n"
     ]
    },
    {
     "name": "stderr",
     "output_type": "stream",
     "text": [
      "Eval: Valid: : 100%|██████████| 88/88 [00:12<00:00,  7.10it/s]\n"
     ]
    },
    {
     "name": "stdout",
     "output_type": "stream",
     "text": [
      "---------------------------------------------------\n",
      "-------------Loss Summary eval Valid--------------\n",
      "Total Loss  |Loss Coord  |Conf Loss   |No Obj Loss |Class Loss  |\n",
      "197.797     |42.510      |14.304      |138.787     |2.197       |\n",
      "---------------------------------------------------\n",
      "Valid: \t mAP@50: 0.098598, mAP@75: 0.001995, mAP@90: 0.000001, Mean Loss: 197.796859\n",
      "Noise level 1: 0.1\n",
      "Noise level 2: 0.5\n"
     ]
    },
    {
     "name": "stderr",
     "output_type": "stream",
     "text": [
      "Eval: Valid: : 100%|██████████| 88/88 [00:58<00:00,  1.52it/s]\n"
     ]
    },
    {
     "name": "stdout",
     "output_type": "stream",
     "text": [
      "---------------------------------------------------\n",
      "-------------Loss Summary eval Valid--------------\n",
      "Total Loss  |Loss Coord  |Conf Loss   |No Obj Loss |Class Loss  |\n",
      "487.534     |77.904      |18.222      |385.251     |6.156       |\n",
      "---------------------------------------------------\n",
      "Valid: \t mAP@50: 0.008363, mAP@75: 0.000067, mAP@90: 0.000000, Mean Loss: 487.534022\n",
      "Noise level 1: 0.125\n",
      "Noise level 2: 0\n"
     ]
    },
    {
     "name": "stderr",
     "output_type": "stream",
     "text": [
      "Eval: Valid: : 100%|██████████| 88/88 [00:06<00:00, 14.14it/s]\n"
     ]
    },
    {
     "name": "stdout",
     "output_type": "stream",
     "text": [
      "---------------------------------------------------\n",
      "-------------Loss Summary eval Valid--------------\n",
      "Total Loss  |Loss Coord  |Conf Loss   |No Obj Loss |Class Loss  |\n",
      "51.522      |33.489      |16.396      |1.377       |0.261       |\n",
      "---------------------------------------------------\n",
      "Valid: \t mAP@50: 0.145559, mAP@75: 0.027455, mAP@90: 0.000085, Mean Loss: 51.522310\n",
      "Noise level 1: 0.125\n",
      "Noise level 2: 0.1\n"
     ]
    },
    {
     "name": "stderr",
     "output_type": "stream",
     "text": [
      "Eval: Valid: : 100%|██████████| 88/88 [00:06<00:00, 14.37it/s]\n"
     ]
    },
    {
     "name": "stdout",
     "output_type": "stream",
     "text": [
      "---------------------------------------------------\n",
      "-------------Loss Summary eval Valid--------------\n",
      "Total Loss  |Loss Coord  |Conf Loss   |No Obj Loss |Class Loss  |\n",
      "69.811      |36.036      |16.511      |16.772      |0.492       |\n",
      "---------------------------------------------------\n",
      "Valid: \t mAP@50: 0.154952, mAP@75: 0.012894, mAP@90: 0.000136, Mean Loss: 69.811365\n",
      "Noise level 1: 0.125\n",
      "Noise level 2: 0.2\n"
     ]
    },
    {
     "name": "stderr",
     "output_type": "stream",
     "text": [
      "Eval: Valid: : 100%|██████████| 88/88 [00:06<00:00, 14.62it/s]\n"
     ]
    },
    {
     "name": "stdout",
     "output_type": "stream",
     "text": [
      "---------------------------------------------------\n",
      "-------------Loss Summary eval Valid--------------\n",
      "Total Loss  |Loss Coord  |Conf Loss   |No Obj Loss |Class Loss  |\n",
      "124.814     |43.375      |17.244      |62.975      |1.220       |\n",
      "---------------------------------------------------\n",
      "Valid: \t mAP@50: 0.091403, mAP@75: 0.003583, mAP@90: 0.000000, Mean Loss: 124.814333\n",
      "Noise level 1: 0.125\n",
      "Noise level 2: 0.3\n"
     ]
    },
    {
     "name": "stderr",
     "output_type": "stream",
     "text": [
      "Eval: Valid: : 100%|██████████| 88/88 [00:12<00:00,  6.84it/s]\n"
     ]
    },
    {
     "name": "stdout",
     "output_type": "stream",
     "text": [
      "---------------------------------------------------\n",
      "-------------Loss Summary eval Valid--------------\n",
      "Total Loss  |Loss Coord  |Conf Loss   |No Obj Loss |Class Loss  |\n",
      "215.482     |54.483      |19.002      |139.623     |2.374       |\n",
      "---------------------------------------------------\n",
      "Valid: \t mAP@50: 0.015328, mAP@75: 0.000350, mAP@90: 0.000002, Mean Loss: 215.482291\n",
      "Noise level 1: 0.125\n",
      "Noise level 2: 0.5\n"
     ]
    },
    {
     "name": "stderr",
     "output_type": "stream",
     "text": [
      "Eval: Valid: : 100%|██████████| 88/88 [00:57<00:00,  1.54it/s]\n"
     ]
    },
    {
     "name": "stdout",
     "output_type": "stream",
     "text": [
      "---------------------------------------------------\n",
      "-------------Loss Summary eval Valid--------------\n",
      "Total Loss  |Loss Coord  |Conf Loss   |No Obj Loss |Class Loss  |\n",
      "505.450     |91.237      |23.565      |384.402     |6.245       |\n",
      "---------------------------------------------------\n",
      "Valid: \t mAP@50: 0.002072, mAP@75: 0.000005, mAP@90: 0.000000, Mean Loss: 505.449631\n",
      "Noise level 1: 0.15\n",
      "Noise level 2: 0\n"
     ]
    },
    {
     "name": "stderr",
     "output_type": "stream",
     "text": [
      "Eval: Valid: : 100%|██████████| 88/88 [00:05<00:00, 15.06it/s]\n"
     ]
    },
    {
     "name": "stdout",
     "output_type": "stream",
     "text": [
      "---------------------------------------------------\n",
      "-------------Loss Summary eval Valid--------------\n",
      "Total Loss  |Loss Coord  |Conf Loss   |No Obj Loss |Class Loss  |\n",
      "61.972      |41.175      |19.290      |1.174       |0.333       |\n",
      "---------------------------------------------------\n",
      "Valid: \t mAP@50: 0.043069, mAP@75: 0.003840, mAP@90: 0.000000, Mean Loss: 61.971587\n",
      "Noise level 1: 0.15\n",
      "Noise level 2: 0.1\n"
     ]
    },
    {
     "name": "stderr",
     "output_type": "stream",
     "text": [
      "Eval: Valid: : 100%|██████████| 88/88 [00:06<00:00, 14.26it/s]\n"
     ]
    },
    {
     "name": "stdout",
     "output_type": "stream",
     "text": [
      "---------------------------------------------------\n",
      "-------------Loss Summary eval Valid--------------\n",
      "Total Loss  |Loss Coord  |Conf Loss   |No Obj Loss |Class Loss  |\n",
      "80.580      |43.807      |19.673      |16.513      |0.588       |\n",
      "---------------------------------------------------\n",
      "Valid: \t mAP@50: 0.048037, mAP@75: 0.001545, mAP@90: 0.000002, Mean Loss: 80.580381\n",
      "Noise level 1: 0.15\n",
      "Noise level 2: 0.2\n"
     ]
    },
    {
     "name": "stderr",
     "output_type": "stream",
     "text": [
      "Eval: Valid: : 100%|██████████| 88/88 [00:06<00:00, 13.86it/s]\n"
     ]
    },
    {
     "name": "stdout",
     "output_type": "stream",
     "text": [
      "---------------------------------------------------\n",
      "-------------Loss Summary eval Valid--------------\n",
      "Total Loss  |Loss Coord  |Conf Loss   |No Obj Loss |Class Loss  |\n",
      "135.427     |51.408      |20.212      |62.526      |1.282       |\n",
      "---------------------------------------------------\n",
      "Valid: \t mAP@50: 0.018186, mAP@75: 0.000234, mAP@90: 0.000000, Mean Loss: 135.427461\n",
      "Noise level 1: 0.15\n",
      "Noise level 2: 0.3\n"
     ]
    },
    {
     "name": "stderr",
     "output_type": "stream",
     "text": [
      "Eval: Valid: : 100%|██████████| 88/88 [00:12<00:00,  7.16it/s]\n"
     ]
    },
    {
     "name": "stdout",
     "output_type": "stream",
     "text": [
      "---------------------------------------------------\n",
      "-------------Loss Summary eval Valid--------------\n",
      "Total Loss  |Loss Coord  |Conf Loss   |No Obj Loss |Class Loss  |\n",
      "225.552     |61.959      |22.060      |139.061     |2.473       |\n",
      "---------------------------------------------------\n",
      "Valid: \t mAP@50: 0.003222, mAP@75: 0.000031, mAP@90: 0.000000, Mean Loss: 225.552095\n",
      "Noise level 1: 0.15\n",
      "Noise level 2: 0.5\n"
     ]
    },
    {
     "name": "stderr",
     "output_type": "stream",
     "text": [
      "Eval: Valid: : 100%|██████████| 88/88 [00:57<00:00,  1.54it/s]\n"
     ]
    },
    {
     "name": "stdout",
     "output_type": "stream",
     "text": [
      "---------------------------------------------------\n",
      "-------------Loss Summary eval Valid--------------\n",
      "Total Loss  |Loss Coord  |Conf Loss   |No Obj Loss |Class Loss  |\n",
      "517.046     |100.816     |25.429      |384.662     |6.139       |\n",
      "---------------------------------------------------\n",
      "Valid: \t mAP@50: 0.001174, mAP@75: 0.000025, mAP@90: 0.000000, Mean Loss: 517.046013\n",
      "Noise level 1: 0.2\n",
      "Noise level 2: 0\n"
     ]
    },
    {
     "name": "stderr",
     "output_type": "stream",
     "text": [
      "Eval: Valid: : 100%|██████████| 88/88 [00:06<00:00, 14.02it/s]\n"
     ]
    },
    {
     "name": "stdout",
     "output_type": "stream",
     "text": [
      "---------------------------------------------------\n",
      "-------------Loss Summary eval Valid--------------\n",
      "Total Loss  |Loss Coord  |Conf Loss   |No Obj Loss |Class Loss  |\n",
      "69.380      |46.039      |21.932      |1.026       |0.382       |\n",
      "---------------------------------------------------\n",
      "Valid: \t mAP@50: 0.001201, mAP@75: 0.000146, mAP@90: 0.000000, Mean Loss: 69.379551\n",
      "Noise level 1: 0.2\n",
      "Noise level 2: 0.1\n"
     ]
    },
    {
     "name": "stderr",
     "output_type": "stream",
     "text": [
      "Eval: Valid: : 100%|██████████| 88/88 [00:05<00:00, 14.81it/s]\n"
     ]
    },
    {
     "name": "stdout",
     "output_type": "stream",
     "text": [
      "---------------------------------------------------\n",
      "-------------Loss Summary eval Valid--------------\n",
      "Total Loss  |Loss Coord  |Conf Loss   |No Obj Loss |Class Loss  |\n",
      "87.936      |48.788      |22.167      |16.365      |0.617       |\n",
      "---------------------------------------------------\n",
      "Valid: \t mAP@50: 0.004661, mAP@75: 0.000225, mAP@90: 0.000000, Mean Loss: 87.936254\n",
      "Noise level 1: 0.2\n",
      "Noise level 2: 0.2\n"
     ]
    },
    {
     "name": "stderr",
     "output_type": "stream",
     "text": [
      "Eval: Valid: : 100%|██████████| 88/88 [00:06<00:00, 13.91it/s]\n"
     ]
    },
    {
     "name": "stdout",
     "output_type": "stream",
     "text": [
      "---------------------------------------------------\n",
      "-------------Loss Summary eval Valid--------------\n",
      "Total Loss  |Loss Coord  |Conf Loss   |No Obj Loss |Class Loss  |\n",
      "142.534     |56.398      |22.794      |61.978      |1.364       |\n",
      "---------------------------------------------------\n",
      "Valid: \t mAP@50: 0.000243, mAP@75: 0.000004, mAP@90: 0.000000, Mean Loss: 142.533969\n",
      "Noise level 1: 0.2\n",
      "Noise level 2: 0.3\n"
     ]
    },
    {
     "name": "stderr",
     "output_type": "stream",
     "text": [
      "Eval: Valid: : 100%|██████████| 88/88 [00:12<00:00,  6.98it/s]\n"
     ]
    },
    {
     "name": "stdout",
     "output_type": "stream",
     "text": [
      "---------------------------------------------------\n",
      "-------------Loss Summary eval Valid--------------\n",
      "Total Loss  |Loss Coord  |Conf Loss   |No Obj Loss |Class Loss  |\n",
      "235.272     |68.529      |24.363      |139.792     |2.588       |\n",
      "---------------------------------------------------\n",
      "Valid: \t mAP@50: 0.000194, mAP@75: 0.000001, mAP@90: 0.000000, Mean Loss: 235.271549\n",
      "Noise level 1: 0.2\n",
      "Noise level 2: 0.5\n"
     ]
    },
    {
     "name": "stderr",
     "output_type": "stream",
     "text": [
      "Eval: Valid: : 100%|██████████| 88/88 [00:56<00:00,  1.57it/s]\n"
     ]
    },
    {
     "name": "stdout",
     "output_type": "stream",
     "text": [
      "---------------------------------------------------\n",
      "-------------Loss Summary eval Valid--------------\n",
      "Total Loss  |Loss Coord  |Conf Loss   |No Obj Loss |Class Loss  |\n",
      "522.466     |103.777     |28.124      |384.132     |6.434       |\n",
      "---------------------------------------------------\n",
      "Valid: \t mAP@50: 0.000225, mAP@75: 0.000000, mAP@90: 0.000000, Mean Loss: 522.466238\n",
      "Noise level 1: 0.3\n",
      "Noise level 2: 0\n"
     ]
    },
    {
     "name": "stderr",
     "output_type": "stream",
     "text": [
      "Eval: Valid: : 100%|██████████| 88/88 [00:06<00:00, 13.89it/s]\n"
     ]
    },
    {
     "name": "stdout",
     "output_type": "stream",
     "text": [
      "---------------------------------------------------\n",
      "-------------Loss Summary eval Valid--------------\n",
      "Total Loss  |Loss Coord  |Conf Loss   |No Obj Loss |Class Loss  |\n",
      "67.446      |43.534      |22.503      |1.047       |0.362       |\n",
      "---------------------------------------------------\n",
      "Valid: \t mAP@50: 0.000000, mAP@75: 0.000000, mAP@90: 0.000000, Mean Loss: 67.446256\n",
      "Noise level 1: 0.3\n",
      "Noise level 2: 0.1\n"
     ]
    },
    {
     "name": "stderr",
     "output_type": "stream",
     "text": [
      "Eval: Valid: : 100%|██████████| 88/88 [00:06<00:00, 14.35it/s]\n"
     ]
    },
    {
     "name": "stdout",
     "output_type": "stream",
     "text": [
      "---------------------------------------------------\n",
      "-------------Loss Summary eval Valid--------------\n",
      "Total Loss  |Loss Coord  |Conf Loss   |No Obj Loss |Class Loss  |\n",
      "85.811      |46.068      |22.708      |16.445      |0.590       |\n",
      "---------------------------------------------------\n",
      "Valid: \t mAP@50: 0.000000, mAP@75: 0.000000, mAP@90: 0.000000, Mean Loss: 85.811161\n",
      "Noise level 1: 0.3\n",
      "Noise level 2: 0.2\n"
     ]
    },
    {
     "name": "stderr",
     "output_type": "stream",
     "text": [
      "Eval: Valid: : 100%|██████████| 88/88 [00:05<00:00, 14.76it/s]\n"
     ]
    },
    {
     "name": "stdout",
     "output_type": "stream",
     "text": [
      "---------------------------------------------------\n",
      "-------------Loss Summary eval Valid--------------\n",
      "Total Loss  |Loss Coord  |Conf Loss   |No Obj Loss |Class Loss  |\n",
      "140.123     |52.635      |23.606      |62.531      |1.352       |\n",
      "---------------------------------------------------\n",
      "Valid: \t mAP@50: 0.000067, mAP@75: 0.000000, mAP@90: 0.000000, Mean Loss: 140.122789\n",
      "Noise level 1: 0.3\n",
      "Noise level 2: 0.3\n"
     ]
    },
    {
     "name": "stderr",
     "output_type": "stream",
     "text": [
      "Eval: Valid: : 100%|██████████| 88/88 [00:12<00:00,  7.16it/s]\n"
     ]
    },
    {
     "name": "stdout",
     "output_type": "stream",
     "text": [
      "---------------------------------------------------\n",
      "-------------Loss Summary eval Valid--------------\n",
      "Total Loss  |Loss Coord  |Conf Loss   |No Obj Loss |Class Loss  |\n",
      "231.140     |64.861      |25.020      |138.723     |2.536       |\n",
      "---------------------------------------------------\n",
      "Valid: \t mAP@50: 0.000168, mAP@75: 0.000001, mAP@90: 0.000000, Mean Loss: 231.140104\n",
      "Noise level 1: 0.3\n",
      "Noise level 2: 0.5\n"
     ]
    },
    {
     "name": "stderr",
     "output_type": "stream",
     "text": [
      "Eval: Valid: : 100%|██████████| 88/88 [00:55<00:00,  1.57it/s]\n"
     ]
    },
    {
     "name": "stdout",
     "output_type": "stream",
     "text": [
      "---------------------------------------------------\n",
      "-------------Loss Summary eval Valid--------------\n",
      "Total Loss  |Loss Coord  |Conf Loss   |No Obj Loss |Class Loss  |\n",
      "517.399     |98.216      |29.659      |383.350     |6.174       |\n",
      "---------------------------------------------------\n",
      "Valid: \t mAP@50: 0.000330, mAP@75: 0.000001, mAP@90: 0.000000, Mean Loss: 517.398553\n"
     ]
    }
   ],
   "source": [
    "case1=True\n",
    "case2=True\n",
    "case3=False\n",
    "noise_level_case_1  = [0, 0.01, 0.03, 0.05, 0.07, 0.08, 0.1, 0.125 ,0.15, 0.2, 0.3] if case1 else [0]\n",
    "noise_level_case_2  = [0, 0.1, 0.2, 0.3, 0.5] if case2 else [0]\n",
    "test_noise(case1 = case1, noise_level_case_1 = noise_level_case_1, \n",
    "           case2 = case2, noise_level_case_2 = noise_level_case_2,\n",
    "           case3 = case3, noise_level_case_3 = [0])"
   ]
  },
  {
   "cell_type": "markdown",
   "id": "763fec54-7725-4b5f-bde6-37bfe2a7ef45",
   "metadata": {},
   "source": [
    "## **Test case 1 y case 3**"
   ]
  },
  {
   "cell_type": "code",
   "execution_count": 8,
   "id": "7c9912a3-2979-43c5-944a-5c4d52ad3acf",
   "metadata": {
    "scrolled": true
   },
   "outputs": [
    {
     "name": "stdout",
     "output_type": "stream",
     "text": [
      "Test with case1: True, case2: False, case3: True\n",
      "File case1_case3_results_noise.txt exists. Deleting...\n",
      "=> Loading checkpoint\n",
      "Model loaded: efficientnet/Adam_None_Airbus_256_BATCH_32_LR_0.0005/model/93_YOLO_best.pth.tar\n",
      "Noise level 1: 0\n",
      "Noise level 3: 0\n"
     ]
    },
    {
     "name": "stderr",
     "output_type": "stream",
     "text": [
      "Eval: Valid: : 100%|██████████| 88/88 [00:06<00:00, 13.71it/s]\n"
     ]
    },
    {
     "name": "stdout",
     "output_type": "stream",
     "text": [
      "---------------------------------------------------\n",
      "-------------Loss Summary eval Valid--------------\n",
      "Total Loss  |Loss Coord  |Conf Loss   |No Obj Loss |Class Loss  |\n",
      "13.290      |5.927       |4.004       |3.293       |0.065       |\n",
      "---------------------------------------------------\n",
      "Valid: \t mAP@50: 0.836296, mAP@75: 0.495590, mAP@90: 0.015652, Mean Loss: 13.289885\n",
      "Noise level 1: 0\n",
      "Noise level 3: 0.001\n"
     ]
    },
    {
     "name": "stderr",
     "output_type": "stream",
     "text": [
      "Eval: Valid: : 100%|██████████| 88/88 [00:06<00:00, 14.06it/s]\n"
     ]
    },
    {
     "name": "stdout",
     "output_type": "stream",
     "text": [
      "---------------------------------------------------\n",
      "-------------Loss Summary eval Valid--------------\n",
      "Total Loss  |Loss Coord  |Conf Loss   |No Obj Loss |Class Loss  |\n",
      "13.572      |6.080       |4.097       |3.325       |0.070       |\n",
      "---------------------------------------------------\n",
      "Valid: \t mAP@50: 0.831938, mAP@75: 0.478995, mAP@90: 0.015734, Mean Loss: 13.571924\n",
      "Noise level 1: 0\n",
      "Noise level 3: 0.0025\n"
     ]
    },
    {
     "name": "stderr",
     "output_type": "stream",
     "text": [
      "Eval: Valid: : 100%|██████████| 88/88 [00:06<00:00, 14.18it/s]\n"
     ]
    },
    {
     "name": "stdout",
     "output_type": "stream",
     "text": [
      "---------------------------------------------------\n",
      "-------------Loss Summary eval Valid--------------\n",
      "Total Loss  |Loss Coord  |Conf Loss   |No Obj Loss |Class Loss  |\n",
      "17.530      |8.512       |5.867       |3.073       |0.079       |\n",
      "---------------------------------------------------\n",
      "Valid: \t mAP@50: 0.719358, mAP@75: 0.370911, mAP@90: 0.003897, Mean Loss: 17.530494\n",
      "Noise level 1: 0\n",
      "Noise level 3: 0.005\n"
     ]
    },
    {
     "name": "stderr",
     "output_type": "stream",
     "text": [
      "Eval: Valid: : 100%|██████████| 88/88 [00:06<00:00, 14.25it/s]\n"
     ]
    },
    {
     "name": "stdout",
     "output_type": "stream",
     "text": [
      "---------------------------------------------------\n",
      "-------------Loss Summary eval Valid--------------\n",
      "Total Loss  |Loss Coord  |Conf Loss   |No Obj Loss |Class Loss  |\n",
      "25.701      |11.709      |9.654       |4.130       |0.208       |\n",
      "---------------------------------------------------\n",
      "Valid: \t mAP@50: 0.493126, mAP@75: 0.186976, mAP@90: 0.002702, Mean Loss: 25.701362\n",
      "Noise level 1: 0.01\n",
      "Noise level 3: 0\n"
     ]
    },
    {
     "name": "stderr",
     "output_type": "stream",
     "text": [
      "Eval: Valid: : 100%|██████████| 88/88 [00:05<00:00, 14.95it/s]\n"
     ]
    },
    {
     "name": "stdout",
     "output_type": "stream",
     "text": [
      "---------------------------------------------------\n",
      "-------------Loss Summary eval Valid--------------\n",
      "Total Loss  |Loss Coord  |Conf Loss   |No Obj Loss |Class Loss  |\n",
      "25.744      |11.737      |9.691       |4.111       |0.205       |\n",
      "---------------------------------------------------\n",
      "Valid: \t mAP@50: 0.485372, mAP@75: 0.187655, mAP@90: 0.002691, Mean Loss: 25.744332\n",
      "Noise level 1: 0.01\n",
      "Noise level 3: 0.001\n"
     ]
    },
    {
     "name": "stderr",
     "output_type": "stream",
     "text": [
      "Eval: Valid: : 100%|██████████| 88/88 [00:05<00:00, 14.99it/s]\n"
     ]
    },
    {
     "name": "stdout",
     "output_type": "stream",
     "text": [
      "---------------------------------------------------\n",
      "-------------Loss Summary eval Valid--------------\n",
      "Total Loss  |Loss Coord  |Conf Loss   |No Obj Loss |Class Loss  |\n",
      "23.232      |10.396      |8.245       |4.371       |0.221       |\n",
      "---------------------------------------------------\n",
      "Valid: \t mAP@50: 0.582184, mAP@75: 0.216774, mAP@90: 0.003243, Mean Loss: 23.232158\n",
      "Noise level 1: 0.01\n",
      "Noise level 3: 0.0025\n"
     ]
    },
    {
     "name": "stderr",
     "output_type": "stream",
     "text": [
      "Eval: Valid: : 100%|██████████| 88/88 [00:05<00:00, 14.97it/s]\n"
     ]
    },
    {
     "name": "stdout",
     "output_type": "stream",
     "text": [
      "---------------------------------------------------\n",
      "-------------Loss Summary eval Valid--------------\n",
      "Total Loss  |Loss Coord  |Conf Loss   |No Obj Loss |Class Loss  |\n",
      "23.950      |10.632      |8.814       |4.351       |0.153       |\n",
      "---------------------------------------------------\n",
      "Valid: \t mAP@50: 0.544952, mAP@75: 0.251842, mAP@90: 0.003534, Mean Loss: 23.949514\n",
      "Noise level 1: 0.01\n",
      "Noise level 3: 0.005\n"
     ]
    },
    {
     "name": "stderr",
     "output_type": "stream",
     "text": [
      "Eval: Valid: : 100%|██████████| 88/88 [00:06<00:00, 14.25it/s]\n"
     ]
    },
    {
     "name": "stdout",
     "output_type": "stream",
     "text": [
      "---------------------------------------------------\n",
      "-------------Loss Summary eval Valid--------------\n",
      "Total Loss  |Loss Coord  |Conf Loss   |No Obj Loss |Class Loss  |\n",
      "30.017      |13.445      |9.513       |6.724       |0.335       |\n",
      "---------------------------------------------------\n",
      "Valid: \t mAP@50: 0.445034, mAP@75: 0.106641, mAP@90: 0.001354, Mean Loss: 30.017393\n",
      "Noise level 1: 0.03\n",
      "Noise level 3: 0\n"
     ]
    },
    {
     "name": "stderr",
     "output_type": "stream",
     "text": [
      "Eval: Valid: : 100%|██████████| 88/88 [00:06<00:00, 14.42it/s]\n"
     ]
    },
    {
     "name": "stdout",
     "output_type": "stream",
     "text": [
      "---------------------------------------------------\n",
      "-------------Loss Summary eval Valid--------------\n",
      "Total Loss  |Loss Coord  |Conf Loss   |No Obj Loss |Class Loss  |\n",
      "28.655      |12.764      |9.216       |6.397       |0.278       |\n",
      "---------------------------------------------------\n",
      "Valid: \t mAP@50: 0.482256, mAP@75: 0.124312, mAP@90: 0.001361, Mean Loss: 28.655390\n",
      "Noise level 1: 0.03\n",
      "Noise level 3: 0.001\n"
     ]
    },
    {
     "name": "stderr",
     "output_type": "stream",
     "text": [
      "Eval: Valid: : 100%|██████████| 88/88 [00:06<00:00, 14.36it/s]\n"
     ]
    },
    {
     "name": "stdout",
     "output_type": "stream",
     "text": [
      "---------------------------------------------------\n",
      "-------------Loss Summary eval Valid--------------\n",
      "Total Loss  |Loss Coord  |Conf Loss   |No Obj Loss |Class Loss  |\n",
      "34.903      |16.318      |11.445      |6.753       |0.386       |\n",
      "---------------------------------------------------\n",
      "Valid: \t mAP@50: 0.310437, mAP@75: 0.085676, mAP@90: 0.000613, Mean Loss: 34.902695\n",
      "Noise level 1: 0.03\n",
      "Noise level 3: 0.0025\n"
     ]
    },
    {
     "name": "stderr",
     "output_type": "stream",
     "text": [
      "Eval: Valid: : 100%|██████████| 88/88 [00:06<00:00, 14.35it/s]\n"
     ]
    },
    {
     "name": "stdout",
     "output_type": "stream",
     "text": [
      "---------------------------------------------------\n",
      "-------------Loss Summary eval Valid--------------\n",
      "Total Loss  |Loss Coord  |Conf Loss   |No Obj Loss |Class Loss  |\n",
      "44.435      |21.784      |16.159      |6.158       |0.334       |\n",
      "---------------------------------------------------\n",
      "Valid: \t mAP@50: 0.127456, mAP@75: 0.043425, mAP@90: 0.000832, Mean Loss: 44.434871\n",
      "Noise level 1: 0.03\n",
      "Noise level 3: 0.005\n"
     ]
    },
    {
     "name": "stderr",
     "output_type": "stream",
     "text": [
      "Eval: Valid: : 100%|██████████| 88/88 [00:06<00:00, 14.39it/s]\n"
     ]
    },
    {
     "name": "stdout",
     "output_type": "stream",
     "text": [
      "---------------------------------------------------\n",
      "-------------Loss Summary eval Valid--------------\n",
      "Total Loss  |Loss Coord  |Conf Loss   |No Obj Loss |Class Loss  |\n",
      "48.470      |23.499      |19.032      |5.737       |0.202       |\n",
      "---------------------------------------------------\n",
      "Valid: \t mAP@50: 0.064133, mAP@75: 0.021539, mAP@90: 0.000152, Mean Loss: 48.470023\n",
      "Noise level 1: 0.05\n",
      "Noise level 3: 0\n"
     ]
    },
    {
     "name": "stderr",
     "output_type": "stream",
     "text": [
      "Eval: Valid: : 100%|██████████| 88/88 [00:06<00:00, 14.42it/s]\n"
     ]
    },
    {
     "name": "stdout",
     "output_type": "stream",
     "text": [
      "---------------------------------------------------\n",
      "-------------Loss Summary eval Valid--------------\n",
      "Total Loss  |Loss Coord  |Conf Loss   |No Obj Loss |Class Loss  |\n",
      "48.896      |23.890      |19.276      |5.552       |0.178       |\n",
      "---------------------------------------------------\n",
      "Valid: \t mAP@50: 0.055308, mAP@75: 0.018193, mAP@90: 0.000333, Mean Loss: 48.896084\n",
      "Noise level 1: 0.05\n",
      "Noise level 3: 0.001\n"
     ]
    },
    {
     "name": "stderr",
     "output_type": "stream",
     "text": [
      "Eval: Valid: : 100%|██████████| 88/88 [00:05<00:00, 15.20it/s]\n"
     ]
    },
    {
     "name": "stdout",
     "output_type": "stream",
     "text": [
      "---------------------------------------------------\n",
      "-------------Loss Summary eval Valid--------------\n",
      "Total Loss  |Loss Coord  |Conf Loss   |No Obj Loss |Class Loss  |\n",
      "48.657      |23.780      |18.989      |5.714       |0.173       |\n",
      "---------------------------------------------------\n",
      "Valid: \t mAP@50: 0.068701, mAP@75: 0.020376, mAP@90: 0.000174, Mean Loss: 48.656650\n",
      "Noise level 1: 0.05\n",
      "Noise level 3: 0.0025\n"
     ]
    },
    {
     "name": "stderr",
     "output_type": "stream",
     "text": [
      "Eval: Valid: : 100%|██████████| 88/88 [00:06<00:00, 14.32it/s]\n"
     ]
    },
    {
     "name": "stdout",
     "output_type": "stream",
     "text": [
      "---------------------------------------------------\n",
      "-------------Loss Summary eval Valid--------------\n",
      "Total Loss  |Loss Coord  |Conf Loss   |No Obj Loss |Class Loss  |\n",
      "63.922      |31.882      |22.801      |8.874       |0.365       |\n",
      "---------------------------------------------------\n",
      "Valid: \t mAP@50: 0.000969, mAP@75: 0.000005, mAP@90: 0.000000, Mean Loss: 63.921809\n",
      "Noise level 1: 0.05\n",
      "Noise level 3: 0.005\n"
     ]
    },
    {
     "name": "stderr",
     "output_type": "stream",
     "text": [
      "Eval: Valid: : 100%|██████████| 88/88 [00:06<00:00, 13.50it/s]\n"
     ]
    },
    {
     "name": "stdout",
     "output_type": "stream",
     "text": [
      "---------------------------------------------------\n",
      "-------------Loss Summary eval Valid--------------\n",
      "Total Loss  |Loss Coord  |Conf Loss   |No Obj Loss |Class Loss  |\n",
      "66.254      |33.563      |22.744      |9.737       |0.209       |\n",
      "---------------------------------------------------\n",
      "Valid: \t mAP@50: 0.000144, mAP@75: 0.000000, mAP@90: 0.000000, Mean Loss: 66.253775\n",
      "Noise level 1: 0.07\n",
      "Noise level 3: 0\n"
     ]
    },
    {
     "name": "stderr",
     "output_type": "stream",
     "text": [
      "Eval: Valid: : 100%|██████████| 88/88 [00:06<00:00, 14.27it/s]\n"
     ]
    },
    {
     "name": "stdout",
     "output_type": "stream",
     "text": [
      "---------------------------------------------------\n",
      "-------------Loss Summary eval Valid--------------\n",
      "Total Loss  |Loss Coord  |Conf Loss   |No Obj Loss |Class Loss  |\n",
      "66.187      |33.613      |22.791      |9.576       |0.207       |\n",
      "---------------------------------------------------\n",
      "Valid: \t mAP@50: 0.000000, mAP@75: 0.000000, mAP@90: 0.000000, Mean Loss: 66.186894\n",
      "Noise level 1: 0.07\n",
      "Noise level 3: 0.001\n"
     ]
    },
    {
     "name": "stderr",
     "output_type": "stream",
     "text": [
      "Eval: Valid: : 100%|██████████| 88/88 [00:05<00:00, 14.97it/s]\n"
     ]
    },
    {
     "name": "stdout",
     "output_type": "stream",
     "text": [
      "---------------------------------------------------\n",
      "-------------Loss Summary eval Valid--------------\n",
      "Total Loss  |Loss Coord  |Conf Loss   |No Obj Loss |Class Loss  |\n",
      "67.260      |34.604      |22.870      |9.586       |0.200       |\n",
      "---------------------------------------------------\n",
      "Valid: \t mAP@50: 0.000006, mAP@75: 0.000000, mAP@90: 0.000000, Mean Loss: 67.260036\n",
      "Noise level 1: 0.07\n",
      "Noise level 3: 0.0025\n"
     ]
    },
    {
     "name": "stderr",
     "output_type": "stream",
     "text": [
      "Eval: Valid: : 100%|██████████| 88/88 [00:06<00:00, 14.05it/s]\n"
     ]
    },
    {
     "name": "stdout",
     "output_type": "stream",
     "text": [
      "---------------------------------------------------\n",
      "-------------Loss Summary eval Valid--------------\n",
      "Total Loss  |Loss Coord  |Conf Loss   |No Obj Loss |Class Loss  |\n",
      "71.172      |34.239      |23.123      |13.586      |0.223       |\n",
      "---------------------------------------------------\n",
      "Valid: \t mAP@50: 0.000000, mAP@75: 0.000000, mAP@90: 0.000000, Mean Loss: 71.171912\n",
      "Noise level 1: 0.07\n",
      "Noise level 3: 0.005\n"
     ]
    },
    {
     "name": "stderr",
     "output_type": "stream",
     "text": [
      "Eval: Valid: : 100%|██████████| 88/88 [00:08<00:00, 10.64it/s]\n"
     ]
    },
    {
     "name": "stdout",
     "output_type": "stream",
     "text": [
      "---------------------------------------------------\n",
      "-------------Loss Summary eval Valid--------------\n",
      "Total Loss  |Loss Coord  |Conf Loss   |No Obj Loss |Class Loss  |\n",
      "108.059     |38.112      |22.179      |47.252      |0.515       |\n",
      "---------------------------------------------------\n",
      "Valid: \t mAP@50: 0.000181, mAP@75: 0.000001, mAP@90: 0.000000, Mean Loss: 108.058511\n",
      "Noise level 1: 0.08\n",
      "Noise level 3: 0\n"
     ]
    },
    {
     "name": "stderr",
     "output_type": "stream",
     "text": [
      "Eval: Valid: : 100%|██████████| 88/88 [00:08<00:00, 10.44it/s]\n"
     ]
    },
    {
     "name": "stdout",
     "output_type": "stream",
     "text": [
      "---------------------------------------------------\n",
      "-------------Loss Summary eval Valid--------------\n",
      "Total Loss  |Loss Coord  |Conf Loss   |No Obj Loss |Class Loss  |\n",
      "108.133     |37.891      |22.137      |47.585      |0.519       |\n",
      "---------------------------------------------------\n",
      "Valid: \t mAP@50: 0.000195, mAP@75: 0.000000, mAP@90: 0.000000, Mean Loss: 108.132749\n",
      "Noise level 1: 0.08\n",
      "Noise level 3: 0.001\n"
     ]
    },
    {
     "name": "stderr",
     "output_type": "stream",
     "text": [
      "Eval: Valid: : 100%|██████████| 88/88 [00:07<00:00, 12.48it/s]\n"
     ]
    },
    {
     "name": "stdout",
     "output_type": "stream",
     "text": [
      "---------------------------------------------------\n",
      "-------------Loss Summary eval Valid--------------\n",
      "Total Loss  |Loss Coord  |Conf Loss   |No Obj Loss |Class Loss  |\n",
      "99.456      |36.685      |22.662      |39.578      |0.531       |\n",
      "---------------------------------------------------\n",
      "Valid: \t mAP@50: 0.000091, mAP@75: 0.000001, mAP@90: 0.000000, Mean Loss: 99.455631\n",
      "Noise level 1: 0.08\n",
      "Noise level 3: 0.0025\n"
     ]
    },
    {
     "name": "stderr",
     "output_type": "stream",
     "text": [
      "Eval: Valid: : 100%|██████████| 88/88 [00:07<00:00, 11.22it/s]\n"
     ]
    },
    {
     "name": "stdout",
     "output_type": "stream",
     "text": [
      "---------------------------------------------------\n",
      "-------------Loss Summary eval Valid--------------\n",
      "Total Loss  |Loss Coord  |Conf Loss   |No Obj Loss |Class Loss  |\n",
      "100.949     |37.522      |22.041      |40.950      |0.436       |\n",
      "---------------------------------------------------\n",
      "Valid: \t mAP@50: 0.000490, mAP@75: 0.000002, mAP@90: 0.000000, Mean Loss: 100.949154\n",
      "Noise level 1: 0.08\n",
      "Noise level 3: 0.005\n"
     ]
    },
    {
     "name": "stderr",
     "output_type": "stream",
     "text": [
      "Eval: Valid: : 100%|██████████| 88/88 [01:54<00:00,  1.30s/it]\n"
     ]
    },
    {
     "name": "stdout",
     "output_type": "stream",
     "text": [
      "---------------------------------------------------\n",
      "-------------Loss Summary eval Valid--------------\n",
      "Total Loss  |Loss Coord  |Conf Loss   |No Obj Loss |Class Loss  |\n",
      "970.096     |416.885     |17.728      |526.558     |8.926       |\n",
      "---------------------------------------------------\n",
      "Valid: \t mAP@50: 0.000004, mAP@75: 0.000000, mAP@90: 0.000000, Mean Loss: 970.096299\n",
      "Noise level 1: 0.1\n",
      "Noise level 3: 0\n"
     ]
    },
    {
     "name": "stderr",
     "output_type": "stream",
     "text": [
      "Eval: Valid: : 100%|██████████| 88/88 [01:53<00:00,  1.29s/it]\n"
     ]
    },
    {
     "name": "stdout",
     "output_type": "stream",
     "text": [
      "---------------------------------------------------\n",
      "-------------Loss Summary eval Valid--------------\n",
      "Total Loss  |Loss Coord  |Conf Loss   |No Obj Loss |Class Loss  |\n",
      "949.140     |406.989     |17.408      |515.976     |8.766       |\n",
      "---------------------------------------------------\n",
      "Valid: \t mAP@50: 0.000004, mAP@75: 0.000000, mAP@90: 0.000000, Mean Loss: 949.139516\n",
      "Noise level 1: 0.1\n",
      "Noise level 3: 0.001\n"
     ]
    },
    {
     "name": "stderr",
     "output_type": "stream",
     "text": [
      "Eval: Valid: : 100%|██████████| 88/88 [01:11<00:00,  1.23it/s]\n"
     ]
    },
    {
     "name": "stdout",
     "output_type": "stream",
     "text": [
      "---------------------------------------------------\n",
      "-------------Loss Summary eval Valid--------------\n",
      "Total Loss  |Loss Coord  |Conf Loss   |No Obj Loss |Class Loss  |\n",
      "577.913     |206.852     |18.507      |348.538     |4.016       |\n",
      "---------------------------------------------------\n",
      "Valid: \t mAP@50: 0.000019, mAP@75: 0.000000, mAP@90: 0.000000, Mean Loss: 577.912690\n",
      "Noise level 1: 0.1\n",
      "Noise level 3: 0.0025\n"
     ]
    },
    {
     "name": "stderr",
     "output_type": "stream",
     "text": [
      "Eval: Valid: : 100%|██████████| 88/88 [00:36<00:00,  2.38it/s]\n"
     ]
    },
    {
     "name": "stdout",
     "output_type": "stream",
     "text": [
      "---------------------------------------------------\n",
      "-------------Loss Summary eval Valid--------------\n",
      "Total Loss  |Loss Coord  |Conf Loss   |No Obj Loss |Class Loss  |\n",
      "347.046     |94.564      |19.672      |230.827     |1.983       |\n",
      "---------------------------------------------------\n",
      "Valid: \t mAP@50: 0.000249, mAP@75: 0.000000, mAP@90: 0.000000, Mean Loss: 347.045591\n",
      "Noise level 1: 0.1\n",
      "Noise level 3: 0.005\n"
     ]
    },
    {
     "name": "stderr",
     "output_type": "stream",
     "text": [
      "Eval: Valid: : 100%|██████████| 88/88 [02:47<00:00,  1.91s/it]\n"
     ]
    },
    {
     "name": "stdout",
     "output_type": "stream",
     "text": [
      "---------------------------------------------------\n",
      "-------------Loss Summary eval Valid--------------\n",
      "Total Loss  |Loss Coord  |Conf Loss   |No Obj Loss |Class Loss  |\n",
      "1832.443    |595.924     |27.872      |1190.671    |17.977      |\n",
      "---------------------------------------------------\n",
      "Valid: \t mAP@50: 0.000225, mAP@75: 0.000001, mAP@90: 0.000000, Mean Loss: 1832.443460\n",
      "Noise level 1: 0.125\n",
      "Noise level 3: 0\n"
     ]
    },
    {
     "name": "stderr",
     "output_type": "stream",
     "text": [
      "Eval: Valid: : 100%|██████████| 88/88 [02:41<00:00,  1.83s/it]\n"
     ]
    },
    {
     "name": "stdout",
     "output_type": "stream",
     "text": [
      "---------------------------------------------------\n",
      "-------------Loss Summary eval Valid--------------\n",
      "Total Loss  |Loss Coord  |Conf Loss   |No Obj Loss |Class Loss  |\n",
      "1636.750    |515.594     |26.966      |1078.846    |15.344      |\n",
      "---------------------------------------------------\n",
      "Valid: \t mAP@50: 0.000270, mAP@75: 0.000001, mAP@90: 0.000000, Mean Loss: 1636.750426\n",
      "Noise level 1: 0.125\n",
      "Noise level 3: 0.001\n"
     ]
    },
    {
     "name": "stderr",
     "output_type": "stream",
     "text": [
      "Eval: Valid: : 100%|██████████| 88/88 [02:35<00:00,  1.77s/it]\n"
     ]
    },
    {
     "name": "stdout",
     "output_type": "stream",
     "text": [
      "---------------------------------------------------\n",
      "-------------Loss Summary eval Valid--------------\n",
      "Total Loss  |Loss Coord  |Conf Loss   |No Obj Loss |Class Loss  |\n",
      "1677.053    |542.298     |23.769      |1092.937    |18.049      |\n",
      "---------------------------------------------------\n",
      "Valid: \t mAP@50: 0.000334, mAP@75: 0.000001, mAP@90: 0.000000, Mean Loss: 1677.052832\n",
      "Noise level 1: 0.125\n",
      "Noise level 3: 0.0025\n"
     ]
    },
    {
     "name": "stderr",
     "output_type": "stream",
     "text": [
      "Eval: Valid: : 100%|██████████| 88/88 [05:33<00:00,  3.79s/it]\n"
     ]
    },
    {
     "name": "stdout",
     "output_type": "stream",
     "text": [
      "---------------------------------------------------\n",
      "-------------Loss Summary eval Valid--------------\n",
      "Total Loss  |Loss Coord  |Conf Loss   |No Obj Loss |Class Loss  |\n",
      "11677.030   |5887.267    |63.864      |5356.026    |369.873     |\n",
      "---------------------------------------------------\n",
      "Valid: \t mAP@50: 0.000000, mAP@75: 0.000000, mAP@90: 0.000000, Mean Loss: 11677.029774\n",
      "Noise level 1: 0.125\n",
      "Noise level 3: 0.005\n"
     ]
    },
    {
     "name": "stderr",
     "output_type": "stream",
     "text": [
      "Eval: Valid: : 100%|██████████| 88/88 [00:11<00:00,  7.36it/s]\n"
     ]
    },
    {
     "name": "stdout",
     "output_type": "stream",
     "text": [
      "---------------------------------------------------\n",
      "-------------Loss Summary eval Valid--------------\n",
      "Total Loss  |Loss Coord  |Conf Loss   |No Obj Loss |Class Loss  |\n",
      "192.046     |59.945      |20.090      |108.909     |3.101       |\n",
      "---------------------------------------------------\n",
      "Valid: \t mAP@50: 0.002262, mAP@75: 0.000016, mAP@90: 0.000000, Mean Loss: 192.046123\n",
      "Noise level 1: 0.15\n",
      "Noise level 3: 0\n"
     ]
    },
    {
     "name": "stderr",
     "output_type": "stream",
     "text": [
      "Eval: Valid: : 100%|██████████| 88/88 [00:16<00:00,  5.39it/s]\n"
     ]
    },
    {
     "name": "stdout",
     "output_type": "stream",
     "text": [
      "---------------------------------------------------\n",
      "-------------Loss Summary eval Valid--------------\n",
      "Total Loss  |Loss Coord  |Conf Loss   |No Obj Loss |Class Loss  |\n",
      "235.629     |68.324      |19.724      |143.680     |3.901       |\n",
      "---------------------------------------------------\n",
      "Valid: \t mAP@50: 0.002917, mAP@75: 0.000022, mAP@90: 0.000000, Mean Loss: 235.628851\n",
      "Noise level 1: 0.15\n",
      "Noise level 3: 0.001\n"
     ]
    },
    {
     "name": "stderr",
     "output_type": "stream",
     "text": [
      "Eval: Valid: : 100%|██████████| 88/88 [00:16<00:00,  5.39it/s]\n"
     ]
    },
    {
     "name": "stdout",
     "output_type": "stream",
     "text": [
      "---------------------------------------------------\n",
      "-------------Loss Summary eval Valid--------------\n",
      "Total Loss  |Loss Coord  |Conf Loss   |No Obj Loss |Class Loss  |\n",
      "221.711     |63.376      |19.163      |135.526     |3.645       |\n",
      "---------------------------------------------------\n",
      "Valid: \t mAP@50: 0.003431, mAP@75: 0.000045, mAP@90: 0.000000, Mean Loss: 221.710568\n",
      "Noise level 1: 0.15\n",
      "Noise level 3: 0.0025\n"
     ]
    },
    {
     "name": "stderr",
     "output_type": "stream",
     "text": [
      "Eval: Valid: : 100%|██████████| 88/88 [01:22<00:00,  1.07it/s]\n"
     ]
    },
    {
     "name": "stdout",
     "output_type": "stream",
     "text": [
      "---------------------------------------------------\n",
      "-------------Loss Summary eval Valid--------------\n",
      "Total Loss  |Loss Coord  |Conf Loss   |No Obj Loss |Class Loss  |\n",
      "623.057     |126.411     |18.254      |468.932     |9.460       |\n",
      "---------------------------------------------------\n",
      "Valid: \t mAP@50: 0.003002, mAP@75: 0.000002, mAP@90: 0.000000, Mean Loss: 623.056774\n",
      "Noise level 1: 0.15\n",
      "Noise level 3: 0.005\n"
     ]
    },
    {
     "name": "stderr",
     "output_type": "stream",
     "text": [
      "Eval: Valid: : 100%|██████████| 88/88 [02:37<00:00,  1.79s/it]\n"
     ]
    },
    {
     "name": "stdout",
     "output_type": "stream",
     "text": [
      "---------------------------------------------------\n",
      "-------------Loss Summary eval Valid--------------\n",
      "Total Loss  |Loss Coord  |Conf Loss   |No Obj Loss |Class Loss  |\n",
      "1004.966    |138.889     |18.454      |836.744     |10.879      |\n",
      "---------------------------------------------------\n",
      "Valid: \t mAP@50: 0.002823, mAP@75: 0.000004, mAP@90: 0.000000, Mean Loss: 1004.965500\n",
      "Noise level 1: 0.2\n",
      "Noise level 3: 0\n"
     ]
    },
    {
     "name": "stderr",
     "output_type": "stream",
     "text": [
      "Eval: Valid: : 100%|██████████| 88/88 [02:56<00:00,  2.01s/it]\n"
     ]
    },
    {
     "name": "stdout",
     "output_type": "stream",
     "text": [
      "---------------------------------------------------\n",
      "-------------Loss Summary eval Valid--------------\n",
      "Total Loss  |Loss Coord  |Conf Loss   |No Obj Loss |Class Loss  |\n",
      "1339.246    |283.551     |21.335      |1018.320    |16.039      |\n",
      "---------------------------------------------------\n",
      "Valid: \t mAP@50: 0.001487, mAP@75: 0.000001, mAP@90: 0.000000, Mean Loss: 1339.246283\n",
      "Noise level 1: 0.2\n",
      "Noise level 3: 0.001\n"
     ]
    },
    {
     "name": "stderr",
     "output_type": "stream",
     "text": [
      "Eval: Valid: : 100%|██████████| 88/88 [02:48<00:00,  1.92s/it]\n"
     ]
    },
    {
     "name": "stdout",
     "output_type": "stream",
     "text": [
      "---------------------------------------------------\n",
      "-------------Loss Summary eval Valid--------------\n",
      "Total Loss  |Loss Coord  |Conf Loss   |No Obj Loss |Class Loss  |\n",
      "1510.455    |356.407     |20.713      |1112.378    |20.957      |\n",
      "---------------------------------------------------\n",
      "Valid: \t mAP@50: 0.001170, mAP@75: 0.000003, mAP@90: 0.000000, Mean Loss: 1510.454539\n",
      "Noise level 1: 0.2\n",
      "Noise level 3: 0.0025\n"
     ]
    },
    {
     "name": "stderr",
     "output_type": "stream",
     "text": [
      "Eval: Valid: : 100%|██████████| 88/88 [03:30<00:00,  2.40s/it]\n"
     ]
    },
    {
     "name": "stdout",
     "output_type": "stream",
     "text": [
      "---------------------------------------------------\n",
      "-------------Loss Summary eval Valid--------------\n",
      "Total Loss  |Loss Coord  |Conf Loss   |No Obj Loss |Class Loss  |\n",
      "2476.033    |506.999     |23.504      |1917.184    |28.346      |\n",
      "---------------------------------------------------\n",
      "Valid: \t mAP@50: 0.000978, mAP@75: 0.000001, mAP@90: 0.000000, Mean Loss: 2476.032785\n",
      "Noise level 1: 0.2\n",
      "Noise level 3: 0.005\n"
     ]
    },
    {
     "name": "stderr",
     "output_type": "stream",
     "text": [
      "Eval: Valid: : 100%|██████████| 88/88 [06:50<00:00,  4.66s/it]\n"
     ]
    },
    {
     "name": "stdout",
     "output_type": "stream",
     "text": [
      "---------------------------------------------------\n",
      "-------------Loss Summary eval Valid--------------\n",
      "Total Loss  |Loss Coord  |Conf Loss   |No Obj Loss |Class Loss  |\n",
      "31226.197   |10652.308   |259.732     |19469.731   |844.426     |\n",
      "---------------------------------------------------\n",
      "Valid: \t mAP@50: 0.000001, mAP@75: 0.000000, mAP@90: 0.000000, Mean Loss: 31226.197421\n",
      "Noise level 1: 0.3\n",
      "Noise level 3: 0\n"
     ]
    },
    {
     "name": "stderr",
     "output_type": "stream",
     "text": [
      "Eval: Valid: : 100%|██████████| 88/88 [06:57<00:00,  4.74s/it]\n"
     ]
    },
    {
     "name": "stdout",
     "output_type": "stream",
     "text": [
      "---------------------------------------------------\n",
      "-------------Loss Summary eval Valid--------------\n",
      "Total Loss  |Loss Coord  |Conf Loss   |No Obj Loss |Class Loss  |\n",
      "2123155.420 |713667.575  |24709.828   |1192308.237 |192469.767  |\n",
      "---------------------------------------------------\n",
      "Valid: \t mAP@50: 0.000000, mAP@75: 0.000000, mAP@90: 0.000000, Mean Loss: 2123155.419744\n",
      "Noise level 1: 0.3\n",
      "Noise level 3: 0.001\n"
     ]
    },
    {
     "name": "stderr",
     "output_type": "stream",
     "text": [
      "Eval: Valid: : 100%|██████████| 88/88 [06:47<00:00,  4.63s/it]\n"
     ]
    },
    {
     "name": "stdout",
     "output_type": "stream",
     "text": [
      "---------------------------------------------------\n",
      "-------------Loss Summary eval Valid--------------\n",
      "Total Loss  |Loss Coord  |Conf Loss   |No Obj Loss |Class Loss  |\n",
      "3737773.844 |1264591.633 |42236.012   |2078317.881 |352628.319  |\n",
      "---------------------------------------------------\n",
      "Valid: \t mAP@50: 0.000000, mAP@75: 0.000000, mAP@90: 0.000000, Mean Loss: 3737773.843750\n",
      "Noise level 1: 0.3\n",
      "Noise level 3: 0.0025\n"
     ]
    },
    {
     "name": "stderr",
     "output_type": "stream",
     "text": [
      "Eval: Valid: : 100%|██████████| 88/88 [06:06<00:00,  4.17s/it]\n"
     ]
    },
    {
     "name": "stdout",
     "output_type": "stream",
     "text": [
      "---------------------------------------------------\n",
      "-------------Loss Summary eval Valid--------------\n",
      "Total Loss  |Loss Coord  |Conf Loss   |No Obj Loss |Class Loss  |\n",
      "1318446.796 |462485.518  |13118.146   |741565.619  |101277.519  |\n",
      "---------------------------------------------------\n",
      "Valid: \t mAP@50: 0.000000, mAP@75: 0.000000, mAP@90: 0.000000, Mean Loss: 1318446.796165\n",
      "Noise level 1: 0.3\n",
      "Noise level 3: 0.005\n"
     ]
    },
    {
     "name": "stderr",
     "output_type": "stream",
     "text": [
      "Eval: Valid: : 100%|██████████| 88/88 [07:38<00:00,  5.21s/it]\n"
     ]
    },
    {
     "name": "stdout",
     "output_type": "stream",
     "text": [
      "---------------------------------------------------\n",
      "-------------Loss Summary eval Valid--------------\n",
      "Total Loss  |Loss Coord  |Conf Loss   |No Obj Loss |Class Loss  |\n",
      "1626451.210 |337474.608  |16246.152   |1250855.352 |21875.083   |\n",
      "---------------------------------------------------\n",
      "Valid: \t mAP@50: 0.000000, mAP@75: 0.000000, mAP@90: 0.000000, Mean Loss: 1626451.210227\n"
     ]
    }
   ],
   "source": [
    "case1=True\n",
    "case2=False\n",
    "case3=True\n",
    "noise_level_case_1  = [0, 0.01, 0.03, 0.05, 0.07, 0.08, 0.1, 0.125 ,0.15, 0.2, 0.3] if case1 else [0]\n",
    "noise_level_case_3 = [0, 0.001, 0.0025, 0.005] if case3 else [0]\n",
    "test_noise(case1 = case1, noise_level_case_1 = noise_level_case_1, \n",
    "           case2 = case2, noise_level_case_2 = [0],\n",
    "           case3 = case3, noise_level_case_3 = noise_level_case_3)"
   ]
  },
  {
   "cell_type": "markdown",
   "id": "6ddc66d7-1c34-4a76-82f4-ac01e966c58e",
   "metadata": {},
   "source": [
    "## **Test case 2 y case 3**"
   ]
  },
  {
   "cell_type": "code",
   "execution_count": 9,
   "id": "eb8ab219-b9e4-4589-8df7-b9941cee1913",
   "metadata": {
    "scrolled": true
   },
   "outputs": [
    {
     "name": "stdout",
     "output_type": "stream",
     "text": [
      "Test with case1: False, case2: True, case3: True\n",
      "File case2_case3_results_noise.txt exists. Deleting...\n",
      "=> Loading checkpoint\n",
      "Model loaded: efficientnet/Adam_None_Airbus_256_BATCH_32_LR_0.0005/model/93_YOLO_best.pth.tar\n",
      "Noise level 2: 0\n",
      "Noise level 3: 0\n"
     ]
    },
    {
     "name": "stderr",
     "output_type": "stream",
     "text": [
      "Eval: Valid: : 100%|██████████| 88/88 [00:06<00:00, 14.47it/s]\n"
     ]
    },
    {
     "name": "stdout",
     "output_type": "stream",
     "text": [
      "---------------------------------------------------\n",
      "-------------Loss Summary eval Valid--------------\n",
      "Total Loss  |Loss Coord  |Conf Loss   |No Obj Loss |Class Loss  |\n",
      "13.087      |5.913       |4.003       |3.105       |0.065       |\n",
      "---------------------------------------------------\n",
      "Valid: \t mAP@50: 0.836296, mAP@75: 0.495590, mAP@90: 0.015711, Mean Loss: 13.086825\n",
      "Noise level 2: 0\n",
      "Noise level 3: 0.001\n"
     ]
    },
    {
     "name": "stderr",
     "output_type": "stream",
     "text": [
      "Eval: Valid: : 100%|██████████| 88/88 [00:06<00:00, 12.89it/s]\n"
     ]
    },
    {
     "name": "stdout",
     "output_type": "stream",
     "text": [
      "---------------------------------------------------\n",
      "-------------Loss Summary eval Valid--------------\n",
      "Total Loss  |Loss Coord  |Conf Loss   |No Obj Loss |Class Loss  |\n",
      "13.509      |6.083       |4.218       |3.139       |0.069       |\n",
      "---------------------------------------------------\n",
      "Valid: \t mAP@50: 0.828931, mAP@75: 0.467767, mAP@90: 0.016497, Mean Loss: 13.508835\n",
      "Noise level 2: 0\n",
      "Noise level 3: 0.0025\n"
     ]
    },
    {
     "name": "stderr",
     "output_type": "stream",
     "text": [
      "Eval: Valid: : 100%|██████████| 88/88 [00:06<00:00, 14.13it/s]\n"
     ]
    },
    {
     "name": "stdout",
     "output_type": "stream",
     "text": [
      "---------------------------------------------------\n",
      "-------------Loss Summary eval Valid--------------\n",
      "Total Loss  |Loss Coord  |Conf Loss   |No Obj Loss |Class Loss  |\n",
      "16.454      |7.854       |5.188       |3.167       |0.246       |\n",
      "---------------------------------------------------\n",
      "Valid: \t mAP@50: 0.777652, mAP@75: 0.227270, mAP@90: 0.002043, Mean Loss: 16.454292\n",
      "Noise level 2: 0\n",
      "Noise level 3: 0.005\n"
     ]
    },
    {
     "name": "stderr",
     "output_type": "stream",
     "text": [
      "Eval: Valid: : 100%|██████████| 88/88 [00:06<00:00, 14.23it/s]\n"
     ]
    },
    {
     "name": "stdout",
     "output_type": "stream",
     "text": [
      "---------------------------------------------------\n",
      "-------------Loss Summary eval Valid--------------\n",
      "Total Loss  |Loss Coord  |Conf Loss   |No Obj Loss |Class Loss  |\n",
      "23.807      |12.074      |8.292       |3.312       |0.129       |\n",
      "---------------------------------------------------\n",
      "Valid: \t mAP@50: 0.549897, mAP@75: 0.199157, mAP@90: 0.003310, Mean Loss: 23.807014\n",
      "Noise level 2: 0.05\n",
      "Noise level 3: 0\n"
     ]
    },
    {
     "name": "stderr",
     "output_type": "stream",
     "text": [
      "Eval: Valid: : 100%|██████████| 88/88 [00:06<00:00, 14.19it/s]\n"
     ]
    },
    {
     "name": "stdout",
     "output_type": "stream",
     "text": [
      "---------------------------------------------------\n",
      "-------------Loss Summary eval Valid--------------\n",
      "Total Loss  |Loss Coord  |Conf Loss   |No Obj Loss |Class Loss  |\n",
      "28.296      |12.621      |8.348       |7.139       |0.188       |\n",
      "---------------------------------------------------\n",
      "Valid: \t mAP@50: 0.548043, mAP@75: 0.173951, mAP@90: 0.002301, Mean Loss: 28.295815\n",
      "Noise level 2: 0.05\n",
      "Noise level 3: 0.001\n"
     ]
    },
    {
     "name": "stderr",
     "output_type": "stream",
     "text": [
      "Eval: Valid: : 100%|██████████| 88/88 [00:06<00:00, 14.23it/s]\n"
     ]
    },
    {
     "name": "stdout",
     "output_type": "stream",
     "text": [
      "---------------------------------------------------\n",
      "-------------Loss Summary eval Valid--------------\n",
      "Total Loss  |Loss Coord  |Conf Loss   |No Obj Loss |Class Loss  |\n",
      "30.324      |13.872      |8.985       |7.251       |0.216       |\n",
      "---------------------------------------------------\n",
      "Valid: \t mAP@50: 0.503865, mAP@75: 0.148084, mAP@90: 0.001530, Mean Loss: 30.324154\n",
      "Noise level 2: 0.05\n",
      "Noise level 3: 0.0025\n"
     ]
    },
    {
     "name": "stderr",
     "output_type": "stream",
     "text": [
      "Eval: Valid: : 100%|██████████| 88/88 [00:06<00:00, 14.33it/s]\n"
     ]
    },
    {
     "name": "stdout",
     "output_type": "stream",
     "text": [
      "---------------------------------------------------\n",
      "-------------Loss Summary eval Valid--------------\n",
      "Total Loss  |Loss Coord  |Conf Loss   |No Obj Loss |Class Loss  |\n",
      "47.607      |25.575      |14.669      |7.165       |0.199       |\n",
      "---------------------------------------------------\n",
      "Valid: \t mAP@50: 0.244008, mAP@75: 0.028403, mAP@90: 0.000042, Mean Loss: 47.607365\n",
      "Noise level 2: 0.05\n",
      "Noise level 3: 0.005\n"
     ]
    },
    {
     "name": "stderr",
     "output_type": "stream",
     "text": [
      "Eval: Valid: : 100%|██████████| 88/88 [00:05<00:00, 14.95it/s]\n"
     ]
    },
    {
     "name": "stdout",
     "output_type": "stream",
     "text": [
      "---------------------------------------------------\n",
      "-------------Loss Summary eval Valid--------------\n",
      "Total Loss  |Loss Coord  |Conf Loss   |No Obj Loss |Class Loss  |\n",
      "77.660      |40.152      |21.873      |15.322      |0.313       |\n",
      "---------------------------------------------------\n",
      "Valid: \t mAP@50: 0.000386, mAP@75: 0.000000, mAP@90: 0.000000, Mean Loss: 77.659669\n",
      "Noise level 2: 0.1\n",
      "Noise level 3: 0\n"
     ]
    },
    {
     "name": "stderr",
     "output_type": "stream",
     "text": [
      "Eval: Valid: : 100%|██████████| 88/88 [00:06<00:00, 14.18it/s]\n"
     ]
    },
    {
     "name": "stdout",
     "output_type": "stream",
     "text": [
      "---------------------------------------------------\n",
      "-------------Loss Summary eval Valid--------------\n",
      "Total Loss  |Loss Coord  |Conf Loss   |No Obj Loss |Class Loss  |\n",
      "91.150      |41.739      |21.991      |26.925      |0.495       |\n",
      "---------------------------------------------------\n",
      "Valid: \t mAP@50: 0.000289, mAP@75: 0.000001, mAP@90: 0.000000, Mean Loss: 91.149685\n",
      "Noise level 2: 0.1\n",
      "Noise level 3: 0.001\n"
     ]
    },
    {
     "name": "stderr",
     "output_type": "stream",
     "text": [
      "Eval: Valid: : 100%|██████████| 88/88 [00:06<00:00, 14.11it/s]\n"
     ]
    },
    {
     "name": "stdout",
     "output_type": "stream",
     "text": [
      "---------------------------------------------------\n",
      "-------------Loss Summary eval Valid--------------\n",
      "Total Loss  |Loss Coord  |Conf Loss   |No Obj Loss |Class Loss  |\n",
      "91.310      |41.075      |21.956      |27.709      |0.570       |\n",
      "---------------------------------------------------\n",
      "Valid: \t mAP@50: 0.000342, mAP@75: 0.000000, mAP@90: 0.000000, Mean Loss: 91.309756\n",
      "Noise level 2: 0.1\n",
      "Noise level 3: 0.0025\n"
     ]
    },
    {
     "name": "stderr",
     "output_type": "stream",
     "text": [
      "Eval: Valid: : 100%|██████████| 88/88 [00:06<00:00, 14.32it/s]\n"
     ]
    },
    {
     "name": "stdout",
     "output_type": "stream",
     "text": [
      "---------------------------------------------------\n",
      "-------------Loss Summary eval Valid--------------\n",
      "Total Loss  |Loss Coord  |Conf Loss   |No Obj Loss |Class Loss  |\n",
      "95.943      |43.703      |22.099      |29.182      |0.960       |\n",
      "---------------------------------------------------\n",
      "Valid: \t mAP@50: 0.000730, mAP@75: 0.000002, mAP@90: 0.000000, Mean Loss: 95.943354\n",
      "Noise level 2: 0.1\n",
      "Noise level 3: 0.005\n"
     ]
    },
    {
     "name": "stderr",
     "output_type": "stream",
     "text": [
      "Eval: Valid: : 100%|██████████| 88/88 [00:06<00:00, 14.16it/s]\n"
     ]
    },
    {
     "name": "stdout",
     "output_type": "stream",
     "text": [
      "---------------------------------------------------\n",
      "-------------Loss Summary eval Valid--------------\n",
      "Total Loss  |Loss Coord  |Conf Loss   |No Obj Loss |Class Loss  |\n",
      "103.586     |46.948      |20.274      |34.812      |1.552       |\n",
      "---------------------------------------------------\n",
      "Valid: \t mAP@50: 0.004969, mAP@75: 0.000026, mAP@90: 0.000000, Mean Loss: 103.585797\n",
      "Noise level 2: 0.15\n",
      "Noise level 3: 0\n"
     ]
    },
    {
     "name": "stderr",
     "output_type": "stream",
     "text": [
      "Eval: Valid: : 100%|██████████| 88/88 [00:06<00:00, 14.44it/s]\n"
     ]
    },
    {
     "name": "stdout",
     "output_type": "stream",
     "text": [
      "---------------------------------------------------\n",
      "-------------Loss Summary eval Valid--------------\n",
      "Total Loss  |Loss Coord  |Conf Loss   |No Obj Loss |Class Loss  |\n",
      "125.295     |48.834      |20.767      |53.794      |1.901       |\n",
      "---------------------------------------------------\n",
      "Valid: \t mAP@50: 0.005265, mAP@75: 0.000091, mAP@90: 0.000000, Mean Loss: 125.294848\n",
      "Noise level 2: 0.15\n",
      "Noise level 3: 0.001\n"
     ]
    },
    {
     "name": "stderr",
     "output_type": "stream",
     "text": [
      "Eval: Valid: : 100%|██████████| 88/88 [00:06<00:00, 14.32it/s]\n"
     ]
    },
    {
     "name": "stdout",
     "output_type": "stream",
     "text": [
      "---------------------------------------------------\n",
      "-------------Loss Summary eval Valid--------------\n",
      "Total Loss  |Loss Coord  |Conf Loss   |No Obj Loss |Class Loss  |\n",
      "124.760     |49.117      |20.178      |53.656      |1.808       |\n",
      "---------------------------------------------------\n",
      "Valid: \t mAP@50: 0.004456, mAP@75: 0.000079, mAP@90: 0.000000, Mean Loss: 124.759742\n",
      "Noise level 2: 0.15\n",
      "Noise level 3: 0.0025\n"
     ]
    },
    {
     "name": "stderr",
     "output_type": "stream",
     "text": [
      "Eval: Valid: : 100%|██████████| 88/88 [00:06<00:00, 13.46it/s]\n"
     ]
    },
    {
     "name": "stdout",
     "output_type": "stream",
     "text": [
      "---------------------------------------------------\n",
      "-------------Loss Summary eval Valid--------------\n",
      "Total Loss  |Loss Coord  |Conf Loss   |No Obj Loss |Class Loss  |\n",
      "130.590     |52.733      |21.317      |54.644      |1.897       |\n",
      "---------------------------------------------------\n",
      "Valid: \t mAP@50: 0.001387, mAP@75: 0.000005, mAP@90: 0.000000, Mean Loss: 130.590451\n",
      "Noise level 2: 0.15\n",
      "Noise level 3: 0.005\n"
     ]
    },
    {
     "name": "stderr",
     "output_type": "stream",
     "text": [
      "Eval: Valid: : 100%|██████████| 88/88 [00:07<00:00, 12.34it/s]\n"
     ]
    },
    {
     "name": "stdout",
     "output_type": "stream",
     "text": [
      "---------------------------------------------------\n",
      "-------------Loss Summary eval Valid--------------\n",
      "Total Loss  |Loss Coord  |Conf Loss   |No Obj Loss |Class Loss  |\n",
      "130.355     |44.744      |19.776      |64.391      |1.444       |\n",
      "---------------------------------------------------\n",
      "Valid: \t mAP@50: 0.005668, mAP@75: 0.000037, mAP@90: 0.000000, Mean Loss: 130.355220\n",
      "Noise level 2: 0.2\n",
      "Noise level 3: 0\n"
     ]
    },
    {
     "name": "stderr",
     "output_type": "stream",
     "text": [
      "Eval: Valid: : 100%|██████████| 88/88 [00:09<00:00,  9.48it/s]\n"
     ]
    },
    {
     "name": "stdout",
     "output_type": "stream",
     "text": [
      "---------------------------------------------------\n",
      "-------------Loss Summary eval Valid--------------\n",
      "Total Loss  |Loss Coord  |Conf Loss   |No Obj Loss |Class Loss  |\n",
      "162.379     |48.972      |20.427      |91.150      |1.830       |\n",
      "---------------------------------------------------\n",
      "Valid: \t mAP@50: 0.004189, mAP@75: 0.000039, mAP@90: 0.000001, Mean Loss: 162.378656\n",
      "Noise level 2: 0.2\n",
      "Noise level 3: 0.001\n"
     ]
    },
    {
     "name": "stderr",
     "output_type": "stream",
     "text": [
      "Eval: Valid: : 100%|██████████| 88/88 [00:08<00:00,  9.91it/s]\n"
     ]
    },
    {
     "name": "stdout",
     "output_type": "stream",
     "text": [
      "---------------------------------------------------\n",
      "-------------Loss Summary eval Valid--------------\n",
      "Total Loss  |Loss Coord  |Conf Loss   |No Obj Loss |Class Loss  |\n",
      "166.203     |52.157      |20.739      |91.235      |2.073       |\n",
      "---------------------------------------------------\n",
      "Valid: \t mAP@50: 0.004027, mAP@75: 0.000004, mAP@90: 0.000000, Mean Loss: 166.202985\n",
      "Noise level 2: 0.2\n",
      "Noise level 3: 0.0025\n"
     ]
    },
    {
     "name": "stderr",
     "output_type": "stream",
     "text": [
      "Eval: Valid: : 100%|██████████| 88/88 [00:08<00:00, 10.14it/s]\n"
     ]
    },
    {
     "name": "stdout",
     "output_type": "stream",
     "text": [
      "---------------------------------------------------\n",
      "-------------Loss Summary eval Valid--------------\n",
      "Total Loss  |Loss Coord  |Conf Loss   |No Obj Loss |Class Loss  |\n",
      "158.820     |48.087      |20.971      |87.872      |1.890       |\n",
      "---------------------------------------------------\n",
      "Valid: \t mAP@50: 0.001946, mAP@75: 0.000002, mAP@90: 0.000000, Mean Loss: 158.820368\n",
      "Noise level 2: 0.2\n",
      "Noise level 3: 0.005\n"
     ]
    },
    {
     "name": "stderr",
     "output_type": "stream",
     "text": [
      "Eval: Valid: : 100%|██████████| 88/88 [00:13<00:00,  6.72it/s]\n"
     ]
    },
    {
     "name": "stdout",
     "output_type": "stream",
     "text": [
      "---------------------------------------------------\n",
      "-------------Loss Summary eval Valid--------------\n",
      "Total Loss  |Loss Coord  |Conf Loss   |No Obj Loss |Class Loss  |\n",
      "187.437     |51.458      |20.147      |113.562     |2.269       |\n",
      "---------------------------------------------------\n",
      "Valid: \t mAP@50: 0.002069, mAP@75: 0.000011, mAP@90: 0.000000, Mean Loss: 187.436971\n",
      "Noise level 2: 0.3\n",
      "Noise level 3: 0\n"
     ]
    },
    {
     "name": "stderr",
     "output_type": "stream",
     "text": [
      "Eval: Valid: : 100%|██████████| 88/88 [00:28<00:00,  3.04it/s]\n"
     ]
    },
    {
     "name": "stdout",
     "output_type": "stream",
     "text": [
      "---------------------------------------------------\n",
      "-------------Loss Summary eval Valid--------------\n",
      "Total Loss  |Loss Coord  |Conf Loss   |No Obj Loss |Class Loss  |\n",
      "277.679     |62.435      |21.354      |190.477     |3.413       |\n",
      "---------------------------------------------------\n",
      "Valid: \t mAP@50: 0.002292, mAP@75: 0.000004, mAP@90: 0.000000, Mean Loss: 277.679006\n",
      "Noise level 2: 0.3\n",
      "Noise level 3: 0.001\n"
     ]
    },
    {
     "name": "stderr",
     "output_type": "stream",
     "text": [
      "Eval: Valid: : 100%|██████████| 88/88 [00:28<00:00,  3.11it/s]\n"
     ]
    },
    {
     "name": "stdout",
     "output_type": "stream",
     "text": [
      "---------------------------------------------------\n",
      "-------------Loss Summary eval Valid--------------\n",
      "Total Loss  |Loss Coord  |Conf Loss   |No Obj Loss |Class Loss  |\n",
      "273.732     |60.981      |21.468      |188.017     |3.266       |\n",
      "---------------------------------------------------\n",
      "Valid: \t mAP@50: 0.002499, mAP@75: 0.000004, mAP@90: 0.000000, Mean Loss: 273.731767\n",
      "Noise level 2: 0.3\n",
      "Noise level 3: 0.0025\n"
     ]
    },
    {
     "name": "stderr",
     "output_type": "stream",
     "text": [
      "Eval: Valid: : 100%|██████████| 88/88 [00:35<00:00,  2.49it/s]\n"
     ]
    },
    {
     "name": "stdout",
     "output_type": "stream",
     "text": [
      "---------------------------------------------------\n",
      "-------------Loss Summary eval Valid--------------\n",
      "Total Loss  |Loss Coord  |Conf Loss   |No Obj Loss |Class Loss  |\n",
      "340.033     |89.504      |21.057      |223.679     |5.794       |\n",
      "---------------------------------------------------\n",
      "Valid: \t mAP@50: 0.003160, mAP@75: 0.000018, mAP@90: 0.000000, Mean Loss: 340.033499\n",
      "Noise level 2: 0.3\n",
      "Noise level 3: 0.005\n"
     ]
    },
    {
     "name": "stderr",
     "output_type": "stream",
     "text": [
      "Eval: Valid: : 100%|██████████| 88/88 [01:36<00:00,  1.10s/it]\n"
     ]
    },
    {
     "name": "stdout",
     "output_type": "stream",
     "text": [
      "---------------------------------------------------\n",
      "-------------Loss Summary eval Valid--------------\n",
      "Total Loss  |Loss Coord  |Conf Loss   |No Obj Loss |Class Loss  |\n",
      "1849.084    |440.063     |28.009      |1351.986    |29.027      |\n",
      "---------------------------------------------------\n",
      "Valid: \t mAP@50: 0.000562, mAP@75: 0.000001, mAP@90: 0.000000, Mean Loss: 1849.084330\n",
      "Noise level 2: 0.5\n",
      "Noise level 3: 0\n"
     ]
    },
    {
     "name": "stderr",
     "output_type": "stream",
     "text": [
      "Eval: Valid: : 100%|██████████| 88/88 [02:11<00:00,  1.49s/it]\n"
     ]
    },
    {
     "name": "stdout",
     "output_type": "stream",
     "text": [
      "---------------------------------------------------\n",
      "-------------Loss Summary eval Valid--------------\n",
      "Total Loss  |Loss Coord  |Conf Loss   |No Obj Loss |Class Loss  |\n",
      "2134.921    |463.657     |31.901      |1604.927    |34.436      |\n",
      "---------------------------------------------------\n",
      "Valid: \t mAP@50: 0.000575, mAP@75: 0.000000, mAP@90: 0.000000, Mean Loss: 2134.920646\n",
      "Noise level 2: 0.5\n",
      "Noise level 3: 0.001\n"
     ]
    },
    {
     "name": "stderr",
     "output_type": "stream",
     "text": [
      "Eval: Valid: : 100%|██████████| 88/88 [02:17<00:00,  1.56s/it]\n"
     ]
    },
    {
     "name": "stdout",
     "output_type": "stream",
     "text": [
      "---------------------------------------------------\n",
      "-------------Loss Summary eval Valid--------------\n",
      "Total Loss  |Loss Coord  |Conf Loss   |No Obj Loss |Class Loss  |\n",
      "2550.826    |528.342     |35.586      |1949.560    |37.337      |\n",
      "---------------------------------------------------\n",
      "Valid: \t mAP@50: 0.000500, mAP@75: 0.000000, mAP@90: 0.000000, Mean Loss: 2550.825804\n",
      "Noise level 2: 0.5\n",
      "Noise level 3: 0.0025\n"
     ]
    },
    {
     "name": "stderr",
     "output_type": "stream",
     "text": [
      "Eval: Valid: : 100%|██████████| 88/88 [02:47<00:00,  1.90s/it]\n"
     ]
    },
    {
     "name": "stdout",
     "output_type": "stream",
     "text": [
      "---------------------------------------------------\n",
      "-------------Loss Summary eval Valid--------------\n",
      "Total Loss  |Loss Coord  |Conf Loss   |No Obj Loss |Class Loss  |\n",
      "3774.642    |673.243     |48.962      |3010.240    |42.198      |\n",
      "---------------------------------------------------\n",
      "Valid: \t mAP@50: 0.000296, mAP@75: 0.000000, mAP@90: 0.000000, Mean Loss: 3774.642477\n",
      "Noise level 2: 0.5\n",
      "Noise level 3: 0.005\n"
     ]
    },
    {
     "name": "stderr",
     "output_type": "stream",
     "text": [
      "Eval: Valid: : 100%|██████████| 88/88 [03:35<00:00,  2.45s/it]\n"
     ]
    },
    {
     "name": "stdout",
     "output_type": "stream",
     "text": [
      "---------------------------------------------------\n",
      "-------------Loss Summary eval Valid--------------\n",
      "Total Loss  |Loss Coord  |Conf Loss   |No Obj Loss |Class Loss  |\n",
      "102838.904  |8676.896    |907.811     |92728.265   |525.932     |\n",
      "---------------------------------------------------\n",
      "Valid: \t mAP@50: 0.000000, mAP@75: 0.000000, mAP@90: 0.000000, Mean Loss: 102838.904252\n"
     ]
    }
   ],
   "source": [
    "case1=False\n",
    "case2=True\n",
    "case3=True\n",
    "noise_level_case_2  = [0, 0.05, 0.1, 0.15, 0.2, 0.3, 0.5] if case2 else [0]\n",
    "noise_level_case_3 = [0, 0.001, 0.0025, 0.005] if case3 else [0]\n",
    "test_noise(case1 = case1, noise_level_case_1 = [0], \n",
    "           case2 = case2, noise_level_case_2 = noise_level_case_2,\n",
    "           case3 = case3, noise_level_case_3 = noise_level_case_3)"
   ]
  },
  {
   "cell_type": "markdown",
   "id": "bcd29606-0b3e-43c3-a1bd-aafe8af49732",
   "metadata": {},
   "source": [
    "## **Test case 1, case 2 y case 3**"
   ]
  },
  {
   "cell_type": "code",
   "execution_count": 3,
   "id": "1bc5982e-2ea0-468a-a2c6-da841403384a",
   "metadata": {
    "scrolled": true
   },
   "outputs": [
    {
     "name": "stdout",
     "output_type": "stream",
     "text": [
      "Test with case1: True, case2: True, case3: True\n",
      "File case1_case2_case3_results_noise.txt exists. Deleting...\n",
      "=> Loading checkpoint\n",
      "Model loaded: efficientnet/Adam_None_Airbus_256_BATCH_32_LR_0.0005/model/93_YOLO_best.pth.tar\n",
      "Noise level 1: 0\n",
      "Noise level 2: 0\n",
      "Noise level 3: 0\n"
     ]
    },
    {
     "name": "stderr",
     "output_type": "stream",
     "text": [
      "Eval: Valid: :   0%|          | 0/88 [00:00<?, ?it/s]Exception in thread Thread-6 (_pin_memory_loop):\n",
      "Traceback (most recent call last):\n",
      "  File \"/opt/conda/lib/python3.11/threading.py\", line 1038, in _bootstrap_inner\n",
      "    self.run()\n",
      "  File \"/opt/conda/lib/python3.11/threading.py\", line 975, in run\n",
      "    self._target(*self._args, **self._kwargs)\n",
      "  File \"/opt/conda/lib/python3.11/site-packages/torch/utils/data/_utils/pin_memory.py\", line 54, in _pin_memory_loop\n",
      "    do_one_step()\n",
      "  File \"/opt/conda/lib/python3.11/site-packages/torch/utils/data/_utils/pin_memory.py\", line 31, in do_one_step\n",
      "    r = in_queue.get(timeout=MP_STATUS_CHECK_INTERVAL)\n",
      "        ^^^^^^^^^^^^^^^^^^^^^^^^^^^^^^^^^^^^^^^^^^^^^^\n",
      "  File \"/opt/conda/lib/python3.11/multiprocessing/queues.py\", line 122, in get\n",
      "    return _ForkingPickler.loads(res)\n",
      "           ^^^^^^^^^^^^^^^^^^^^^^^^^^\n",
      "  File \"/opt/conda/lib/python3.11/site-packages/torch/multiprocessing/reductions.py\", line 495, in rebuild_storage_fd\n",
      "    fd = df.detach()\n",
      "         ^^^^^^^^^^^\n",
      "  File \"/opt/conda/lib/python3.11/multiprocessing/resource_sharer.py\", line 57, in detach\n",
      "    with _resource_sharer.get_connection(self._id) as conn:\n",
      "         ^^^^^^^^^^^^^^^^^^^^^^^^^^^^^^^^^^^^^^^^^\n",
      "  File \"/opt/conda/lib/python3.11/multiprocessing/resource_sharer.py\", line 86, in get_connection\n",
      "    c = Client(address, authkey=process.current_process().authkey)\n",
      "        ^^^^^^^^^^^^^^^^^^^^^^^^^^^^^^^^^^^^^^^^^^^^^^^^^^^^^^^^^^\n",
      "  File \"/opt/conda/lib/python3.11/multiprocessing/connection.py\", line 501, in Client\n",
      "    c = SocketClient(address)\n",
      "        ^^^^^^^^^^^^^^^^^^^^^\n",
      "  File \"/opt/conda/lib/python3.11/multiprocessing/connection.py\", line 629, in SocketClient\n",
      "    s.connect(address)\n",
      "FileNotFoundError: [Errno 2] No such file or directory\n",
      "Eval: Valid: :   0%|          | 0/88 [00:00<?, ?it/s]\n"
     ]
    },
    {
     "ename": "KeyboardInterrupt",
     "evalue": "",
     "output_type": "error",
     "traceback": [
      "\u001b[0;31m---------------------------------------------------------------------------\u001b[0m",
      "\u001b[0;31mKeyboardInterrupt\u001b[0m                         Traceback (most recent call last)",
      "Cell \u001b[0;32mIn[3], line 7\u001b[0m\n\u001b[1;32m      5\u001b[0m noise_level_case_2  \u001b[38;5;241m=\u001b[39m [\u001b[38;5;241m0\u001b[39m, \u001b[38;5;241m0.1\u001b[39m, \u001b[38;5;241m0.15\u001b[39m, \u001b[38;5;241m0.2\u001b[39m] \u001b[38;5;28;01mif\u001b[39;00m case2 \u001b[38;5;28;01melse\u001b[39;00m [\u001b[38;5;241m0\u001b[39m]\n\u001b[1;32m      6\u001b[0m noise_level_case_3 \u001b[38;5;241m=\u001b[39m [\u001b[38;5;241m0\u001b[39m, \u001b[38;5;241m0.001\u001b[39m, \u001b[38;5;241m0.0025\u001b[39m, \u001b[38;5;241m0.005\u001b[39m] \u001b[38;5;28;01mif\u001b[39;00m case3 \u001b[38;5;28;01melse\u001b[39;00m [\u001b[38;5;241m0\u001b[39m]\n\u001b[0;32m----> 7\u001b[0m \u001b[43mtest_noise\u001b[49m\u001b[43m(\u001b[49m\u001b[43mcase1\u001b[49m\u001b[43m \u001b[49m\u001b[38;5;241;43m=\u001b[39;49m\u001b[43m \u001b[49m\u001b[43mcase1\u001b[49m\u001b[43m,\u001b[49m\u001b[43m \u001b[49m\u001b[43mnoise_level_case_1\u001b[49m\u001b[43m \u001b[49m\u001b[38;5;241;43m=\u001b[39;49m\u001b[43m \u001b[49m\u001b[43m[\u001b[49m\u001b[38;5;241;43m0\u001b[39;49m\u001b[43m]\u001b[49m\u001b[43m,\u001b[49m\u001b[43m \u001b[49m\n\u001b[1;32m      8\u001b[0m \u001b[43m           \u001b[49m\u001b[43mcase2\u001b[49m\u001b[43m \u001b[49m\u001b[38;5;241;43m=\u001b[39;49m\u001b[43m \u001b[49m\u001b[43mcase2\u001b[49m\u001b[43m,\u001b[49m\u001b[43m \u001b[49m\u001b[43mnoise_level_case_2\u001b[49m\u001b[43m \u001b[49m\u001b[38;5;241;43m=\u001b[39;49m\u001b[43m \u001b[49m\u001b[43mnoise_level_case_2\u001b[49m\u001b[43m,\u001b[49m\n\u001b[1;32m      9\u001b[0m \u001b[43m           \u001b[49m\u001b[43mcase3\u001b[49m\u001b[43m \u001b[49m\u001b[38;5;241;43m=\u001b[39;49m\u001b[43m \u001b[49m\u001b[43mcase3\u001b[49m\u001b[43m,\u001b[49m\u001b[43m \u001b[49m\u001b[43mnoise_level_case_3\u001b[49m\u001b[43m \u001b[49m\u001b[38;5;241;43m=\u001b[39;49m\u001b[43m \u001b[49m\u001b[43mnoise_level_case_3\u001b[49m\u001b[43m)\u001b[49m\n",
      "File \u001b[0;32m~/Carlos_Gonzalez/YOLO/eval_noise.py:159\u001b[0m, in \u001b[0;36mtest_noise\u001b[0;34m(case1, noise_level_case_1, case2, noise_level_case_2, case3, noise_level_case_3)\u001b[0m\n\u001b[1;32m    155\u001b[0m \u001b[38;5;250m\u001b[39m\u001b[38;5;124;03m'''\u001b[39;00m\n\u001b[1;32m    156\u001b[0m \u001b[38;5;124;03mCASE1: Add noise to input tensor if CASE1 flag is True\u001b[39;00m\n\u001b[1;32m    157\u001b[0m \u001b[38;5;124;03m'''\u001b[39;00m\n\u001b[1;32m    158\u001b[0m \u001b[38;5;28;01mif\u001b[39;00m case1:\n\u001b[0;32m--> 159\u001b[0m     pred_boxes, target_boxes, val_loss \u001b[38;5;241m=\u001b[39m \u001b[43mget_bboxes_noise\u001b[49m\u001b[43m(\u001b[49m\u001b[43mval_loader\u001b[49m\u001b[43m,\u001b[49m\u001b[43m \u001b[49m\u001b[43mmodel\u001b[49m\u001b[43m,\u001b[49m\u001b[43m \u001b[49m\u001b[43mloss_fn\u001b[49m\u001b[43m,\u001b[49m\u001b[43m \u001b[49m\u001b[43miou_threshold\u001b[49m\u001b[38;5;241;43m=\u001b[39;49m\u001b[38;5;241;43m0.5\u001b[39;49m\u001b[43m,\u001b[49m\u001b[43m \u001b[49m\u001b[43mthreshold\u001b[49m\u001b[38;5;241;43m=\u001b[39;49m\u001b[38;5;241;43m0.5\u001b[39;49m\u001b[43m,\u001b[49m\u001b[43m \u001b[49m\u001b[43mdevice\u001b[49m\u001b[38;5;241;43m=\u001b[39;49m\u001b[43mconfig\u001b[49m\u001b[38;5;241;43m.\u001b[39;49m\u001b[43mDEVICE\u001b[49m\u001b[43m,\u001b[49m\u001b[43m \u001b[49m\u001b[43mmode\u001b[49m\u001b[38;5;241;43m=\u001b[39;49m\u001b[38;5;124;43m'\u001b[39;49m\u001b[38;5;124;43mValid\u001b[39;49m\u001b[38;5;124;43m'\u001b[39;49m\u001b[43m,\u001b[49m\u001b[43m \u001b[49m\u001b[43madd_noise_to_input\u001b[49m\u001b[38;5;241;43m=\u001b[39;49m\u001b[43madd_noise_to_tensor\u001b[49m\u001b[43m,\u001b[49m\u001b[43m \u001b[49m\u001b[43mnoise_level\u001b[49m\u001b[38;5;241;43m=\u001b[39;49m\u001b[43mnoise_level_1\u001b[49m\u001b[43m)\u001b[49m\n\u001b[1;32m    160\u001b[0m \u001b[38;5;28;01melse\u001b[39;00m:\n\u001b[1;32m    161\u001b[0m     pred_boxes, target_boxes, val_loss \u001b[38;5;241m=\u001b[39m get_bboxes_noise(val_loader, model, loss_fn, iou_threshold\u001b[38;5;241m=\u001b[39m\u001b[38;5;241m0.5\u001b[39m, threshold\u001b[38;5;241m=\u001b[39m\u001b[38;5;241m0.5\u001b[39m, device\u001b[38;5;241m=\u001b[39mconfig\u001b[38;5;241m.\u001b[39mDEVICE, mode\u001b[38;5;241m=\u001b[39m\u001b[38;5;124m'\u001b[39m\u001b[38;5;124mValid\u001b[39m\u001b[38;5;124m'\u001b[39m)\n",
      "File \u001b[0;32m~/Carlos_Gonzalez/YOLO/utils.py:494\u001b[0m, in \u001b[0;36mget_bboxes_noise\u001b[0;34m(loader, model, loss_fn, iou_threshold, threshold, pred_format, box_format, device, mode, add_noise_to_input, noise_level)\u001b[0m\n\u001b[1;32m    491\u001b[0m     x \u001b[38;5;241m=\u001b[39m add_noise_to_input(x, noise_level)\n\u001b[1;32m    493\u001b[0m \u001b[38;5;28;01mwith\u001b[39;00m torch\u001b[38;5;241m.\u001b[39mno_grad():\n\u001b[0;32m--> 494\u001b[0m     predictions \u001b[38;5;241m=\u001b[39m \u001b[43mmodel\u001b[49m\u001b[43m(\u001b[49m\u001b[43mx\u001b[49m\u001b[43m)\u001b[49m\n\u001b[1;32m    495\u001b[0m     loss, loss_box_coordinates, loss_object_loss, loss_no_object_loss, loss_class \u001b[38;5;241m=\u001b[39m loss_fn(predictions, labels)\n\u001b[1;32m    496\u001b[0m     mean_loss\u001b[38;5;241m.\u001b[39mappend(loss\u001b[38;5;241m.\u001b[39mitem())\n",
      "File \u001b[0;32m/opt/conda/lib/python3.11/site-packages/torch/nn/modules/module.py:1532\u001b[0m, in \u001b[0;36mModule._wrapped_call_impl\u001b[0;34m(self, *args, **kwargs)\u001b[0m\n\u001b[1;32m   1530\u001b[0m     \u001b[38;5;28;01mreturn\u001b[39;00m \u001b[38;5;28mself\u001b[39m\u001b[38;5;241m.\u001b[39m_compiled_call_impl(\u001b[38;5;241m*\u001b[39margs, \u001b[38;5;241m*\u001b[39m\u001b[38;5;241m*\u001b[39mkwargs)  \u001b[38;5;66;03m# type: ignore[misc]\u001b[39;00m\n\u001b[1;32m   1531\u001b[0m \u001b[38;5;28;01melse\u001b[39;00m:\n\u001b[0;32m-> 1532\u001b[0m     \u001b[38;5;28;01mreturn\u001b[39;00m \u001b[38;5;28;43mself\u001b[39;49m\u001b[38;5;241;43m.\u001b[39;49m\u001b[43m_call_impl\u001b[49m\u001b[43m(\u001b[49m\u001b[38;5;241;43m*\u001b[39;49m\u001b[43margs\u001b[49m\u001b[43m,\u001b[49m\u001b[43m \u001b[49m\u001b[38;5;241;43m*\u001b[39;49m\u001b[38;5;241;43m*\u001b[39;49m\u001b[43mkwargs\u001b[49m\u001b[43m)\u001b[49m\n",
      "File \u001b[0;32m/opt/conda/lib/python3.11/site-packages/torch/nn/modules/module.py:1541\u001b[0m, in \u001b[0;36mModule._call_impl\u001b[0;34m(self, *args, **kwargs)\u001b[0m\n\u001b[1;32m   1536\u001b[0m \u001b[38;5;66;03m# If we don't have any hooks, we want to skip the rest of the logic in\u001b[39;00m\n\u001b[1;32m   1537\u001b[0m \u001b[38;5;66;03m# this function, and just call forward.\u001b[39;00m\n\u001b[1;32m   1538\u001b[0m \u001b[38;5;28;01mif\u001b[39;00m \u001b[38;5;129;01mnot\u001b[39;00m (\u001b[38;5;28mself\u001b[39m\u001b[38;5;241m.\u001b[39m_backward_hooks \u001b[38;5;129;01mor\u001b[39;00m \u001b[38;5;28mself\u001b[39m\u001b[38;5;241m.\u001b[39m_backward_pre_hooks \u001b[38;5;129;01mor\u001b[39;00m \u001b[38;5;28mself\u001b[39m\u001b[38;5;241m.\u001b[39m_forward_hooks \u001b[38;5;129;01mor\u001b[39;00m \u001b[38;5;28mself\u001b[39m\u001b[38;5;241m.\u001b[39m_forward_pre_hooks\n\u001b[1;32m   1539\u001b[0m         \u001b[38;5;129;01mor\u001b[39;00m _global_backward_pre_hooks \u001b[38;5;129;01mor\u001b[39;00m _global_backward_hooks\n\u001b[1;32m   1540\u001b[0m         \u001b[38;5;129;01mor\u001b[39;00m _global_forward_hooks \u001b[38;5;129;01mor\u001b[39;00m _global_forward_pre_hooks):\n\u001b[0;32m-> 1541\u001b[0m     \u001b[38;5;28;01mreturn\u001b[39;00m \u001b[43mforward_call\u001b[49m\u001b[43m(\u001b[49m\u001b[38;5;241;43m*\u001b[39;49m\u001b[43margs\u001b[49m\u001b[43m,\u001b[49m\u001b[43m \u001b[49m\u001b[38;5;241;43m*\u001b[39;49m\u001b[38;5;241;43m*\u001b[39;49m\u001b[43mkwargs\u001b[49m\u001b[43m)\u001b[49m\n\u001b[1;32m   1543\u001b[0m \u001b[38;5;28;01mtry\u001b[39;00m:\n\u001b[1;32m   1544\u001b[0m     result \u001b[38;5;241m=\u001b[39m \u001b[38;5;28;01mNone\u001b[39;00m\n",
      "File \u001b[0;32m/opt/conda/lib/python3.11/site-packages/torch/nn/modules/container.py:217\u001b[0m, in \u001b[0;36mSequential.forward\u001b[0;34m(self, input)\u001b[0m\n\u001b[1;32m    215\u001b[0m \u001b[38;5;28;01mdef\u001b[39;00m \u001b[38;5;21mforward\u001b[39m(\u001b[38;5;28mself\u001b[39m, \u001b[38;5;28minput\u001b[39m):\n\u001b[1;32m    216\u001b[0m     \u001b[38;5;28;01mfor\u001b[39;00m module \u001b[38;5;129;01min\u001b[39;00m \u001b[38;5;28mself\u001b[39m:\n\u001b[0;32m--> 217\u001b[0m         \u001b[38;5;28minput\u001b[39m \u001b[38;5;241m=\u001b[39m \u001b[43mmodule\u001b[49m\u001b[43m(\u001b[49m\u001b[38;5;28;43minput\u001b[39;49m\u001b[43m)\u001b[49m\n\u001b[1;32m    218\u001b[0m     \u001b[38;5;28;01mreturn\u001b[39;00m \u001b[38;5;28minput\u001b[39m\n",
      "File \u001b[0;32m/opt/conda/lib/python3.11/site-packages/torch/nn/modules/module.py:1532\u001b[0m, in \u001b[0;36mModule._wrapped_call_impl\u001b[0;34m(self, *args, **kwargs)\u001b[0m\n\u001b[1;32m   1530\u001b[0m     \u001b[38;5;28;01mreturn\u001b[39;00m \u001b[38;5;28mself\u001b[39m\u001b[38;5;241m.\u001b[39m_compiled_call_impl(\u001b[38;5;241m*\u001b[39margs, \u001b[38;5;241m*\u001b[39m\u001b[38;5;241m*\u001b[39mkwargs)  \u001b[38;5;66;03m# type: ignore[misc]\u001b[39;00m\n\u001b[1;32m   1531\u001b[0m \u001b[38;5;28;01melse\u001b[39;00m:\n\u001b[0;32m-> 1532\u001b[0m     \u001b[38;5;28;01mreturn\u001b[39;00m \u001b[38;5;28;43mself\u001b[39;49m\u001b[38;5;241;43m.\u001b[39;49m\u001b[43m_call_impl\u001b[49m\u001b[43m(\u001b[49m\u001b[38;5;241;43m*\u001b[39;49m\u001b[43margs\u001b[49m\u001b[43m,\u001b[49m\u001b[43m \u001b[49m\u001b[38;5;241;43m*\u001b[39;49m\u001b[38;5;241;43m*\u001b[39;49m\u001b[43mkwargs\u001b[49m\u001b[43m)\u001b[49m\n",
      "File \u001b[0;32m/opt/conda/lib/python3.11/site-packages/torch/nn/modules/module.py:1541\u001b[0m, in \u001b[0;36mModule._call_impl\u001b[0;34m(self, *args, **kwargs)\u001b[0m\n\u001b[1;32m   1536\u001b[0m \u001b[38;5;66;03m# If we don't have any hooks, we want to skip the rest of the logic in\u001b[39;00m\n\u001b[1;32m   1537\u001b[0m \u001b[38;5;66;03m# this function, and just call forward.\u001b[39;00m\n\u001b[1;32m   1538\u001b[0m \u001b[38;5;28;01mif\u001b[39;00m \u001b[38;5;129;01mnot\u001b[39;00m (\u001b[38;5;28mself\u001b[39m\u001b[38;5;241m.\u001b[39m_backward_hooks \u001b[38;5;129;01mor\u001b[39;00m \u001b[38;5;28mself\u001b[39m\u001b[38;5;241m.\u001b[39m_backward_pre_hooks \u001b[38;5;129;01mor\u001b[39;00m \u001b[38;5;28mself\u001b[39m\u001b[38;5;241m.\u001b[39m_forward_hooks \u001b[38;5;129;01mor\u001b[39;00m \u001b[38;5;28mself\u001b[39m\u001b[38;5;241m.\u001b[39m_forward_pre_hooks\n\u001b[1;32m   1539\u001b[0m         \u001b[38;5;129;01mor\u001b[39;00m _global_backward_pre_hooks \u001b[38;5;129;01mor\u001b[39;00m _global_backward_hooks\n\u001b[1;32m   1540\u001b[0m         \u001b[38;5;129;01mor\u001b[39;00m _global_forward_hooks \u001b[38;5;129;01mor\u001b[39;00m _global_forward_pre_hooks):\n\u001b[0;32m-> 1541\u001b[0m     \u001b[38;5;28;01mreturn\u001b[39;00m \u001b[43mforward_call\u001b[49m\u001b[43m(\u001b[49m\u001b[38;5;241;43m*\u001b[39;49m\u001b[43margs\u001b[49m\u001b[43m,\u001b[49m\u001b[43m \u001b[49m\u001b[38;5;241;43m*\u001b[39;49m\u001b[38;5;241;43m*\u001b[39;49m\u001b[43mkwargs\u001b[49m\u001b[43m)\u001b[49m\n\u001b[1;32m   1543\u001b[0m \u001b[38;5;28;01mtry\u001b[39;00m:\n\u001b[1;32m   1544\u001b[0m     result \u001b[38;5;241m=\u001b[39m \u001b[38;5;28;01mNone\u001b[39;00m\n",
      "File \u001b[0;32m/opt/conda/lib/python3.11/site-packages/torch/nn/modules/container.py:217\u001b[0m, in \u001b[0;36mSequential.forward\u001b[0;34m(self, input)\u001b[0m\n\u001b[1;32m    215\u001b[0m \u001b[38;5;28;01mdef\u001b[39;00m \u001b[38;5;21mforward\u001b[39m(\u001b[38;5;28mself\u001b[39m, \u001b[38;5;28minput\u001b[39m):\n\u001b[1;32m    216\u001b[0m     \u001b[38;5;28;01mfor\u001b[39;00m module \u001b[38;5;129;01min\u001b[39;00m \u001b[38;5;28mself\u001b[39m:\n\u001b[0;32m--> 217\u001b[0m         \u001b[38;5;28minput\u001b[39m \u001b[38;5;241m=\u001b[39m \u001b[43mmodule\u001b[49m\u001b[43m(\u001b[49m\u001b[38;5;28;43minput\u001b[39;49m\u001b[43m)\u001b[49m\n\u001b[1;32m    218\u001b[0m     \u001b[38;5;28;01mreturn\u001b[39;00m \u001b[38;5;28minput\u001b[39m\n",
      "File \u001b[0;32m/opt/conda/lib/python3.11/site-packages/torch/nn/modules/module.py:1532\u001b[0m, in \u001b[0;36mModule._wrapped_call_impl\u001b[0;34m(self, *args, **kwargs)\u001b[0m\n\u001b[1;32m   1530\u001b[0m     \u001b[38;5;28;01mreturn\u001b[39;00m \u001b[38;5;28mself\u001b[39m\u001b[38;5;241m.\u001b[39m_compiled_call_impl(\u001b[38;5;241m*\u001b[39margs, \u001b[38;5;241m*\u001b[39m\u001b[38;5;241m*\u001b[39mkwargs)  \u001b[38;5;66;03m# type: ignore[misc]\u001b[39;00m\n\u001b[1;32m   1531\u001b[0m \u001b[38;5;28;01melse\u001b[39;00m:\n\u001b[0;32m-> 1532\u001b[0m     \u001b[38;5;28;01mreturn\u001b[39;00m \u001b[38;5;28;43mself\u001b[39;49m\u001b[38;5;241;43m.\u001b[39;49m\u001b[43m_call_impl\u001b[49m\u001b[43m(\u001b[49m\u001b[38;5;241;43m*\u001b[39;49m\u001b[43margs\u001b[49m\u001b[43m,\u001b[49m\u001b[43m \u001b[49m\u001b[38;5;241;43m*\u001b[39;49m\u001b[38;5;241;43m*\u001b[39;49m\u001b[43mkwargs\u001b[49m\u001b[43m)\u001b[49m\n",
      "File \u001b[0;32m/opt/conda/lib/python3.11/site-packages/torch/nn/modules/module.py:1541\u001b[0m, in \u001b[0;36mModule._call_impl\u001b[0;34m(self, *args, **kwargs)\u001b[0m\n\u001b[1;32m   1536\u001b[0m \u001b[38;5;66;03m# If we don't have any hooks, we want to skip the rest of the logic in\u001b[39;00m\n\u001b[1;32m   1537\u001b[0m \u001b[38;5;66;03m# this function, and just call forward.\u001b[39;00m\n\u001b[1;32m   1538\u001b[0m \u001b[38;5;28;01mif\u001b[39;00m \u001b[38;5;129;01mnot\u001b[39;00m (\u001b[38;5;28mself\u001b[39m\u001b[38;5;241m.\u001b[39m_backward_hooks \u001b[38;5;129;01mor\u001b[39;00m \u001b[38;5;28mself\u001b[39m\u001b[38;5;241m.\u001b[39m_backward_pre_hooks \u001b[38;5;129;01mor\u001b[39;00m \u001b[38;5;28mself\u001b[39m\u001b[38;5;241m.\u001b[39m_forward_hooks \u001b[38;5;129;01mor\u001b[39;00m \u001b[38;5;28mself\u001b[39m\u001b[38;5;241m.\u001b[39m_forward_pre_hooks\n\u001b[1;32m   1539\u001b[0m         \u001b[38;5;129;01mor\u001b[39;00m _global_backward_pre_hooks \u001b[38;5;129;01mor\u001b[39;00m _global_backward_hooks\n\u001b[1;32m   1540\u001b[0m         \u001b[38;5;129;01mor\u001b[39;00m _global_forward_hooks \u001b[38;5;129;01mor\u001b[39;00m _global_forward_pre_hooks):\n\u001b[0;32m-> 1541\u001b[0m     \u001b[38;5;28;01mreturn\u001b[39;00m \u001b[43mforward_call\u001b[49m\u001b[43m(\u001b[49m\u001b[38;5;241;43m*\u001b[39;49m\u001b[43margs\u001b[49m\u001b[43m,\u001b[49m\u001b[43m \u001b[49m\u001b[38;5;241;43m*\u001b[39;49m\u001b[38;5;241;43m*\u001b[39;49m\u001b[43mkwargs\u001b[49m\u001b[43m)\u001b[49m\n\u001b[1;32m   1543\u001b[0m \u001b[38;5;28;01mtry\u001b[39;00m:\n\u001b[1;32m   1544\u001b[0m     result \u001b[38;5;241m=\u001b[39m \u001b[38;5;28;01mNone\u001b[39;00m\n",
      "File \u001b[0;32m/opt/conda/lib/python3.11/site-packages/torch/nn/modules/container.py:217\u001b[0m, in \u001b[0;36mSequential.forward\u001b[0;34m(self, input)\u001b[0m\n\u001b[1;32m    215\u001b[0m \u001b[38;5;28;01mdef\u001b[39;00m \u001b[38;5;21mforward\u001b[39m(\u001b[38;5;28mself\u001b[39m, \u001b[38;5;28minput\u001b[39m):\n\u001b[1;32m    216\u001b[0m     \u001b[38;5;28;01mfor\u001b[39;00m module \u001b[38;5;129;01min\u001b[39;00m \u001b[38;5;28mself\u001b[39m:\n\u001b[0;32m--> 217\u001b[0m         \u001b[38;5;28minput\u001b[39m \u001b[38;5;241m=\u001b[39m \u001b[43mmodule\u001b[49m\u001b[43m(\u001b[49m\u001b[38;5;28;43minput\u001b[39;49m\u001b[43m)\u001b[49m\n\u001b[1;32m    218\u001b[0m     \u001b[38;5;28;01mreturn\u001b[39;00m \u001b[38;5;28minput\u001b[39m\n",
      "File \u001b[0;32m/opt/conda/lib/python3.11/site-packages/torch/nn/modules/module.py:1532\u001b[0m, in \u001b[0;36mModule._wrapped_call_impl\u001b[0;34m(self, *args, **kwargs)\u001b[0m\n\u001b[1;32m   1530\u001b[0m     \u001b[38;5;28;01mreturn\u001b[39;00m \u001b[38;5;28mself\u001b[39m\u001b[38;5;241m.\u001b[39m_compiled_call_impl(\u001b[38;5;241m*\u001b[39margs, \u001b[38;5;241m*\u001b[39m\u001b[38;5;241m*\u001b[39mkwargs)  \u001b[38;5;66;03m# type: ignore[misc]\u001b[39;00m\n\u001b[1;32m   1531\u001b[0m \u001b[38;5;28;01melse\u001b[39;00m:\n\u001b[0;32m-> 1532\u001b[0m     \u001b[38;5;28;01mreturn\u001b[39;00m \u001b[38;5;28;43mself\u001b[39;49m\u001b[38;5;241;43m.\u001b[39;49m\u001b[43m_call_impl\u001b[49m\u001b[43m(\u001b[49m\u001b[38;5;241;43m*\u001b[39;49m\u001b[43margs\u001b[49m\u001b[43m,\u001b[49m\u001b[43m \u001b[49m\u001b[38;5;241;43m*\u001b[39;49m\u001b[38;5;241;43m*\u001b[39;49m\u001b[43mkwargs\u001b[49m\u001b[43m)\u001b[49m\n",
      "File \u001b[0;32m/opt/conda/lib/python3.11/site-packages/torch/nn/modules/module.py:1541\u001b[0m, in \u001b[0;36mModule._call_impl\u001b[0;34m(self, *args, **kwargs)\u001b[0m\n\u001b[1;32m   1536\u001b[0m \u001b[38;5;66;03m# If we don't have any hooks, we want to skip the rest of the logic in\u001b[39;00m\n\u001b[1;32m   1537\u001b[0m \u001b[38;5;66;03m# this function, and just call forward.\u001b[39;00m\n\u001b[1;32m   1538\u001b[0m \u001b[38;5;28;01mif\u001b[39;00m \u001b[38;5;129;01mnot\u001b[39;00m (\u001b[38;5;28mself\u001b[39m\u001b[38;5;241m.\u001b[39m_backward_hooks \u001b[38;5;129;01mor\u001b[39;00m \u001b[38;5;28mself\u001b[39m\u001b[38;5;241m.\u001b[39m_backward_pre_hooks \u001b[38;5;129;01mor\u001b[39;00m \u001b[38;5;28mself\u001b[39m\u001b[38;5;241m.\u001b[39m_forward_hooks \u001b[38;5;129;01mor\u001b[39;00m \u001b[38;5;28mself\u001b[39m\u001b[38;5;241m.\u001b[39m_forward_pre_hooks\n\u001b[1;32m   1539\u001b[0m         \u001b[38;5;129;01mor\u001b[39;00m _global_backward_pre_hooks \u001b[38;5;129;01mor\u001b[39;00m _global_backward_hooks\n\u001b[1;32m   1540\u001b[0m         \u001b[38;5;129;01mor\u001b[39;00m _global_forward_hooks \u001b[38;5;129;01mor\u001b[39;00m _global_forward_pre_hooks):\n\u001b[0;32m-> 1541\u001b[0m     \u001b[38;5;28;01mreturn\u001b[39;00m \u001b[43mforward_call\u001b[49m\u001b[43m(\u001b[49m\u001b[38;5;241;43m*\u001b[39;49m\u001b[43margs\u001b[49m\u001b[43m,\u001b[49m\u001b[43m \u001b[49m\u001b[38;5;241;43m*\u001b[39;49m\u001b[38;5;241;43m*\u001b[39;49m\u001b[43mkwargs\u001b[49m\u001b[43m)\u001b[49m\n\u001b[1;32m   1543\u001b[0m \u001b[38;5;28;01mtry\u001b[39;00m:\n\u001b[1;32m   1544\u001b[0m     result \u001b[38;5;241m=\u001b[39m \u001b[38;5;28;01mNone\u001b[39;00m\n",
      "File \u001b[0;32m/opt/conda/lib/python3.11/site-packages/torch/nn/modules/conv.py:460\u001b[0m, in \u001b[0;36mConv2d.forward\u001b[0;34m(self, input)\u001b[0m\n\u001b[1;32m    459\u001b[0m \u001b[38;5;28;01mdef\u001b[39;00m \u001b[38;5;21mforward\u001b[39m(\u001b[38;5;28mself\u001b[39m, \u001b[38;5;28minput\u001b[39m: Tensor) \u001b[38;5;241m-\u001b[39m\u001b[38;5;241m>\u001b[39m Tensor:\n\u001b[0;32m--> 460\u001b[0m     \u001b[38;5;28;01mreturn\u001b[39;00m \u001b[38;5;28;43mself\u001b[39;49m\u001b[38;5;241;43m.\u001b[39;49m\u001b[43m_conv_forward\u001b[49m\u001b[43m(\u001b[49m\u001b[38;5;28;43minput\u001b[39;49m\u001b[43m,\u001b[49m\u001b[43m \u001b[49m\u001b[38;5;28;43mself\u001b[39;49m\u001b[38;5;241;43m.\u001b[39;49m\u001b[43mweight\u001b[49m\u001b[43m,\u001b[49m\u001b[43m \u001b[49m\u001b[38;5;28;43mself\u001b[39;49m\u001b[38;5;241;43m.\u001b[39;49m\u001b[43mbias\u001b[49m\u001b[43m)\u001b[49m\n",
      "File \u001b[0;32m/opt/conda/lib/python3.11/site-packages/torch/nn/modules/conv.py:456\u001b[0m, in \u001b[0;36mConv2d._conv_forward\u001b[0;34m(self, input, weight, bias)\u001b[0m\n\u001b[1;32m    452\u001b[0m \u001b[38;5;28;01mif\u001b[39;00m \u001b[38;5;28mself\u001b[39m\u001b[38;5;241m.\u001b[39mpadding_mode \u001b[38;5;241m!=\u001b[39m \u001b[38;5;124m'\u001b[39m\u001b[38;5;124mzeros\u001b[39m\u001b[38;5;124m'\u001b[39m:\n\u001b[1;32m    453\u001b[0m     \u001b[38;5;28;01mreturn\u001b[39;00m F\u001b[38;5;241m.\u001b[39mconv2d(F\u001b[38;5;241m.\u001b[39mpad(\u001b[38;5;28minput\u001b[39m, \u001b[38;5;28mself\u001b[39m\u001b[38;5;241m.\u001b[39m_reversed_padding_repeated_twice, mode\u001b[38;5;241m=\u001b[39m\u001b[38;5;28mself\u001b[39m\u001b[38;5;241m.\u001b[39mpadding_mode),\n\u001b[1;32m    454\u001b[0m                     weight, bias, \u001b[38;5;28mself\u001b[39m\u001b[38;5;241m.\u001b[39mstride,\n\u001b[1;32m    455\u001b[0m                     _pair(\u001b[38;5;241m0\u001b[39m), \u001b[38;5;28mself\u001b[39m\u001b[38;5;241m.\u001b[39mdilation, \u001b[38;5;28mself\u001b[39m\u001b[38;5;241m.\u001b[39mgroups)\n\u001b[0;32m--> 456\u001b[0m \u001b[38;5;28;01mreturn\u001b[39;00m \u001b[43mF\u001b[49m\u001b[38;5;241;43m.\u001b[39;49m\u001b[43mconv2d\u001b[49m\u001b[43m(\u001b[49m\u001b[38;5;28;43minput\u001b[39;49m\u001b[43m,\u001b[49m\u001b[43m \u001b[49m\u001b[43mweight\u001b[49m\u001b[43m,\u001b[49m\u001b[43m \u001b[49m\u001b[43mbias\u001b[49m\u001b[43m,\u001b[49m\u001b[43m \u001b[49m\u001b[38;5;28;43mself\u001b[39;49m\u001b[38;5;241;43m.\u001b[39;49m\u001b[43mstride\u001b[49m\u001b[43m,\u001b[49m\n\u001b[1;32m    457\u001b[0m \u001b[43m                \u001b[49m\u001b[38;5;28;43mself\u001b[39;49m\u001b[38;5;241;43m.\u001b[39;49m\u001b[43mpadding\u001b[49m\u001b[43m,\u001b[49m\u001b[43m \u001b[49m\u001b[38;5;28;43mself\u001b[39;49m\u001b[38;5;241;43m.\u001b[39;49m\u001b[43mdilation\u001b[49m\u001b[43m,\u001b[49m\u001b[43m \u001b[49m\u001b[38;5;28;43mself\u001b[39;49m\u001b[38;5;241;43m.\u001b[39;49m\u001b[43mgroups\u001b[49m\u001b[43m)\u001b[49m\n",
      "\u001b[0;31mKeyboardInterrupt\u001b[0m: "
     ]
    }
   ],
   "source": [
    "case1=True\n",
    "case2=True\n",
    "case3=True\n",
    "noise_level_case_1  = [0, 0.01, 0.03, 0.05, 0.07, 0.08, 0.1, 0.125 ,0.15, 0.2, 0.3] if case1 else [0]\n",
    "noise_level_case_2  = [0, 0.1, 0.15, 0.2] if case2 else [0]\n",
    "noise_level_case_3 = [0, 0.001, 0.0025, 0.005] if case3 else [0]\n",
    "test_noise(case1 = case1, noise_level_case_1 = noise_level_case_1, \n",
    "           case2 = case2, noise_level_case_2 = noise_level_case_2,\n",
    "           case3 = case3, noise_level_case_3 = noise_level_case_3)"
   ]
  }
 ],
 "metadata": {
  "kernelspec": {
   "display_name": "Python 3 (ipykernel)",
   "language": "python",
   "name": "python3"
  },
  "language_info": {
   "codemirror_mode": {
    "name": "ipython",
    "version": 3
   },
   "file_extension": ".py",
   "mimetype": "text/x-python",
   "name": "python",
   "nbconvert_exporter": "python",
   "pygments_lexer": "ipython3",
   "version": "3.11.4"
  }
 },
 "nbformat": 4,
 "nbformat_minor": 5
}
